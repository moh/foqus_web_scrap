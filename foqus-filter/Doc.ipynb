{
 "cells": [
  {
   "cell_type": "markdown",
   "metadata": {},
   "source": [
    "This page is to test clustering"
   ]
  },
  {
   "cell_type": "code",
   "execution_count": 110,
   "metadata": {},
   "outputs": [
    {
     "name": "stderr",
     "output_type": "stream",
     "text": [
      "/home/mhd/anaconda3/lib/python3.7/site-packages/sklearn/externals/joblib/__init__.py:15: FutureWarning: sklearn.externals.joblib is deprecated in 0.21 and will be removed in 0.23. Please import this functionality directly from joblib, which can be installed with: pip install joblib. If this warning is raised when loading pickled models, you may need to re-serialize those models with scikit-learn 0.21+.\n",
      "  warnings.warn(msg, category=FutureWarning)\n"
     ]
    }
   ],
   "source": [
    "import pandas as pd\n",
    "import numpy as np\n",
    "from itertools import chain\n",
    "from collections import Counter\n",
    "from sklearn.feature_extraction.text import HashingVectorizer\n",
    "from sklearn.cluster import AgglomerativeClustering\n",
    "from sklearn.svm import LinearSVC\n",
    "from sklearn.calibration import CalibratedClassifierCV\n",
    "from sklearn.externals import joblib\n",
    "\n",
    "from IPython.core.display import display, HTML"
   ]
  },
  {
   "cell_type": "markdown",
   "metadata": {},
   "source": [
    "# Vectorizing based on hash trick"
   ]
  },
  {
   "cell_type": "code",
   "execution_count": 59,
   "metadata": {},
   "outputs": [
    {
     "ename": "ValueError",
     "evalue": "Expected object or value",
     "output_type": "error",
     "traceback": [
      "\u001b[0;31m---------------------------------------------------------------------------\u001b[0m",
      "\u001b[0;31mValueError\u001b[0m                                Traceback (most recent call last)",
      "\u001b[0;32m<ipython-input-59-f4d5c1a389d8>\u001b[0m in \u001b[0;36m<module>\u001b[0;34m\u001b[0m\n\u001b[1;32m      1\u001b[0m \u001b[0mfile_name\u001b[0m \u001b[0;34m=\u001b[0m \u001b[0;34m\"cleanInfo_testlarge.json\"\u001b[0m\u001b[0;34m\u001b[0m\u001b[0;34m\u001b[0m\u001b[0m\n\u001b[0;32m----> 2\u001b[0;31m \u001b[0mdata\u001b[0m \u001b[0;34m=\u001b[0m \u001b[0mpd\u001b[0m\u001b[0;34m.\u001b[0m\u001b[0mread_json\u001b[0m\u001b[0;34m(\u001b[0m\u001b[0mfile_name\u001b[0m\u001b[0;34m)\u001b[0m\u001b[0;34m\u001b[0m\u001b[0;34m\u001b[0m\u001b[0m\n\u001b[0m\u001b[1;32m      3\u001b[0m \u001b[0mdata\u001b[0m\u001b[0;34m[\u001b[0m\u001b[0;34m\"cluster\"\u001b[0m\u001b[0;34m]\u001b[0m \u001b[0;34m=\u001b[0m \u001b[0;36m0\u001b[0m\u001b[0;34m\u001b[0m\u001b[0;34m\u001b[0m\u001b[0m\n",
      "\u001b[0;32m~/anaconda3/lib/python3.7/site-packages/pandas/util/_decorators.py\u001b[0m in \u001b[0;36mwrapper\u001b[0;34m(*args, **kwargs)\u001b[0m\n\u001b[1;32m    212\u001b[0m                 \u001b[0;32melse\u001b[0m\u001b[0;34m:\u001b[0m\u001b[0;34m\u001b[0m\u001b[0;34m\u001b[0m\u001b[0m\n\u001b[1;32m    213\u001b[0m                     \u001b[0mkwargs\u001b[0m\u001b[0;34m[\u001b[0m\u001b[0mnew_arg_name\u001b[0m\u001b[0;34m]\u001b[0m \u001b[0;34m=\u001b[0m \u001b[0mnew_arg_value\u001b[0m\u001b[0;34m\u001b[0m\u001b[0;34m\u001b[0m\u001b[0m\n\u001b[0;32m--> 214\u001b[0;31m             \u001b[0;32mreturn\u001b[0m \u001b[0mfunc\u001b[0m\u001b[0;34m(\u001b[0m\u001b[0;34m*\u001b[0m\u001b[0margs\u001b[0m\u001b[0;34m,\u001b[0m \u001b[0;34m**\u001b[0m\u001b[0mkwargs\u001b[0m\u001b[0;34m)\u001b[0m\u001b[0;34m\u001b[0m\u001b[0;34m\u001b[0m\u001b[0m\n\u001b[0m\u001b[1;32m    215\u001b[0m \u001b[0;34m\u001b[0m\u001b[0m\n\u001b[1;32m    216\u001b[0m         \u001b[0;32mreturn\u001b[0m \u001b[0mcast\u001b[0m\u001b[0;34m(\u001b[0m\u001b[0mF\u001b[0m\u001b[0;34m,\u001b[0m \u001b[0mwrapper\u001b[0m\u001b[0;34m)\u001b[0m\u001b[0;34m\u001b[0m\u001b[0;34m\u001b[0m\u001b[0m\n",
      "\u001b[0;32m~/anaconda3/lib/python3.7/site-packages/pandas/io/json/_json.py\u001b[0m in \u001b[0;36mread_json\u001b[0;34m(path_or_buf, orient, typ, dtype, convert_axes, convert_dates, keep_default_dates, numpy, precise_float, date_unit, encoding, lines, chunksize, compression)\u001b[0m\n\u001b[1;32m    606\u001b[0m         \u001b[0;32mreturn\u001b[0m \u001b[0mjson_reader\u001b[0m\u001b[0;34m\u001b[0m\u001b[0;34m\u001b[0m\u001b[0m\n\u001b[1;32m    607\u001b[0m \u001b[0;34m\u001b[0m\u001b[0m\n\u001b[0;32m--> 608\u001b[0;31m     \u001b[0mresult\u001b[0m \u001b[0;34m=\u001b[0m \u001b[0mjson_reader\u001b[0m\u001b[0;34m.\u001b[0m\u001b[0mread\u001b[0m\u001b[0;34m(\u001b[0m\u001b[0;34m)\u001b[0m\u001b[0;34m\u001b[0m\u001b[0;34m\u001b[0m\u001b[0m\n\u001b[0m\u001b[1;32m    609\u001b[0m     \u001b[0;32mif\u001b[0m \u001b[0mshould_close\u001b[0m\u001b[0;34m:\u001b[0m\u001b[0;34m\u001b[0m\u001b[0;34m\u001b[0m\u001b[0m\n\u001b[1;32m    610\u001b[0m         \u001b[0mfilepath_or_buffer\u001b[0m\u001b[0;34m.\u001b[0m\u001b[0mclose\u001b[0m\u001b[0;34m(\u001b[0m\u001b[0;34m)\u001b[0m\u001b[0;34m\u001b[0m\u001b[0;34m\u001b[0m\u001b[0m\n",
      "\u001b[0;32m~/anaconda3/lib/python3.7/site-packages/pandas/io/json/_json.py\u001b[0m in \u001b[0;36mread\u001b[0;34m(self)\u001b[0m\n\u001b[1;32m    729\u001b[0m             \u001b[0mobj\u001b[0m \u001b[0;34m=\u001b[0m \u001b[0mself\u001b[0m\u001b[0;34m.\u001b[0m\u001b[0m_get_object_parser\u001b[0m\u001b[0;34m(\u001b[0m\u001b[0mself\u001b[0m\u001b[0;34m.\u001b[0m\u001b[0m_combine_lines\u001b[0m\u001b[0;34m(\u001b[0m\u001b[0mdata\u001b[0m\u001b[0;34m.\u001b[0m\u001b[0msplit\u001b[0m\u001b[0;34m(\u001b[0m\u001b[0;34m\"\\n\"\u001b[0m\u001b[0;34m)\u001b[0m\u001b[0;34m)\u001b[0m\u001b[0;34m)\u001b[0m\u001b[0;34m\u001b[0m\u001b[0;34m\u001b[0m\u001b[0m\n\u001b[1;32m    730\u001b[0m         \u001b[0;32melse\u001b[0m\u001b[0;34m:\u001b[0m\u001b[0;34m\u001b[0m\u001b[0;34m\u001b[0m\u001b[0m\n\u001b[0;32m--> 731\u001b[0;31m             \u001b[0mobj\u001b[0m \u001b[0;34m=\u001b[0m \u001b[0mself\u001b[0m\u001b[0;34m.\u001b[0m\u001b[0m_get_object_parser\u001b[0m\u001b[0;34m(\u001b[0m\u001b[0mself\u001b[0m\u001b[0;34m.\u001b[0m\u001b[0mdata\u001b[0m\u001b[0;34m)\u001b[0m\u001b[0;34m\u001b[0m\u001b[0;34m\u001b[0m\u001b[0m\n\u001b[0m\u001b[1;32m    732\u001b[0m         \u001b[0mself\u001b[0m\u001b[0;34m.\u001b[0m\u001b[0mclose\u001b[0m\u001b[0;34m(\u001b[0m\u001b[0;34m)\u001b[0m\u001b[0;34m\u001b[0m\u001b[0;34m\u001b[0m\u001b[0m\n\u001b[1;32m    733\u001b[0m         \u001b[0;32mreturn\u001b[0m \u001b[0mobj\u001b[0m\u001b[0;34m\u001b[0m\u001b[0;34m\u001b[0m\u001b[0m\n",
      "\u001b[0;32m~/anaconda3/lib/python3.7/site-packages/pandas/io/json/_json.py\u001b[0m in \u001b[0;36m_get_object_parser\u001b[0;34m(self, json)\u001b[0m\n\u001b[1;32m    751\u001b[0m         \u001b[0mobj\u001b[0m \u001b[0;34m=\u001b[0m \u001b[0;32mNone\u001b[0m\u001b[0;34m\u001b[0m\u001b[0;34m\u001b[0m\u001b[0m\n\u001b[1;32m    752\u001b[0m         \u001b[0;32mif\u001b[0m \u001b[0mtyp\u001b[0m \u001b[0;34m==\u001b[0m \u001b[0;34m\"frame\"\u001b[0m\u001b[0;34m:\u001b[0m\u001b[0;34m\u001b[0m\u001b[0;34m\u001b[0m\u001b[0m\n\u001b[0;32m--> 753\u001b[0;31m             \u001b[0mobj\u001b[0m \u001b[0;34m=\u001b[0m \u001b[0mFrameParser\u001b[0m\u001b[0;34m(\u001b[0m\u001b[0mjson\u001b[0m\u001b[0;34m,\u001b[0m \u001b[0;34m**\u001b[0m\u001b[0mkwargs\u001b[0m\u001b[0;34m)\u001b[0m\u001b[0;34m.\u001b[0m\u001b[0mparse\u001b[0m\u001b[0;34m(\u001b[0m\u001b[0;34m)\u001b[0m\u001b[0;34m\u001b[0m\u001b[0;34m\u001b[0m\u001b[0m\n\u001b[0m\u001b[1;32m    754\u001b[0m \u001b[0;34m\u001b[0m\u001b[0m\n\u001b[1;32m    755\u001b[0m         \u001b[0;32mif\u001b[0m \u001b[0mtyp\u001b[0m \u001b[0;34m==\u001b[0m \u001b[0;34m\"series\"\u001b[0m \u001b[0;32mor\u001b[0m \u001b[0mobj\u001b[0m \u001b[0;32mis\u001b[0m \u001b[0;32mNone\u001b[0m\u001b[0;34m:\u001b[0m\u001b[0;34m\u001b[0m\u001b[0;34m\u001b[0m\u001b[0m\n",
      "\u001b[0;32m~/anaconda3/lib/python3.7/site-packages/pandas/io/json/_json.py\u001b[0m in \u001b[0;36mparse\u001b[0;34m(self)\u001b[0m\n\u001b[1;32m    855\u001b[0m \u001b[0;34m\u001b[0m\u001b[0m\n\u001b[1;32m    856\u001b[0m         \u001b[0;32melse\u001b[0m\u001b[0;34m:\u001b[0m\u001b[0;34m\u001b[0m\u001b[0;34m\u001b[0m\u001b[0m\n\u001b[0;32m--> 857\u001b[0;31m             \u001b[0mself\u001b[0m\u001b[0;34m.\u001b[0m\u001b[0m_parse_no_numpy\u001b[0m\u001b[0;34m(\u001b[0m\u001b[0;34m)\u001b[0m\u001b[0;34m\u001b[0m\u001b[0;34m\u001b[0m\u001b[0m\n\u001b[0m\u001b[1;32m    858\u001b[0m \u001b[0;34m\u001b[0m\u001b[0m\n\u001b[1;32m    859\u001b[0m         \u001b[0;32mif\u001b[0m \u001b[0mself\u001b[0m\u001b[0;34m.\u001b[0m\u001b[0mobj\u001b[0m \u001b[0;32mis\u001b[0m \u001b[0;32mNone\u001b[0m\u001b[0;34m:\u001b[0m\u001b[0;34m\u001b[0m\u001b[0;34m\u001b[0m\u001b[0m\n",
      "\u001b[0;32m~/anaconda3/lib/python3.7/site-packages/pandas/io/json/_json.py\u001b[0m in \u001b[0;36m_parse_no_numpy\u001b[0;34m(self)\u001b[0m\n\u001b[1;32m   1087\u001b[0m         \u001b[0;32mif\u001b[0m \u001b[0morient\u001b[0m \u001b[0;34m==\u001b[0m \u001b[0;34m\"columns\"\u001b[0m\u001b[0;34m:\u001b[0m\u001b[0;34m\u001b[0m\u001b[0;34m\u001b[0m\u001b[0m\n\u001b[1;32m   1088\u001b[0m             self.obj = DataFrame(\n\u001b[0;32m-> 1089\u001b[0;31m                 \u001b[0mloads\u001b[0m\u001b[0;34m(\u001b[0m\u001b[0mjson\u001b[0m\u001b[0;34m,\u001b[0m \u001b[0mprecise_float\u001b[0m\u001b[0;34m=\u001b[0m\u001b[0mself\u001b[0m\u001b[0;34m.\u001b[0m\u001b[0mprecise_float\u001b[0m\u001b[0;34m)\u001b[0m\u001b[0;34m,\u001b[0m \u001b[0mdtype\u001b[0m\u001b[0;34m=\u001b[0m\u001b[0;32mNone\u001b[0m\u001b[0;34m\u001b[0m\u001b[0;34m\u001b[0m\u001b[0m\n\u001b[0m\u001b[1;32m   1090\u001b[0m             )\n\u001b[1;32m   1091\u001b[0m         \u001b[0;32melif\u001b[0m \u001b[0morient\u001b[0m \u001b[0;34m==\u001b[0m \u001b[0;34m\"split\"\u001b[0m\u001b[0;34m:\u001b[0m\u001b[0;34m\u001b[0m\u001b[0;34m\u001b[0m\u001b[0m\n",
      "\u001b[0;31mValueError\u001b[0m: Expected object or value"
     ]
    }
   ],
   "source": [
    "file_name = \"cleanInfo_testlarge.json\"\n",
    "data = pd.read_json(file_name)\n",
    "data[\"cluster\"] = 0"
   ]
  },
  {
   "cell_type": "code",
   "execution_count": 3,
   "metadata": {},
   "outputs": [],
   "source": [
    "# list infos and list title\n",
    "lst_info = data[\"infos\"].to_list()\n",
    "lst_info = [\" \".join(x) for x in lst_info]\n",
    "lst_title = data[\"titleInfo\"].to_list()\n",
    "lst_title = [\" \".join(x) for x in lst_title]"
   ]
  },
  {
   "cell_type": "code",
   "execution_count": 4,
   "metadata": {},
   "outputs": [],
   "source": [
    "vectorizer = HashingVectorizer(n_features = 2**9)"
   ]
  },
  {
   "cell_type": "code",
   "execution_count": 5,
   "metadata": {},
   "outputs": [],
   "source": [
    "# transform infos to vectors\n",
    "vectors = vectorizer.transform(lst_info).toarray()"
   ]
  },
  {
   "cell_type": "code",
   "execution_count": 6,
   "metadata": {},
   "outputs": [
    {
     "data": {
      "text/plain": [
       "array([ 1,  6, 13, ...,  4,  4,  4])"
      ]
     },
     "execution_count": 6,
     "metadata": {},
     "output_type": "execute_result"
    }
   ],
   "source": [
    "nb_cluster = 25\n",
    "cluster = AgglomerativeClustering(n_clusters = nb_cluster, affinity='cosine', linkage='average')\n",
    "cluster.fit_predict(vectors)"
   ]
  },
  {
   "cell_type": "code",
   "execution_count": 7,
   "metadata": {},
   "outputs": [
    {
     "name": "stderr",
     "output_type": "stream",
     "text": [
      "/home/mhd/anaconda3/lib/python3.7/site-packages/ipykernel_launcher.py:5: SettingWithCopyWarning: \n",
      "A value is trying to be set on a copy of a slice from a DataFrame\n",
      "\n",
      "See the caveats in the documentation: https://pandas.pydata.org/pandas-docs/stable/user_guide/indexing.html#returning-a-view-versus-a-copy\n",
      "  \"\"\"\n"
     ]
    }
   ],
   "source": [
    "products_grp = {x : [] for x in range(nb_cluster)}\n",
    "url_list = data[\"url\"].to_list()\n",
    "cluster_labels = cluster.labels_\n",
    "for x in range(len(cluster_labels)):\n",
    "    data[\"cluster\"][x] = cluster_labels[x]\n",
    "    products_grp[cluster_labels[x]].append((lst_title[x], url_list[x], x))"
   ]
  },
  {
   "cell_type": "code",
   "execution_count": 10,
   "metadata": {
    "scrolled": true
   },
   "outputs": [
    {
     "name": "stdout",
     "output_type": "stream",
     "text": [
      "======================================\n",
      "title =  national carta standard edition black\n"
     ]
    },
    {
     "data": {
      "text/html": [
       "<img src = 'https://cdn.shopify.com/s/files/1/0014/1692/1145/products/IMG_2086_250x.JPG?v=1570280824' />"
      ],
      "text/plain": [
       "<IPython.core.display.HTML object>"
      ]
     },
     "metadata": {},
     "output_type": "display_data"
    },
    {
     "name": "stdout",
     "output_type": "stream",
     "text": [
      "======================================\n",
      "title =  naturel white\n"
     ]
    },
    {
     "data": {
      "text/html": [
       "<img src = 'https://cdn.shopify.com/s/files/1/0014/1692/1145/products/IMG_3267_2b7da17e-a45d-42a2-a6b2-783f99458aae_250x.jpg?v=1581174574' />"
      ],
      "text/plain": [
       "<IPython.core.display.HTML object>"
      ]
     },
     "metadata": {},
     "output_type": "display_data"
    },
    {
     "name": "stdout",
     "output_type": "stream",
     "text": [
      "======================================\n",
      "title =  white scratch nappa zsp23\n"
     ]
    },
    {
     "data": {
      "text/html": [
       "<img src = 'https://cdn.shopify.com/s/files/1/0014/1692/1145/products/IMG_3932_250x.jpg?v=1584107029' />"
      ],
      "text/plain": [
       "<IPython.core.display.HTML object>"
      ]
     },
     "metadata": {},
     "output_type": "display_data"
    },
    {
     "name": "stdout",
     "output_type": "stream",
     "text": [
      "======================================\n",
      "title =  power bianco liam militaire\n"
     ]
    },
    {
     "data": {
      "text/html": [
       "<img src = 'https://cdn.shopify.com/s/files/1/0014/1692/1145/products/IMG_3868_250x.jpg?v=1584261269' />"
      ],
      "text/plain": [
       "<IPython.core.display.HTML object>"
      ]
     },
     "metadata": {},
     "output_type": "display_data"
    },
    {
     "name": "stdout",
     "output_type": "stream",
     "text": [
      "======================================\n",
      "title =  grey navy shadow\n"
     ]
    },
    {
     "data": {
      "text/html": [
       "<img src = 'https://cdn.shopify.com/s/files/1/0014/1692/1145/products/IMG_3249_9542b008-7195-4bd1-9739-c8fe08c2674d_250x.jpg?v=1581176573' />"
      ],
      "text/plain": [
       "<IPython.core.display.HTML object>"
      ]
     },
     "metadata": {},
     "output_type": "display_data"
    },
    {
     "name": "stdout",
     "output_type": "stream",
     "text": [
      "======================================\n",
      "title =  france zsp7\n"
     ]
    },
    {
     "data": {
      "text/html": [
       "<img src = 'https://cdn.shopify.com/s/files/1/0014/1692/1145/products/IMG_9653_fbd01545-64a9-4a44-8c74-1f154b7c96fa_250x.JPG?v=1551540296' />"
      ],
      "text/plain": [
       "<IPython.core.display.HTML object>"
      ]
     },
     "metadata": {},
     "output_type": "display_data"
    },
    {
     "name": "stdout",
     "output_type": "stream",
     "text": [
      "======================================\n",
      "title =  suede edition black\n"
     ]
    },
    {
     "data": {
      "text/html": [
       "<img src = 'https://cdn.shopify.com/s/files/1/0014/1692/1145/products/IMG_2090_41c578e4-0108-4b69-ae13-5188e7048b2e_250x.JPG?v=1570280551' />"
      ],
      "text/plain": [
       "<IPython.core.display.HTML object>"
      ]
     },
     "metadata": {},
     "output_type": "display_data"
    },
    {
     "name": "stdout",
     "output_type": "stream",
     "text": [
      "======================================\n",
      "title =  bordeaux leather stone suede low\n"
     ]
    },
    {
     "data": {
      "text/html": [
       "<img src = 'https://cdn.shopify.com/s/files/1/0014/1692/1145/products/IMG_4388_250x.jpg?v=1594203698' />"
      ],
      "text/plain": [
       "<IPython.core.display.HTML object>"
      ]
     },
     "metadata": {},
     "output_type": "display_data"
    },
    {
     "name": "stdout",
     "output_type": "stream",
     "text": [
      "======================================\n",
      "title =  grey jazz vintage blue original\n"
     ]
    },
    {
     "data": {
      "text/html": [
       "<img src = 'https://cdn.shopify.com/s/files/1/0014/1692/1145/products/IMG_9183_250x.JPG?v=1549639693' />"
      ],
      "text/plain": [
       "<IPython.core.display.HTML object>"
      ]
     },
     "metadata": {},
     "output_type": "display_data"
    },
    {
     "name": "stdout",
     "output_type": "stream",
     "text": [
      "======================================\n",
      "title =  navy nappa zsp23 suede\n"
     ]
    },
    {
     "data": {
      "text/html": [
       "<img src = 'https://cdn.shopify.com/s/files/1/0014/1692/1145/products/img_7507_2_250x.jpg?v=1583488759' />"
      ],
      "text/plain": [
       "<IPython.core.display.HTML object>"
      ]
     },
     "metadata": {},
     "output_type": "display_data"
    },
    {
     "name": "stdout",
     "output_type": "stream",
     "text": [
      "======================================\n",
      "title =  snik high white\n"
     ]
    },
    {
     "data": {
      "text/html": [
       "<img src = 'https://cdn.shopify.com/s/files/1/0014/1692/1145/products/img_6578_2_250x.jpg?v=1583488919' />"
      ],
      "text/plain": [
       "<IPython.core.display.HTML object>"
      ]
     },
     "metadata": {},
     "output_type": "display_data"
    },
    {
     "name": "stdout",
     "output_type": "stream",
     "text": [
      "======================================\n",
      "title =  high white nappa zsp4\n"
     ]
    },
    {
     "data": {
      "text/html": [
       "<img src = 'https://cdn.shopify.com/s/files/1/0014/1692/1145/products/IMG_0623_250x.JPG?v=1583489215' />"
      ],
      "text/plain": [
       "<IPython.core.display.HTML object>"
      ]
     },
     "metadata": {},
     "output_type": "display_data"
    },
    {
     "name": "stdout",
     "output_type": "stream",
     "text": [
      "======================================\n",
      "title =  nabuk fuga green white\n"
     ]
    },
    {
     "data": {
      "text/html": [
       "<img src = 'https://cdn.shopify.com/s/files/1/0014/1692/1145/products/IMG_0326_250x.JPG?v=1555162022' />"
      ],
      "text/plain": [
       "<IPython.core.display.HTML object>"
      ]
     },
     "metadata": {},
     "output_type": "display_data"
    },
    {
     "name": "stdout",
     "output_type": "stream",
     "text": [
      "======================================\n",
      "title =  mix zsp7 black\n"
     ]
    },
    {
     "data": {
      "text/html": [
       "<img src = 'https://cdn.shopify.com/s/files/1/0014/1692/1145/products/IMG_0634_250x.JPG?v=1563200652' />"
      ],
      "text/plain": [
       "<IPython.core.display.HTML object>"
      ]
     },
     "metadata": {},
     "output_type": "display_data"
    },
    {
     "name": "stdout",
     "output_type": "stream",
     "text": [
      "======================================\n",
      "title =  noisette white zsp4\n"
     ]
    },
    {
     "data": {
      "text/html": [
       "<img src = 'https://cdn.shopify.com/s/files/1/0014/1692/1145/products/img_6053_250x.jpg?v=1583488957' />"
      ],
      "text/plain": [
       "<IPython.core.display.HTML object>"
      ]
     },
     "metadata": {},
     "output_type": "display_data"
    },
    {
     "name": "stdout",
     "output_type": "stream",
     "text": [
      "======================================\n",
      "title =  mesh fuga red\n"
     ]
    },
    {
     "data": {
      "text/html": [
       "<img src = 'https://cdn.shopify.com/s/files/1/0014/1692/1145/products/IMG_9276_250x.JPG?v=1550427233' />"
      ],
      "text/plain": [
       "<IPython.core.display.HTML object>"
      ]
     },
     "metadata": {},
     "output_type": "display_data"
    },
    {
     "name": "stdout",
     "output_type": "stream",
     "text": [
      "======================================\n",
      "title =  white black\n"
     ]
    },
    {
     "data": {
      "text/html": [
       "<img src = 'https://cdn.shopify.com/s/files/1/0014/1692/1145/products/IMG_3238_250x.jpg?v=1581171340' />"
      ],
      "text/plain": [
       "<IPython.core.display.HTML object>"
      ]
     },
     "metadata": {},
     "output_type": "display_data"
    },
    {
     "name": "stdout",
     "output_type": "stream",
     "text": [
      "======================================\n",
      "title =  snik white navy\n"
     ]
    },
    {
     "data": {
      "text/html": [
       "<img src = 'https://cdn.shopify.com/s/files/1/0014/1692/1145/products/img_7904_1_250x.jpg?v=1583488595' />"
      ],
      "text/plain": [
       "<IPython.core.display.HTML object>"
      ]
     },
     "metadata": {},
     "output_type": "display_data"
    },
    {
     "name": "stdout",
     "output_type": "stream",
     "text": [
      "======================================\n",
      "title =  yellow jazz maroon original\n"
     ]
    },
    {
     "data": {
      "text/html": [
       "<img src = 'https://cdn.shopify.com/s/files/1/0014/1692/1145/products/IMG_1280_250x.JPG?v=1566672519' />"
      ],
      "text/plain": [
       "<IPython.core.display.HTML object>"
      ]
     },
     "metadata": {},
     "output_type": "display_data"
    },
    {
     "name": "stdout",
     "output_type": "stream",
     "text": [
      "======================================\n",
      "title =  dash grigio liam nero\n"
     ]
    },
    {
     "data": {
      "text/html": [
       "<img src = 'https://cdn.shopify.com/s/files/1/0014/1692/1145/products/img_7528_3_250x.jpg?v=1583488739' />"
      ],
      "text/plain": [
       "<IPython.core.display.HTML object>"
      ]
     },
     "metadata": {},
     "output_type": "display_data"
    },
    {
     "name": "stdout",
     "output_type": "stream",
     "text": [
      "======================================\n",
      "title =  white zsp navy\n"
     ]
    },
    {
     "data": {
      "text/html": [
       "<img src = 'https://cdn.shopify.com/s/files/1/0014/1692/1145/products/img_3729_2_250x.jpg?v=1583489162' />"
      ],
      "text/plain": [
       "<IPython.core.display.HTML object>"
      ]
     },
     "metadata": {},
     "output_type": "display_data"
    },
    {
     "name": "stdout",
     "output_type": "stream",
     "text": [
      "======================================\n",
      "title =  white edition vintage\n"
     ]
    },
    {
     "data": {
      "text/html": [
       "<img src = 'https://cdn.shopify.com/s/files/1/0014/1692/1145/products/img_4880_250x.jpg?v=1583489065' />"
      ],
      "text/plain": [
       "<IPython.core.display.HTML object>"
      ]
     },
     "metadata": {},
     "output_type": "display_data"
    },
    {
     "name": "stdout",
     "output_type": "stream",
     "text": [
      "======================================\n",
      "title =  gray light fuga megatron\n"
     ]
    },
    {
     "data": {
      "text/html": [
       "<img src = 'https://cdn.shopify.com/s/files/1/0014/1692/1145/products/IMG_1917_250x.JPG?v=1583487683' />"
      ],
      "text/plain": [
       "<IPython.core.display.HTML object>"
      ]
     },
     "metadata": {},
     "output_type": "display_data"
    },
    {
     "name": "stdout",
     "output_type": "stream",
     "text": [
      "======================================\n",
      "title =  low leather white green\n"
     ]
    },
    {
     "data": {
      "text/html": [
       "<img src = 'https://cdn.shopify.com/s/files/1/0014/1692/1145/products/IMG_2923_250x.jpg?v=1579005057' />"
      ],
      "text/plain": [
       "<IPython.core.display.HTML object>"
      ]
     },
     "metadata": {},
     "output_type": "display_data"
    },
    {
     "name": "stdout",
     "output_type": "stream",
     "text": [
      "======================================\n",
      "title =  white edition suede\n"
     ]
    },
    {
     "data": {
      "text/html": [
       "<img src = 'https://cdn.shopify.com/s/files/1/0014/1692/1145/products/img_5803_1_250x.jpg?v=1583488973' />"
      ],
      "text/plain": [
       "<IPython.core.display.HTML object>"
      ]
     },
     "metadata": {},
     "output_type": "display_data"
    },
    {
     "name": "stdout",
     "output_type": "stream",
     "text": [
      "======================================\n",
      "title =  grey jazz red vintage\n"
     ]
    },
    {
     "data": {
      "text/html": [
       "<img src = 'https://cdn.shopify.com/s/files/1/0014/1692/1145/products/IMG_9164_250x.JPG?v=1549639955' />"
      ],
      "text/plain": [
       "<IPython.core.display.HTML object>"
      ]
     },
     "metadata": {},
     "output_type": "display_data"
    },
    {
     "name": "stdout",
     "output_type": "stream",
     "text": [
      "======================================\n",
      "title =  dash velour blu liam\n"
     ]
    },
    {
     "data": {
      "text/html": [
       "<img src = 'https://cdn.shopify.com/s/files/1/0014/1692/1145/products/img_7525_2_250x.jpg?v=1583488737' />"
      ],
      "text/plain": [
       "<IPython.core.display.HTML object>"
      ]
     },
     "metadata": {},
     "output_type": "display_data"
    },
    {
     "name": "stdout",
     "output_type": "stream",
     "text": [
      "======================================\n",
      "title =  nappa white zsp4 sapin\n"
     ]
    },
    {
     "data": {
      "text/html": [
       "<img src = 'https://cdn.shopify.com/s/files/1/0014/1692/1145/products/IMG_9636_250x.JPG?v=1551544836' />"
      ],
      "text/plain": [
       "<IPython.core.display.HTML object>"
      ]
     },
     "metadata": {},
     "output_type": "display_data"
    },
    {
     "name": "stdout",
     "output_type": "stream",
     "text": [
      "======================================\n",
      "title =  low leather white black\n"
     ]
    },
    {
     "data": {
      "text/html": [
       "<img src = 'https://cdn.shopify.com/s/files/1/0014/1692/1145/products/IMG_4334_ce8c2878-c48a-4fbe-9a40-325f720af91d_250x.jpg?v=1594305194' />"
      ],
      "text/plain": [
       "<IPython.core.display.HTML object>"
      ]
     },
     "metadata": {},
     "output_type": "display_data"
    },
    {
     "name": "stdout",
     "output_type": "stream",
     "text": [
      "======================================\n",
      "title =  gray court perforated\n"
     ]
    },
    {
     "data": {
      "text/html": [
       "<img src = 'https://cdn.shopify.com/s/files/1/0014/1692/1145/products/img_3026_1_250x.jpg?v=1583489198' />"
      ],
      "text/plain": [
       "<IPython.core.display.HTML object>"
      ]
     },
     "metadata": {},
     "output_type": "display_data"
    },
    {
     "name": "stdout",
     "output_type": "stream",
     "text": [
      "======================================\n",
      "title =  grey nubuck edition\n"
     ]
    },
    {
     "data": {
      "text/html": [
       "<img src = 'https://cdn.shopify.com/s/files/1/0014/1692/1145/products/img_5814_1_250x.jpg?v=1547790684' />"
      ],
      "text/plain": [
       "<IPython.core.display.HTML object>"
      ]
     },
     "metadata": {},
     "output_type": "display_data"
    },
    {
     "name": "stdout",
     "output_type": "stream",
     "text": [
      "======================================\n",
      "title =  white tan shadow\n"
     ]
    },
    {
     "data": {
      "text/html": [
       "<img src = 'https://cdn.shopify.com/s/files/1/0014/1692/1145/products/IMG_0591_250x.JPG?v=1583488027' />"
      ],
      "text/plain": [
       "<IPython.core.display.HTML object>"
      ]
     },
     "metadata": {},
     "output_type": "display_data"
    },
    {
     "name": "stdout",
     "output_type": "stream",
     "text": [
      "======================================\n",
      "title =  monochrome white zsp7\n"
     ]
    },
    {
     "data": {
      "text/html": [
       "<img src = 'https://cdn.shopify.com/s/files/1/0014/1692/1145/products/IMG_9668_250x.JPG?v=1551538009' />"
      ],
      "text/plain": [
       "<IPython.core.display.HTML object>"
      ]
     },
     "metadata": {},
     "output_type": "display_data"
    },
    {
     "name": "stdout",
     "output_type": "stream",
     "text": [
      "======================================\n",
      "title =  soft blue edition\n"
     ]
    },
    {
     "data": {
      "text/html": [
       "<img src = 'https://cdn.shopify.com/s/files/1/0014/1692/1145/products/img_6465_3_250x.jpg?v=1583488922' />"
      ],
      "text/plain": [
       "<IPython.core.display.HTML object>"
      ]
     },
     "metadata": {},
     "output_type": "display_data"
    },
    {
     "name": "stdout",
     "output_type": "stream",
     "text": [
      "======================================\n",
      "title =  leather suede white green low\n"
     ]
    },
    {
     "data": {
      "text/html": [
       "<img src = 'https://cdn.shopify.com/s/files/1/0014/1692/1145/products/IMG_4378_250x.jpg?v=1594205470' />"
      ],
      "text/plain": [
       "<IPython.core.display.HTML object>"
      ]
     },
     "metadata": {},
     "output_type": "display_data"
    },
    {
     "name": "stdout",
     "output_type": "stream",
     "text": [
      "======================================\n",
      "title =  navy white shadow vintage original\n"
     ]
    },
    {
     "data": {
      "text/html": [
       "<img src = 'https://cdn.shopify.com/s/files/1/0014/1692/1145/products/IMG_9199_250x.JPG?v=1549640598' />"
      ],
      "text/plain": [
       "<IPython.core.display.HTML object>"
      ]
     },
     "metadata": {},
     "output_type": "display_data"
    },
    {
     "name": "stdout",
     "output_type": "stream",
     "text": [
      "======================================\n",
      "title =  white edition cuir\n"
     ]
    },
    {
     "data": {
      "text/html": [
       "<img src = 'https://cdn.shopify.com/s/files/1/0014/1692/1145/products/IMG_1256_250x.JPG?v=1583489298' />"
      ],
      "text/plain": [
       "<IPython.core.display.HTML object>"
      ]
     },
     "metadata": {},
     "output_type": "display_data"
    },
    {
     "name": "stdout",
     "output_type": "stream",
     "text": [
      "======================================\n",
      "title =  zsp2 marine suede\n"
     ]
    },
    {
     "data": {
      "text/html": [
       "<img src = 'https://cdn.shopify.com/s/files/1/0014/1692/1145/products/img_5040_2_250x.jpg?v=1583489056' />"
      ],
      "text/plain": [
       "<IPython.core.display.HTML object>"
      ]
     },
     "metadata": {},
     "output_type": "display_data"
    },
    {
     "name": "stdout",
     "output_type": "stream",
     "text": [
      "======================================\n",
      "title =  france white zsp23\n"
     ]
    },
    {
     "data": {
      "text/html": [
       "<img src = 'https://cdn.shopify.com/s/files/1/0014/1692/1145/products/IMG_9665_250x.JPG?v=1583488914' />"
      ],
      "text/plain": [
       "<IPython.core.display.HTML object>"
      ]
     },
     "metadata": {},
     "output_type": "display_data"
    },
    {
     "name": "stdout",
     "output_type": "stream",
     "text": [
      "======================================\n",
      "title =  a938\n"
     ]
    },
    {
     "data": {
      "text/html": [
       "<img src = 'https://cdn.shopify.com/s/files/1/0014/1692/1145/products/img_8349_2_250x.jpg?v=1583488483' />"
      ],
      "text/plain": [
       "<IPython.core.display.HTML object>"
      ]
     },
     "metadata": {},
     "output_type": "display_data"
    },
    {
     "name": "stdout",
     "output_type": "stream",
     "text": [
      "======================================\n",
      "title =  a762a\n"
     ]
    },
    {
     "data": {
      "text/html": [
       "<img src = 'https://cdn.shopify.com/s/files/1/0014/1692/1145/products/img_5966_3_250x.jpg?v=1583488961' />"
      ],
      "text/plain": [
       "<IPython.core.display.HTML object>"
      ]
     },
     "metadata": {},
     "output_type": "display_data"
    },
    {
     "name": "stdout",
     "output_type": "stream",
     "text": [
      "======================================\n",
      "title =  navy silver jazz vintage original\n"
     ]
    },
    {
     "data": {
      "text/html": [
       "<img src = 'https://cdn.shopify.com/s/files/1/0014/1692/1145/products/IMG_9159_250x.JPG?v=1549629660' />"
      ],
      "text/plain": [
       "<IPython.core.display.HTML object>"
      ]
     },
     "metadata": {},
     "output_type": "display_data"
    },
    {
     "name": "stdout",
     "output_type": "stream",
     "text": [
      "======================================\n",
      "title =  white black\n"
     ]
    },
    {
     "data": {
      "text/html": [
       "<img src = 'https://cdn.shopify.com/s/files/1/0014/1692/1145/products/IMG_3261_250x.jpg?v=1581172610' />"
      ],
      "text/plain": [
       "<IPython.core.display.HTML object>"
      ]
     },
     "metadata": {},
     "output_type": "display_data"
    },
    {
     "name": "stdout",
     "output_type": "stream",
     "text": [
      "======================================\n",
      "title =  national standard lui\n"
     ]
    },
    {
     "data": {
      "text/html": [
       "<img src = 'https://cdn.shopify.com/s/files/1/0014/1692/1145/products/img_2619_2_250x.jpg?v=1583489223' />"
      ],
      "text/plain": [
       "<IPython.core.display.HTML object>"
      ]
     },
     "metadata": {},
     "output_type": "display_data"
    },
    {
     "name": "stdout",
     "output_type": "stream",
     "text": [
      "======================================\n",
      "title =  edition cognac\n"
     ]
    },
    {
     "data": {
      "text/html": [
       "<img src = 'https://cdn.shopify.com/s/files/1/0014/1692/1145/products/img_4889_1_250x.jpg?v=1583489063' />"
      ],
      "text/plain": [
       "<IPython.core.display.HTML object>"
      ]
     },
     "metadata": {},
     "output_type": "display_data"
    },
    {
     "name": "stdout",
     "output_type": "stream",
     "text": [
      "======================================\n",
      "title =  mesh fuga white\n"
     ]
    },
    {
     "data": {
      "text/html": [
       "<img src = 'https://cdn.shopify.com/s/files/1/0014/1692/1145/products/IMG_3410_046d3f6f-3e63-4aca-a0bd-31b3f39d7d8b_250x.jpg?v=1586761503' />"
      ],
      "text/plain": [
       "<IPython.core.display.HTML object>"
      ]
     },
     "metadata": {},
     "output_type": "display_data"
    },
    {
     "name": "stdout",
     "output_type": "stream",
     "text": [
      "======================================\n",
      "title =  white edition navy\n"
     ]
    },
    {
     "data": {
      "text/html": [
       "<img src = 'https://cdn.shopify.com/s/files/1/0014/1692/1145/products/img_3752_1_250x.jpg?v=1583489130' />"
      ],
      "text/plain": [
       "<IPython.core.display.HTML object>"
      ]
     },
     "metadata": {},
     "output_type": "display_data"
    },
    {
     "name": "stdout",
     "output_type": "stream",
     "text": [
      "======================================\n",
      "title =  yellow low leather white\n"
     ]
    },
    {
     "data": {
      "text/html": [
       "<img src = 'https://cdn.shopify.com/s/files/1/0014/1692/1145/products/autryyellow_250x.jpg?v=1590850470' />"
      ],
      "text/plain": [
       "<IPython.core.display.HTML object>"
      ]
     },
     "metadata": {},
     "output_type": "display_data"
    },
    {
     "name": "stdout",
     "output_type": "stream",
     "text": [
      "======================================\n",
      "title =  original olive jazz vintage black\n"
     ]
    },
    {
     "data": {
      "text/html": [
       "<img src = 'https://cdn.shopify.com/s/files/1/0014/1692/1145/products/IMG_1378_740e6335-ce4e-4e1d-aa58-d2baa52f0a10_250x.JPG?v=1566670309' />"
      ],
      "text/plain": [
       "<IPython.core.display.HTML object>"
      ]
     },
     "metadata": {},
     "output_type": "display_data"
    },
    {
     "name": "stdout",
     "output_type": "stream",
     "text": [
      "======================================\n",
      "title =  ambroise grey ndeg6\n"
     ]
    },
    {
     "data": {
      "text/html": [
       "<img src = 'https://cdn.shopify.com/s/files/1/0014/1692/1145/products/img_1455_250x.jpg?v=1583489297' />"
      ],
      "text/plain": [
       "<IPython.core.display.HTML object>"
      ]
     },
     "metadata": {},
     "output_type": "display_data"
    },
    {
     "name": "stdout",
     "output_type": "stream",
     "text": [
      "======================================\n",
      "title =  navy leather suede white low\n"
     ]
    },
    {
     "data": {
      "text/html": [
       "<img src = 'https://cdn.shopify.com/s/files/1/0014/1692/1145/products/IMG_4043_250x.jpg?v=1587800821' />"
      ],
      "text/plain": [
       "<IPython.core.display.HTML object>"
      ]
     },
     "metadata": {},
     "output_type": "display_data"
    },
    {
     "name": "stdout",
     "output_type": "stream",
     "text": [
      "======================================\n",
      "title =  eros\n"
     ]
    },
    {
     "data": {
      "text/html": [
       "<img src = 'https://cdn.shopify.com/s/files/1/0014/1692/1145/products/IMG_0889_250x.jpg?v=1571934090' />"
      ],
      "text/plain": [
       "<IPython.core.display.HTML object>"
      ]
     },
     "metadata": {},
     "output_type": "display_data"
    },
    {
     "name": "stdout",
     "output_type": "stream",
     "text": [
      "======================================\n",
      "title =  white a462 black\n"
     ]
    },
    {
     "data": {
      "text/html": [
       "<img src = 'https://cdn.shopify.com/s/files/1/0014/1692/1145/products/img_0647_1_250x.jpg?v=1583489362' />"
      ],
      "text/plain": [
       "<IPython.core.display.HTML object>"
      ]
     },
     "metadata": {},
     "output_type": "display_data"
    },
    {
     "name": "stdout",
     "output_type": "stream",
     "text": [
      "======================================\n",
      "title =  torino white blue serafini\n"
     ]
    },
    {
     "data": {
      "text/html": [
       "<img src = 'https://cdn.shopify.com/s/files/1/0014/1692/1145/products/img_8291_2_250x.jpg?v=1583488554' />"
      ],
      "text/plain": [
       "<IPython.core.display.HTML object>"
      ]
     },
     "metadata": {},
     "output_type": "display_data"
    },
    {
     "name": "stdout",
     "output_type": "stream",
     "text": [
      "======================================\n",
      "title =  torino grey serafini\n"
     ]
    },
    {
     "data": {
      "text/html": [
       "<img src = 'https://cdn.shopify.com/s/files/1/0014/1692/1145/products/IMG_9972_250x.JPG?v=1553350441' />"
      ],
      "text/plain": [
       "<IPython.core.display.HTML object>"
      ]
     },
     "metadata": {},
     "output_type": "display_data"
    },
    {
     "name": "stdout",
     "output_type": "stream",
     "text": [
      "======================================\n",
      "title =  zsp6 nappa black\n"
     ]
    },
    {
     "data": {
      "text/html": [
       "<img src = 'https://cdn.shopify.com/s/files/1/0014/1692/1145/products/IMG_3939_250x.jpg?v=1584115006' />"
      ],
      "text/plain": [
       "<IPython.core.display.HTML object>"
      ]
     },
     "metadata": {},
     "output_type": "display_data"
    },
    {
     "name": "stdout",
     "output_type": "stream",
     "text": [
      "======================================\n",
      "title =  honey edition black\n"
     ]
    },
    {
     "data": {
      "text/html": [
       "<img src = 'https://cdn.shopify.com/s/files/1/0014/1692/1145/products/img_4740_2_250x.jpg?v=1583489076' />"
      ],
      "text/plain": [
       "<IPython.core.display.HTML object>"
      ]
     },
     "metadata": {},
     "output_type": "display_data"
    },
    {
     "name": "stdout",
     "output_type": "stream",
     "text": [
      "======================================\n",
      "title =  navy tan shadow\n"
     ]
    },
    {
     "data": {
      "text/html": [
       "<img src = 'https://cdn.shopify.com/s/files/1/0014/1692/1145/products/IMG_0676_250x.JPG?v=1563200079' />"
      ],
      "text/plain": [
       "<IPython.core.display.HTML object>"
      ]
     },
     "metadata": {},
     "output_type": "display_data"
    },
    {
     "name": "stdout",
     "output_type": "stream",
     "text": [
      "======================================\n",
      "title =  black\n"
     ]
    },
    {
     "data": {
      "text/html": [
       "<img src = 'https://cdn.shopify.com/s/files/1/0014/1692/1145/products/img_3331_250x.jpg?v=1547769259' />"
      ],
      "text/plain": [
       "<IPython.core.display.HTML object>"
      ]
     },
     "metadata": {},
     "output_type": "display_data"
    },
    {
     "name": "stdout",
     "output_type": "stream",
     "text": [
      "======================================\n",
      "title =  white edition black\n"
     ]
    },
    {
     "data": {
      "text/html": [
       "<img src = 'https://cdn.shopify.com/s/files/1/0014/1692/1145/products/img_6589_1_250x.jpg?v=1583488920' />"
      ],
      "text/plain": [
       "<IPython.core.display.HTML object>"
      ]
     },
     "metadata": {},
     "output_type": "display_data"
    },
    {
     "name": "stdout",
     "output_type": "stream",
     "text": [
      "======================================\n",
      "title =  spike blue black nylon\n"
     ]
    },
    {
     "data": {
      "text/html": [
       "<img src = 'https://cdn.shopify.com/s/files/1/0014/1692/1145/products/img_7792_3_250x.jpg?v=1583488665' />"
      ],
      "text/plain": [
       "<IPython.core.display.HTML object>"
      ]
     },
     "metadata": {},
     "output_type": "display_data"
    },
    {
     "name": "stdout",
     "output_type": "stream",
     "text": [
      "======================================\n",
      "title =  hairy fur liam suede\n"
     ]
    },
    {
     "data": {
      "text/html": [
       "<img src = 'https://cdn.shopify.com/s/files/1/0014/1692/1145/products/img_7629_1_250x.jpg?v=1583488607' />"
      ],
      "text/plain": [
       "<IPython.core.display.HTML object>"
      ]
     },
     "metadata": {},
     "output_type": "display_data"
    },
    {
     "name": "stdout",
     "output_type": "stream",
     "text": [
      "======================================\n",
      "title =  militaire zsp5 suede\n"
     ]
    },
    {
     "data": {
      "text/html": [
       "<img src = 'https://cdn.shopify.com/s/files/1/0014/1692/1145/products/img_7398_1_250x.jpg?v=1583488760' />"
      ],
      "text/plain": [
       "<IPython.core.display.HTML object>"
      ]
     },
     "metadata": {},
     "output_type": "display_data"
    },
    {
     "name": "stdout",
     "output_type": "stream",
     "text": [
      "======================================\n",
      "title =  ambroise white ndeg6\n"
     ]
    },
    {
     "data": {
      "text/html": [
       "<img src = 'https://cdn.shopify.com/s/files/1/0014/1692/1145/products/img_1475_1_250x.jpg?v=1583489296' />"
      ],
      "text/plain": [
       "<IPython.core.display.HTML object>"
      ]
     },
     "metadata": {},
     "output_type": "display_data"
    },
    {
     "name": "stdout",
     "output_type": "stream",
     "text": [
      "======================================\n",
      "title =  nubuck edition navy\n"
     ]
    },
    {
     "data": {
      "text/html": [
       "<img src = 'https://cdn.shopify.com/s/files/1/0014/1692/1145/products/img_7370_1_250x.jpg?v=1583488775' />"
      ],
      "text/plain": [
       "<IPython.core.display.HTML object>"
      ]
     },
     "metadata": {},
     "output_type": "display_data"
    },
    {
     "name": "stdout",
     "output_type": "stream",
     "text": [
      "======================================\n",
      "title =  grigio bianco liam free\n"
     ]
    },
    {
     "data": {
      "text/html": [
       "<img src = 'https://cdn.shopify.com/s/files/1/0014/1692/1145/products/IMG_9224_250x.JPG?v=1549727013' />"
      ],
      "text/plain": [
       "<IPython.core.display.HTML object>"
      ]
     },
     "metadata": {},
     "output_type": "display_data"
    },
    {
     "name": "stdout",
     "output_type": "stream",
     "text": [
      "======================================\n",
      "title =  nappa blanc zsp4 perfore\n"
     ]
    },
    {
     "data": {
      "text/html": [
       "<img src = 'https://cdn.shopify.com/s/files/1/0014/1692/1145/products/IMG_9647_250x.JPG?v=1583489464' />"
      ],
      "text/plain": [
       "<IPython.core.display.HTML object>"
      ]
     },
     "metadata": {},
     "output_type": "display_data"
    },
    {
     "name": "stdout",
     "output_type": "stream",
     "text": [
      "======================================\n",
      "title =  white zsp4 navy\n"
     ]
    },
    {
     "data": {
      "text/html": [
       "<img src = 'https://cdn.shopify.com/s/files/1/0014/1692/1145/products/IMG_0655_250x.JPG?v=1583489358' />"
      ],
      "text/plain": [
       "<IPython.core.display.HTML object>"
      ]
     },
     "metadata": {},
     "output_type": "display_data"
    },
    {
     "name": "stdout",
     "output_type": "stream",
     "text": [
      "======================================\n",
      "title =  white nappa zsp23\n"
     ]
    },
    {
     "data": {
      "text/html": [
       "<img src = 'https://cdn.shopify.com/s/files/1/0014/1692/1145/products/img_6687_1_250x.jpg?v=1583488916' />"
      ],
      "text/plain": [
       "<IPython.core.display.HTML object>"
      ]
     },
     "metadata": {},
     "output_type": "display_data"
    },
    {
     "name": "stdout",
     "output_type": "stream",
     "text": [
      "======================================\n",
      "title =  bordeaux leather suede\n"
     ]
    },
    {
     "data": {
      "text/html": [
       "<img src = 'https://cdn.shopify.com/s/files/1/0014/1692/1145/products/IMG_4362_250x.jpg?v=1594202913' />"
      ],
      "text/plain": [
       "<IPython.core.display.HTML object>"
      ]
     },
     "metadata": {},
     "output_type": "display_data"
    },
    {
     "name": "stdout",
     "output_type": "stream",
     "text": [
      "======================================\n",
      "title =  band edition black\n"
     ]
    },
    {
     "data": {
      "text/html": [
       "<img src = 'https://cdn.shopify.com/s/files/1/0014/1692/1145/products/img_5810_2_250x.jpg?v=1583488974' />"
      ],
      "text/plain": [
       "<IPython.core.display.HTML object>"
      ]
     },
     "metadata": {},
     "output_type": "display_data"
    },
    {
     "name": "stdout",
     "output_type": "stream",
     "text": [
      "======================================\n",
      "title =  white newman calf\n"
     ]
    },
    {
     "data": {
      "text/html": [
       "<img src = 'https://cdn.shopify.com/s/files/1/0014/1692/1145/products/img_7787_250x.jpg?v=1583488664' />"
      ],
      "text/plain": [
       "<IPython.core.display.HTML object>"
      ]
     },
     "metadata": {},
     "output_type": "display_data"
    },
    {
     "name": "stdout",
     "output_type": "stream",
     "text": [
      "======================================\n",
      "title =  liam free militare\n"
     ]
    },
    {
     "data": {
      "text/html": [
       "<img src = 'https://cdn.shopify.com/s/files/1/0014/1692/1145/products/IMG_9230_250x.JPG?v=1549728134' />"
      ],
      "text/plain": [
       "<IPython.core.display.HTML object>"
      ]
     },
     "metadata": {},
     "output_type": "display_data"
    },
    {
     "name": "stdout",
     "output_type": "stream",
     "text": [
      "======================================\n",
      "title =  zsp4 navy\n"
     ]
    },
    {
     "data": {
      "text/html": [
       "<img src = 'https://cdn.shopify.com/s/files/1/0014/1692/1145/products/img_7498_2_250x.jpg?v=1583489514' />"
      ],
      "text/plain": [
       "<IPython.core.display.HTML object>"
      ]
     },
     "metadata": {},
     "output_type": "display_data"
    },
    {
     "name": "stdout",
     "output_type": "stream",
     "text": [
      "======================================\n",
      "title =  white zsp23 navy\n"
     ]
    },
    {
     "data": {
      "text/html": [
       "<img src = 'https://cdn.shopify.com/s/files/1/0014/1692/1145/products/IMG_9629_34302ce0-29eb-482e-ab23-8f3c0f7e376e_250x.JPG?v=1551545761' />"
      ],
      "text/plain": [
       "<IPython.core.display.HTML object>"
      ]
     },
     "metadata": {},
     "output_type": "display_data"
    },
    {
     "name": "stdout",
     "output_type": "stream",
     "text": [
      "======================================\n",
      "title =  white green edition\n"
     ]
    },
    {
     "data": {
      "text/html": [
       "<img src = 'https://cdn.shopify.com/s/files/1/0014/1692/1145/products/img_3557_2_250x.jpg?v=1583489175' />"
      ],
      "text/plain": [
       "<IPython.core.display.HTML object>"
      ]
     },
     "metadata": {},
     "output_type": "display_data"
    },
    {
     "name": "stdout",
     "output_type": "stream",
     "text": [
      "======================================\n",
      "title =  jazz white black original\n"
     ]
    },
    {
     "data": {
      "text/html": [
       "<img src = 'https://cdn.shopify.com/s/files/1/0014/1692/1145/products/IMG_0669_250x.JPG?v=1563199063' />"
      ],
      "text/plain": [
       "<IPython.core.display.HTML object>"
      ]
     },
     "metadata": {},
     "output_type": "display_data"
    },
    {
     "name": "stdout",
     "output_type": "stream",
     "text": [
      "======================================\n",
      "title =  low leather white suede\n"
     ]
    },
    {
     "data": {
      "text/html": [
       "<img src = 'https://cdn.shopify.com/s/files/1/0014/1692/1145/products/IMG_4049_250x.jpg?v=1587800937' />"
      ],
      "text/plain": [
       "<IPython.core.display.HTML object>"
      ]
     },
     "metadata": {},
     "output_type": "display_data"
    },
    {
     "name": "stdout",
     "output_type": "stream",
     "text": [
      "======================================\n",
      "title =  mix4 zsp23\n"
     ]
    },
    {
     "data": {
      "text/html": [
       "<img src = 'https://cdn.shopify.com/s/files/1/0014/1692/1145/products/IMG_9637_250x.JPG?v=1551545420' />"
      ],
      "text/plain": [
       "<IPython.core.display.HTML object>"
      ]
     },
     "metadata": {},
     "output_type": "display_data"
    },
    {
     "name": "stdout",
     "output_type": "stream",
     "text": [
      "======================================\n",
      "title =  low white bicolor black\n"
     ]
    },
    {
     "data": {
      "text/html": [
       "<img src = 'https://cdn.shopify.com/s/files/1/0014/1692/1145/products/IMG_4394_250x.jpg?v=1594203291' />"
      ],
      "text/plain": [
       "<IPython.core.display.HTML object>"
      ]
     },
     "metadata": {},
     "output_type": "display_data"
    },
    {
     "name": "stdout",
     "output_type": "stream",
     "text": [
      "======================================\n",
      "title =  white a527\n"
     ]
    },
    {
     "data": {
      "text/html": [
       "<img src = 'https://cdn.shopify.com/s/files/1/0014/1692/1145/products/img_2745_2_250x.jpg?v=1547790907' />"
      ],
      "text/plain": [
       "<IPython.core.display.HTML object>"
      ]
     },
     "metadata": {},
     "output_type": "display_data"
    },
    {
     "name": "stdout",
     "output_type": "stream",
     "text": [
      "======================================\n",
      "title =  kaki nappa zsp7\n"
     ]
    },
    {
     "data": {
      "text/html": [
       "<img src = 'https://cdn.shopify.com/s/files/1/0014/1692/1145/products/IMG_9656_250x.JPG?v=1583488299' />"
      ],
      "text/plain": [
       "<IPython.core.display.HTML object>"
      ]
     },
     "metadata": {},
     "output_type": "display_data"
    },
    {
     "name": "stdout",
     "output_type": "stream",
     "text": [
      "======================================\n",
      "title =  edition navy\n"
     ]
    },
    {
     "data": {
      "text/html": [
       "<img src = 'https://cdn.shopify.com/s/files/1/0014/1692/1145/products/img_4860_1_250x.jpg?v=1583489065' />"
      ],
      "text/plain": [
       "<IPython.core.display.HTML object>"
      ]
     },
     "metadata": {},
     "output_type": "display_data"
    },
    {
     "name": "stdout",
     "output_type": "stream",
     "text": [
      "======================================\n",
      "title =  high white zsp4\n"
     ]
    },
    {
     "data": {
      "text/html": [
       "<img src = 'https://cdn.shopify.com/s/files/1/0014/1692/1145/products/img_4677_250x.jpg?v=1583489084' />"
      ],
      "text/plain": [
       "<IPython.core.display.HTML object>"
      ]
     },
     "metadata": {},
     "output_type": "display_data"
    },
    {
     "name": "stdout",
     "output_type": "stream",
     "text": [
      "======================================\n",
      "title =  nabuk fuga white\n"
     ]
    },
    {
     "data": {
      "text/html": [
       "<img src = 'https://cdn.shopify.com/s/files/1/0014/1692/1145/products/IMG_8957_2a8cfbc3-cf61-4fa7-8273-34fb4daf1c79_250x.JPG?v=1583488452' />"
      ],
      "text/plain": [
       "<IPython.core.display.HTML object>"
      ]
     },
     "metadata": {},
     "output_type": "display_data"
    },
    {
     "name": "stdout",
     "output_type": "stream",
     "text": [
      "======================================\n",
      "title =  natural edition\n"
     ]
    },
    {
     "data": {
      "text/html": [
       "<img src = 'https://cdn.shopify.com/s/files/1/0014/1692/1145/products/IMG_2094_9ab34c0b-3a67-4eba-9e91-cef8afcdf9de_250x.JPG?v=1583487658' />"
      ],
      "text/plain": [
       "<IPython.core.display.HTML object>"
      ]
     },
     "metadata": {},
     "output_type": "display_data"
    },
    {
     "name": "stdout",
     "output_type": "stream",
     "text": [
      "======================================\n",
      "title =  komrad\n"
     ]
    },
    {
     "data": {
      "text/html": [
       "<img src = 'https://cdn.shopify.com/s/files/1/0014/1692/1145/products/IMG_0958_250x.JPG?v=1564844237' />"
      ],
      "text/plain": [
       "<IPython.core.display.HTML object>"
      ]
     },
     "metadata": {},
     "output_type": "display_data"
    },
    {
     "name": "stdout",
     "output_type": "stream",
     "text": [
      "======================================\n",
      "title =  nubuck edition black\n"
     ]
    },
    {
     "data": {
      "text/html": [
       "<img src = 'https://cdn.shopify.com/s/files/1/0014/1692/1145/products/img_7353_2_250x.jpg?v=1583488774' />"
      ],
      "text/plain": [
       "<IPython.core.display.HTML object>"
      ]
     },
     "metadata": {},
     "output_type": "display_data"
    },
    {
     "name": "stdout",
     "output_type": "stream",
     "text": [
      "======================================\n",
      "title =  blue bianco liam free\n"
     ]
    },
    {
     "data": {
      "text/html": [
       "<img src = 'https://cdn.shopify.com/s/files/1/0014/1692/1145/products/IMG_9241_250x.JPG?v=1583488383' />"
      ],
      "text/plain": [
       "<IPython.core.display.HTML object>"
      ]
     },
     "metadata": {},
     "output_type": "display_data"
    },
    {
     "name": "stdout",
     "output_type": "stream",
     "text": [
      "======================================\n",
      "title =  low white green suede\n"
     ]
    },
    {
     "data": {
      "text/html": [
       "<img src = 'https://cdn.shopify.com/s/files/1/0014/1692/1145/products/Capture_d_ecran_2020-01-29_a_08.15.22_250x.jpg?v=1580282843' />"
      ],
      "text/plain": [
       "<IPython.core.display.HTML object>"
      ]
     },
     "metadata": {},
     "output_type": "display_data"
    },
    {
     "name": "stdout",
     "output_type": "stream",
     "text": [
      "======================================\n",
      "title =  leather stone suede white low\n",
      "----~~~~~~~~~~~~~~~NO IMAGESSSSSSSSS \n",
      "======================================\n",
      "title =  sense noir\n"
     ]
    },
    {
     "data": {
      "text/html": [
       "<img src = 'https://cdn.shopify.com/s/files/1/0014/1692/1145/products/IMG_2382_250x.JPG?v=1571492251' />"
      ],
      "text/plain": [
       "<IPython.core.display.HTML object>"
      ]
     },
     "metadata": {},
     "output_type": "display_data"
    },
    {
     "name": "stdout",
     "output_type": "stream",
     "text": [
      "======================================\n",
      "title =  spike naturel nylon\n"
     ]
    },
    {
     "data": {
      "text/html": [
       "<img src = 'https://cdn.shopify.com/s/files/1/0014/1692/1145/products/img_7776_250x.jpg?v=1583488666' />"
      ],
      "text/plain": [
       "<IPython.core.display.HTML object>"
      ]
     },
     "metadata": {},
     "output_type": "display_data"
    },
    {
     "name": "stdout",
     "output_type": "stream",
     "text": [
      "======================================\n",
      "title =  low leather white\n"
     ]
    },
    {
     "data": {
      "text/html": [
       "<img src = 'https://cdn.shopify.com/s/files/1/0014/1692/1145/products/IMG_2909_250x.jpg?v=1578429813' />"
      ],
      "text/plain": [
       "<IPython.core.display.HTML object>"
      ]
     },
     "metadata": {},
     "output_type": "display_data"
    },
    {
     "name": "stdout",
     "output_type": "stream",
     "text": [
      "======================================\n",
      "title =  arpolh white\n"
     ]
    },
    {
     "data": {
      "text/html": [
       "<img src = 'https://cdn.shopify.com/s/files/1/0014/1692/1145/products/IMG_3957_250x.jpg?v=1584601352' />"
      ],
      "text/plain": [
       "<IPython.core.display.HTML object>"
      ]
     },
     "metadata": {},
     "output_type": "display_data"
    },
    {
     "name": "stdout",
     "output_type": "stream",
     "text": [
      "======================================\n",
      "title =  zsp2 noir suede\n"
     ]
    },
    {
     "data": {
      "text/html": [
       "<img src = 'https://cdn.shopify.com/s/files/1/0014/1692/1145/products/img_4775_250x.jpg?v=1583489075' />"
      ],
      "text/plain": [
       "<IPython.core.display.HTML object>"
      ]
     },
     "metadata": {},
     "output_type": "display_data"
    },
    {
     "name": "stdout",
     "output_type": "stream",
     "text": [
      "======================================\n",
      "title =  orange nabuk fuga gray\n"
     ]
    },
    {
     "data": {
      "text/html": [
       "<img src = 'https://cdn.shopify.com/s/files/1/0014/1692/1145/products/IMG_8959_eda6d735-1b47-43d2-8185-1a225b9d3620_250x.JPG?v=1583488453' />"
      ],
      "text/plain": [
       "<IPython.core.display.HTML object>"
      ]
     },
     "metadata": {},
     "output_type": "display_data"
    },
    {
     "name": "stdout",
     "output_type": "stream",
     "text": [
      "======================================\n",
      "title =  slate grey azura saucony\n"
     ]
    },
    {
     "data": {
      "text/html": [
       "<img src = 'https://cdn.shopify.com/s/files/1/0014/1692/1145/products/IMG_0193_250x.JPG?v=1554568393' />"
      ],
      "text/plain": [
       "<IPython.core.display.HTML object>"
      ]
     },
     "metadata": {},
     "output_type": "display_data"
    },
    {
     "name": "stdout",
     "output_type": "stream",
     "text": [
      "======================================\n",
      "title =  white zsp4 sapin\n"
     ]
    },
    {
     "data": {
      "text/html": [
       "<img src = 'https://cdn.shopify.com/s/files/1/0014/1692/1145/products/IMG_0778_250x.JPG?v=1563984377' />"
      ],
      "text/plain": [
       "<IPython.core.display.HTML object>"
      ]
     },
     "metadata": {},
     "output_type": "display_data"
    },
    {
     "name": "stdout",
     "output_type": "stream",
     "text": [
      "======================================\n",
      "title =  low leather white navy\n"
     ]
    },
    {
     "data": {
      "text/html": [
       "<img src = 'https://cdn.shopify.com/s/files/1/0014/1692/1145/products/IMG_4111_250x.jpg?v=1590508733' />"
      ],
      "text/plain": [
       "<IPython.core.display.HTML object>"
      ]
     },
     "metadata": {},
     "output_type": "display_data"
    },
    {
     "name": "stdout",
     "output_type": "stream",
     "text": [
      "======================================\n",
      "title =  mesh fuga blue\n"
     ]
    },
    {
     "data": {
      "text/html": [
       "<img src = 'https://cdn.shopify.com/s/files/1/0014/1692/1145/products/IMG_3157_250x.jpg?v=1580904155' />"
      ],
      "text/plain": [
       "<IPython.core.display.HTML object>"
      ]
     },
     "metadata": {},
     "output_type": "display_data"
    },
    {
     "name": "stdout",
     "output_type": "stream",
     "text": [
      "======================================\n",
      "title =  nappa navy zsp4 perfore\n"
     ]
    },
    {
     "data": {
      "text/html": [
       "<img src = 'https://cdn.shopify.com/s/files/1/0014/1692/1145/products/img_9752_1_250x.jpg?v=1583489447' />"
      ],
      "text/plain": [
       "<IPython.core.display.HTML object>"
      ]
     },
     "metadata": {},
     "output_type": "display_data"
    },
    {
     "name": "stdout",
     "output_type": "stream",
     "text": [
      "======================================\n",
      "title =  high zsp4 navy\n"
     ]
    },
    {
     "data": {
      "text/html": [
       "<img src = 'https://cdn.shopify.com/s/files/1/0014/1692/1145/products/img_4683_250x.jpg?v=1583489083' />"
      ],
      "text/plain": [
       "<IPython.core.display.HTML object>"
      ]
     },
     "metadata": {},
     "output_type": "display_data"
    },
    {
     "name": "stdout",
     "output_type": "stream",
     "text": [
      "======================================\n",
      "title =  nabuk fuga white\n"
     ]
    },
    {
     "data": {
      "text/html": [
       "<img src = 'https://cdn.shopify.com/s/files/1/0014/1692/1145/products/IMG_3151_250x.jpg?v=1580904335' />"
      ],
      "text/plain": [
       "<IPython.core.display.HTML object>"
      ]
     },
     "metadata": {},
     "output_type": "display_data"
    },
    {
     "name": "stdout",
     "output_type": "stream",
     "text": [
      "======================================\n",
      "title =  gold navy jazz white original\n"
     ]
    },
    {
     "data": {
      "text/html": [
       "<img src = 'https://cdn.shopify.com/s/files/1/0014/1692/1145/products/IMG_0682_250x.JPG?v=1563199275' />"
      ],
      "text/plain": [
       "<IPython.core.display.HTML object>"
      ]
     },
     "metadata": {},
     "output_type": "display_data"
    },
    {
     "name": "stdout",
     "output_type": "stream",
     "text": [
      "======================================\n",
      "title =  national standard lui\n"
     ]
    },
    {
     "data": {
      "text/html": [
       "<img src = 'https://cdn.shopify.com/s/files/1/0014/1692/1145/products/img_0536_2_250x.jpg?v=1583489369' />"
      ],
      "text/plain": [
       "<IPython.core.display.HTML object>"
      ]
     },
     "metadata": {},
     "output_type": "display_data"
    },
    {
     "name": "stdout",
     "output_type": "stream",
     "text": [
      "======================================\n",
      "title =  grey ebony shadow\n"
     ]
    },
    {
     "data": {
      "text/html": [
       "<img src = 'https://cdn.shopify.com/s/files/1/0014/1692/1145/products/IMG_0203_250x.JPG?v=1555166737' />"
      ],
      "text/plain": [
       "<IPython.core.display.HTML object>"
      ]
     },
     "metadata": {},
     "output_type": "display_data"
    },
    {
     "name": "stdout",
     "output_type": "stream",
     "text": [
      "======================================\n",
      "title =  martel white ndeg1\n"
     ]
    },
    {
     "data": {
      "text/html": [
       "<img src = 'https://cdn.shopify.com/s/files/1/0014/1692/1145/products/img_1464_250x.jpg?v=1583489295' />"
      ],
      "text/plain": [
       "<IPython.core.display.HTML object>"
      ]
     },
     "metadata": {},
     "output_type": "display_data"
    },
    {
     "name": "stdout",
     "output_type": "stream",
     "text": [
      "======================================\n",
      "title =  jazz vintage black original\n"
     ]
    },
    {
     "data": {
      "text/html": [
       "<img src = 'https://cdn.shopify.com/s/files/1/0014/1692/1145/products/IMG_9186_250x.JPG?v=1549640272' />"
      ],
      "text/plain": [
       "<IPython.core.display.HTML object>"
      ]
     },
     "metadata": {},
     "output_type": "display_data"
    },
    {
     "name": "stdout",
     "output_type": "stream",
     "text": [
      "======================================\n",
      "title =  honey edition black\n"
     ]
    },
    {
     "data": {
      "text/html": [
       "<img src = 'https://cdn.shopify.com/s/files/1/0014/1692/1145/products/IMG_2080_250x.JPG?v=1570282514' />"
      ],
      "text/plain": [
       "<IPython.core.display.HTML object>"
      ]
     },
     "metadata": {},
     "output_type": "display_data"
    },
    {
     "name": "stdout",
     "output_type": "stream",
     "text": [
      "======================================\n",
      "title =  white azura red black\n"
     ]
    },
    {
     "data": {
      "text/html": [
       "<img src = 'https://cdn.shopify.com/s/files/1/0014/1692/1145/products/IMG_2256_250x.JPG?v=1570283275' />"
      ],
      "text/plain": [
       "<IPython.core.display.HTML object>"
      ]
     },
     "metadata": {},
     "output_type": "display_data"
    },
    {
     "name": "stdout",
     "output_type": "stream",
     "text": [
      "======================================\n",
      "title =  navy leather stone suede low blue\n"
     ]
    },
    {
     "data": {
      "text/html": [
       "<img src = 'https://cdn.shopify.com/s/files/1/0014/1692/1145/products/IMG_4381_250x.jpg?v=1594203524' />"
      ],
      "text/plain": [
       "<IPython.core.display.HTML object>"
      ]
     },
     "metadata": {},
     "output_type": "display_data"
    },
    {
     "name": "stdout",
     "output_type": "stream",
     "text": [
      "======================================\n",
      "title =  band edition cognac\n"
     ]
    },
    {
     "data": {
      "text/html": [
       "<img src = 'https://cdn.shopify.com/s/files/1/0014/1692/1145/products/img_7361_250x.jpg?v=1583488776' />"
      ],
      "text/plain": [
       "<IPython.core.display.HTML object>"
      ]
     },
     "metadata": {},
     "output_type": "display_data"
    },
    {
     "name": "stdout",
     "output_type": "stream",
     "text": [
      "======================================\n",
      "title =  torino serafini military\n"
     ]
    },
    {
     "data": {
      "text/html": [
       "<img src = 'https://cdn.shopify.com/s/files/1/0014/1692/1145/products/IMG_9966_250x.JPG?v=1553350289' />"
      ],
      "text/plain": [
       "<IPython.core.display.HTML object>"
      ]
     },
     "metadata": {},
     "output_type": "display_data"
    },
    {
     "name": "stdout",
     "output_type": "stream",
     "text": [
      "======================================\n",
      "title =  ripstop zsp7\n"
     ]
    },
    {
     "data": {
      "text/html": [
       "<img src = 'https://cdn.shopify.com/s/files/1/0014/1692/1145/products/IMG_0651_250x.JPG?v=1563200369' />"
      ],
      "text/plain": [
       "<IPython.core.display.HTML object>"
      ]
     },
     "metadata": {},
     "output_type": "display_data"
    },
    {
     "name": "stdout",
     "output_type": "stream",
     "text": [
      "======================================\n",
      "title =  original grey jazz vintage black\n"
     ]
    },
    {
     "data": {
      "text/html": [
       "<img src = 'https://cdn.shopify.com/s/files/1/0014/1692/1145/products/IMG_1282_250x.JPG?v=1565127215' />"
      ],
      "text/plain": [
       "<IPython.core.display.HTML object>"
      ]
     },
     "metadata": {},
     "output_type": "display_data"
    },
    {
     "name": "stdout",
     "output_type": "stream",
     "text": [
      "======================================\n",
      "title =  orange leather suede white low\n"
     ]
    },
    {
     "data": {
      "text/html": [
       "<img src = 'https://cdn.shopify.com/s/files/1/0014/1692/1145/products/Sanstitre_a981d54d-55a2-4701-ad85-9d6424643665_250x.jpg?v=1590852019' />"
      ],
      "text/plain": [
       "<IPython.core.display.HTML object>"
      ]
     },
     "metadata": {},
     "output_type": "display_data"
    },
    {
     "name": "stdout",
     "output_type": "stream",
     "text": [
      "======================================\n",
      "title =  high kaki zsp4 suede\n"
     ]
    },
    {
     "data": {
      "text/html": [
       "<img src = 'https://cdn.shopify.com/s/files/1/0014/1692/1145/products/img_4654_250x.jpg?v=1583489081' />"
      ],
      "text/plain": [
       "<IPython.core.display.HTML object>"
      ]
     },
     "metadata": {},
     "output_type": "display_data"
    },
    {
     "name": "stdout",
     "output_type": "stream",
     "text": [
      "======================================\n",
      "title =  nappa perfo zsp4 navy\n"
     ]
    },
    {
     "data": {
      "text/html": [
       "<img src = 'https://cdn.shopify.com/s/files/1/0014/1692/1145/products/img_6077_250x.jpg?v=1583488875' />"
      ],
      "text/plain": [
       "<IPython.core.display.HTML object>"
      ]
     },
     "metadata": {},
     "output_type": "display_data"
    },
    {
     "name": "stdout",
     "output_type": "stream",
     "text": [
      "======================================\n",
      "title =  white fuga megatron\n"
     ]
    },
    {
     "data": {
      "text/html": [
       "<img src = 'https://cdn.shopify.com/s/files/1/0014/1692/1145/products/IMG_1028_250x.JPG?v=1564242229' />"
      ],
      "text/plain": [
       "<IPython.core.display.HTML object>"
      ]
     },
     "metadata": {},
     "output_type": "display_data"
    },
    {
     "name": "stdout",
     "output_type": "stream",
     "text": [
      "======================================\n",
      "title =  low white blue bicolor\n"
     ]
    },
    {
     "data": {
      "text/html": [
       "<img src = 'https://cdn.shopify.com/s/files/1/0014/1692/1145/products/IMG_4402_77cd61ec-300c-40dc-80a2-b81e2f2fcacb_250x.jpg?v=1594203413' />"
      ],
      "text/plain": [
       "<IPython.core.display.HTML object>"
      ]
     },
     "metadata": {},
     "output_type": "display_data"
    },
    {
     "name": "stdout",
     "output_type": "stream",
     "text": [
      "======================================\n",
      "title =  low leather white green\n"
     ]
    },
    {
     "data": {
      "text/html": [
       "<img src = 'https://cdn.shopify.com/s/files/1/0014/1692/1145/products/IMG_2923_d8afc3d2-c826-4e48-930e-32e8d3b13fd8_250x.jpg?v=1579789782' />"
      ],
      "text/plain": [
       "<IPython.core.display.HTML object>"
      ]
     },
     "metadata": {},
     "output_type": "display_data"
    },
    {
     "name": "stdout",
     "output_type": "stream",
     "text": [
      "======================================\n",
      "title =  gold low leather white\n"
     ]
    },
    {
     "data": {
      "text/html": [
       "<img src = 'https://cdn.shopify.com/s/files/1/0014/1692/1145/products/IMG_4372_250x.jpg?v=1594204199' />"
      ],
      "text/plain": [
       "<IPython.core.display.HTML object>"
      ]
     },
     "metadata": {},
     "output_type": "display_data"
    },
    {
     "name": "stdout",
     "output_type": "stream",
     "text": [
      "======================================\n",
      "title =  yellow leather white crack low\n"
     ]
    },
    {
     "data": {
      "text/html": [
       "<img src = 'https://cdn.shopify.com/s/files/1/0014/1692/1145/products/IMG_4357_250x.jpg?v=1594205554' />"
      ],
      "text/plain": [
       "<IPython.core.display.HTML object>"
      ]
     },
     "metadata": {},
     "output_type": "display_data"
    },
    {
     "name": "stdout",
     "output_type": "stream",
     "text": [
      "======================================\n",
      "title =  leather suede white low red\n"
     ]
    },
    {
     "data": {
      "text/html": [
       "<img src = 'https://cdn.shopify.com/s/files/1/0014/1692/1145/products/IMG_2900_250x.jpg?v=1579789439' />"
      ],
      "text/plain": [
       "<IPython.core.display.HTML object>"
      ]
     },
     "metadata": {},
     "output_type": "display_data"
    },
    {
     "name": "stdout",
     "output_type": "stream",
     "text": [
      "======================================\n",
      "title =  low leather white\n"
     ]
    },
    {
     "data": {
      "text/html": [
       "<img src = 'https://cdn.shopify.com/s/files/1/0014/1692/1145/products/IMG_2907_9a1ef76e-a64a-4dca-b2ba-3b030f94809c_250x.jpg?v=1578430150' />"
      ],
      "text/plain": [
       "<IPython.core.display.HTML object>"
      ]
     },
     "metadata": {},
     "output_type": "display_data"
    },
    {
     "name": "stdout",
     "output_type": "stream",
     "text": [
      "======================================\n",
      "title =  leather white red\n"
     ]
    },
    {
     "data": {
      "text/html": [
       "<img src = 'https://cdn.shopify.com/s/files/1/0014/1692/1145/products/IMG_4343_59e2ab7c-0d53-4b95-82f4-94aa16fd61f1_250x.jpg?v=1594305065' />"
      ],
      "text/plain": [
       "<IPython.core.display.HTML object>"
      ]
     },
     "metadata": {},
     "output_type": "display_data"
    },
    {
     "name": "stdout",
     "output_type": "stream",
     "text": [
      "======================================\n",
      "title =  white leather pink suede\n"
     ]
    },
    {
     "data": {
      "text/html": [
       "<img src = 'https://cdn.shopify.com/s/files/1/0014/1692/1145/products/IMG_4353_250x.jpg?v=1594205701' />"
      ],
      "text/plain": [
       "<IPython.core.display.HTML object>"
      ]
     },
     "metadata": {},
     "output_type": "display_data"
    },
    {
     "name": "stdout",
     "output_type": "stream",
     "text": [
      "======================================\n",
      "title =  low leather white pink\n"
     ]
    },
    {
     "data": {
      "text/html": [
       "<img src = 'https://cdn.shopify.com/s/files/1/0014/1692/1145/products/IMG_2895_250x.jpg?v=1578428594' />"
      ],
      "text/plain": [
       "<IPython.core.display.HTML object>"
      ]
     },
     "metadata": {},
     "output_type": "display_data"
    },
    {
     "name": "stdout",
     "output_type": "stream",
     "text": [
      "======================================\n",
      "title =  snik kids ghiaccio navy\n"
     ]
    },
    {
     "data": {
      "text/html": [
       "<img src = 'https://cdn.shopify.com/s/files/1/0014/1692/1145/products/img_7947_1_250x.jpg?v=1583488596' />"
      ],
      "text/plain": [
       "<IPython.core.display.HTML object>"
      ]
     },
     "metadata": {},
     "output_type": "display_data"
    },
    {
     "name": "stdout",
     "output_type": "stream",
     "text": [
      "======================================\n",
      "title =  high kids snik grigio nero\n"
     ]
    },
    {
     "data": {
      "text/html": [
       "<img src = 'https://cdn.shopify.com/s/files/1/0014/1692/1145/products/img_8360_2_250x.jpg?v=1583488562' />"
      ],
      "text/plain": [
       "<IPython.core.display.HTML object>"
      ]
     },
     "metadata": {},
     "output_type": "display_data"
    },
    {
     "name": "stdout",
     "output_type": "stream",
     "text": [
      "======================================\n",
      "title =  mesh fuga kid white\n"
     ]
    },
    {
     "data": {
      "text/html": [
       "<img src = 'https://cdn.shopify.com/s/files/1/0014/1692/1145/products/IMG_3412_fd559319-af57-4d2d-bd6f-10b083149ac6_250x.jpg?v=1582836197' />"
      ],
      "text/plain": [
       "<IPython.core.display.HTML object>"
      ]
     },
     "metadata": {},
     "output_type": "display_data"
    },
    {
     "name": "stdout",
     "output_type": "stream",
     "text": [
      "======================================\n",
      "title =  navy high kids snik ghiaccio\n"
     ]
    },
    {
     "data": {
      "text/html": [
       "<img src = 'https://cdn.shopify.com/s/files/1/0014/1692/1145/products/img_8354_3_250x.jpg?v=1583488558' />"
      ],
      "text/plain": [
       "<IPython.core.display.HTML object>"
      ]
     },
     "metadata": {},
     "output_type": "display_data"
    },
    {
     "name": "stdout",
     "output_type": "stream",
     "text": [
      "======================================\n",
      "title =  edition black velcro\n"
     ]
    },
    {
     "data": {
      "text/html": [
       "<img src = 'https://cdn.shopify.com/s/files/1/0014/1692/1145/products/img_5516_1_1_250x.jpg?v=1583488998' />"
      ],
      "text/plain": [
       "<IPython.core.display.HTML object>"
      ]
     },
     "metadata": {},
     "output_type": "display_data"
    },
    {
     "name": "stdout",
     "output_type": "stream",
     "text": [
      "======================================\n",
      "title =  snik kids grigio nero\n"
     ]
    },
    {
     "data": {
      "text/html": [
       "<img src = 'https://cdn.shopify.com/s/files/1/0014/1692/1145/products/img_8371_1_250x.jpg?v=1583488561' />"
      ],
      "text/plain": [
       "<IPython.core.display.HTML object>"
      ]
     },
     "metadata": {},
     "output_type": "display_data"
    },
    {
     "name": "stdout",
     "output_type": "stream",
     "text": [
      "======================================\n",
      "title =  kids white edition green\n"
     ]
    },
    {
     "data": {
      "text/html": [
       "<img src = 'https://cdn.shopify.com/s/files/1/0014/1692/1145/products/img_3558_2_250x.jpg?v=1583489174' />"
      ],
      "text/plain": [
       "<IPython.core.display.HTML object>"
      ]
     },
     "metadata": {},
     "output_type": "display_data"
    },
    {
     "name": "stdout",
     "output_type": "stream",
     "text": [
      "======================================\n",
      "title =  walnut banded shield sandal\n"
     ]
    },
    {
     "data": {
      "text/html": [
       "<img src = 'https://cdn.shopify.com/s/files/1/0014/1692/1145/products/img_6860_2_250x.jpg?v=1583488863' />"
      ],
      "text/plain": [
       "<IPython.core.display.HTML object>"
      ]
     },
     "metadata": {},
     "output_type": "display_data"
    },
    {
     "name": "stdout",
     "output_type": "stream",
     "text": [
      "======================================\n",
      "title =  polish stan chris bronze\n"
     ]
    },
    {
     "data": {
      "text/html": [
       "<img src = 'https://cdn.shopify.com/s/files/1/0014/1692/1145/products/IMG_1835_250x.JPG?v=1568182803' />"
      ],
      "text/plain": [
       "<IPython.core.display.HTML object>"
      ]
     },
     "metadata": {},
     "output_type": "display_data"
    },
    {
     "name": "stdout",
     "output_type": "stream",
     "text": [
      "======================================\n",
      "title =  stan chris deep white blue\n"
     ]
    },
    {
     "data": {
      "text/html": [
       "<img src = 'https://cdn.shopify.com/s/files/1/0014/1692/1145/products/IMG_1838_51725015-7896-4850-9edf-7ec7ee02557f_250x.JPG?v=1568183168' />"
      ],
      "text/plain": [
       "<IPython.core.display.HTML object>"
      ]
     },
     "metadata": {},
     "output_type": "display_data"
    },
    {
     "name": "stdout",
     "output_type": "stream",
     "text": [
      "======================================\n",
      "title =  milk nitro jogger zbr\n"
     ]
    },
    {
     "data": {
      "text/html": [
       "<img src = 'https://cdn.shopify.com/s/files/1/0014/1692/1145/products/IMG_9023_fdf487bb-0010-406a-a586-be03e0da56ed_250x.JPG?v=1549049758' />"
      ],
      "text/plain": [
       "<IPython.core.display.HTML object>"
      ]
     },
     "metadata": {},
     "output_type": "display_data"
    },
    {
     "name": "stdout",
     "output_type": "stream",
     "text": [
      "======================================\n",
      "title =  fantasy snow print zsp4 animalier\n"
     ]
    },
    {
     "data": {
      "text/html": [
       "<img src = 'https://cdn.shopify.com/s/files/1/0014/1692/1145/products/img_7379_2_250x.jpg?v=1583488772' />"
      ],
      "text/plain": [
       "<IPython.core.display.HTML object>"
      ]
     },
     "metadata": {},
     "output_type": "display_data"
    },
    {
     "name": "stdout",
     "output_type": "stream",
     "text": [
      "======================================\n",
      "title =  addict black coc\n"
     ]
    },
    {
     "data": {
      "text/html": [
       "<img src = 'https://cdn.shopify.com/s/files/1/0014/1692/1145/products/IMG_0864_250x.JPG?v=1583309361' />"
      ],
      "text/plain": [
       "<IPython.core.display.HTML object>"
      ]
     },
     "metadata": {},
     "output_type": "display_data"
    },
    {
     "name": "stdout",
     "output_type": "stream",
     "text": [
      "======================================\n",
      "title =  rome silver serafini\n"
     ]
    },
    {
     "data": {
      "text/html": [
       "<img src = 'https://cdn.shopify.com/s/files/1/0014/1692/1145/products/img_7839_2_250x.jpg?v=1583488660' />"
      ],
      "text/plain": [
       "<IPython.core.display.HTML object>"
      ]
     },
     "metadata": {},
     "output_type": "display_data"
    },
    {
     "name": "stdout",
     "output_type": "stream",
     "text": [
      "======================================\n",
      "title =  low hill velvet black\n"
     ]
    },
    {
     "data": {
      "text/html": [
       "<img src = 'https://cdn.shopify.com/s/files/1/0014/1692/1145/products/img_7774_250x.jpg?v=1583488667' />"
      ],
      "text/plain": [
       "<IPython.core.display.HTML object>"
      ]
     },
     "metadata": {},
     "output_type": "display_data"
    },
    {
     "name": "stdout",
     "output_type": "stream",
     "text": [
      "======================================\n",
      "title =  silver red e1820\n"
     ]
    },
    {
     "data": {
      "text/html": [
       "<img src = 'https://cdn.shopify.com/s/files/1/0014/1692/1145/products/img_7198_2_250x.jpg?v=1583488796' />"
      ],
      "text/plain": [
       "<IPython.core.display.HTML object>"
      ]
     },
     "metadata": {},
     "output_type": "display_data"
    },
    {
     "name": "stdout",
     "output_type": "stream",
     "text": [
      "======================================\n",
      "title =  gold glitter madison\n"
     ]
    },
    {
     "data": {
      "text/html": [
       "<img src = 'https://cdn.shopify.com/s/files/1/0014/1692/1145/products/IMG_0057_250x.JPG?v=1554202689' />"
      ],
      "text/plain": [
       "<IPython.core.display.HTML object>"
      ]
     },
     "metadata": {},
     "output_type": "display_data"
    },
    {
     "name": "stdout",
     "output_type": "stream",
     "text": [
      "======================================\n",
      "title =  fuga black\n"
     ]
    },
    {
     "data": {
      "text/html": [
       "<img src = 'https://cdn.shopify.com/s/files/1/0014/1692/1145/products/IMG_0605_250x.JPG?v=1584197469' />"
      ],
      "text/plain": [
       "<IPython.core.display.HTML object>"
      ]
     },
     "metadata": {},
     "output_type": "display_data"
    },
    {
     "name": "stdout",
     "output_type": "stream",
     "text": [
      "======================================\n",
      "title =  dark blue black baisley\n"
     ]
    },
    {
     "data": {
      "text/html": [
       "<img src = 'https://cdn.shopify.com/s/files/1/0014/1692/1145/products/img_8440_1_250x.jpg?v=1583488535' />"
      ],
      "text/plain": [
       "<IPython.core.display.HTML object>"
      ]
     },
     "metadata": {},
     "output_type": "display_data"
    },
    {
     "name": "stdout",
     "output_type": "stream",
     "text": [
      "======================================\n",
      "title =  kurt silver white\n"
     ]
    },
    {
     "data": {
      "text/html": [
       "<img src = 'https://cdn.shopify.com/s/files/1/0014/1692/1145/products/IMG_9592_250x.JPG?v=1583488294' />"
      ],
      "text/plain": [
       "<IPython.core.display.HTML object>"
      ]
     },
     "metadata": {},
     "output_type": "display_data"
    },
    {
     "name": "stdout",
     "output_type": "stream",
     "text": [
      "======================================\n",
      "title =  gold milk connors\n"
     ]
    },
    {
     "data": {
      "text/html": [
       "<img src = 'https://cdn.shopify.com/s/files/1/0014/1692/1145/products/IMG_9327_250x.JPG?v=1550411239' />"
      ],
      "text/plain": [
       "<IPython.core.display.HTML object>"
      ]
     },
     "metadata": {},
     "output_type": "display_data"
    },
    {
     "name": "stdout",
     "output_type": "stream",
     "text": [
      "======================================\n",
      "title =  burgundy madison velvet\n"
     ]
    },
    {
     "data": {
      "text/html": [
       "<img src = 'https://cdn.shopify.com/s/files/1/0014/1692/1145/products/IMG_1747_250x.jpg?v=1571933667' />"
      ],
      "text/plain": [
       "<IPython.core.display.HTML object>"
      ]
     },
     "metadata": {},
     "output_type": "display_data"
    },
    {
     "name": "stdout",
     "output_type": "stream",
     "text": [
      "======================================\n",
      "title =  print tundra arcade animalier straps\n"
     ]
    },
    {
     "data": {
      "text/html": [
       "<img src = 'https://cdn.shopify.com/s/files/1/0014/1692/1145/products/IMG_1140_250x.JPG?v=1566670332' />"
      ],
      "text/plain": [
       "<IPython.core.display.HTML object>"
      ]
     },
     "metadata": {},
     "output_type": "display_data"
    },
    {
     "name": "stdout",
     "output_type": "stream",
     "text": [
      "======================================\n",
      "title =  fantasy print zsp2 animalier big sherling\n"
     ]
    },
    {
     "data": {
      "text/html": [
       "<img src = 'https://cdn.shopify.com/s/files/1/0014/1692/1145/products/img_7401_1_250x.jpg?v=1583488769' />"
      ],
      "text/plain": [
       "<IPython.core.display.HTML object>"
      ]
     },
     "metadata": {},
     "output_type": "display_data"
    },
    {
     "name": "stdout",
     "output_type": "stream",
     "text": [
      "======================================\n",
      "title =  grey light zbr baisley\n"
     ]
    },
    {
     "data": {
      "text/html": [
       "<img src = 'https://cdn.shopify.com/s/files/1/0014/1692/1145/products/img_7886_250x.jpg?v=1583488594' />"
      ],
      "text/plain": [
       "<IPython.core.display.HTML object>"
      ]
     },
     "metadata": {},
     "output_type": "display_data"
    },
    {
     "name": "stdout",
     "output_type": "stream",
     "text": [
      "======================================\n",
      "title =  madison green velvet\n"
     ]
    },
    {
     "data": {
      "text/html": [
       "<img src = 'https://cdn.shopify.com/s/files/1/0014/1692/1145/products/img_8278_1_250x.jpg?v=1583488570' />"
      ],
      "text/plain": [
       "<IPython.core.display.HTML object>"
      ]
     },
     "metadata": {},
     "output_type": "display_data"
    },
    {
     "name": "stdout",
     "output_type": "stream",
     "text": [
      "======================================\n",
      "title =  julia jeans bleu\n"
     ]
    },
    {
     "data": {
      "text/html": [
       "<img src = 'https://cdn.shopify.com/s/files/1/0014/1692/1145/products/IMG_2251_250x.JPG?v=1570024187' />"
      ],
      "text/plain": [
       "<IPython.core.display.HTML object>"
      ]
     },
     "metadata": {},
     "output_type": "display_data"
    },
    {
     "name": "stdout",
     "output_type": "stream",
     "text": [
      "======================================\n",
      "title =  plato bridge suede star black\n"
     ]
    },
    {
     "data": {
      "text/html": [
       "<img src = 'https://cdn.shopify.com/s/files/1/0014/1692/1145/products/img_7445_2_250x.jpg?v=1583488764' />"
      ],
      "text/plain": [
       "<IPython.core.display.HTML object>"
      ]
     },
     "metadata": {},
     "output_type": "display_data"
    },
    {
     "name": "stdout",
     "output_type": "stream",
     "text": [
      "======================================\n",
      "title =  stardust low bronze hill\n"
     ]
    },
    {
     "data": {
      "text/html": [
       "<img src = 'https://cdn.shopify.com/s/files/1/0014/1692/1145/products/IMG_1038_250x.JPG?v=1564832490' />"
      ],
      "text/plain": [
       "<IPython.core.display.HTML object>"
      ]
     },
     "metadata": {},
     "output_type": "display_data"
    },
    {
     "name": "stdout",
     "output_type": "stream",
     "text": [
      "======================================\n",
      "title =  arcade wood glow sneaker\n"
     ]
    },
    {
     "data": {
      "text/html": [
       "<img src = 'https://cdn.shopify.com/s/files/1/0014/1692/1145/products/img_7346_2_250x.jpg?v=1583488768' />"
      ],
      "text/plain": [
       "<IPython.core.display.HTML object>"
      ]
     },
     "metadata": {},
     "output_type": "display_data"
    },
    {
     "name": "stdout",
     "output_type": "stream",
     "text": [
      "======================================\n",
      "title =  jogger silver platine parko\n"
     ]
    },
    {
     "data": {
      "text/html": [
       "<img src = 'https://cdn.shopify.com/s/files/1/0014/1692/1145/products/IMG_9048_250x.JPG?v=1549545813' />"
      ],
      "text/plain": [
       "<IPython.core.display.HTML object>"
      ]
     },
     "metadata": {},
     "output_type": "display_data"
    },
    {
     "name": "stdout",
     "output_type": "stream",
     "text": [
      "======================================\n",
      "title =  arcade straps dove pink\n"
     ]
    },
    {
     "data": {
      "text/html": [
       "<img src = 'https://cdn.shopify.com/s/files/1/0014/1692/1145/products/img_8044_2_250x.jpg?v=1547794221' />"
      ],
      "text/plain": [
       "<IPython.core.display.HTML object>"
      ]
     },
     "metadata": {},
     "output_type": "display_data"
    },
    {
     "name": "stdout",
     "output_type": "stream",
     "text": [
      "======================================\n",
      "title =  print arcade animalier nuts straps\n"
     ]
    },
    {
     "data": {
      "text/html": [
       "<img src = 'https://cdn.shopify.com/s/files/1/0014/1692/1145/products/IMG_1092_250x.JPG?v=1564842753' />"
      ],
      "text/plain": [
       "<IPython.core.display.HTML object>"
      ]
     },
     "metadata": {},
     "output_type": "display_data"
    },
    {
     "name": "stdout",
     "output_type": "stream",
     "text": [
      "======================================\n",
      "title =  low hill animalier print\n"
     ]
    },
    {
     "data": {
      "text/html": [
       "<img src = 'https://cdn.shopify.com/s/files/1/0014/1692/1145/products/img_7999_1_250x.jpg?v=1547794275' />"
      ],
      "text/plain": [
       "<IPython.core.display.HTML object>"
      ]
     },
     "metadata": {},
     "output_type": "display_data"
    },
    {
     "name": "stdout",
     "output_type": "stream",
     "text": [
      "======================================\n",
      "title =  snik silver animalier print\n"
     ]
    },
    {
     "data": {
      "text/html": [
       "<img src = 'https://cdn.shopify.com/s/files/1/0014/1692/1145/products/IMG_0479_250x.JPG?v=1558011154' />"
      ],
      "text/plain": [
       "<IPython.core.display.HTML object>"
      ]
     },
     "metadata": {},
     "output_type": "display_data"
    },
    {
     "name": "stdout",
     "output_type": "stream",
     "text": [
      "======================================\n",
      "title =  white old e1820\n"
     ]
    },
    {
     "data": {
      "text/html": [
       "<img src = 'https://cdn.shopify.com/s/files/1/0014/1692/1145/products/img_7196_3_250x.jpg?v=1583488793' />"
      ],
      "text/plain": [
       "<IPython.core.display.HTML object>"
      ]
     },
     "metadata": {},
     "output_type": "display_data"
    },
    {
     "name": "stdout",
     "output_type": "stream",
     "text": [
      "======================================\n",
      "title =  mix nappa zsp23\n"
     ]
    },
    {
     "data": {
      "text/html": [
       "<img src = 'https://cdn.shopify.com/s/files/1/0014/1692/1145/products/img_7500_2_250x.jpg?v=1583488763' />"
      ],
      "text/plain": [
       "<IPython.core.display.HTML object>"
      ]
     },
     "metadata": {},
     "output_type": "display_data"
    },
    {
     "name": "stdout",
     "output_type": "stream",
     "text": [
      "======================================\n",
      "title =  arcade straps poudre\n"
     ]
    },
    {
     "data": {
      "text/html": [
       "<img src = 'https://cdn.shopify.com/s/files/1/0014/1692/1145/products/IMG_1323_250x.JPG?v=1565775906' />"
      ],
      "text/plain": [
       "<IPython.core.display.HTML object>"
      ]
     },
     "metadata": {},
     "output_type": "display_data"
    },
    {
     "name": "stdout",
     "output_type": "stream",
     "text": [
      "======================================\n",
      "title =  komrad pink\n"
     ]
    },
    {
     "data": {
      "text/html": [
       "<img src = 'https://cdn.shopify.com/s/files/1/0014/1692/1145/products/IMG_1303_250x.JPG?v=1565127343' />"
      ],
      "text/plain": [
       "<IPython.core.display.HTML object>"
      ]
     },
     "metadata": {},
     "output_type": "display_data"
    },
    {
     "name": "stdout",
     "output_type": "stream",
     "text": [
      "======================================\n",
      "title =  arcade straps tan\n"
     ]
    },
    {
     "data": {
      "text/html": [
       "<img src = 'https://cdn.shopify.com/s/files/1/0014/1692/1145/products/IMG_0792_250x.JPG?v=1563381821' />"
      ],
      "text/plain": [
       "<IPython.core.display.HTML object>"
      ]
     },
     "metadata": {},
     "output_type": "display_data"
    },
    {
     "name": "stdout",
     "output_type": "stream",
     "text": [
      "======================================\n",
      "title =  arcade straps bronze tan\n"
     ]
    },
    {
     "data": {
      "text/html": [
       "<img src = 'https://cdn.shopify.com/s/files/1/0014/1692/1145/products/IMG_0796_250x.JPG?v=1563381513' />"
      ],
      "text/plain": [
       "<IPython.core.display.HTML object>"
      ]
     },
     "metadata": {},
     "output_type": "display_data"
    },
    {
     "name": "stdout",
     "output_type": "stream",
     "text": [
      "======================================\n",
      "title =  yellow fuga megatron\n"
     ]
    },
    {
     "data": {
      "text/html": [
       "<img src = 'https://cdn.shopify.com/s/files/1/0014/1692/1145/products/IMG_1925_250x.JPG?v=1568704767' />"
      ],
      "text/plain": [
       "<IPython.core.display.HTML object>"
      ]
     },
     "metadata": {},
     "output_type": "display_data"
    },
    {
     "name": "stdout",
     "output_type": "stream",
     "text": [
      "======================================\n",
      "title =  julia rose-bordeaux\n"
     ]
    },
    {
     "data": {
      "text/html": [
       "<img src = 'https://cdn.shopify.com/s/files/1/0014/1692/1145/products/IMG_2042_250x.JPG?v=1569079468' />"
      ],
      "text/plain": [
       "<IPython.core.display.HTML object>"
      ]
     },
     "metadata": {},
     "output_type": "display_data"
    },
    {
     "name": "stdout",
     "output_type": "stream",
     "text": [
      "======================================\n",
      "title =  platinium silver fuga laminated\n"
     ]
    },
    {
     "data": {
      "text/html": [
       "<img src = 'https://cdn.shopify.com/s/files/1/0014/1692/1145/products/IMG_1733_cf41bb54-1793-4aed-abe9-20416f3cea52_250x.JPG?v=1567171144' />"
      ],
      "text/plain": [
       "<IPython.core.display.HTML object>"
      ]
     },
     "metadata": {},
     "output_type": "display_data"
    },
    {
     "name": "stdout",
     "output_type": "stream",
     "text": [
      "======================================\n",
      "title =  gold glitter madison white\n"
     ]
    },
    {
     "data": {
      "text/html": [
       "<img src = 'https://cdn.shopify.com/s/files/1/0014/1692/1145/products/IMG_9913_250x.JPG?v=1552205768' />"
      ],
      "text/plain": [
       "<IPython.core.display.HTML object>"
      ]
     },
     "metadata": {},
     "output_type": "display_data"
    },
    {
     "name": "stdout",
     "output_type": "stream",
     "text": [
      "======================================\n",
      "title =  eden forest jogger\n"
     ]
    },
    {
     "data": {
      "text/html": [
       "<img src = 'https://cdn.shopify.com/s/files/1/0014/1692/1145/products/img_7938_2_250x.jpg?v=1583488658' />"
      ],
      "text/plain": [
       "<IPython.core.display.HTML object>"
      ]
     },
     "metadata": {},
     "output_type": "display_data"
    },
    {
     "name": "stdout",
     "output_type": "stream",
     "text": [
      "======================================\n",
      "title =  glitter fuga black\n"
     ]
    },
    {
     "data": {
      "text/html": [
       "<img src = 'https://cdn.shopify.com/s/files/1/0014/1692/1145/products/IMG_2027_250x.JPG?v=1569418312' />"
      ],
      "text/plain": [
       "<IPython.core.display.HTML object>"
      ]
     },
     "metadata": {},
     "output_type": "display_data"
    },
    {
     "name": "stdout",
     "output_type": "stream",
     "text": [
      "======================================\n",
      "title =  navy jogger suede flex white\n"
     ]
    },
    {
     "data": {
      "text/html": [
       "<img src = 'https://cdn.shopify.com/s/files/1/0014/1692/1145/products/img_7304_3_250x.jpg?v=1583488777' />"
      ],
      "text/plain": [
       "<IPython.core.display.HTML object>"
      ]
     },
     "metadata": {},
     "output_type": "display_data"
    },
    {
     "name": "stdout",
     "output_type": "stream",
     "text": [
      "======================================\n",
      "title =  animalier addict print black\n"
     ]
    },
    {
     "data": {
      "text/html": [
       "<img src = 'https://cdn.shopify.com/s/files/1/0014/1692/1145/products/IMG_0875_250x.JPG?v=1563985889' />"
      ],
      "text/plain": [
       "<IPython.core.display.HTML object>"
      ]
     },
     "metadata": {},
     "output_type": "display_data"
    },
    {
     "name": "stdout",
     "output_type": "stream",
     "text": [
      "======================================\n",
      "title =  snow black e1820\n"
     ]
    },
    {
     "data": {
      "text/html": [
       "<img src = 'https://cdn.shopify.com/s/files/1/0014/1692/1145/products/img_7204_3_250x.jpg?v=1583488797' />"
      ],
      "text/plain": [
       "<IPython.core.display.HTML object>"
      ]
     },
     "metadata": {},
     "output_type": "display_data"
    },
    {
     "name": "stdout",
     "output_type": "stream",
     "text": [
      "======================================\n",
      "title =  flex white sky jogger\n"
     ]
    },
    {
     "data": {
      "text/html": [
       "<img src = 'https://cdn.shopify.com/s/files/1/0014/1692/1145/products/IMG_9073_250x.JPG?v=1549381553' />"
      ],
      "text/plain": [
       "<IPython.core.display.HTML object>"
      ]
     },
     "metadata": {},
     "output_type": "display_data"
    },
    {
     "name": "stdout",
     "output_type": "stream",
     "text": [
      "======================================\n",
      "title =  kurt white black\n"
     ]
    },
    {
     "data": {
      "text/html": [
       "<img src = 'https://cdn.shopify.com/s/files/1/0014/1692/1145/products/IMG_0731_250x.JPG?v=1563373031' />"
      ],
      "text/plain": [
       "<IPython.core.display.HTML object>"
      ]
     },
     "metadata": {},
     "output_type": "display_data"
    },
    {
     "name": "stdout",
     "output_type": "stream",
     "text": [
      "======================================\n",
      "title =  flex white jogger black\n"
     ]
    },
    {
     "data": {
      "text/html": [
       "<img src = 'https://cdn.shopify.com/s/files/1/0014/1692/1145/products/IMG_0743_250x.JPG?v=1563373587' />"
      ],
      "text/plain": [
       "<IPython.core.display.HTML object>"
      ]
     },
     "metadata": {},
     "output_type": "display_data"
    },
    {
     "name": "stdout",
     "output_type": "stream",
     "text": [
      "======================================\n",
      "title =  suede rust sneaker ginger\n"
     ]
    },
    {
     "data": {
      "text/html": [
       "<img src = 'https://cdn.shopify.com/s/files/1/0014/1692/1145/products/img_8053_2_250x.jpg?v=1583488655' />"
      ],
      "text/plain": [
       "<IPython.core.display.HTML object>"
      ]
     },
     "metadata": {},
     "output_type": "display_data"
    },
    {
     "name": "stdout",
     "output_type": "stream",
     "text": [
      "======================================\n",
      "title =  nude e1820\n"
     ]
    },
    {
     "data": {
      "text/html": [
       "<img src = 'https://cdn.shopify.com/s/files/1/0014/1692/1145/products/img_7184_1_3_250x.jpg?v=1583488821' />"
      ],
      "text/plain": [
       "<IPython.core.display.HTML object>"
      ]
     },
     "metadata": {},
     "output_type": "display_data"
    },
    {
     "name": "stdout",
     "output_type": "stream",
     "text": [
      "======================================\n",
      "title =  low hill metal gun\n"
     ]
    },
    {
     "data": {
      "text/html": [
       "<img src = 'https://cdn.shopify.com/s/files/1/0014/1692/1145/products/IMG_1041_250x.JPG?v=1564835805' />"
      ],
      "text/plain": [
       "<IPython.core.display.HTML object>"
      ]
     },
     "metadata": {},
     "output_type": "display_data"
    },
    {
     "name": "stdout",
     "output_type": "stream",
     "text": [
      "======================================\n",
      "title =  plato kobr print sneaker\n"
     ]
    },
    {
     "data": {
      "text/html": [
       "<img src = 'https://cdn.shopify.com/s/files/1/0014/1692/1145/products/IMG_0751_250x.JPG?v=1563373809' />"
      ],
      "text/plain": [
       "<IPython.core.display.HTML object>"
      ]
     },
     "metadata": {},
     "output_type": "display_data"
    },
    {
     "name": "stdout",
     "output_type": "stream",
     "text": [
      "======================================\n",
      "title =  gold white oregon black\n"
     ]
    },
    {
     "data": {
      "text/html": [
       "<img src = 'https://cdn.shopify.com/s/files/1/0014/1692/1145/products/IMG_0842_250x.JPG?v=1563970350' />"
      ],
      "text/plain": [
       "<IPython.core.display.HTML object>"
      ]
     },
     "metadata": {},
     "output_type": "display_data"
    },
    {
     "name": "stdout",
     "output_type": "stream",
     "text": [
      "======================================\n",
      "title =  burgundy black baisley\n"
     ]
    },
    {
     "data": {
      "text/html": [
       "<img src = 'https://cdn.shopify.com/s/files/1/0014/1692/1145/products/img_8787_1_2_250x.jpg?v=1583488474' />"
      ],
      "text/plain": [
       "<IPython.core.display.HTML object>"
      ]
     },
     "metadata": {},
     "output_type": "display_data"
    },
    {
     "name": "stdout",
     "output_type": "stream",
     "text": [
      "======================================\n",
      "title =  arcade straps brass peach\n"
     ]
    },
    {
     "data": {
      "text/html": [
       "<img src = 'https://cdn.shopify.com/s/files/1/0014/1692/1145/products/IMG_9154_250x.JPG?v=1549376726' />"
      ],
      "text/plain": [
       "<IPython.core.display.HTML object>"
      ]
     },
     "metadata": {},
     "output_type": "display_data"
    },
    {
     "name": "stdout",
     "output_type": "stream",
     "text": [
      "======================================\n",
      "title =  low hill animalier print\n"
     ]
    },
    {
     "data": {
      "text/html": [
       "<img src = 'https://cdn.shopify.com/s/files/1/0014/1692/1145/products/img_7988_1_250x.jpg?v=1547794264' />"
      ],
      "text/plain": [
       "<IPython.core.display.HTML object>"
      ]
     },
     "metadata": {},
     "output_type": "display_data"
    },
    {
     "name": "stdout",
     "output_type": "stream",
     "text": [
      "======================================\n",
      "title =  edition cognac\n"
     ]
    },
    {
     "data": {
      "text/html": [
       "<img src = 'https://cdn.shopify.com/s/files/1/0014/1692/1145/products/img_7768_250x.jpg?v=1583488674' />"
      ],
      "text/plain": [
       "<IPython.core.display.HTML object>"
      ]
     },
     "metadata": {},
     "output_type": "display_data"
    },
    {
     "name": "stdout",
     "output_type": "stream",
     "text": [
      "======================================\n",
      "title =  mesh white flash\n"
     ]
    },
    {
     "data": {
      "text/html": [
       "<img src = 'https://cdn.shopify.com/s/files/1/0014/1692/1145/products/IMG_9385_9335e516-c026-4085-85de-617720e5e29f_250x.JPG?v=1550773380' />"
      ],
      "text/plain": [
       "<IPython.core.display.HTML object>"
      ]
     },
     "metadata": {},
     "output_type": "display_data"
    },
    {
     "name": "stdout",
     "output_type": "stream",
     "text": [
      "======================================\n",
      "title =  stan chris white vipe\n"
     ]
    },
    {
     "data": {
      "text/html": [
       "<img src = 'https://cdn.shopify.com/s/files/1/0014/1692/1145/products/img_8252_1_250x.jpg?v=1583488569' />"
      ],
      "text/plain": [
       "<IPython.core.display.HTML object>"
      ]
     },
     "metadata": {},
     "output_type": "display_data"
    },
    {
     "name": "stdout",
     "output_type": "stream",
     "text": [
      "======================================\n",
      "title =  snik white microleo\n"
     ]
    },
    {
     "data": {
      "text/html": [
       "<img src = 'https://cdn.shopify.com/s/files/1/0014/1692/1145/products/img_6985_2_250x.jpg?v=1583488851' />"
      ],
      "text/plain": [
       "<IPython.core.display.HTML object>"
      ]
     },
     "metadata": {},
     "output_type": "display_data"
    },
    {
     "name": "stdout",
     "output_type": "stream",
     "text": [
      "======================================\n",
      "title =  arcade white panama sneaker\n"
     ]
    },
    {
     "data": {
      "text/html": [
       "<img src = 'https://cdn.shopify.com/s/files/1/0014/1692/1145/products/IMG_9127_250x.JPG?v=1549380380' />"
      ],
      "text/plain": [
       "<IPython.core.display.HTML object>"
      ]
     },
     "metadata": {},
     "output_type": "display_data"
    },
    {
     "name": "stdout",
     "output_type": "stream",
     "text": [
      "======================================\n",
      "title =  arcade straps elep smoke\n"
     ]
    },
    {
     "data": {
      "text/html": [
       "<img src = 'https://cdn.shopify.com/s/files/1/0014/1692/1145/products/IMG_0803_250x.JPG?v=1563382082' />"
      ],
      "text/plain": [
       "<IPython.core.display.HTML object>"
      ]
     },
     "metadata": {},
     "output_type": "display_data"
    },
    {
     "name": "stdout",
     "output_type": "stream",
     "text": [
      "======================================\n",
      "title =  arcade straps nat rust\n"
     ]
    },
    {
     "data": {
      "text/html": [
       "<img src = 'https://cdn.shopify.com/s/files/1/0014/1692/1145/products/img_8031_2_250x.jpg?v=1547794211' />"
      ],
      "text/plain": [
       "<IPython.core.display.HTML object>"
      ]
     },
     "metadata": {},
     "output_type": "display_data"
    },
    {
     "name": "stdout",
     "output_type": "stream",
     "text": [
      "======================================\n",
      "title =  taupe fuga\n"
     ]
    },
    {
     "data": {
      "text/html": [
       "<img src = 'https://cdn.shopify.com/s/files/1/0014/1692/1145/products/IMG_0602_250x.JPG?v=1584197783' />"
      ],
      "text/plain": [
       "<IPython.core.display.HTML object>"
      ]
     },
     "metadata": {},
     "output_type": "display_data"
    },
    {
     "name": "stdout",
     "output_type": "stream",
     "text": [
      "======================================\n",
      "title =  spike platinum velvet\n"
     ]
    },
    {
     "data": {
      "text/html": [
       "<img src = 'https://cdn.shopify.com/s/files/1/0014/1692/1145/products/img_7805_1_250x.jpg?v=1583488663' />"
      ],
      "text/plain": [
       "<IPython.core.display.HTML object>"
      ]
     },
     "metadata": {},
     "output_type": "display_data"
    },
    {
     "name": "stdout",
     "output_type": "stream",
     "text": [
      "======================================\n",
      "title =  shearling connors amp black\n"
     ]
    },
    {
     "data": {
      "text/html": [
       "<img src = 'https://cdn.shopify.com/s/files/1/0014/1692/1145/products/img_8274_1_250x.jpg?v=1583488553' />"
      ],
      "text/plain": [
       "<IPython.core.display.HTML object>"
      ]
     },
     "metadata": {},
     "output_type": "display_data"
    },
    {
     "name": "stdout",
     "output_type": "stream",
     "text": [
      "======================================\n",
      "title =  beige oregon print animalier\n"
     ]
    },
    {
     "data": {
      "text/html": [
       "<img src = 'https://cdn.shopify.com/s/files/1/0014/1692/1145/products/IMG_9908_250x.JPG?v=1583488288' />"
      ],
      "text/plain": [
       "<IPython.core.display.HTML object>"
      ]
     },
     "metadata": {},
     "output_type": "display_data"
    },
    {
     "name": "stdout",
     "output_type": "stream",
     "text": [
      "======================================\n",
      "title =  beige e1820\n"
     ]
    },
    {
     "data": {
      "text/html": [
       "<img src = 'https://cdn.shopify.com/s/files/1/0014/1692/1145/products/img_7190_1_3_250x.jpg?v=1583488797' />"
      ],
      "text/plain": [
       "<IPython.core.display.HTML object>"
      ]
     },
     "metadata": {},
     "output_type": "display_data"
    },
    {
     "name": "stdout",
     "output_type": "stream",
     "text": [
      "======================================\n",
      "title =  white wine black baisley\n"
     ]
    },
    {
     "data": {
      "text/html": [
       "<img src = 'https://cdn.shopify.com/s/files/1/0014/1692/1145/products/IMG_2217_be4482bf-e301-4f5e-b08e-8396bbda8d77_250x.JPG?v=1570271129' />"
      ],
      "text/plain": [
       "<IPython.core.display.HTML object>"
      ]
     },
     "metadata": {},
     "output_type": "display_data"
    },
    {
     "name": "stdout",
     "output_type": "stream",
     "text": [
      "======================================\n",
      "title =  black baisley\n"
     ]
    },
    {
     "data": {
      "text/html": [
       "<img src = 'https://cdn.shopify.com/s/files/1/0014/1692/1145/products/IMG_1314_250x.JPG?v=1565775808' />"
      ],
      "text/plain": [
       "<IPython.core.display.HTML object>"
      ]
     },
     "metadata": {},
     "output_type": "display_data"
    },
    {
     "name": "stdout",
     "output_type": "stream",
     "text": [
      "======================================\n",
      "title =  gold amp oregon black\n"
     ]
    },
    {
     "data": {
      "text/html": [
       "<img src = 'https://cdn.shopify.com/s/files/1/0014/1692/1145/products/IMG_0859_250x.JPG?v=1563964028' />"
      ],
      "text/plain": [
       "<IPython.core.display.HTML object>"
      ]
     },
     "metadata": {},
     "output_type": "display_data"
    },
    {
     "name": "stdout",
     "output_type": "stream",
     "text": [
      "======================================\n",
      "title =  brianna black\n"
     ]
    },
    {
     "data": {
      "text/html": [
       "<img src = 'https://cdn.shopify.com/s/files/1/0014/1692/1145/products/IMG_9807_250x.JPG?v=1552492052' />"
      ],
      "text/plain": [
       "<IPython.core.display.HTML object>"
      ]
     },
     "metadata": {},
     "output_type": "display_data"
    },
    {
     "name": "stdout",
     "output_type": "stream",
     "text": [
      "======================================\n",
      "title =  flex sand jogger navy\n"
     ]
    },
    {
     "data": {
      "text/html": [
       "<img src = 'https://cdn.shopify.com/s/files/1/0014/1692/1145/products/IMG_9207_250x.JPG?v=1549733151' />"
      ],
      "text/plain": [
       "<IPython.core.display.HTML object>"
      ]
     },
     "metadata": {},
     "output_type": "display_data"
    },
    {
     "name": "stdout",
     "output_type": "stream",
     "text": [
      "======================================\n",
      "title =  orange komrad animalier print\n"
     ]
    },
    {
     "data": {
      "text/html": [
       "<img src = 'https://cdn.shopify.com/s/files/1/0014/1692/1145/products/IMG_0946_250x.JPG?v=1563634851' />"
      ],
      "text/plain": [
       "<IPython.core.display.HTML object>"
      ]
     },
     "metadata": {},
     "output_type": "display_data"
    },
    {
     "name": "stdout",
     "output_type": "stream",
     "text": [
      "======================================\n",
      "title =  nitro jogger black\n"
     ]
    },
    {
     "data": {
      "text/html": [
       "<img src = 'https://cdn.shopify.com/s/files/1/0014/1692/1145/products/img_8061_2_250x.jpg?v=1583488635' />"
      ],
      "text/plain": [
       "<IPython.core.display.HTML object>"
      ]
     },
     "metadata": {},
     "output_type": "display_data"
    },
    {
     "name": "stdout",
     "output_type": "stream",
     "text": [
      "======================================\n",
      "title =  white nitro jogger\n"
     ]
    },
    {
     "data": {
      "text/html": [
       "<img src = 'https://cdn.shopify.com/s/files/1/0014/1692/1145/products/img_8066_2_250x.jpg?v=1583488636' />"
      ],
      "text/plain": [
       "<IPython.core.display.HTML object>"
      ]
     },
     "metadata": {},
     "output_type": "display_data"
    },
    {
     "name": "stdout",
     "output_type": "stream",
     "text": [
      "======================================\n",
      "title =  bronze-militaire julia\n"
     ]
    },
    {
     "data": {
      "text/html": [
       "<img src = 'https://cdn.shopify.com/s/files/1/0014/1692/1145/products/IMG_2049_250x.JPG?v=1569078378' />"
      ],
      "text/plain": [
       "<IPython.core.display.HTML object>"
      ]
     },
     "metadata": {},
     "output_type": "display_data"
    },
    {
     "name": "stdout",
     "output_type": "stream",
     "text": [
      "======================================\n",
      "title =  flex rosewood jogger\n"
     ]
    },
    {
     "data": {
      "text/html": [
       "<img src = 'https://cdn.shopify.com/s/files/1/0014/1692/1145/products/IMG_9042_250x.JPG?v=1549733415' />"
      ],
      "text/plain": [
       "<IPython.core.display.HTML object>"
      ]
     },
     "metadata": {},
     "output_type": "display_data"
    },
    {
     "name": "stdout",
     "output_type": "stream",
     "text": [
      "======================================\n",
      "title =  naturel brianna\n"
     ]
    },
    {
     "data": {
      "text/html": [
       "<img src = 'https://cdn.shopify.com/s/files/1/0014/1692/1145/products/IMG_9827_250x.JPG?v=1583488234' />"
      ],
      "text/plain": [
       "<IPython.core.display.HTML object>"
      ]
     },
     "metadata": {},
     "output_type": "display_data"
    },
    {
     "name": "stdout",
     "output_type": "stream",
     "text": [
      "======================================\n",
      "title =  stan green scratch deep\n"
     ]
    },
    {
     "data": {
      "text/html": [
       "<img src = 'https://cdn.shopify.com/s/files/1/0014/1692/1145/products/img_7576_1_250x.jpg?v=1583488743' />"
      ],
      "text/plain": [
       "<IPython.core.display.HTML object>"
      ]
     },
     "metadata": {},
     "output_type": "display_data"
    },
    {
     "name": "stdout",
     "output_type": "stream",
     "text": [
      "======================================\n",
      "title =  zsp2 biscuit shearling suede\n"
     ]
    },
    {
     "data": {
      "text/html": [
       "<img src = 'https://cdn.shopify.com/s/files/1/0014/1692/1145/products/img_7407_2_250x.jpg?v=1583488761' />"
      ],
      "text/plain": [
       "<IPython.core.display.HTML object>"
      ]
     },
     "metadata": {},
     "output_type": "display_data"
    },
    {
     "name": "stdout",
     "output_type": "stream",
     "text": [
      "======================================\n",
      "title =  soft edition red\n"
     ]
    },
    {
     "data": {
      "text/html": [
       "<img src = 'https://cdn.shopify.com/s/files/1/0014/1692/1145/products/img_7742_4_250x.jpg?v=1583488674' />"
      ],
      "text/plain": [
       "<IPython.core.display.HTML object>"
      ]
     },
     "metadata": {},
     "output_type": "display_data"
    },
    {
     "name": "stdout",
     "output_type": "stream",
     "text": [
      "======================================\n",
      "title =  serafini oregon white blue red\n"
     ]
    },
    {
     "data": {
      "text/html": [
       "<img src = 'https://cdn.shopify.com/s/files/1/0014/1692/1145/products/img_7846_1_250x.jpg?v=1583488659' />"
      ],
      "text/plain": [
       "<IPython.core.display.HTML object>"
      ]
     },
     "metadata": {},
     "output_type": "display_data"
    },
    {
     "name": "stdout",
     "output_type": "stream",
     "text": [
      "======================================\n",
      "title =  komrad\n"
     ]
    },
    {
     "data": {
      "text/html": [
       "<img src = 'https://cdn.shopify.com/s/files/1/0014/1692/1145/products/IMG_0939_ce0c3283-d02b-4e16-aff4-80a31f083f47_250x.JPG?v=1563962746' />"
      ],
      "text/plain": [
       "<IPython.core.display.HTML object>"
      ]
     },
     "metadata": {},
     "output_type": "display_data"
    },
    {
     "name": "stdout",
     "output_type": "stream",
     "text": [
      "======================================\n",
      "title =  water fuga pink\n"
     ]
    },
    {
     "data": {
      "text/html": [
       "<img src = 'https://cdn.shopify.com/s/files/1/0014/1692/1145/products/img_8947_250x.jpg?v=1583488454' />"
      ],
      "text/plain": [
       "<IPython.core.display.HTML object>"
      ]
     },
     "metadata": {},
     "output_type": "display_data"
    },
    {
     "name": "stdout",
     "output_type": "stream",
     "text": [
      "======================================\n",
      "title =  arcade straps burgundy zoo\n"
     ]
    },
    {
     "data": {
      "text/html": [
       "<img src = 'https://cdn.shopify.com/s/files/1/0014/1692/1145/products/img_8333_250x.jpg?v=1583488550' />"
      ],
      "text/plain": [
       "<IPython.core.display.HTML object>"
      ]
     },
     "metadata": {},
     "output_type": "display_data"
    },
    {
     "name": "stdout",
     "output_type": "stream",
     "text": [
      "======================================\n",
      "title =  grey white shadow\n"
     ]
    },
    {
     "data": {
      "text/html": [
       "<img src = 'https://cdn.shopify.com/s/files/1/0014/1692/1145/products/IMG_0185_250x.JPG?v=1554476414' />"
      ],
      "text/plain": [
       "<IPython.core.display.HTML object>"
      ]
     },
     "metadata": {},
     "output_type": "display_data"
    },
    {
     "name": "stdout",
     "output_type": "stream",
     "text": [
      "======================================\n",
      "title =  fantasy print zsp4 animalier big\n"
     ]
    },
    {
     "data": {
      "text/html": [
       "<img src = 'https://cdn.shopify.com/s/files/1/0014/1692/1145/products/img_7387_2_250x.jpg?v=1583488771' />"
      ],
      "text/plain": [
       "<IPython.core.display.HTML object>"
      ]
     },
     "metadata": {},
     "output_type": "display_data"
    },
    {
     "name": "stdout",
     "output_type": "stream",
     "text": [
      "======================================\n",
      "title =  aquadilla pink sista tennis\n"
     ]
    },
    {
     "data": {
      "text/html": [
       "<img src = 'https://cdn.shopify.com/s/files/1/0014/1692/1145/products/img_6621_3_250x.jpg?v=1583488897' />"
      ],
      "text/plain": [
       "<IPython.core.display.HTML object>"
      ]
     },
     "metadata": {},
     "output_type": "display_data"
    },
    {
     "name": "stdout",
     "output_type": "stream",
     "text": [
      "======================================\n",
      "title =  arcade straps cedre zoo\n"
     ]
    },
    {
     "data": {
      "text/html": [
       "<img src = 'https://cdn.shopify.com/s/files/1/0014/1692/1145/products/img_8337_250x.jpg?v=1583488549' />"
      ],
      "text/plain": [
       "<IPython.core.display.HTML object>"
      ]
     },
     "metadata": {},
     "output_type": "display_data"
    },
    {
     "name": "stdout",
     "output_type": "stream",
     "text": [
      "======================================\n",
      "title =  jogger plomb parko black\n"
     ]
    },
    {
     "data": {
      "text/html": [
       "<img src = 'https://cdn.shopify.com/s/files/1/0014/1692/1145/products/IMG_9058_250x.JPG?v=1549546053' />"
      ],
      "text/plain": [
       "<IPython.core.display.HTML object>"
      ]
     },
     "metadata": {},
     "output_type": "display_data"
    },
    {
     "name": "stdout",
     "output_type": "stream",
     "text": [
      "======================================\n",
      "title =  fur sneaker black ginger\n"
     ]
    },
    {
     "data": {
      "text/html": [
       "<img src = 'https://cdn.shopify.com/s/files/1/0014/1692/1145/products/img_8298_1_250x.jpg?v=1583488551' />"
      ],
      "text/plain": [
       "<IPython.core.display.HTML object>"
      ]
     },
     "metadata": {},
     "output_type": "display_data"
    },
    {
     "name": "stdout",
     "output_type": "stream",
     "text": [
      "======================================\n",
      "title =  soft honey edition black\n"
     ]
    },
    {
     "data": {
      "text/html": [
       "<img src = 'https://cdn.shopify.com/s/files/1/0014/1692/1145/products/IMG_9420_250x.JPG?v=1550912065' />"
      ],
      "text/plain": [
       "<IPython.core.display.HTML object>"
      ]
     },
     "metadata": {},
     "output_type": "display_data"
    },
    {
     "name": "stdout",
     "output_type": "stream",
     "text": [
      "======================================\n",
      "title =  glitter fur julia nude\n"
     ]
    },
    {
     "data": {
      "text/html": [
       "<img src = 'https://cdn.shopify.com/s/files/1/0014/1692/1145/products/img_7632_1_250x.jpg?v=1583488608' />"
      ],
      "text/plain": [
       "<IPython.core.display.HTML object>"
      ]
     },
     "metadata": {},
     "output_type": "display_data"
    },
    {
     "name": "stdout",
     "output_type": "stream",
     "text": [
      "======================================\n",
      "title =  taupe suede sneaker ginger\n"
     ]
    },
    {
     "data": {
      "text/html": [
       "<img src = 'https://cdn.shopify.com/s/files/1/0014/1692/1145/products/img_8037_2_250x.jpg?v=1583488656' />"
      ],
      "text/plain": [
       "<IPython.core.display.HTML object>"
      ]
     },
     "metadata": {},
     "output_type": "display_data"
    },
    {
     "name": "stdout",
     "output_type": "stream",
     "text": [
      "======================================\n",
      "title =  golden madison amp black\n"
     ]
    },
    {
     "data": {
      "text/html": [
       "<img src = 'https://cdn.shopify.com/s/files/1/0014/1692/1145/products/img_7859_2_250x.jpg?v=1583488660' />"
      ],
      "text/plain": [
       "<IPython.core.display.HTML object>"
      ]
     },
     "metadata": {},
     "output_type": "display_data"
    },
    {
     "name": "stdout",
     "output_type": "stream",
     "text": [
      "======================================\n",
      "title =  stan chris white black\n"
     ]
    },
    {
     "data": {
      "text/html": [
       "<img src = 'https://cdn.shopify.com/s/files/1/0014/1692/1145/products/IMG_9094_250x.JPG?v=1549554549' />"
      ],
      "text/plain": [
       "<IPython.core.display.HTML object>"
      ]
     },
     "metadata": {},
     "output_type": "display_data"
    },
    {
     "name": "stdout",
     "output_type": "stream",
     "text": [
      "======================================\n",
      "title =  flex poudre jogger suede\n"
     ]
    },
    {
     "data": {
      "text/html": [
       "<img src = 'https://cdn.shopify.com/s/files/1/0014/1692/1145/products/img_7316_250x.jpg?v=1583488778' />"
      ],
      "text/plain": [
       "<IPython.core.display.HTML object>"
      ]
     },
     "metadata": {},
     "output_type": "display_data"
    },
    {
     "name": "stdout",
     "output_type": "stream",
     "text": [
      "======================================\n",
      "title =  arcade silver straps circus\n"
     ]
    },
    {
     "data": {
      "text/html": [
       "<img src = 'https://cdn.shopify.com/s/files/1/0014/1692/1145/products/img_7424_3_250x.jpg?v=1583488766' />"
      ],
      "text/plain": [
       "<IPython.core.display.HTML object>"
      ]
     },
     "metadata": {},
     "output_type": "display_data"
    },
    {
     "name": "stdout",
     "output_type": "stream",
     "text": [
      "======================================\n",
      "title =  green edition\n"
     ]
    },
    {
     "data": {
      "text/html": [
       "<img src = 'https://cdn.shopify.com/s/files/1/0014/1692/1145/products/img_7763_1_250x.jpg?v=1583488675' />"
      ],
      "text/plain": [
       "<IPython.core.display.HTML object>"
      ]
     },
     "metadata": {},
     "output_type": "display_data"
    },
    {
     "name": "stdout",
     "output_type": "stream",
     "text": [
      "======================================\n",
      "title =  jazz gris noir original\n"
     ]
    },
    {
     "data": {
      "text/html": [
       "<img src = 'https://cdn.shopify.com/s/files/1/0014/1692/1145/products/IMG_1282_8bf0067f-556a-418f-afe2-bf51bbb0168e_250x.JPG?v=1566669489' />"
      ],
      "text/plain": [
       "<IPython.core.display.HTML object>"
      ]
     },
     "metadata": {},
     "output_type": "display_data"
    },
    {
     "name": "stdout",
     "output_type": "stream",
     "text": [
      "======================================\n",
      "title =  black baisley\n"
     ]
    },
    {
     "data": {
      "text/html": [
       "<img src = 'https://cdn.shopify.com/s/files/1/0014/1692/1145/products/img_7875_2_250x.jpg?v=1547794566' />"
      ],
      "text/plain": [
       "<IPython.core.display.HTML object>"
      ]
     },
     "metadata": {},
     "output_type": "display_data"
    },
    {
     "name": "stdout",
     "output_type": "stream",
     "text": [
      "======================================\n",
      "title =  peacot olive onset\n"
     ]
    },
    {
     "data": {
      "text/html": [
       "<img src = 'https://cdn.shopify.com/s/files/1/0014/1692/1145/products/IMG_1298_250x.JPG?v=1565126807' />"
      ],
      "text/plain": [
       "<IPython.core.display.HTML object>"
      ]
     },
     "metadata": {},
     "output_type": "display_data"
    },
    {
     "name": "stdout",
     "output_type": "stream",
     "text": [
      "======================================\n",
      "title =  lancry print animalier\n"
     ]
    },
    {
     "data": {
      "text/html": [
       "<img src = 'https://cdn.shopify.com/s/files/1/0014/1692/1145/products/IMG_0022_250x.JPG?v=1583488204' />"
      ],
      "text/plain": [
       "<IPython.core.display.HTML object>"
      ]
     },
     "metadata": {},
     "output_type": "display_data"
    },
    {
     "name": "stdout",
     "output_type": "stream",
     "text": [
      "======================================\n",
      "title =  peach onset\n"
     ]
    },
    {
     "data": {
      "text/html": [
       "<img src = 'https://cdn.shopify.com/s/files/1/0014/1692/1145/products/IMG_1289_7e7232e2-ffde-4171-9f66-a297ce8f2e3b_250x.JPG?v=1565126666' />"
      ],
      "text/plain": [
       "<IPython.core.display.HTML object>"
      ]
     },
     "metadata": {},
     "output_type": "display_data"
    },
    {
     "name": "stdout",
     "output_type": "stream",
     "text": [
      "======================================\n",
      "title =  flex white jogger navy\n"
     ]
    },
    {
     "data": {
      "text/html": [
       "<img src = 'https://cdn.shopify.com/s/files/1/0014/1692/1145/products/IMG_0755_f1aeabb5-0e20-46e7-8516-04c6ef49dbaf_250x.JPG?v=1563373422' />"
      ],
      "text/plain": [
       "<IPython.core.display.HTML object>"
      ]
     },
     "metadata": {},
     "output_type": "display_data"
    },
    {
     "name": "stdout",
     "output_type": "stream",
     "text": [
      "======================================\n",
      "title =  may nappa soft velluto nero\n"
     ]
    },
    {
     "data": {
      "text/html": [
       "<img src = 'https://cdn.shopify.com/s/files/1/0014/1692/1145/products/img_7624_1_250x.jpg?v=1583488610' />"
      ],
      "text/plain": [
       "<IPython.core.display.HTML object>"
      ]
     },
     "metadata": {},
     "output_type": "display_data"
    },
    {
     "name": "stdout",
     "output_type": "stream",
     "text": [
      "======================================\n",
      "title =  beam jogger suede eden black\n"
     ]
    },
    {
     "data": {
      "text/html": [
       "<img src = 'https://cdn.shopify.com/s/files/1/0014/1692/1145/products/img_7546_3_250x.jpg?v=1583488767' />"
      ],
      "text/plain": [
       "<IPython.core.display.HTML object>"
      ]
     },
     "metadata": {},
     "output_type": "display_data"
    },
    {
     "name": "stdout",
     "output_type": "stream",
     "text": [
      "======================================\n",
      "title =  jogger patent parko black\n"
     ]
    },
    {
     "data": {
      "text/html": [
       "<img src = 'https://cdn.shopify.com/s/files/1/0014/1692/1145/products/IMG_0924_250x.JPG?v=1563963262' />"
      ],
      "text/plain": [
       "<IPython.core.display.HTML object>"
      ]
     },
     "metadata": {},
     "output_type": "display_data"
    },
    {
     "name": "stdout",
     "output_type": "stream",
     "text": [
      "======================================\n",
      "title =  edition animalier print\n"
     ]
    },
    {
     "data": {
      "text/html": [
       "<img src = 'https://cdn.shopify.com/s/files/1/0014/1692/1145/products/img_7753_250x.jpg?v=1547793878' />"
      ],
      "text/plain": [
       "<IPython.core.display.HTML object>"
      ]
     },
     "metadata": {},
     "output_type": "display_data"
    },
    {
     "name": "stdout",
     "output_type": "stream",
     "text": [
      "======================================\n",
      "title =  white edition black\n"
     ]
    },
    {
     "data": {
      "text/html": [
       "<img src = 'https://cdn.shopify.com/s/files/1/0014/1692/1145/products/IMG_2070_250x.JPG?v=1570282368' />"
      ],
      "text/plain": [
       "<IPython.core.display.HTML object>"
      ]
     },
     "metadata": {},
     "output_type": "display_data"
    },
    {
     "name": "stdout",
     "output_type": "stream",
     "text": [
      "======================================\n",
      "title =  platform white sneaker tennis\n"
     ]
    },
    {
     "data": {
      "text/html": [
       "<img src = 'https://cdn.shopify.com/s/files/1/0014/1692/1145/products/img_6969_1_250x.jpg?v=1583488859' />"
      ],
      "text/plain": [
       "<IPython.core.display.HTML object>"
      ]
     },
     "metadata": {},
     "output_type": "display_data"
    },
    {
     "name": "stdout",
     "output_type": "stream",
     "text": [
      "======================================\n",
      "title =  vintage original jazz brown black\n"
     ]
    },
    {
     "data": {
      "text/html": [
       "<img src = 'https://cdn.shopify.com/s/files/1/0014/1692/1145/products/IMG_9179_250x.JPG?v=1549629201' />"
      ],
      "text/plain": [
       "<IPython.core.display.HTML object>"
      ]
     },
     "metadata": {},
     "output_type": "display_data"
    },
    {
     "name": "stdout",
     "output_type": "stream",
     "text": [
      "======================================\n",
      "title =  jazz pink original\n"
     ]
    },
    {
     "data": {
      "text/html": [
       "<img src = 'https://cdn.shopify.com/s/files/1/0014/1692/1145/products/IMG_9196_250x.JPG?v=1549630345' />"
      ],
      "text/plain": [
       "<IPython.core.display.HTML object>"
      ]
     },
     "metadata": {},
     "output_type": "display_data"
    },
    {
     "name": "stdout",
     "output_type": "stream",
     "text": [
      "======================================\n",
      "title =  suede sneaker black ginger\n"
     ]
    },
    {
     "data": {
      "text/html": [
       "<img src = 'https://cdn.shopify.com/s/files/1/0014/1692/1145/products/img_8023_2_250x.jpg?v=1583488657' />"
      ],
      "text/plain": [
       "<IPython.core.display.HTML object>"
      ]
     },
     "metadata": {},
     "output_type": "display_data"
    },
    {
     "name": "stdout",
     "output_type": "stream",
     "text": [
      "======================================\n",
      "title =  mud manhattan serafini\n"
     ]
    },
    {
     "data": {
      "text/html": [
       "<img src = 'https://cdn.shopify.com/s/files/1/0014/1692/1145/products/IMG_2614_250x.jpg?v=1572093505' />"
      ],
      "text/plain": [
       "<IPython.core.display.HTML object>"
      ]
     },
     "metadata": {},
     "output_type": "display_data"
    },
    {
     "name": "stdout",
     "output_type": "stream",
     "text": [
      "======================================\n",
      "title =  white fur sneaker ginger\n"
     ]
    },
    {
     "data": {
      "text/html": [
       "<img src = 'https://cdn.shopify.com/s/files/1/0014/1692/1145/products/img_8283_1_250x.jpg?v=1583488552' />"
      ],
      "text/plain": [
       "<IPython.core.display.HTML object>"
      ]
     },
     "metadata": {},
     "output_type": "display_data"
    },
    {
     "name": "stdout",
     "output_type": "stream",
     "text": [
      "======================================\n",
      "title =  silver glitter fuga\n"
     ]
    },
    {
     "data": {
      "text/html": [
       "<img src = 'https://cdn.shopify.com/s/files/1/0014/1692/1145/products/IMG_1742_250x.JPG?v=1567170990' />"
      ],
      "text/plain": [
       "<IPython.core.display.HTML object>"
      ]
     },
     "metadata": {},
     "output_type": "display_data"
    },
    {
     "name": "stdout",
     "output_type": "stream",
     "text": [
      "======================================\n",
      "title =  flex jogger emeraude\n"
     ]
    },
    {
     "data": {
      "text/html": [
       "<img src = 'https://cdn.shopify.com/s/files/1/0014/1692/1145/products/IMG_0932_250x.JPG?v=1563962964' />"
      ],
      "text/plain": [
       "<IPython.core.display.HTML object>"
      ]
     },
     "metadata": {},
     "output_type": "display_data"
    },
    {
     "name": "stdout",
     "output_type": "stream",
     "text": [
      "======================================\n",
      "title =  arcade dragee panama sneaker\n"
     ]
    },
    {
     "data": {
      "text/html": [
       "<img src = 'https://cdn.shopify.com/s/files/1/0014/1692/1145/products/IMG_9122_250x.JPG?v=1549380591' />"
      ],
      "text/plain": [
       "<IPython.core.display.HTML object>"
      ]
     },
     "metadata": {},
     "output_type": "display_data"
    },
    {
     "name": "stdout",
     "output_type": "stream",
     "text": [
      "======================================\n",
      "title =  bk2000 blanc\n"
     ]
    },
    {
     "data": {
      "text/html": [
       "<img src = 'https://cdn.shopify.com/s/files/1/0014/1692/1145/products/IMG_0922_250x.JPG?v=1563985036' />"
      ],
      "text/plain": [
       "<IPython.core.display.HTML object>"
      ]
     },
     "metadata": {},
     "output_type": "display_data"
    },
    {
     "name": "stdout",
     "output_type": "stream",
     "text": [
      "======================================\n",
      "title =  jogger white perfo parko\n"
     ]
    },
    {
     "data": {
      "text/html": [
       "<img src = 'https://cdn.shopify.com/s/files/1/0014/1692/1145/products/IMG_9066_250x.JPG?v=1549547217' />"
      ],
      "text/plain": [
       "<IPython.core.display.HTML object>"
      ]
     },
     "metadata": {},
     "output_type": "display_data"
    },
    {
     "name": "stdout",
     "output_type": "stream",
     "text": [
      "======================================\n",
      "title =  mesh argento julia\n"
     ]
    },
    {
     "data": {
      "text/html": [
       "<img src = 'https://cdn.shopify.com/s/files/1/0014/1692/1145/products/IMG_9214_250x.JPG?v=1549724683' />"
      ],
      "text/plain": [
       "<IPython.core.display.HTML object>"
      ]
     },
     "metadata": {},
     "output_type": "display_data"
    },
    {
     "name": "stdout",
     "output_type": "stream",
     "text": [
      "======================================\n",
      "title =  mirror silver nitro jogger\n"
     ]
    },
    {
     "data": {
      "text/html": [
       "<img src = 'https://cdn.shopify.com/s/files/1/0014/1692/1145/products/IMG_9018_44ec0e35-5fa3-4710-a16e-5df9e542a62a_250x.JPG?v=1549049680' />"
      ],
      "text/plain": [
       "<IPython.core.display.HTML object>"
      ]
     },
     "metadata": {},
     "output_type": "display_data"
    },
    {
     "name": "stdout",
     "output_type": "stream",
     "text": [
      "======================================\n",
      "title =  arcade smoke tundra sneaker\n"
     ]
    },
    {
     "data": {
      "text/html": [
       "<img src = 'https://cdn.shopify.com/s/files/1/0014/1692/1145/products/IMG_0776_250x.JPG?v=1563374466' />"
      ],
      "text/plain": [
       "<IPython.core.display.HTML object>"
      ]
     },
     "metadata": {},
     "output_type": "display_data"
    },
    {
     "name": "stdout",
     "output_type": "stream",
     "text": [
      "======================================\n",
      "title =  hawk animalier print\n"
     ]
    },
    {
     "data": {
      "text/html": [
       "<img src = 'https://cdn.shopify.com/s/files/1/0014/1692/1145/products/IMG_1928_250x.JPG?v=1569594491' />"
      ],
      "text/plain": [
       "<IPython.core.display.HTML object>"
      ]
     },
     "metadata": {},
     "output_type": "display_data"
    },
    {
     "name": "stdout",
     "output_type": "stream",
     "text": [
      "======================================\n",
      "title =  silver honey edition\n"
     ]
    },
    {
     "data": {
      "text/html": [
       "<img src = 'https://cdn.shopify.com/s/files/1/0014/1692/1145/products/IMG_2064_250x.JPG?v=1570281153' />"
      ],
      "text/plain": [
       "<IPython.core.display.HTML object>"
      ]
     },
     "metadata": {},
     "output_type": "display_data"
    },
    {
     "name": "stdout",
     "output_type": "stream",
     "text": [
      "======================================\n",
      "title =  arcade safran straps gold\n"
     ]
    },
    {
     "data": {
      "text/html": [
       "<img src = 'https://cdn.shopify.com/s/files/1/0014/1692/1145/products/IMG_0808_46ba15f8-9197-40b8-acfa-cfe4265e531a_250x.JPG?v=1563381946' />"
      ],
      "text/plain": [
       "<IPython.core.display.HTML object>"
      ]
     },
     "metadata": {},
     "output_type": "display_data"
    },
    {
     "name": "stdout",
     "output_type": "stream",
     "text": [
      "======================================\n",
      "title =  gold white\n"
     ]
    },
    {
     "data": {
      "text/html": [
       "<img src = 'https://cdn.shopify.com/s/files/1/0014/1692/1145/products/IMG_3889_250x.jpg?v=1584263118' />"
      ],
      "text/plain": [
       "<IPython.core.display.HTML object>"
      ]
     },
     "metadata": {},
     "output_type": "display_data"
    },
    {
     "name": "stdout",
     "output_type": "stream",
     "text": [
      "======================================\n",
      "title =  dirty cosmo old wash\n"
     ]
    },
    {
     "data": {
      "text/html": [
       "<img src = 'https://cdn.shopify.com/s/files/1/0014/1692/1145/products/IMG_3316_250x.jpg?v=1581161530' />"
      ],
      "text/plain": [
       "<IPython.core.display.HTML object>"
      ]
     },
     "metadata": {},
     "output_type": "display_data"
    },
    {
     "name": "stdout",
     "output_type": "stream",
     "text": [
      "======================================\n",
      "title =  white connors amp pyt\n"
     ]
    },
    {
     "data": {
      "text/html": [
       "<img src = 'https://cdn.shopify.com/s/files/1/0014/1692/1145/products/IMG_0852_250x.JPG?v=1563963805' />"
      ],
      "text/plain": [
       "<IPython.core.display.HTML object>"
      ]
     },
     "metadata": {},
     "output_type": "display_data"
    },
    {
     "name": "stdout",
     "output_type": "stream",
     "text": [
      "======================================\n",
      "title =  braidy malibu white sneaker\n"
     ]
    },
    {
     "data": {
      "text/html": [
       "<img src = 'https://cdn.shopify.com/s/files/1/0014/1692/1145/products/IMG_3733_250x.jpg?v=1583487349' />"
      ],
      "text/plain": [
       "<IPython.core.display.HTML object>"
      ]
     },
     "metadata": {},
     "output_type": "display_data"
    },
    {
     "name": "stdout",
     "output_type": "stream",
     "text": [
      "======================================\n",
      "title =  plato straps print kobr\n"
     ]
    },
    {
     "data": {
      "text/html": [
       "<img src = 'https://cdn.shopify.com/s/files/1/0014/1692/1145/products/IMG_3036_250x.jpg?v=1579792973' />"
      ],
      "text/plain": [
       "<IPython.core.display.HTML object>"
      ]
     },
     "metadata": {},
     "output_type": "display_data"
    },
    {
     "name": "stdout",
     "output_type": "stream",
     "text": [
      "======================================\n",
      "title =  cantaloupe jazz white vintage original\n"
     ]
    },
    {
     "data": {
      "text/html": [
       "<img src = 'https://cdn.shopify.com/s/files/1/0014/1692/1145/products/IMG_3091_250x.jpg?v=1579879266' />"
      ],
      "text/plain": [
       "<IPython.core.display.HTML object>"
      ]
     },
     "metadata": {},
     "output_type": "display_data"
    },
    {
     "name": "stdout",
     "output_type": "stream",
     "text": [
      "======================================\n",
      "title =  vip\n"
     ]
    },
    {
     "data": {
      "text/html": [
       "<img src = 'https://cdn.shopify.com/s/files/1/0014/1692/1145/products/IMG_3055_250x.jpg?v=1579937735' />"
      ],
      "text/plain": [
       "<IPython.core.display.HTML object>"
      ]
     },
     "metadata": {},
     "output_type": "display_data"
    },
    {
     "name": "stdout",
     "output_type": "stream",
     "text": [
      "======================================\n",
      "title =  white edition\n"
     ]
    },
    {
     "data": {
      "text/html": [
       "<img src = 'https://cdn.shopify.com/s/files/1/0014/1692/1145/products/IMG_3879_250x.jpg?v=1584261462' />"
      ],
      "text/plain": [
       "<IPython.core.display.HTML object>"
      ]
     },
     "metadata": {},
     "output_type": "display_data"
    },
    {
     "name": "stdout",
     "output_type": "stream",
     "text": [
      "======================================\n",
      "title =  lancry cuivre\n"
     ]
    },
    {
     "data": {
      "text/html": [
       "<img src = 'https://cdn.shopify.com/s/files/1/0014/1692/1145/products/IMG_3709_250x.jpg?v=1582989311' />"
      ],
      "text/plain": [
       "<IPython.core.display.HTML object>"
      ]
     },
     "metadata": {},
     "output_type": "display_data"
    },
    {
     "name": "stdout",
     "output_type": "stream",
     "text": [
      "======================================\n",
      "title =  silver white addict\n"
     ]
    },
    {
     "data": {
      "text/html": [
       "<img src = 'https://cdn.shopify.com/s/files/1/0014/1692/1145/products/IMG_2748_250x.jpg?v=1574837482' />"
      ],
      "text/plain": [
       "<IPython.core.display.HTML object>"
      ]
     },
     "metadata": {},
     "output_type": "display_data"
    },
    {
     "name": "stdout",
     "output_type": "stream",
     "text": [
      "======================================\n",
      "title =  pyt lancry\n"
     ]
    },
    {
     "data": {
      "text/html": [
       "<img src = 'https://cdn.shopify.com/s/files/1/0014/1692/1145/products/IMG_3600_250x.jpg?v=1582736540' />"
      ],
      "text/plain": [
       "<IPython.core.display.HTML object>"
      ]
     },
     "metadata": {},
     "output_type": "display_data"
    },
    {
     "name": "stdout",
     "output_type": "stream",
     "text": [
      "======================================\n",
      "title =  sun white addict\n"
     ]
    },
    {
     "data": {
      "text/html": [
       "<img src = 'https://cdn.shopify.com/s/files/1/0014/1692/1145/products/IMG_2742_e369b46d-d2b7-4e99-aa8d-297e02fdc3f6_250x.jpg?v=1574837667' />"
      ],
      "text/plain": [
       "<IPython.core.display.HTML object>"
      ]
     },
     "metadata": {},
     "output_type": "display_data"
    },
    {
     "name": "stdout",
     "output_type": "stream",
     "text": [
      "======================================\n",
      "title =  pyt oregon\n"
     ]
    },
    {
     "data": {
      "text/html": [
       "<img src = 'https://cdn.shopify.com/s/files/1/0014/1692/1145/products/IMG_3561_250x.jpg?v=1582388162' />"
      ],
      "text/plain": [
       "<IPython.core.display.HTML object>"
      ]
     },
     "metadata": {},
     "output_type": "display_data"
    },
    {
     "name": "stdout",
     "output_type": "stream",
     "text": [
      "======================================\n",
      "title =  black velcro\n"
     ]
    },
    {
     "data": {
      "text/html": [
       "<img src = 'https://cdn.shopify.com/s/files/1/0014/1692/1145/products/IMG_4323_250x.jpg?v=1594320491' />"
      ],
      "text/plain": [
       "<IPython.core.display.HTML object>"
      ]
     },
     "metadata": {},
     "output_type": "display_data"
    },
    {
     "name": "stdout",
     "output_type": "stream",
     "text": [
      "======================================\n",
      "title =  stan chris carbon white\n"
     ]
    },
    {
     "data": {
      "text/html": [
       "<img src = 'https://cdn.shopify.com/s/files/1/0014/1692/1145/products/IMG_3441_a7983175-f18b-4a30-ae40-7438b67a6da3_250x.jpg?v=1583487447' />"
      ],
      "text/plain": [
       "<IPython.core.display.HTML object>"
      ]
     },
     "metadata": {},
     "output_type": "display_data"
    },
    {
     "name": "stdout",
     "output_type": "stream",
     "text": [
      "======================================\n",
      "title =  silver bk2065 white\n"
     ]
    },
    {
     "data": {
      "text/html": [
       "<img src = 'https://cdn.shopify.com/s/files/1/0014/1692/1145/products/IMG_4078_250x.jpg?v=1590506956' />"
      ],
      "text/plain": [
       "<IPython.core.display.HTML object>"
      ]
     },
     "metadata": {},
     "output_type": "display_data"
    },
    {
     "name": "stdout",
     "output_type": "stream",
     "text": [
      "======================================\n",
      "title =  jogger silver parko\n"
     ]
    },
    {
     "data": {
      "text/html": [
       "<img src = 'https://cdn.shopify.com/s/files/1/0014/1692/1145/products/IMG_3012_250x.jpg?v=1583487514' />"
      ],
      "text/plain": [
       "<IPython.core.display.HTML object>"
      ]
     },
     "metadata": {},
     "output_type": "display_data"
    },
    {
     "name": "stdout",
     "output_type": "stream",
     "text": [
      "======================================\n",
      "title =  cheetah addict tan\n"
     ]
    },
    {
     "data": {
      "text/html": [
       "<img src = 'https://cdn.shopify.com/s/files/1/0014/1692/1145/products/IMG_2753_250x.jpg?v=1575731977' />"
      ],
      "text/plain": [
       "<IPython.core.display.HTML object>"
      ]
     },
     "metadata": {},
     "output_type": "display_data"
    },
    {
     "name": "stdout",
     "output_type": "stream",
     "text": [
      "======================================\n",
      "title =  onix animalier print\n"
     ]
    },
    {
     "data": {
      "text/html": [
       "<img src = 'https://cdn.shopify.com/s/files/1/0014/1692/1145/products/IMG_3850_250x.jpg?v=1584260578' />"
      ],
      "text/plain": [
       "<IPython.core.display.HTML object>"
      ]
     },
     "metadata": {},
     "output_type": "display_data"
    },
    {
     "name": "stdout",
     "output_type": "stream",
     "text": [
      "======================================\n",
      "title =  white addict\n"
     ]
    },
    {
     "data": {
      "text/html": [
       "<img src = 'https://cdn.shopify.com/s/files/1/0014/1692/1145/products/img_7662_250x.jpg?v=1583488732' />"
      ],
      "text/plain": [
       "<IPython.core.display.HTML object>"
      ]
     },
     "metadata": {},
     "output_type": "display_data"
    },
    {
     "name": "stdout",
     "output_type": "stream",
     "text": [
      "======================================\n",
      "title =  malte platino\n"
     ]
    },
    {
     "data": {
      "text/html": [
       "<img src = 'https://cdn.shopify.com/s/files/1/0014/1692/1145/products/IMG_3591_250x.jpg?v=1582737050' />"
      ],
      "text/plain": [
       "<IPython.core.display.HTML object>"
      ]
     },
     "metadata": {},
     "output_type": "display_data"
    },
    {
     "name": "stdout",
     "output_type": "stream",
     "text": [
      "======================================\n",
      "title =  lurex white fuga\n"
     ]
    },
    {
     "data": {
      "text/html": [
       "<img src = 'https://cdn.shopify.com/s/files/1/0014/1692/1145/products/IMG_3169_ebcd7d13-0a60-462e-909c-ebf181ccc4b0_250x.jpg?v=1580899784' />"
      ],
      "text/plain": [
       "<IPython.core.display.HTML object>"
      ]
     },
     "metadata": {},
     "output_type": "display_data"
    },
    {
     "name": "stdout",
     "output_type": "stream",
     "text": [
      "======================================\n",
      "title =  catri\n"
     ]
    },
    {
     "data": {
      "text/html": [
       "<img src = 'https://cdn.shopify.com/s/files/1/0014/1692/1145/products/IMG_3063_250x.jpg?v=1580207864' />"
      ],
      "text/plain": [
       "<IPython.core.display.HTML object>"
      ]
     },
     "metadata": {},
     "output_type": "display_data"
    },
    {
     "name": "stdout",
     "output_type": "stream",
     "text": [
      "======================================\n",
      "title =  mimosa stone onset pink\n"
     ]
    },
    {
     "data": {
      "text/html": [
       "<img src = 'https://cdn.shopify.com/s/files/1/0014/1692/1145/products/IMG_3669_250x.jpg?v=1582984419' />"
      ],
      "text/plain": [
       "<IPython.core.display.HTML object>"
      ]
     },
     "metadata": {},
     "output_type": "display_data"
    },
    {
     "name": "stdout",
     "output_type": "stream",
     "text": [
      "======================================\n",
      "title =  silver bk2148\n"
     ]
    },
    {
     "data": {
      "text/html": [
       "<img src = 'https://cdn.shopify.com/s/files/1/0014/1692/1145/products/IMG_4072_250x.jpg?v=1590505970' />"
      ],
      "text/plain": [
       "<IPython.core.display.HTML object>"
      ]
     },
     "metadata": {},
     "output_type": "display_data"
    },
    {
     "name": "stdout",
     "output_type": "stream",
     "text": [
      "======================================\n",
      "title =  catri silver white\n"
     ]
    },
    {
     "data": {
      "text/html": [
       "<img src = 'https://cdn.shopify.com/s/files/1/0014/1692/1145/products/IMG_4032_250x.jpg?v=1587799449' />"
      ],
      "text/plain": [
       "<IPython.core.display.HTML object>"
      ]
     },
     "metadata": {},
     "output_type": "display_data"
    },
    {
     "name": "stdout",
     "output_type": "stream",
     "text": [
      "======================================\n",
      "title =  lunatic lurex bis black\n"
     ]
    },
    {
     "data": {
      "text/html": [
       "<img src = 'https://cdn.shopify.com/s/files/1/0014/1692/1145/products/IMG_3633_250x.jpg?v=1582738040' />"
      ],
      "text/plain": [
       "<IPython.core.display.HTML object>"
      ]
     },
     "metadata": {},
     "output_type": "display_data"
    },
    {
     "name": "stdout",
     "output_type": "stream",
     "text": [
      "======================================\n",
      "title =  catri glitter argent\n"
     ]
    },
    {
     "data": {
      "text/html": [
       "<img src = 'https://cdn.shopify.com/s/files/1/0014/1692/1145/products/IMG_3907_250x.jpg?v=1584105855' />"
      ],
      "text/plain": [
       "<IPython.core.display.HTML object>"
      ]
     },
     "metadata": {},
     "output_type": "display_data"
    },
    {
     "name": "stdout",
     "output_type": "stream",
     "text": [
      "======================================\n",
      "title =  gold snik white\n"
     ]
    },
    {
     "data": {
      "text/html": [
       "<img src = 'https://cdn.shopify.com/s/files/1/0014/1692/1145/products/img_6832_2_250x.jpg?v=1583488868' />"
      ],
      "text/plain": [
       "<IPython.core.display.HTML object>"
      ]
     },
     "metadata": {},
     "output_type": "display_data"
    },
    {
     "name": "stdout",
     "output_type": "stream",
     "text": [
      "======================================\n",
      "title =  \n"
     ]
    },
    {
     "data": {
      "text/html": [
       "<img src = 'https://cdn.shopify.com/s/files/1/0014/1692/1145/products/IMG_3538_250x.jpg?v=1582403297' />"
      ],
      "text/plain": [
       "<IPython.core.display.HTML object>"
      ]
     },
     "metadata": {},
     "output_type": "display_data"
    },
    {
     "name": "stdout",
     "output_type": "stream",
     "text": [
      "======================================\n",
      "title =  white honey\n"
     ]
    },
    {
     "data": {
      "text/html": [
       "<img src = 'https://cdn.shopify.com/s/files/1/0014/1692/1145/products/IMG_3544_250x.jpg?v=1582389998' />"
      ],
      "text/plain": [
       "<IPython.core.display.HTML object>"
      ]
     },
     "metadata": {},
     "output_type": "display_data"
    },
    {
     "name": "stdout",
     "output_type": "stream",
     "text": [
      "======================================\n",
      "title =  taupe black baisley\n"
     ]
    },
    {
     "data": {
      "text/html": [
       "<img src = 'https://cdn.shopify.com/s/files/1/0014/1692/1145/products/IMG_3278_250x.jpg?v=1581169725' />"
      ],
      "text/plain": [
       "<IPython.core.display.HTML object>"
      ]
     },
     "metadata": {},
     "output_type": "display_data"
    },
    {
     "name": "stdout",
     "output_type": "stream",
     "text": [
      "======================================\n",
      "title =  snik animalier print\n"
     ]
    },
    {
     "data": {
      "text/html": [
       "<img src = 'https://cdn.shopify.com/s/files/1/0014/1692/1145/products/IMG_0437_250x.JPG?v=1563372893' />"
      ],
      "text/plain": [
       "<IPython.core.display.HTML object>"
      ]
     },
     "metadata": {},
     "output_type": "display_data"
    },
    {
     "name": "stdout",
     "output_type": "stream",
     "text": [
      "======================================\n",
      "title =  stardust silver fuga pop\n"
     ]
    },
    {
     "data": {
      "text/html": [
       "<img src = 'https://cdn.shopify.com/s/files/1/0014/1692/1145/products/IMG_0154_250x.JPG?v=1583488164' />"
      ],
      "text/plain": [
       "<IPython.core.display.HTML object>"
      ]
     },
     "metadata": {},
     "output_type": "display_data"
    },
    {
     "name": "stdout",
     "output_type": "stream",
     "text": [
      "======================================\n",
      "title =  patent white fuga\n"
     ]
    },
    {
     "data": {
      "text/html": [
       "<img src = 'https://cdn.shopify.com/s/files/1/0014/1692/1145/products/IMG_3461_250x.jpg?v=1583488455' />"
      ],
      "text/plain": [
       "<IPython.core.display.HTML object>"
      ]
     },
     "metadata": {},
     "output_type": "display_data"
    },
    {
     "name": "stdout",
     "output_type": "stream",
     "text": [
      "======================================\n",
      "title =  diego white patent san\n"
     ]
    },
    {
     "data": {
      "text/html": [
       "<img src = 'https://cdn.shopify.com/s/files/1/0014/1692/1145/products/IMG_3133_250x.jpg?v=1580478615' />"
      ],
      "text/plain": [
       "<IPython.core.display.HTML object>"
      ]
     },
     "metadata": {},
     "output_type": "display_data"
    },
    {
     "name": "stdout",
     "output_type": "stream",
     "text": [
      "======================================\n",
      "title =  silver stan chris white\n"
     ]
    },
    {
     "data": {
      "text/html": [
       "<img src = 'https://cdn.shopify.com/s/files/1/0014/1692/1145/products/IMG_3449_250x.jpg?v=1582382499' />"
      ],
      "text/plain": [
       "<IPython.core.display.HTML object>"
      ]
     },
     "metadata": {},
     "output_type": "display_data"
    },
    {
     "name": "stdout",
     "output_type": "stream",
     "text": [
      "======================================\n",
      "title =  gold snik animalier print\n"
     ]
    },
    {
     "data": {
      "text/html": [
       "<img src = 'https://cdn.shopify.com/s/files/1/0014/1692/1145/products/IMG_9606_4364d9a4-6c4d-4ba3-94cf-0ddcf1e7c09d_250x.JPG?v=1583488322' />"
      ],
      "text/plain": [
       "<IPython.core.display.HTML object>"
      ]
     },
     "metadata": {},
     "output_type": "display_data"
    },
    {
     "name": "stdout",
     "output_type": "stream",
     "text": [
      "======================================\n",
      "title =  eclipse\n"
     ]
    },
    {
     "data": {
      "text/html": [
       "<img src = 'https://cdn.shopify.com/s/files/1/0014/1692/1145/products/IMG_3724_5210624a-44a9-4632-9416-6348bb2305a3_250x.jpg?v=1582990659' />"
      ],
      "text/plain": [
       "<IPython.core.display.HTML object>"
      ]
     },
     "metadata": {},
     "output_type": "display_data"
    },
    {
     "name": "stdout",
     "output_type": "stream",
     "text": [
      "======================================\n",
      "title =  white\n"
     ]
    },
    {
     "data": {
      "text/html": [
       "<img src = 'https://cdn.shopify.com/s/files/1/0014/1692/1145/products/IMG_4308_69562055-90eb-4187-b6cc-08a245a38803_250x.jpg?v=1594319851' />"
      ],
      "text/plain": [
       "<IPython.core.display.HTML object>"
      ]
     },
     "metadata": {},
     "output_type": "display_data"
    },
    {
     "name": "stdout",
     "output_type": "stream",
     "text": [
      "======================================\n",
      "title =  nappa white zsp4 navy\n"
     ]
    },
    {
     "data": {
      "text/html": [
       "<img src = 'https://cdn.shopify.com/s/files/1/0014/1692/1145/products/IMG_3917_250x.jpg?v=1584112522' />"
      ],
      "text/plain": [
       "<IPython.core.display.HTML object>"
      ]
     },
     "metadata": {},
     "output_type": "display_data"
    },
    {
     "name": "stdout",
     "output_type": "stream",
     "text": [
      "======================================\n",
      "title =  snik straps ghiaccio navy\n"
     ]
    },
    {
     "data": {
      "text/html": [
       "<img src = 'https://cdn.shopify.com/s/files/1/0014/1692/1145/products/IMG_1910_250x.JPG?v=1568666437' />"
      ],
      "text/plain": [
       "<IPython.core.display.HTML object>"
      ]
     },
     "metadata": {},
     "output_type": "display_data"
    },
    {
     "name": "stdout",
     "output_type": "stream",
     "text": [
      "======================================\n",
      "title =  arcade straps snk white\n"
     ]
    },
    {
     "data": {
      "text/html": [
       "<img src = 'https://cdn.shopify.com/s/files/1/0014/1692/1145/products/IMG_3002_250x.jpg?v=1578758060' />"
      ],
      "text/plain": [
       "<IPython.core.display.HTML object>"
      ]
     },
     "metadata": {},
     "output_type": "display_data"
    },
    {
     "name": "stdout",
     "output_type": "stream",
     "text": [
      "======================================\n",
      "title =  camel white\n"
     ]
    },
    {
     "data": {
      "text/html": [
       "<img src = 'https://cdn.shopify.com/s/files/1/0014/1692/1145/products/IMG_4316_250x.jpg?v=1594320150' />"
      ],
      "text/plain": [
       "<IPython.core.display.HTML object>"
      ]
     },
     "metadata": {},
     "output_type": "display_data"
    },
    {
     "name": "stdout",
     "output_type": "stream",
     "text": [
      "======================================\n",
      "title =  nekti white fuga pink\n"
     ]
    },
    {
     "data": {
      "text/html": [
       "<img src = 'https://cdn.shopify.com/s/files/1/0014/1692/1145/products/IMG_3180_250x.jpg?v=1580903500' />"
      ],
      "text/plain": [
       "<IPython.core.display.HTML object>"
      ]
     },
     "metadata": {},
     "output_type": "display_data"
    },
    {
     "name": "stdout",
     "output_type": "stream",
     "text": [
      "======================================\n",
      "title =  original jazz white vintage black\n"
     ]
    },
    {
     "data": {
      "text/html": [
       "<img src = 'https://cdn.shopify.com/s/files/1/0014/1692/1145/products/IMG_3082_250x.jpg?v=1579936748' />"
      ],
      "text/plain": [
       "<IPython.core.display.HTML object>"
      ]
     },
     "metadata": {},
     "output_type": "display_data"
    },
    {
     "name": "stdout",
     "output_type": "stream",
     "text": [
      "======================================\n",
      "title =  imprime snik tri multi\n"
     ]
    },
    {
     "data": {
      "text/html": [
       "<img src = 'https://cdn.shopify.com/s/files/1/0014/1692/1145/products/IMG_3827_250x.jpg?v=1584019258' />"
      ],
      "text/plain": [
       "<IPython.core.display.HTML object>"
      ]
     },
     "metadata": {},
     "output_type": "display_data"
    },
    {
     "name": "stdout",
     "output_type": "stream",
     "text": [
      "======================================\n",
      "title =  zespa suede zsp6 white naturel vip\n"
     ]
    },
    {
     "data": {
      "text/html": [
       "<img src = 'https://cdn.shopify.com/s/files/1/0014/1692/1145/products/IMG_3925_250x.jpg?v=1584114220' />"
      ],
      "text/plain": [
       "<IPython.core.display.HTML object>"
      ]
     },
     "metadata": {},
     "output_type": "display_data"
    },
    {
     "name": "stdout",
     "output_type": "stream",
     "text": [
      "======================================\n",
      "title =  catri\n"
     ]
    },
    {
     "data": {
      "text/html": [
       "<img src = 'https://cdn.shopify.com/s/files/1/0014/1692/1145/products/IMG_3065_250x.jpg?v=1579937625' />"
      ],
      "text/plain": [
       "<IPython.core.display.HTML object>"
      ]
     },
     "metadata": {},
     "output_type": "display_data"
    },
    {
     "name": "stdout",
     "output_type": "stream",
     "text": [
      "======================================\n",
      "title =  kurt glitter white\n"
     ]
    },
    {
     "data": {
      "text/html": [
       "<img src = 'https://cdn.shopify.com/s/files/1/0014/1692/1145/products/IMG_4064_250x.jpg?v=1590505830' />"
      ],
      "text/plain": [
       "<IPython.core.display.HTML object>"
      ]
     },
     "metadata": {},
     "output_type": "display_data"
    },
    {
     "name": "stdout",
     "output_type": "stream",
     "text": [
      "======================================\n",
      "title =  carla multicolor serafini\n"
     ]
    },
    {
     "data": {
      "text/html": [
       "<img src = 'https://cdn.shopify.com/s/files/1/0014/1692/1145/products/IMG_2400_250x.JPG?v=1571485364' />"
      ],
      "text/plain": [
       "<IPython.core.display.HTML object>"
      ]
     },
     "metadata": {},
     "output_type": "display_data"
    },
    {
     "name": "stdout",
     "output_type": "stream",
     "text": [
      "======================================\n",
      "title =  glitter white carbone\n"
     ]
    },
    {
     "data": {
      "text/html": [
       "<img src = 'https://cdn.shopify.com/s/files/1/0014/1692/1145/products/IMG_3665_250x.jpg?v=1582984157' />"
      ],
      "text/plain": [
       "<IPython.core.display.HTML object>"
      ]
     },
     "metadata": {},
     "output_type": "display_data"
    },
    {
     "name": "stdout",
     "output_type": "stream",
     "text": [
      "======================================\n",
      "title =  animalier print alfa\n"
     ]
    },
    {
     "data": {
      "text/html": [
       "<img src = 'https://cdn.shopify.com/s/files/1/0014/1692/1145/products/IMG_3899_718c9bb7-02e5-4ee0-b6e9-a6f052e052b7_250x.jpg?v=1584105716' />"
      ],
      "text/plain": [
       "<IPython.core.display.HTML object>"
      ]
     },
     "metadata": {},
     "output_type": "display_data"
    },
    {
     "name": "stdout",
     "output_type": "stream",
     "text": [
      "======================================\n",
      "title =  snik straps print glitter\n"
     ]
    },
    {
     "data": {
      "text/html": [
       "<img src = 'https://cdn.shopify.com/s/files/1/0014/1692/1145/products/IMG_4186_3105c7d9-97a6-4c1c-8797-0e070072c519_250x.jpg?v=1590604295' />"
      ],
      "text/plain": [
       "<IPython.core.display.HTML object>"
      ]
     },
     "metadata": {},
     "output_type": "display_data"
    },
    {
     "name": "stdout",
     "output_type": "stream",
     "text": [
      "======================================\n",
      "title =  gold oregon pit\n"
     ]
    },
    {
     "data": {
      "text/html": [
       "<img src = 'https://cdn.shopify.com/s/files/1/0014/1692/1145/products/IMG_2870_250x.jpg?v=1578753161' />"
      ],
      "text/plain": [
       "<IPython.core.display.HTML object>"
      ]
     },
     "metadata": {},
     "output_type": "display_data"
    },
    {
     "name": "stdout",
     "output_type": "stream",
     "text": [
      "======================================\n",
      "title =  onix almond\n"
     ]
    },
    {
     "data": {
      "text/html": [
       "<img src = 'https://cdn.shopify.com/s/files/1/0014/1692/1145/products/IMG_3858_250x.jpg?v=1584260801' />"
      ],
      "text/plain": [
       "<IPython.core.display.HTML object>"
      ]
     },
     "metadata": {},
     "output_type": "display_data"
    },
    {
     "name": "stdout",
     "output_type": "stream",
     "text": [
      "======================================\n",
      "title =  arcade straps black\n"
     ]
    },
    {
     "data": {
      "text/html": [
       "<img src = 'https://cdn.shopify.com/s/files/1/0014/1692/1145/products/IMG_2993_250x.jpg?v=1578757400' />"
      ],
      "text/plain": [
       "<IPython.core.display.HTML object>"
      ]
     },
     "metadata": {},
     "output_type": "display_data"
    },
    {
     "name": "stdout",
     "output_type": "stream",
     "text": [
      "======================================\n",
      "title =  anim print\n"
     ]
    },
    {
     "data": {
      "text/html": [
       "<img src = 'https://cdn.shopify.com/s/files/1/0014/1692/1145/products/IMG_4178_250x.jpg?v=1590604170' />"
      ],
      "text/plain": [
       "<IPython.core.display.HTML object>"
      ]
     },
     "metadata": {},
     "output_type": "display_data"
    },
    {
     "name": "stdout",
     "output_type": "stream",
     "text": [
      "======================================\n",
      "title =  bk2148\n"
     ]
    },
    {
     "data": {
      "text/html": [
       "<img src = 'https://cdn.shopify.com/s/files/1/0014/1692/1145/products/IMG_4087_250x.jpg?v=1590506103' />"
      ],
      "text/plain": [
       "<IPython.core.display.HTML object>"
      ]
     },
     "metadata": {},
     "output_type": "display_data"
    },
    {
     "name": "stdout",
     "output_type": "stream",
     "text": [
      "======================================\n",
      "title =  gold plato sneaker\n"
     ]
    },
    {
     "data": {
      "text/html": [
       "<img src = 'https://cdn.shopify.com/s/files/1/0014/1692/1145/products/IMG_2989_250x.jpg?v=1578756961' />"
      ],
      "text/plain": [
       "<IPython.core.display.HTML object>"
      ]
     },
     "metadata": {},
     "output_type": "display_data"
    },
    {
     "name": "stdout",
     "output_type": "stream",
     "text": [
      "======================================\n",
      "title =  gold beige\n"
     ]
    },
    {
     "data": {
      "text/html": [
       "<img src = 'https://cdn.shopify.com/s/files/1/0014/1692/1145/products/IMG_4196_250x.jpg?v=1594463180' />"
      ],
      "text/plain": [
       "<IPython.core.display.HTML object>"
      ]
     },
     "metadata": {},
     "output_type": "display_data"
    },
    {
     "name": "stdout",
     "output_type": "stream",
     "text": [
      "======================================\n",
      "title =  dirty cosmo old wash\n"
     ]
    },
    {
     "data": {
      "text/html": [
       "<img src = 'https://cdn.shopify.com/s/files/1/0014/1692/1145/products/IMG_3282_250x.jpg?v=1581162748' />"
      ],
      "text/plain": [
       "<IPython.core.display.HTML object>"
      ]
     },
     "metadata": {},
     "output_type": "display_data"
    },
    {
     "name": "stdout",
     "output_type": "stream",
     "text": [
      "======================================\n",
      "title =  alfa\n"
     ]
    },
    {
     "data": {
      "text/html": [
       "<img src = 'https://cdn.shopify.com/s/files/1/0014/1692/1145/products/IMG_4410_13c73018-ed41-4de8-9c1b-cfca6983da28_250x.jpg?v=1594398909' />"
      ],
      "text/plain": [
       "<IPython.core.display.HTML object>"
      ]
     },
     "metadata": {},
     "output_type": "display_data"
    },
    {
     "name": "stdout",
     "output_type": "stream",
     "text": [
      "======================================\n",
      "title =  straps white spice\n"
     ]
    },
    {
     "data": {
      "text/html": [
       "<img src = 'https://cdn.shopify.com/s/files/1/0014/1692/1145/products/IMG_3519_250x.jpg?v=1581800559' />"
      ],
      "text/plain": [
       "<IPython.core.display.HTML object>"
      ]
     },
     "metadata": {},
     "output_type": "display_data"
    },
    {
     "name": "stdout",
     "output_type": "stream",
     "text": [
      "======================================\n",
      "title =  julia suede white power rosa\n"
     ]
    },
    {
     "data": {
      "text/html": [
       "<img src = 'https://cdn.shopify.com/s/files/1/0014/1692/1145/products/IMG_3861_250x.jpg?v=1584261064' />"
      ],
      "text/plain": [
       "<IPython.core.display.HTML object>"
      ]
     },
     "metadata": {},
     "output_type": "display_data"
    },
    {
     "name": "stdout",
     "output_type": "stream",
     "text": [
      "======================================\n",
      "title =  catri\n"
     ]
    },
    {
     "data": {
      "text/html": [
       "<img src = 'https://cdn.shopify.com/s/files/1/0014/1692/1145/products/catri-1056-e20-blanc-4128775-0_250x.jpg?v=1585739659' />"
      ],
      "text/plain": [
       "<IPython.core.display.HTML object>"
      ]
     },
     "metadata": {},
     "output_type": "display_data"
    },
    {
     "name": "stdout",
     "output_type": "stream",
     "text": [
      "======================================\n",
      "title =  white black\n"
     ]
    },
    {
     "data": {
      "text/html": [
       "<img src = 'https://cdn.shopify.com/s/files/1/0014/1692/1145/products/IMG_4257_250x.jpg?v=1594305938' />"
      ],
      "text/plain": [
       "<IPython.core.display.HTML object>"
      ]
     },
     "metadata": {},
     "output_type": "display_data"
    },
    {
     "name": "stdout",
     "output_type": "stream",
     "text": [
      "======================================\n",
      "title =  glitter fuga pop\n"
     ]
    },
    {
     "data": {
      "text/html": [
       "<img src = 'https://cdn.shopify.com/s/files/1/0014/1692/1145/products/IMG_3176_250x.jpg?v=1580902500' />"
      ],
      "text/plain": [
       "<IPython.core.display.HTML object>"
      ]
     },
     "metadata": {},
     "output_type": "display_data"
    },
    {
     "name": "stdout",
     "output_type": "stream",
     "text": [
      "======================================\n",
      "title =  chase white lila lavender\n"
     ]
    },
    {
     "data": {
      "text/html": [
       "<img src = 'https://cdn.shopify.com/s/files/1/0014/1692/1145/products/IMG_3692_86f490b4-3327-4038-9adf-6621398f396c_250x.jpg?v=1582987315' />"
      ],
      "text/plain": [
       "<IPython.core.display.HTML object>"
      ]
     },
     "metadata": {},
     "output_type": "display_data"
    },
    {
     "name": "stdout",
     "output_type": "stream",
     "text": [
      "======================================\n",
      "title =  gold oregon black\n"
     ]
    },
    {
     "data": {
      "text/html": [
       "<img src = 'https://cdn.shopify.com/s/files/1/0014/1692/1145/products/IMG_0844_250x.JPG?v=1584200025' />"
      ],
      "text/plain": [
       "<IPython.core.display.HTML object>"
      ]
     },
     "metadata": {},
     "output_type": "display_data"
    },
    {
     "name": "stdout",
     "output_type": "stream",
     "text": [
      "======================================\n",
      "title =  stan chris white tan\n"
     ]
    },
    {
     "data": {
      "text/html": [
       "<img src = 'https://cdn.shopify.com/s/files/1/0014/1692/1145/products/IMG_9115_-_Copie_250x.JPG?v=1583488398' />"
      ],
      "text/plain": [
       "<IPython.core.display.HTML object>"
      ]
     },
     "metadata": {},
     "output_type": "display_data"
    },
    {
     "name": "stdout",
     "output_type": "stream",
     "text": [
      "======================================\n",
      "title =  sand onset chily grey white\n"
     ]
    },
    {
     "data": {
      "text/html": [
       "<img src = 'https://cdn.shopify.com/s/files/1/0014/1692/1145/products/IMG_3678_250x.jpg?v=1582986128' />"
      ],
      "text/plain": [
       "<IPython.core.display.HTML object>"
      ]
     },
     "metadata": {},
     "output_type": "display_data"
    },
    {
     "name": "stdout",
     "output_type": "stream",
     "text": [
      "======================================\n",
      "title =  grey glitter julie\n"
     ]
    },
    {
     "data": {
      "text/html": [
       "<img src = 'https://cdn.shopify.com/s/files/1/0014/1692/1145/products/IMG_3942_250x.jpg?v=1584600605' />"
      ],
      "text/plain": [
       "<IPython.core.display.HTML object>"
      ]
     },
     "metadata": {},
     "output_type": "display_data"
    },
    {
     "name": "stdout",
     "output_type": "stream",
     "text": [
      "======================================\n",
      "title =  skate ash black\n"
     ]
    },
    {
     "data": {
      "text/html": [
       "<img src = 'https://cdn.shopify.com/s/files/1/0014/1692/1145/products/IMG_3630_250x.jpg?v=1582738228' />"
      ],
      "text/plain": [
       "<IPython.core.display.HTML object>"
      ]
     },
     "metadata": {},
     "output_type": "display_data"
    },
    {
     "name": "stdout",
     "output_type": "stream",
     "text": [
      "======================================\n",
      "title =  yellow oregon\n"
     ]
    },
    {
     "data": {
      "text/html": [
       "<img src = 'https://cdn.shopify.com/s/files/1/0014/1692/1145/products/IMG_2885_250x.jpg?v=1578743184' />"
      ],
      "text/plain": [
       "<IPython.core.display.HTML object>"
      ]
     },
     "metadata": {},
     "output_type": "display_data"
    },
    {
     "name": "stdout",
     "output_type": "stream",
     "text": [
      "======================================\n",
      "title =  stan chris white\n"
     ]
    },
    {
     "data": {
      "text/html": [
       "<img src = 'https://cdn.shopify.com/s/files/1/0014/1692/1145/products/IMG_3457_250x.jpg?v=1582383092' />"
      ],
      "text/plain": [
       "<IPython.core.display.HTML object>"
      ]
     },
     "metadata": {},
     "output_type": "display_data"
    },
    {
     "name": "stdout",
     "output_type": "stream",
     "text": [
      "======================================\n",
      "title =  cosmo old white\n"
     ]
    },
    {
     "data": {
      "text/html": [
       "<img src = 'https://cdn.shopify.com/s/files/1/0014/1692/1145/products/IMG_3324_250x.jpg?v=1581162286' />"
      ],
      "text/plain": [
       "<IPython.core.display.HTML object>"
      ]
     },
     "metadata": {},
     "output_type": "display_data"
    },
    {
     "name": "stdout",
     "output_type": "stream",
     "text": [
      "======================================\n",
      "title =  glitter white\n"
     ]
    },
    {
     "data": {
      "text/html": [
       "<img src = 'https://cdn.shopify.com/s/files/1/0014/1692/1145/products/IMG_4092_250x.jpg?v=1589629017' />"
      ],
      "text/plain": [
       "<IPython.core.display.HTML object>"
      ]
     },
     "metadata": {},
     "output_type": "display_data"
    },
    {
     "name": "stdout",
     "output_type": "stream",
     "text": [
      "======================================\n",
      "title =  silver white\n"
     ]
    },
    {
     "data": {
      "text/html": [
       "<img src = 'https://cdn.shopify.com/s/files/1/0014/1692/1145/products/IMG_3897_250x.jpg?v=1584263013' />"
      ],
      "text/plain": [
       "<IPython.core.display.HTML object>"
      ]
     },
     "metadata": {},
     "output_type": "display_data"
    },
    {
     "name": "stdout",
     "output_type": "stream",
     "text": [
      "======================================\n",
      "title =  claudie beige\n"
     ]
    },
    {
     "data": {
      "text/html": [
       "<img src = 'https://cdn.shopify.com/s/files/1/0014/1692/1145/products/IMG_3524_250x.jpg?v=1581800930' />"
      ],
      "text/plain": [
       "<IPython.core.display.HTML object>"
      ]
     },
     "metadata": {},
     "output_type": "display_data"
    },
    {
     "name": "stdout",
     "output_type": "stream",
     "text": [
      "======================================\n",
      "title =  plato snik glitter argento\n"
     ]
    },
    {
     "data": {
      "text/html": [
       "<img src = 'https://cdn.shopify.com/s/files/1/0014/1692/1145/products/IMG_3550_250x.jpg?v=1582385536' />"
      ],
      "text/plain": [
       "<IPython.core.display.HTML object>"
      ]
     },
     "metadata": {},
     "output_type": "display_data"
    },
    {
     "name": "stdout",
     "output_type": "stream",
     "text": [
      "======================================\n",
      "title =  diego white low iridescent san\n"
     ]
    },
    {
     "data": {
      "text/html": [
       "<img src = 'https://cdn.shopify.com/s/files/1/0014/1692/1145/products/IMG_2942_250x.jpg?v=1580478433' />"
      ],
      "text/plain": [
       "<IPython.core.display.HTML object>"
      ]
     },
     "metadata": {},
     "output_type": "display_data"
    },
    {
     "name": "stdout",
     "output_type": "stream",
     "text": [
      "======================================\n",
      "title =  glitter white black\n"
     ]
    },
    {
     "data": {
      "text/html": [
       "<img src = 'https://cdn.shopify.com/s/files/1/0014/1692/1145/products/IMG_3243_250x.jpg?v=1581171928' />"
      ],
      "text/plain": [
       "<IPython.core.display.HTML object>"
      ]
     },
     "metadata": {},
     "output_type": "display_data"
    },
    {
     "name": "stdout",
     "output_type": "stream",
     "text": [
      "======================================\n",
      "title =  naturel\n"
     ]
    },
    {
     "data": {
      "text/html": [
       "<img src = 'https://cdn.shopify.com/s/files/1/0014/1692/1145/products/IMG_3529_250x.jpg?v=1582403521' />"
      ],
      "text/plain": [
       "<IPython.core.display.HTML object>"
      ]
     },
     "metadata": {},
     "output_type": "display_data"
    },
    {
     "name": "stdout",
     "output_type": "stream",
     "text": [
      "======================================\n",
      "title =  chase white blue pink\n"
     ]
    },
    {
     "data": {
      "text/html": [
       "<img src = 'https://cdn.shopify.com/s/files/1/0014/1692/1145/products/IMG_3691_afa541b1-9c54-48b9-9d4e-8a5c2f0bfcda_250x.jpg?v=1582987147' />"
      ],
      "text/plain": [
       "<IPython.core.display.HTML object>"
      ]
     },
     "metadata": {},
     "output_type": "display_data"
    },
    {
     "name": "stdout",
     "output_type": "stream",
     "text": [
      "======================================\n",
      "title =  white onset hysterical\n"
     ]
    },
    {
     "data": {
      "text/html": [
       "<img src = 'https://cdn.shopify.com/s/files/1/0014/1692/1145/products/IMG_3681_250x.jpg?v=1582984859' />"
      ],
      "text/plain": [
       "<IPython.core.display.HTML object>"
      ]
     },
     "metadata": {},
     "output_type": "display_data"
    },
    {
     "name": "stdout",
     "output_type": "stream",
     "text": [
      "======================================\n",
      "title =  nova classic\n"
     ]
    },
    {
     "data": {
      "text/html": [
       "<img src = 'https://cdn.shopify.com/s/files/1/0014/1692/1145/products/IMG_3439_62573f5f-8b00-477d-a24a-e288128fdd19_250x.jpg?v=1581609634' />"
      ],
      "text/plain": [
       "<IPython.core.display.HTML object>"
      ]
     },
     "metadata": {},
     "output_type": "display_data"
    },
    {
     "name": "stdout",
     "output_type": "stream",
     "text": [
      "======================================\n",
      "title =  copper white edition\n"
     ]
    },
    {
     "data": {
      "text/html": [
       "<img src = 'https://cdn.shopify.com/s/files/1/0014/1692/1145/products/IMG_3881_250x.jpg?v=1584262229' />"
      ],
      "text/plain": [
       "<IPython.core.display.HTML object>"
      ]
     },
     "metadata": {},
     "output_type": "display_data"
    },
    {
     "name": "stdout",
     "output_type": "stream",
     "text": [
      "======================================\n",
      "title =  glitter white\n"
     ]
    },
    {
     "data": {
      "text/html": [
       "<img src = 'https://cdn.shopify.com/s/files/1/0014/1692/1145/products/IMG_3701_250x.jpg?v=1582989770' />"
      ],
      "text/plain": [
       "<IPython.core.display.HTML object>"
      ]
     },
     "metadata": {},
     "output_type": "display_data"
    },
    {
     "name": "stdout",
     "output_type": "stream",
     "text": [
      "======================================\n",
      "title =  khaki snik animalier print\n"
     ]
    },
    {
     "data": {
      "text/html": [
       "<img src = 'https://cdn.shopify.com/s/files/1/0014/1692/1145/products/img_7132_2_250x.jpg?v=1547792762' />"
      ],
      "text/plain": [
       "<IPython.core.display.HTML object>"
      ]
     },
     "metadata": {},
     "output_type": "display_data"
    },
    {
     "name": "stdout",
     "output_type": "stream",
     "text": [
      "======================================\n",
      "title =  catri basalt green\n"
     ]
    },
    {
     "data": {
      "text/html": [
       "<img src = 'https://cdn.shopify.com/s/files/1/0014/1692/1145/products/IMG_4406_41e8bc36-16a9-4f03-8a27-12cd7b9450b6_250x.jpg?v=1594398642' />"
      ],
      "text/plain": [
       "<IPython.core.display.HTML object>"
      ]
     },
     "metadata": {},
     "output_type": "display_data"
    },
    {
     "name": "stdout",
     "output_type": "stream",
     "text": [
      "======================================\n",
      "title =  cosmo old white\n"
     ]
    },
    {
     "data": {
      "text/html": [
       "<img src = 'https://cdn.shopify.com/s/files/1/0014/1692/1145/products/IMG_3292_250x.jpg?v=1581161829' />"
      ],
      "text/plain": [
       "<IPython.core.display.HTML object>"
      ]
     },
     "metadata": {},
     "output_type": "display_data"
    },
    {
     "name": "stdout",
     "output_type": "stream",
     "text": [
      "======================================\n",
      "title =  white oregon\n"
     ]
    },
    {
     "data": {
      "text/html": [
       "<img src = 'https://cdn.shopify.com/s/files/1/0014/1692/1145/products/IMG_2876_250x.jpg?v=1578752755' />"
      ],
      "text/plain": [
       "<IPython.core.display.HTML object>"
      ]
     },
     "metadata": {},
     "output_type": "display_data"
    },
    {
     "name": "stdout",
     "output_type": "stream",
     "text": [
      "======================================\n",
      "title =  anim print\n"
     ]
    },
    {
     "data": {
      "text/html": [
       "<img src = 'https://cdn.shopify.com/s/files/1/0014/1692/1145/products/IMG_4055_250x.jpg?v=1590505555' />"
      ],
      "text/plain": [
       "<IPython.core.display.HTML object>"
      ]
     },
     "metadata": {},
     "output_type": "display_data"
    },
    {
     "name": "stdout",
     "output_type": "stream",
     "text": [
      "======================================\n",
      "title =  diego san\n"
     ]
    },
    {
     "data": {
      "text/html": [
       "<img src = 'https://cdn.shopify.com/s/files/1/0014/1692/1145/products/IMG_0823_250x.JPG?v=1563970198' />"
      ],
      "text/plain": [
       "<IPython.core.display.HTML object>"
      ]
     },
     "metadata": {},
     "output_type": "display_data"
    },
    {
     "name": "stdout",
     "output_type": "stream",
     "text": [
      "======================================\n",
      "title =  porcelana\n"
     ]
    },
    {
     "data": {
      "text/html": [
       "<img src = 'https://cdn.shopify.com/s/files/1/0014/1692/1145/products/IMG_3024_250x.jpg?v=1579791318' />"
      ],
      "text/plain": [
       "<IPython.core.display.HTML object>"
      ]
     },
     "metadata": {},
     "output_type": "display_data"
    },
    {
     "name": "stdout",
     "output_type": "stream",
     "text": [
      "======================================\n",
      "title =  gecida star\n"
     ]
    },
    {
     "data": {
      "text/html": [
       "<img src = 'https://cdn.shopify.com/s/files/1/0014/1692/1145/products/IMG_2529_250x.jpg?v=1572698389' />"
      ],
      "text/plain": [
       "<IPython.core.display.HTML object>"
      ]
     },
     "metadata": {},
     "output_type": "display_data"
    },
    {
     "name": "stdout",
     "output_type": "stream",
     "text": [
      "======================================\n",
      "title =  plato snik animalier print\n"
     ]
    },
    {
     "data": {
      "text/html": [
       "<img src = 'https://cdn.shopify.com/s/files/1/0014/1692/1145/products/IMG_1823_3b01c1d7-7aed-429b-8269-1047d2f3ebac_250x.JPG?v=1568182608' />"
      ],
      "text/plain": [
       "<IPython.core.display.HTML object>"
      ]
     },
     "metadata": {},
     "output_type": "display_data"
    },
    {
     "name": "stdout",
     "output_type": "stream",
     "text": [
      "======================================\n",
      "title =  gold vip straps\n"
     ]
    },
    {
     "data": {
      "text/html": [
       "<img src = 'https://cdn.shopify.com/s/files/1/0014/1692/1145/products/IMG_3914_250x.jpg?v=1584106200' />"
      ],
      "text/plain": [
       "<IPython.core.display.HTML object>"
      ]
     },
     "metadata": {},
     "output_type": "display_data"
    },
    {
     "name": "stdout",
     "output_type": "stream",
     "text": [
      "======================================\n",
      "title =  catri\n"
     ]
    },
    {
     "data": {
      "text/html": [
       "<img src = 'https://cdn.shopify.com/s/files/1/0014/1692/1145/products/IMG_3074_250x.jpg?v=1579937376' />"
      ],
      "text/plain": [
       "<IPython.core.display.HTML object>"
      ]
     },
     "metadata": {},
     "output_type": "display_data"
    },
    {
     "name": "stdout",
     "output_type": "stream",
     "text": [
      "======================================\n",
      "title =  silver stan white scratch\n"
     ]
    },
    {
     "data": {
      "text/html": [
       "<img src = 'https://cdn.shopify.com/s/files/1/0014/1692/1145/products/IMG_3432_10b2802a-ece2-41f4-92ef-5358a6e8110b_250x.jpg?v=1581611471' />"
      ],
      "text/plain": [
       "<IPython.core.display.HTML object>"
      ]
     },
     "metadata": {},
     "output_type": "display_data"
    },
    {
     "name": "stdout",
     "output_type": "stream",
     "text": [
      "======================================\n",
      "title =  snik tri ghiaccio black\n"
     ]
    },
    {
     "data": {
      "text/html": [
       "<img src = 'https://cdn.shopify.com/s/files/1/0014/1692/1145/products/IMG_1904_250x.JPG?v=1568666235' />"
      ],
      "text/plain": [
       "<IPython.core.display.HTML object>"
      ]
     },
     "metadata": {},
     "output_type": "display_data"
    },
    {
     "name": "stdout",
     "output_type": "stream",
     "text": [
      "======================================\n",
      "title =  kid nekti white pink fuga\n"
     ]
    },
    {
     "data": {
      "text/html": [
       "<img src = 'https://cdn.shopify.com/s/files/1/0014/1692/1145/products/IMG_3420_d0fbb2e3-7e68-4daa-8bf5-8d5a813eb52a_250x.jpg?v=1582404458' />"
      ],
      "text/plain": [
       "<IPython.core.display.HTML object>"
      ]
     },
     "metadata": {},
     "output_type": "display_data"
    },
    {
     "name": "stdout",
     "output_type": "stream",
     "text": [
      "======================================\n",
      "title =  white fuga injection\n"
     ]
    },
    {
     "data": {
      "text/html": [
       "<img src = 'https://cdn.shopify.com/s/files/1/0014/1692/1145/products/IMG_3423_250x.jpg?v=1582835640' />"
      ],
      "text/plain": [
       "<IPython.core.display.HTML object>"
      ]
     },
     "metadata": {},
     "output_type": "display_data"
    },
    {
     "name": "stdout",
     "output_type": "stream",
     "text": [
      "======================================\n",
      "title =  kid jazz pink blue original\n"
     ]
    },
    {
     "data": {
      "text/html": [
       "<img src = 'https://cdn.shopify.com/s/files/1/0014/1692/1145/products/IMG_1268_250x.JPG?v=1566671087' />"
      ],
      "text/plain": [
       "<IPython.core.display.HTML object>"
      ]
     },
     "metadata": {},
     "output_type": "display_data"
    },
    {
     "name": "stdout",
     "output_type": "stream",
     "text": [
      "======================================\n",
      "title =  jazz kid navy original\n"
     ]
    },
    {
     "data": {
      "text/html": [
       "<img src = 'https://cdn.shopify.com/s/files/1/0014/1692/1145/products/IMG_1270_250x.JPG?v=1566671513' />"
      ],
      "text/plain": [
       "<IPython.core.display.HTML object>"
      ]
     },
     "metadata": {},
     "output_type": "display_data"
    },
    {
     "name": "stdout",
     "output_type": "stream",
     "text": [
      "======================================\n",
      "title =  glitter white\n"
     ]
    },
    {
     "data": {
      "text/html": [
       "<img src = 'https://cdn.shopify.com/s/files/1/0014/1692/1145/products/IMG_1717_250x.JPG?v=1567170815' />"
      ],
      "text/plain": [
       "<IPython.core.display.HTML object>"
      ]
     },
     "metadata": {},
     "output_type": "display_data"
    }
   ],
   "source": [
    "# display the cluster of nb nclust\n",
    "nclust = 1\n",
    "clust_pr = products_grp[nclust]\n",
    "for x in clust_pr:\n",
    "    print(\"======================================\")\n",
    "    print(\"title = \", x[0])\n",
    "    try:\n",
    "        src = data.iloc[x[2]][\"images\"][0]\n",
    "        display(HTML(\"<img src = '\"+ src +\"' />\"))\n",
    "    except:\n",
    "        print(\"----~~~~~~~~~~~~~~~NO IMAGESSSSSSSSS \")"
   ]
  },
  {
   "cell_type": "code",
   "execution_count": 76,
   "metadata": {},
   "outputs": [],
   "source": [
    "data.sort_values(\"cluster\", inplace = True)"
   ]
  },
  {
   "cell_type": "code",
   "execution_count": 78,
   "metadata": {},
   "outputs": [],
   "source": [
    "f = open(\"cluster_\" + file_name, \"w\")\n",
    "s = data.to_json(orient = \"records\").replace(\"{\", \"\\n{\")\n",
    "f.write(s)\n",
    "f.close()"
   ]
  },
  {
   "cell_type": "markdown",
   "metadata": {},
   "source": [
    "# Supervised model"
   ]
  },
  {
   "cell_type": "code",
   "execution_count": 60,
   "metadata": {},
   "outputs": [
    {
     "data": {
      "text/plain": [
       "0       [pull, alpaga, merinos, bordea, jean, coton, g...\n",
       "1       [prix, promo, EUR, ttc, -68, -143, EUR, pull, ...\n",
       "2       [prix, promo, EUR, ttc, -68, -143, EUR, pull, ...\n",
       "3       [sweat, coton, rose, -73, accueil, ventes, don...\n",
       "4       [accueil, ventes, dondup, homme, jean, skinny,...\n",
       "                              ...                        \n",
       "5100    [-94, -612, EUR, robe, drapee, soie, jaune, ro...\n",
       "5101    [robe, soie, rouge, smocke, lien, nouer, volan...\n",
       "5102    [robe, coton, blanc, robe, empire, bleue, guip...\n",
       "5103    [soie, cachemire, lycra, accueil, ventes, stef...\n",
       "5104    [accueil, robe, empire, rubans, bleus, dries, ...\n",
       "Name: infos, Length: 5105, dtype: object"
      ]
     },
     "execution_count": 60,
     "metadata": {},
     "output_type": "execute_result"
    }
   ],
   "source": [
    "# file name to train the model\n",
    "file_name = \"piscine_cat.json\"\n",
    "data = pd.read_json(file_name)\n",
    "data[\"infos\"]"
   ]
  },
  {
   "cell_type": "code",
   "execution_count": 61,
   "metadata": {},
   "outputs": [],
   "source": [
    "nb_feature = 2**14\n",
    "vectorizer = HashingVectorizer(n_features = nb_feature)"
   ]
  },
  {
   "cell_type": "code",
   "execution_count": 71,
   "metadata": {},
   "outputs": [],
   "source": [
    "model_svc = LinearSVC(C=1.0, class_weight=None, dual=True, fit_intercept=True,\n",
    "                          intercept_scaling=3, loss='squared_hinge', max_iter=10000,\n",
    "                          multi_class='ovr', penalty='l2', random_state=0, tol=0.0001,\n",
    "                          verbose=0)\n",
    "model = CalibratedClassifierCV(model_svc)"
   ]
  },
  {
   "cell_type": "code",
   "execution_count": 72,
   "metadata": {},
   "outputs": [],
   "source": [
    "list_data = data[\"infos\"].to_list()\n",
    "list_data = [\" \".join(x) for x in list_data]\n",
    "tags = data[\"categories\"].to_list()"
   ]
  },
  {
   "cell_type": "code",
   "execution_count": 73,
   "metadata": {},
   "outputs": [],
   "source": [
    "divis = 4500\n",
    "vectors = vectorizer.fit_transform(list_data)\n",
    "train_vects = vectors[:divis]\n",
    "test_vects = vectors[divis:]\n",
    "train_tags = tags[:divis]\n",
    "test_tags = tags[divis:]"
   ]
  },
  {
   "cell_type": "code",
   "execution_count": 74,
   "metadata": {},
   "outputs": [
    {
     "name": "stderr",
     "output_type": "stream",
     "text": [
      "/home/mhd/anaconda3/lib/python3.7/site-packages/sklearn/model_selection/_split.py:667: UserWarning: The least populated class in y has only 1 members, which is less than n_splits=5.\n",
      "  % (min_groups, self.n_splits)), UserWarning)\n"
     ]
    },
    {
     "data": {
      "text/plain": [
       "CalibratedClassifierCV(base_estimator=LinearSVC(C=1.0, class_weight=None,\n",
       "                                                dual=True, fit_intercept=True,\n",
       "                                                intercept_scaling=3,\n",
       "                                                loss='squared_hinge',\n",
       "                                                max_iter=10000,\n",
       "                                                multi_class='ovr', penalty='l2',\n",
       "                                                random_state=0, tol=0.0001,\n",
       "                                                verbose=0),\n",
       "                       cv=None, method='sigmoid')"
      ]
     },
     "execution_count": 74,
     "metadata": {},
     "output_type": "execute_result"
    }
   ],
   "source": [
    "model.fit(train_vects, train_tags)"
   ]
  },
  {
   "cell_type": "code",
   "execution_count": 75,
   "metadata": {},
   "outputs": [
    {
     "name": "stdout",
     "output_type": "stream",
     "text": [
      "sucess =  0.9785123966942149\n"
     ]
    }
   ],
   "source": [
    "# test test_vects\n",
    "test_data = []\n",
    "for x in range(test_vects.shape[0]):\n",
    "    pr = model.predict(test_vects[x])[0] # predict the \n",
    "    test_data.append((pr, test_tags[x]))\n",
    "\n",
    "e,d = 0, 0\n",
    "for x in test_data:\n",
    "    if x[0] != x[1]:\n",
    "        d += 1\n",
    "    else:\n",
    "        e += 1\n",
    "        \n",
    "print(\"sucess = \", e/(e + d))"
   ]
  },
  {
   "cell_type": "markdown",
   "metadata": {},
   "source": [
    "# Test the model on other json"
   ]
  },
  {
   "cell_type": "code",
   "execution_count": 76,
   "metadata": {},
   "outputs": [],
   "source": [
    "file_test = \"cleanInfo_pieces.json\"\n",
    "data_test = pd.read_json(file_test)"
   ]
  },
  {
   "cell_type": "code",
   "execution_count": 77,
   "metadata": {},
   "outputs": [],
   "source": [
    "lst_infos = data_test[\"infos\"].to_list()\n",
    "lst_infos = [\" \".join(x) for x in lst_infos]"
   ]
  },
  {
   "cell_type": "code",
   "execution_count": 89,
   "metadata": {},
   "outputs": [],
   "source": [
    "classes = model.classes_\n",
    "def get_cat(infos):\n",
    "    infos = [\" \".join(infos)]\n",
    "    vect = vectorizer.transform(infos)\n",
    "    probas = model.predict_proba(vect)[0]\n",
    "    prob_class = [(probas[x], classes[x]) for x in range(len(probas))]\n",
    "    prob_class.sort()\n",
    "    prob_class = prob_class[::-1]\n",
    "    return prob_class[:2]\n",
    "    \n",
    "    \n",
    "data_test[\"predict\"] = data_test[\"titleInfo\"].apply(get_cat)"
   ]
  },
  {
   "cell_type": "code",
   "execution_count": 110,
   "metadata": {},
   "outputs": [],
   "source": [
    "def is_sure(lst):\n",
    "    if lst[0][0] >= 0.3:\n",
    "        return lst[0][1]\n",
    "    else:\n",
    "        return \"other\"\n",
    "data_test[\"sure_pr\"] = data_test[\"predict\"].apply(is_sure)"
   ]
  },
  {
   "cell_type": "code",
   "execution_count": null,
   "metadata": {},
   "outputs": [],
   "source": []
  },
  {
   "cell_type": "code",
   "execution_count": 108,
   "metadata": {},
   "outputs": [
    {
     "data": {
      "text/html": [
       "<div>\n",
       "<style scoped>\n",
       "    .dataframe tbody tr th:only-of-type {\n",
       "        vertical-align: middle;\n",
       "    }\n",
       "\n",
       "    .dataframe tbody tr th {\n",
       "        vertical-align: top;\n",
       "    }\n",
       "\n",
       "    .dataframe thead th {\n",
       "        text-align: right;\n",
       "    }\n",
       "</style>\n",
       "<table border=\"1\" class=\"dataframe\">\n",
       "  <thead>\n",
       "    <tr style=\"text-align: right;\">\n",
       "      <th></th>\n",
       "      <th>categories</th>\n",
       "      <th>sure_pr</th>\n",
       "    </tr>\n",
       "  </thead>\n",
       "  <tbody>\n",
       "    <tr>\n",
       "      <th>0</th>\n",
       "      <td>chaussette</td>\n",
       "      <td>other</td>\n",
       "    </tr>\n",
       "    <tr>\n",
       "      <th>1</th>\n",
       "      <td>bonnet</td>\n",
       "      <td>other</td>\n",
       "    </tr>\n",
       "    <tr>\n",
       "      <th>2</th>\n",
       "      <td>echarpe</td>\n",
       "      <td>foulard</td>\n",
       "    </tr>\n",
       "    <tr>\n",
       "      <th>3</th>\n",
       "      <td>sac</td>\n",
       "      <td>other</td>\n",
       "    </tr>\n",
       "    <tr>\n",
       "      <th>4</th>\n",
       "      <td>sac</td>\n",
       "      <td>sac</td>\n",
       "    </tr>\n",
       "    <tr>\n",
       "      <th>...</th>\n",
       "      <td>...</td>\n",
       "      <td>...</td>\n",
       "    </tr>\n",
       "    <tr>\n",
       "      <th>1990</th>\n",
       "      <td>t-shirt</td>\n",
       "      <td>t-shirt</td>\n",
       "    </tr>\n",
       "    <tr>\n",
       "      <th>1991</th>\n",
       "      <td>t-shirt</td>\n",
       "      <td>top</td>\n",
       "    </tr>\n",
       "    <tr>\n",
       "      <th>1992</th>\n",
       "      <td>t-shirt</td>\n",
       "      <td>t-shirt</td>\n",
       "    </tr>\n",
       "    <tr>\n",
       "      <th>1993</th>\n",
       "      <td>t-shirt</td>\n",
       "      <td>top</td>\n",
       "    </tr>\n",
       "    <tr>\n",
       "      <th>1994</th>\n",
       "      <td>t-shirt</td>\n",
       "      <td>top</td>\n",
       "    </tr>\n",
       "  </tbody>\n",
       "</table>\n",
       "<p>1995 rows × 2 columns</p>\n",
       "</div>"
      ],
      "text/plain": [
       "      categories  sure_pr\n",
       "0     chaussette    other\n",
       "1         bonnet    other\n",
       "2        echarpe  foulard\n",
       "3            sac    other\n",
       "4            sac      sac\n",
       "...          ...      ...\n",
       "1990     t-shirt  t-shirt\n",
       "1991     t-shirt      top\n",
       "1992     t-shirt  t-shirt\n",
       "1993     t-shirt      top\n",
       "1994     t-shirt      top\n",
       "\n",
       "[1995 rows x 2 columns]"
      ]
     },
     "execution_count": 108,
     "metadata": {},
     "output_type": "execute_result"
    }
   ],
   "source": [
    "data_test[[\"categories\", \"sure_pr\"]]"
   ]
  },
  {
   "cell_type": "code",
   "execution_count": 105,
   "metadata": {},
   "outputs": [
    {
     "data": {
      "text/plain": [
       "37"
      ]
     },
     "execution_count": 105,
     "metadata": {},
     "output_type": "execute_result"
    }
   ],
   "source": [
    "data_test[\"sure_pr\"].nunique()"
   ]
  },
  {
   "cell_type": "code",
   "execution_count": 99,
   "metadata": {},
   "outputs": [],
   "source": [
    "data_test[\"categories\"] = data_test[\"categories\"].apply(lambda lst : lst[1])"
   ]
  },
  {
   "cell_type": "code",
   "execution_count": 101,
   "metadata": {},
   "outputs": [],
   "source": [
    "data_test[\"categories\"] = data_test[\"categories\"].apply(lambda x : x.lower())"
   ]
  },
  {
   "cell_type": "code",
   "execution_count": 104,
   "metadata": {},
   "outputs": [
    {
     "data": {
      "text/plain": [
       "23"
      ]
     },
     "execution_count": 104,
     "metadata": {},
     "output_type": "execute_result"
    }
   ],
   "source": [
    "data_test[\"categories\"].nunique()"
   ]
  },
  {
   "cell_type": "code",
   "execution_count": 111,
   "metadata": {},
   "outputs": [
    {
     "data": {
      "text/html": [
       "<div>\n",
       "<style scoped>\n",
       "    .dataframe tbody tr th:only-of-type {\n",
       "        vertical-align: middle;\n",
       "    }\n",
       "\n",
       "    .dataframe tbody tr th {\n",
       "        vertical-align: top;\n",
       "    }\n",
       "\n",
       "    .dataframe thead th {\n",
       "        text-align: right;\n",
       "    }\n",
       "</style>\n",
       "<table border=\"1\" class=\"dataframe\">\n",
       "  <thead>\n",
       "    <tr style=\"text-align: right;\">\n",
       "      <th></th>\n",
       "      <th>url</th>\n",
       "      <th>images</th>\n",
       "      <th>infos</th>\n",
       "      <th>price</th>\n",
       "      <th>categories</th>\n",
       "      <th>title</th>\n",
       "      <th>titleInfo</th>\n",
       "      <th>predict</th>\n",
       "    </tr>\n",
       "    <tr>\n",
       "      <th>sure_pr</th>\n",
       "      <th></th>\n",
       "      <th></th>\n",
       "      <th></th>\n",
       "      <th></th>\n",
       "      <th></th>\n",
       "      <th></th>\n",
       "      <th></th>\n",
       "      <th></th>\n",
       "    </tr>\n",
       "  </thead>\n",
       "  <tbody>\n",
       "    <tr>\n",
       "      <th>bague</th>\n",
       "      <td>2</td>\n",
       "      <td>2</td>\n",
       "      <td>2</td>\n",
       "      <td>2</td>\n",
       "      <td>2</td>\n",
       "      <td>2</td>\n",
       "      <td>2</td>\n",
       "      <td>2</td>\n",
       "    </tr>\n",
       "    <tr>\n",
       "      <th>bikini</th>\n",
       "      <td>38</td>\n",
       "      <td>38</td>\n",
       "      <td>38</td>\n",
       "      <td>38</td>\n",
       "      <td>38</td>\n",
       "      <td>38</td>\n",
       "      <td>38</td>\n",
       "      <td>38</td>\n",
       "    </tr>\n",
       "    <tr>\n",
       "      <th>blazer</th>\n",
       "      <td>13</td>\n",
       "      <td>13</td>\n",
       "      <td>13</td>\n",
       "      <td>13</td>\n",
       "      <td>13</td>\n",
       "      <td>13</td>\n",
       "      <td>13</td>\n",
       "      <td>13</td>\n",
       "    </tr>\n",
       "    <tr>\n",
       "      <th>blouse</th>\n",
       "      <td>73</td>\n",
       "      <td>73</td>\n",
       "      <td>73</td>\n",
       "      <td>73</td>\n",
       "      <td>73</td>\n",
       "      <td>73</td>\n",
       "      <td>73</td>\n",
       "      <td>73</td>\n",
       "    </tr>\n",
       "    <tr>\n",
       "      <th>body</th>\n",
       "      <td>24</td>\n",
       "      <td>24</td>\n",
       "      <td>24</td>\n",
       "      <td>24</td>\n",
       "      <td>24</td>\n",
       "      <td>24</td>\n",
       "      <td>24</td>\n",
       "      <td>24</td>\n",
       "    </tr>\n",
       "    <tr>\n",
       "      <th>bonnet</th>\n",
       "      <td>4</td>\n",
       "      <td>4</td>\n",
       "      <td>4</td>\n",
       "      <td>4</td>\n",
       "      <td>4</td>\n",
       "      <td>4</td>\n",
       "      <td>4</td>\n",
       "      <td>4</td>\n",
       "    </tr>\n",
       "    <tr>\n",
       "      <th>bottes</th>\n",
       "      <td>2</td>\n",
       "      <td>2</td>\n",
       "      <td>2</td>\n",
       "      <td>2</td>\n",
       "      <td>2</td>\n",
       "      <td>2</td>\n",
       "      <td>2</td>\n",
       "      <td>2</td>\n",
       "    </tr>\n",
       "    <tr>\n",
       "      <th>bottines</th>\n",
       "      <td>1</td>\n",
       "      <td>1</td>\n",
       "      <td>1</td>\n",
       "      <td>1</td>\n",
       "      <td>1</td>\n",
       "      <td>1</td>\n",
       "      <td>1</td>\n",
       "      <td>1</td>\n",
       "    </tr>\n",
       "    <tr>\n",
       "      <th>boucles</th>\n",
       "      <td>74</td>\n",
       "      <td>74</td>\n",
       "      <td>74</td>\n",
       "      <td>74</td>\n",
       "      <td>74</td>\n",
       "      <td>74</td>\n",
       "      <td>74</td>\n",
       "      <td>74</td>\n",
       "    </tr>\n",
       "    <tr>\n",
       "      <th>boxer</th>\n",
       "      <td>3</td>\n",
       "      <td>3</td>\n",
       "      <td>3</td>\n",
       "      <td>3</td>\n",
       "      <td>3</td>\n",
       "      <td>3</td>\n",
       "      <td>3</td>\n",
       "      <td>3</td>\n",
       "    </tr>\n",
       "    <tr>\n",
       "      <th>bracelet</th>\n",
       "      <td>15</td>\n",
       "      <td>15</td>\n",
       "      <td>15</td>\n",
       "      <td>15</td>\n",
       "      <td>15</td>\n",
       "      <td>15</td>\n",
       "      <td>15</td>\n",
       "      <td>15</td>\n",
       "    </tr>\n",
       "    <tr>\n",
       "      <th>cardigan</th>\n",
       "      <td>29</td>\n",
       "      <td>29</td>\n",
       "      <td>29</td>\n",
       "      <td>29</td>\n",
       "      <td>29</td>\n",
       "      <td>29</td>\n",
       "      <td>29</td>\n",
       "      <td>29</td>\n",
       "    </tr>\n",
       "    <tr>\n",
       "      <th>ceinture</th>\n",
       "      <td>52</td>\n",
       "      <td>52</td>\n",
       "      <td>52</td>\n",
       "      <td>52</td>\n",
       "      <td>52</td>\n",
       "      <td>52</td>\n",
       "      <td>52</td>\n",
       "      <td>52</td>\n",
       "    </tr>\n",
       "    <tr>\n",
       "      <th>chapeau</th>\n",
       "      <td>13</td>\n",
       "      <td>13</td>\n",
       "      <td>13</td>\n",
       "      <td>13</td>\n",
       "      <td>13</td>\n",
       "      <td>13</td>\n",
       "      <td>13</td>\n",
       "      <td>13</td>\n",
       "    </tr>\n",
       "    <tr>\n",
       "      <th>chemise</th>\n",
       "      <td>44</td>\n",
       "      <td>44</td>\n",
       "      <td>44</td>\n",
       "      <td>44</td>\n",
       "      <td>44</td>\n",
       "      <td>44</td>\n",
       "      <td>44</td>\n",
       "      <td>44</td>\n",
       "    </tr>\n",
       "    <tr>\n",
       "      <th>collier</th>\n",
       "      <td>48</td>\n",
       "      <td>48</td>\n",
       "      <td>48</td>\n",
       "      <td>48</td>\n",
       "      <td>48</td>\n",
       "      <td>48</td>\n",
       "      <td>48</td>\n",
       "      <td>48</td>\n",
       "    </tr>\n",
       "    <tr>\n",
       "      <th>combinaison</th>\n",
       "      <td>8</td>\n",
       "      <td>8</td>\n",
       "      <td>8</td>\n",
       "      <td>8</td>\n",
       "      <td>8</td>\n",
       "      <td>8</td>\n",
       "      <td>8</td>\n",
       "      <td>8</td>\n",
       "    </tr>\n",
       "    <tr>\n",
       "      <th>debardeur</th>\n",
       "      <td>46</td>\n",
       "      <td>46</td>\n",
       "      <td>46</td>\n",
       "      <td>46</td>\n",
       "      <td>46</td>\n",
       "      <td>46</td>\n",
       "      <td>46</td>\n",
       "      <td>46</td>\n",
       "    </tr>\n",
       "    <tr>\n",
       "      <th>doudoune</th>\n",
       "      <td>7</td>\n",
       "      <td>7</td>\n",
       "      <td>7</td>\n",
       "      <td>7</td>\n",
       "      <td>7</td>\n",
       "      <td>7</td>\n",
       "      <td>7</td>\n",
       "      <td>7</td>\n",
       "    </tr>\n",
       "    <tr>\n",
       "      <th>echarpe</th>\n",
       "      <td>48</td>\n",
       "      <td>48</td>\n",
       "      <td>48</td>\n",
       "      <td>48</td>\n",
       "      <td>48</td>\n",
       "      <td>48</td>\n",
       "      <td>48</td>\n",
       "      <td>48</td>\n",
       "    </tr>\n",
       "    <tr>\n",
       "      <th>foulard</th>\n",
       "      <td>10</td>\n",
       "      <td>10</td>\n",
       "      <td>10</td>\n",
       "      <td>10</td>\n",
       "      <td>10</td>\n",
       "      <td>10</td>\n",
       "      <td>10</td>\n",
       "      <td>10</td>\n",
       "    </tr>\n",
       "    <tr>\n",
       "      <th>gilet</th>\n",
       "      <td>1</td>\n",
       "      <td>1</td>\n",
       "      <td>1</td>\n",
       "      <td>1</td>\n",
       "      <td>1</td>\n",
       "      <td>1</td>\n",
       "      <td>1</td>\n",
       "      <td>1</td>\n",
       "    </tr>\n",
       "    <tr>\n",
       "      <th>jean</th>\n",
       "      <td>70</td>\n",
       "      <td>70</td>\n",
       "      <td>70</td>\n",
       "      <td>70</td>\n",
       "      <td>70</td>\n",
       "      <td>70</td>\n",
       "      <td>70</td>\n",
       "      <td>70</td>\n",
       "    </tr>\n",
       "    <tr>\n",
       "      <th>jogging</th>\n",
       "      <td>1</td>\n",
       "      <td>1</td>\n",
       "      <td>1</td>\n",
       "      <td>1</td>\n",
       "      <td>1</td>\n",
       "      <td>1</td>\n",
       "      <td>1</td>\n",
       "      <td>1</td>\n",
       "    </tr>\n",
       "    <tr>\n",
       "      <th>jupe</th>\n",
       "      <td>133</td>\n",
       "      <td>133</td>\n",
       "      <td>133</td>\n",
       "      <td>133</td>\n",
       "      <td>133</td>\n",
       "      <td>133</td>\n",
       "      <td>133</td>\n",
       "      <td>133</td>\n",
       "    </tr>\n",
       "    <tr>\n",
       "      <th>maillot</th>\n",
       "      <td>28</td>\n",
       "      <td>28</td>\n",
       "      <td>28</td>\n",
       "      <td>28</td>\n",
       "      <td>28</td>\n",
       "      <td>28</td>\n",
       "      <td>28</td>\n",
       "      <td>28</td>\n",
       "    </tr>\n",
       "    <tr>\n",
       "      <th>manteau</th>\n",
       "      <td>5</td>\n",
       "      <td>5</td>\n",
       "      <td>5</td>\n",
       "      <td>5</td>\n",
       "      <td>5</td>\n",
       "      <td>5</td>\n",
       "      <td>5</td>\n",
       "      <td>5</td>\n",
       "    </tr>\n",
       "    <tr>\n",
       "      <th>other</th>\n",
       "      <td>245</td>\n",
       "      <td>245</td>\n",
       "      <td>245</td>\n",
       "      <td>245</td>\n",
       "      <td>245</td>\n",
       "      <td>245</td>\n",
       "      <td>245</td>\n",
       "      <td>245</td>\n",
       "    </tr>\n",
       "    <tr>\n",
       "      <th>pantalon</th>\n",
       "      <td>33</td>\n",
       "      <td>33</td>\n",
       "      <td>33</td>\n",
       "      <td>33</td>\n",
       "      <td>33</td>\n",
       "      <td>33</td>\n",
       "      <td>33</td>\n",
       "      <td>33</td>\n",
       "    </tr>\n",
       "    <tr>\n",
       "      <th>petit</th>\n",
       "      <td>8</td>\n",
       "      <td>8</td>\n",
       "      <td>8</td>\n",
       "      <td>8</td>\n",
       "      <td>8</td>\n",
       "      <td>8</td>\n",
       "      <td>8</td>\n",
       "      <td>8</td>\n",
       "    </tr>\n",
       "    <tr>\n",
       "      <th>pull</th>\n",
       "      <td>40</td>\n",
       "      <td>40</td>\n",
       "      <td>40</td>\n",
       "      <td>40</td>\n",
       "      <td>40</td>\n",
       "      <td>40</td>\n",
       "      <td>40</td>\n",
       "      <td>40</td>\n",
       "    </tr>\n",
       "    <tr>\n",
       "      <th>robe</th>\n",
       "      <td>341</td>\n",
       "      <td>341</td>\n",
       "      <td>341</td>\n",
       "      <td>341</td>\n",
       "      <td>341</td>\n",
       "      <td>341</td>\n",
       "      <td>341</td>\n",
       "      <td>341</td>\n",
       "    </tr>\n",
       "    <tr>\n",
       "      <th>sac</th>\n",
       "      <td>55</td>\n",
       "      <td>55</td>\n",
       "      <td>55</td>\n",
       "      <td>55</td>\n",
       "      <td>55</td>\n",
       "      <td>55</td>\n",
       "      <td>55</td>\n",
       "      <td>55</td>\n",
       "    </tr>\n",
       "    <tr>\n",
       "      <th>sandales</th>\n",
       "      <td>46</td>\n",
       "      <td>46</td>\n",
       "      <td>46</td>\n",
       "      <td>46</td>\n",
       "      <td>46</td>\n",
       "      <td>46</td>\n",
       "      <td>46</td>\n",
       "      <td>46</td>\n",
       "    </tr>\n",
       "    <tr>\n",
       "      <th>short</th>\n",
       "      <td>34</td>\n",
       "      <td>34</td>\n",
       "      <td>34</td>\n",
       "      <td>34</td>\n",
       "      <td>34</td>\n",
       "      <td>34</td>\n",
       "      <td>34</td>\n",
       "      <td>34</td>\n",
       "    </tr>\n",
       "    <tr>\n",
       "      <th>sweat</th>\n",
       "      <td>7</td>\n",
       "      <td>7</td>\n",
       "      <td>7</td>\n",
       "      <td>7</td>\n",
       "      <td>7</td>\n",
       "      <td>7</td>\n",
       "      <td>7</td>\n",
       "      <td>7</td>\n",
       "    </tr>\n",
       "    <tr>\n",
       "      <th>t-shirt</th>\n",
       "      <td>120</td>\n",
       "      <td>120</td>\n",
       "      <td>120</td>\n",
       "      <td>120</td>\n",
       "      <td>120</td>\n",
       "      <td>120</td>\n",
       "      <td>120</td>\n",
       "      <td>120</td>\n",
       "    </tr>\n",
       "    <tr>\n",
       "      <th>top</th>\n",
       "      <td>239</td>\n",
       "      <td>239</td>\n",
       "      <td>239</td>\n",
       "      <td>239</td>\n",
       "      <td>239</td>\n",
       "      <td>239</td>\n",
       "      <td>239</td>\n",
       "      <td>239</td>\n",
       "    </tr>\n",
       "    <tr>\n",
       "      <th>tunique</th>\n",
       "      <td>3</td>\n",
       "      <td>3</td>\n",
       "      <td>3</td>\n",
       "      <td>3</td>\n",
       "      <td>3</td>\n",
       "      <td>3</td>\n",
       "      <td>3</td>\n",
       "      <td>3</td>\n",
       "    </tr>\n",
       "    <tr>\n",
       "      <th>veste</th>\n",
       "      <td>32</td>\n",
       "      <td>32</td>\n",
       "      <td>32</td>\n",
       "      <td>32</td>\n",
       "      <td>32</td>\n",
       "      <td>32</td>\n",
       "      <td>32</td>\n",
       "      <td>32</td>\n",
       "    </tr>\n",
       "  </tbody>\n",
       "</table>\n",
       "</div>"
      ],
      "text/plain": [
       "             url  images  infos  price  categories  title  titleInfo  predict\n",
       "sure_pr                                                                      \n",
       "bague          2       2      2      2           2      2          2        2\n",
       "bikini        38      38     38     38          38     38         38       38\n",
       "blazer        13      13     13     13          13     13         13       13\n",
       "blouse        73      73     73     73          73     73         73       73\n",
       "body          24      24     24     24          24     24         24       24\n",
       "bonnet         4       4      4      4           4      4          4        4\n",
       "bottes         2       2      2      2           2      2          2        2\n",
       "bottines       1       1      1      1           1      1          1        1\n",
       "boucles       74      74     74     74          74     74         74       74\n",
       "boxer          3       3      3      3           3      3          3        3\n",
       "bracelet      15      15     15     15          15     15         15       15\n",
       "cardigan      29      29     29     29          29     29         29       29\n",
       "ceinture      52      52     52     52          52     52         52       52\n",
       "chapeau       13      13     13     13          13     13         13       13\n",
       "chemise       44      44     44     44          44     44         44       44\n",
       "collier       48      48     48     48          48     48         48       48\n",
       "combinaison    8       8      8      8           8      8          8        8\n",
       "debardeur     46      46     46     46          46     46         46       46\n",
       "doudoune       7       7      7      7           7      7          7        7\n",
       "echarpe       48      48     48     48          48     48         48       48\n",
       "foulard       10      10     10     10          10     10         10       10\n",
       "gilet          1       1      1      1           1      1          1        1\n",
       "jean          70      70     70     70          70     70         70       70\n",
       "jogging        1       1      1      1           1      1          1        1\n",
       "jupe         133     133    133    133         133    133        133      133\n",
       "maillot       28      28     28     28          28     28         28       28\n",
       "manteau        5       5      5      5           5      5          5        5\n",
       "other        245     245    245    245         245    245        245      245\n",
       "pantalon      33      33     33     33          33     33         33       33\n",
       "petit          8       8      8      8           8      8          8        8\n",
       "pull          40      40     40     40          40     40         40       40\n",
       "robe         341     341    341    341         341    341        341      341\n",
       "sac           55      55     55     55          55     55         55       55\n",
       "sandales      46      46     46     46          46     46         46       46\n",
       "short         34      34     34     34          34     34         34       34\n",
       "sweat          7       7      7      7           7      7          7        7\n",
       "t-shirt      120     120    120    120         120    120        120      120\n",
       "top          239     239    239    239         239    239        239      239\n",
       "tunique        3       3      3      3           3      3          3        3\n",
       "veste         32      32     32     32          32     32         32       32"
      ]
     },
     "execution_count": 111,
     "metadata": {},
     "output_type": "execute_result"
    }
   ],
   "source": [
    "data_test.groupby(\"sure_pr\").count()"
   ]
  },
  {
   "cell_type": "code",
   "execution_count": 122,
   "metadata": {},
   "outputs": [
    {
     "data": {
      "text/html": [
       "<div>\n",
       "<style scoped>\n",
       "    .dataframe tbody tr th:only-of-type {\n",
       "        vertical-align: middle;\n",
       "    }\n",
       "\n",
       "    .dataframe tbody tr th {\n",
       "        vertical-align: top;\n",
       "    }\n",
       "\n",
       "    .dataframe thead th {\n",
       "        text-align: right;\n",
       "    }\n",
       "</style>\n",
       "<table border=\"1\" class=\"dataframe\">\n",
       "  <thead>\n",
       "    <tr style=\"text-align: right;\">\n",
       "      <th></th>\n",
       "      <th>url</th>\n",
       "      <th>images</th>\n",
       "      <th>infos</th>\n",
       "      <th>price</th>\n",
       "      <th>categories</th>\n",
       "      <th>title</th>\n",
       "      <th>titleInfo</th>\n",
       "      <th>predict</th>\n",
       "      <th>sure_pr</th>\n",
       "    </tr>\n",
       "  </thead>\n",
       "  <tbody>\n",
       "    <tr>\n",
       "      <th>0</th>\n",
       "      <td>https://www.pieces.com/fr/fr/pc/imprime-leopar...</td>\n",
       "      <td>[https://www.pieces.com/dw/image/v2/ABBT_PRD/o...</td>\n",
       "      <td>[imprime, leopard, chaussettes, lot, paire, im...</td>\n",
       "      <td>[]</td>\n",
       "      <td>[other]</td>\n",
       "      <td>IMPRIMÉ LÉOPARD CHAUSSETTES __ chaussette</td>\n",
       "      <td>[imprime, leopard, chaussettes]</td>\n",
       "      <td>[(0.048233754681993576, veston), (0.0480829015...</td>\n",
       "      <td>other</td>\n",
       "    </tr>\n",
       "    <tr>\n",
       "      <th>1</th>\n",
       "      <td>https://www.pieces.com/fr/fr/pc/accessoires/bo...</td>\n",
       "      <td>[https://www.pieces.com/dw/image/v2/ABBT_PRD/o...</td>\n",
       "      <td>[EUR, oversize, laine, melangee, chapeau, dime...</td>\n",
       "      <td>[]</td>\n",
       "      <td>[other]</td>\n",
       "      <td>OVERSIZE LAINE MÉLANGÉE CHAPEAU __ bonnet</td>\n",
       "      <td>[oversize, laine, melangee, chapeau]</td>\n",
       "      <td>[(0.24117705975094522, chapeau), (0.1576123750...</td>\n",
       "      <td>other</td>\n",
       "    </tr>\n",
       "    <tr>\n",
       "      <th>2</th>\n",
       "      <td>https://www.pieces.com/fr/fr/pc/accessoires/ec...</td>\n",
       "      <td>[https://www.pieces.com/dw/image/v2/ABBT_PRD/o...</td>\n",
       "      <td>[inca, gold, alaskan, blue, unie, foulard, lon...</td>\n",
       "      <td>[]</td>\n",
       "      <td>[foulard]</td>\n",
       "      <td>COULEUR UNIE FOULARD LONG __ echarpe</td>\n",
       "      <td>[unie, foulard, long]</td>\n",
       "      <td>[(0.8818152255694944, foulard), (0.00956313913...</td>\n",
       "      <td>foulard</td>\n",
       "    </tr>\n",
       "    <tr>\n",
       "      <th>3</th>\n",
       "      <td>https://www.pieces.com/fr/fr/pc/sacs/cabas/ron...</td>\n",
       "      <td>[https://www.pieces.com/dw/image/v2/ABBT_PRD/o...</td>\n",
       "      <td>[rond, sac, paille, dimensions, poignees, band...</td>\n",
       "      <td>[]</td>\n",
       "      <td>[sac]</td>\n",
       "      <td>ROND SAC EN PAILLE __ sac</td>\n",
       "      <td>[rond, sac, paille]</td>\n",
       "      <td>[(0.7381969467257296, sac), (0.080672499986394...</td>\n",
       "      <td>sac</td>\n",
       "    </tr>\n",
       "    <tr>\n",
       "      <th>4</th>\n",
       "      <td>https://www.pieces.com/fr/fr/pc/cuir-sac-banan...</td>\n",
       "      <td>[https://www.pieces.com/dw/image/v2/ABBT_PRD/o...</td>\n",
       "      <td>[cuir, sac, banane, dimensions, bandouliere, r...</td>\n",
       "      <td>[]</td>\n",
       "      <td>[sac]</td>\n",
       "      <td>CUIR SAC BANANE __ sac</td>\n",
       "      <td>[cuir, sac, banane]</td>\n",
       "      <td>[(0.8270605252353176, sac), (0.039223790864213...</td>\n",
       "      <td>sac</td>\n",
       "    </tr>\n",
       "  </tbody>\n",
       "</table>\n",
       "</div>"
      ],
      "text/plain": [
       "                                                 url  \\\n",
       "0  https://www.pieces.com/fr/fr/pc/imprime-leopar...   \n",
       "1  https://www.pieces.com/fr/fr/pc/accessoires/bo...   \n",
       "2  https://www.pieces.com/fr/fr/pc/accessoires/ec...   \n",
       "3  https://www.pieces.com/fr/fr/pc/sacs/cabas/ron...   \n",
       "4  https://www.pieces.com/fr/fr/pc/cuir-sac-banan...   \n",
       "\n",
       "                                              images  \\\n",
       "0  [https://www.pieces.com/dw/image/v2/ABBT_PRD/o...   \n",
       "1  [https://www.pieces.com/dw/image/v2/ABBT_PRD/o...   \n",
       "2  [https://www.pieces.com/dw/image/v2/ABBT_PRD/o...   \n",
       "3  [https://www.pieces.com/dw/image/v2/ABBT_PRD/o...   \n",
       "4  [https://www.pieces.com/dw/image/v2/ABBT_PRD/o...   \n",
       "\n",
       "                                               infos price categories  \\\n",
       "0  [imprime, leopard, chaussettes, lot, paire, im...    []    [other]   \n",
       "1  [EUR, oversize, laine, melangee, chapeau, dime...    []    [other]   \n",
       "2  [inca, gold, alaskan, blue, unie, foulard, lon...    []  [foulard]   \n",
       "3  [rond, sac, paille, dimensions, poignees, band...    []      [sac]   \n",
       "4  [cuir, sac, banane, dimensions, bandouliere, r...    []      [sac]   \n",
       "\n",
       "                                       title  \\\n",
       "0  IMPRIMÉ LÉOPARD CHAUSSETTES __ chaussette   \n",
       "1  OVERSIZE LAINE MÉLANGÉE CHAPEAU __ bonnet   \n",
       "2       COULEUR UNIE FOULARD LONG __ echarpe   \n",
       "3                  ROND SAC EN PAILLE __ sac   \n",
       "4                     CUIR SAC BANANE __ sac   \n",
       "\n",
       "                              titleInfo  \\\n",
       "0       [imprime, leopard, chaussettes]   \n",
       "1  [oversize, laine, melangee, chapeau]   \n",
       "2                 [unie, foulard, long]   \n",
       "3                   [rond, sac, paille]   \n",
       "4                   [cuir, sac, banane]   \n",
       "\n",
       "                                             predict  sure_pr  \n",
       "0  [(0.048233754681993576, veston), (0.0480829015...    other  \n",
       "1  [(0.24117705975094522, chapeau), (0.1576123750...    other  \n",
       "2  [(0.8818152255694944, foulard), (0.00956313913...  foulard  \n",
       "3  [(0.7381969467257296, sac), (0.080672499986394...      sac  \n",
       "4  [(0.8270605252353176, sac), (0.039223790864213...      sac  "
      ]
     },
     "execution_count": 122,
     "metadata": {},
     "output_type": "execute_result"
    }
   ],
   "source": [
    "data_test.head()"
   ]
  },
  {
   "cell_type": "code",
   "execution_count": 121,
   "metadata": {},
   "outputs": [],
   "source": [
    "data_test[\"categories\"] = data_test[\"categories\"].apply(lambda lst : [lst])"
   ]
  },
  {
   "cell_type": "code",
   "execution_count": 124,
   "metadata": {},
   "outputs": [],
   "source": [
    "f = open(\"check_pieces.json\", \"w\")\n",
    "s = data_test.to_json(orient = \"records\").replace(\"{\", \"\\n{\")\n",
    "f.write(s)\n",
    "f.close()"
   ]
  },
  {
   "cell_type": "markdown",
   "metadata": {},
   "source": [
    "# Train the model with other format"
   ]
  },
  {
   "cell_type": "code",
   "execution_count": 1,
   "metadata": {},
   "outputs": [],
   "source": [
    "# in that part the infos is a list of str, and not a list of keywords,\n",
    "# we will assign each str to the category of products, and \n",
    "# train the model on all those data"
   ]
  },
  {
   "cell_type": "code",
   "execution_count": 3,
   "metadata": {},
   "outputs": [],
   "source": [
    "data = pd.read_json(\"piscine_cat_v2.json\")"
   ]
  },
  {
   "cell_type": "code",
   "execution_count": 4,
   "metadata": {},
   "outputs": [
    {
     "data": {
      "text/html": [
       "<div>\n",
       "<style scoped>\n",
       "    .dataframe tbody tr th:only-of-type {\n",
       "        vertical-align: middle;\n",
       "    }\n",
       "\n",
       "    .dataframe tbody tr th {\n",
       "        vertical-align: top;\n",
       "    }\n",
       "\n",
       "    .dataframe thead th {\n",
       "        text-align: right;\n",
       "    }\n",
       "</style>\n",
       "<table border=\"1\" class=\"dataframe\">\n",
       "  <thead>\n",
       "    <tr style=\"text-align: right;\">\n",
       "      <th></th>\n",
       "      <th>url</th>\n",
       "      <th>images</th>\n",
       "      <th>infos</th>\n",
       "      <th>price</th>\n",
       "      <th>title</th>\n",
       "      <th>titleInfo</th>\n",
       "      <th>categories</th>\n",
       "    </tr>\n",
       "  </thead>\n",
       "  <tbody>\n",
       "    <tr>\n",
       "      <th>0</th>\n",
       "      <td>https://www.lapiscine-paris.fr/dondup-homme/32...</td>\n",
       "      <td>[https://www.lapiscine-paris.fr/49481-large_de...</td>\n",
       "      <td>[coton doublure poches coton, jean coton gris ...</td>\n",
       "      <td>[]</td>\n",
       "      <td>Jean skinny blanc à déchirure Dondup</td>\n",
       "      <td>[jean, skinny, blanc, dechirure, dondup]</td>\n",
       "      <td>jean</td>\n",
       "    </tr>\n",
       "    <tr>\n",
       "      <th>1</th>\n",
       "      <td>https://www.lapiscine-paris.fr/dondup-homme/29...</td>\n",
       "      <td>[https://www.lapiscine-paris.fr/39883-large_de...</td>\n",
       "      <td>[jean noir effet dechire john ric, pull alpaga...</td>\n",
       "      <td>[]</td>\n",
       "      <td>Pull en alpaga bleu électrique Dondup</td>\n",
       "      <td>[pull, alpaga, bleu, electrique, dondup]</td>\n",
       "      <td>pull</td>\n",
       "    </tr>\n",
       "    <tr>\n",
       "      <th>2</th>\n",
       "      <td>https://www.lapiscine-paris.fr/dondup-homme/29...</td>\n",
       "      <td>[https://www.lapiscine-paris.fr/39886-large_de...</td>\n",
       "      <td>[jean noir effet dechire john ric, mannequin m...</td>\n",
       "      <td>[]</td>\n",
       "      <td>Pull en alpaga gris Dondup</td>\n",
       "      <td>[pull, alpaga, gris, dondup]</td>\n",
       "      <td>pull</td>\n",
       "    </tr>\n",
       "    <tr>\n",
       "      <th>3</th>\n",
       "      <td>https://www.lapiscine-paris.fr/dondup-homme/27...</td>\n",
       "      <td>[https://www.lapiscine-paris.fr/35518-large_de...</td>\n",
       "      <td>[sweat coton rose, incrustation bande jean bic...</td>\n",
       "      <td>[]</td>\n",
       "      <td>Sweat rose à incrustation jean Dondup</td>\n",
       "      <td>[sweat, rose, incrustation, jean, dondup]</td>\n",
       "      <td>sweat</td>\n",
       "    </tr>\n",
       "    <tr>\n",
       "      <th>4</th>\n",
       "      <td>https://www.lapiscine-paris.fr/dondup-homme/30...</td>\n",
       "      <td>[https://www.lapiscine-paris.fr/42428-large_de...</td>\n",
       "      <td>[jean skinny coton bleu dechirure dondup, jean...</td>\n",
       "      <td>[]</td>\n",
       "      <td>Jean skinny en coton bleu à déchirure Dondup</td>\n",
       "      <td>[jean, skinny, coton, bleu, dechirure, dondup]</td>\n",
       "      <td>jean</td>\n",
       "    </tr>\n",
       "  </tbody>\n",
       "</table>\n",
       "</div>"
      ],
      "text/plain": [
       "                                                 url  \\\n",
       "0  https://www.lapiscine-paris.fr/dondup-homme/32...   \n",
       "1  https://www.lapiscine-paris.fr/dondup-homme/29...   \n",
       "2  https://www.lapiscine-paris.fr/dondup-homme/29...   \n",
       "3  https://www.lapiscine-paris.fr/dondup-homme/27...   \n",
       "4  https://www.lapiscine-paris.fr/dondup-homme/30...   \n",
       "\n",
       "                                              images  \\\n",
       "0  [https://www.lapiscine-paris.fr/49481-large_de...   \n",
       "1  [https://www.lapiscine-paris.fr/39883-large_de...   \n",
       "2  [https://www.lapiscine-paris.fr/39886-large_de...   \n",
       "3  [https://www.lapiscine-paris.fr/35518-large_de...   \n",
       "4  [https://www.lapiscine-paris.fr/42428-large_de...   \n",
       "\n",
       "                                               infos price  \\\n",
       "0  [coton doublure poches coton, jean coton gris ...    []   \n",
       "1  [jean noir effet dechire john ric, pull alpaga...    []   \n",
       "2  [jean noir effet dechire john ric, mannequin m...    []   \n",
       "3  [sweat coton rose, incrustation bande jean bic...    []   \n",
       "4  [jean skinny coton bleu dechirure dondup, jean...    []   \n",
       "\n",
       "                                          title  \\\n",
       "0          Jean skinny blanc à déchirure Dondup   \n",
       "1         Pull en alpaga bleu électrique Dondup   \n",
       "2                    Pull en alpaga gris Dondup   \n",
       "3         Sweat rose à incrustation jean Dondup   \n",
       "4  Jean skinny en coton bleu à déchirure Dondup   \n",
       "\n",
       "                                        titleInfo categories  \n",
       "0        [jean, skinny, blanc, dechirure, dondup]       jean  \n",
       "1        [pull, alpaga, bleu, electrique, dondup]       pull  \n",
       "2                    [pull, alpaga, gris, dondup]       pull  \n",
       "3       [sweat, rose, incrustation, jean, dondup]      sweat  \n",
       "4  [jean, skinny, coton, bleu, dechirure, dondup]       jean  "
      ]
     },
     "execution_count": 4,
     "metadata": {},
     "output_type": "execute_result"
    }
   ],
   "source": [
    "data.head()"
   ]
  },
  {
   "cell_type": "code",
   "execution_count": 10,
   "metadata": {},
   "outputs": [],
   "source": [
    "data[\"couple\"] = data.apply(lambda row : (row[\"infos\"], row[\"categories\"]), axis = 1)"
   ]
  },
  {
   "cell_type": "code",
   "execution_count": 12,
   "metadata": {},
   "outputs": [
    {
     "data": {
      "text/plain": [
       "[(['coton doublure poches coton',\n",
       "   'jean coton gris delave dondup',\n",
       "   'jean skinny blanc dechirure dondup',\n",
       "   'accueil ventes dondup homme jean skinny blanc dechirure dondup',\n",
       "   'jean skinny coton bleu dech',\n",
       "   'jean coton blanc',\n",
       "   'pull alpaga merinos bordea',\n",
       "   'jean skinny blanc dechirure',\n",
       "   'mannequin mesure porte 33us'],\n",
       "  'jean'),\n",
       " (['jean noir effet dechire john ric',\n",
       "   'pull alpaga bleu electrique',\n",
       "   'pull alpaga bleu electrique dondup',\n",
       "   'mannequin mesure porte',\n",
       "   'accueil ventes dondup homme pull alpaga bleu electrique dondup',\n",
       "   'pull alpaga gris',\n",
       "   'pull alpaga bleu',\n",
       "   'surpiqure fantaisie blanche',\n",
       "   'pull alpaga gris dondup',\n",
       "   'fjean coton noir'],\n",
       "  'pull'),\n",
       " (['jean noir effet dechire john ric',\n",
       "   'mannequin mesure porte',\n",
       "   'accueil ventes dondup homme pull alpaga gris dondup',\n",
       "   'pull alpaga bleu electrique',\n",
       "   'pull alpaga gris',\n",
       "   'pull alpaga bleu',\n",
       "   'surpiqure fantaisie blanche',\n",
       "   'pull alpaga gris dondup',\n",
       "   'fjean coton noir'],\n",
       "  'pull'),\n",
       " (['sweat coton rose',\n",
       "   'incrustation bande jean bicolore poitrine manches droite',\n",
       "   'effet tache javel',\n",
       "   'sweat rose incrustation jean',\n",
       "   'coton doublure coton elasthanne',\n",
       "   'sweat rose incrustation jean dondup',\n",
       "   'accueil ventes dondup homme sweat rose incrustation jean dondup',\n",
       "   'inscription floque poitrine gauche'],\n",
       "  'sweat'),\n",
       " (['jean skinny coton bleu dechirure dondup',\n",
       "   'jean coton gris delave dondup',\n",
       "   'jean skinny coton bleu dech',\n",
       "   'coton modal elastomultiester elasthanne doublure polyester coton',\n",
       "   'accueil ventes dondup homme jean skinny coton bleu dechirure dondup',\n",
       "   'sweat noir logo bouclette best',\n",
       "   'jean skinny blanc dechirure',\n",
       "   'surpiqure fantaisie orange'],\n",
       "  'jean'),\n",
       " (['accueil ventes dondup homme slip bain bicolore bleu noir dondup',\n",
       "   'slip bain bicolore bleu noir dondup',\n",
       "   'slip bain bicolore bleu',\n",
       "   'maillot bain bleu noir',\n",
       "   'bandes laterales orange fluo',\n",
       "   'maillot bain bleu'],\n",
       "  'slip'),\n",
       " (['accueil ventes dondup homme jean skinny coton bleu dondup',\n",
       "   'jean skinny coton gris dech',\n",
       "   'jean skinny coton bleu dondup',\n",
       "   'legere dechirure aux poches',\n",
       "   'coton elasthanne polyester doublure poches polyester coton',\n",
       "   'surpiqure fantaisie orange'],\n",
       "  'jean'),\n",
       " (['coton elasthanne doublure manches viscose coton',\n",
       "   'brides decoratifs pression',\n",
       "   'veste coton vert',\n",
       "   'mannequin mesure 1m85 porte',\n",
       "   'jean noir dechire skinny balmain',\n",
       "   'veste coton vert kaki coupe bomber dondup',\n",
       "   'empiecement plaques aux epaules',\n",
       "   'veste coton vert kaki',\n",
       "   'manche longues fermeture glissiere soufflets',\n",
       "   'accueil ventes dondup homme veste coton vert kaki coupe bomber dondup',\n",
       "   'poches poitrines plaquees',\n",
       "   'veste coton vert kaki coupe'],\n",
       "  'veste'),\n",
       " (['coton elasthanne tissu coton elasthanne',\n",
       "   'surpiqure orange fantaisie',\n",
       "   'fermeture boutons fantaisie noirs',\n",
       "   'jean skinny coton bleu dondup',\n",
       "   'poches rabats boutonnees',\n",
       "   'jean brut velours cotele bleu',\n",
       "   'col pointe velours cotele',\n",
       "   'accueil ventes dondup homme veste jean bi-matiere dondup',\n",
       "   'veste jean bi-matiere dondup'],\n",
       "  'veste'),\n",
       " (['accueil ventes dondup homme jean skinny coton gris dechirure dondup',\n",
       "   'jean skinny coton gris dech',\n",
       "   'jean skinny coton bleu dondup',\n",
       "   'jean skinny coton gris dechirure dondup',\n",
       "   'sweat capuche kaki logo bouc',\n",
       "   'effet dechire genou gauche',\n",
       "   'jean coton gris',\n",
       "   'coton elasthanne polyester doublure poches polyester coton',\n",
       "   'sweat coton kaki'],\n",
       "  'jean'),\n",
       " (['maillot bain blanc',\n",
       "   'accueil ventes dondup homme slip bain blanc bandes laterales dondup',\n",
       "   'pince milieu devant',\n",
       "   'slip bain blanc bandes laterales dondup',\n",
       "   'mannequin mesure porte',\n",
       "   'slip bain blanc bandes late',\n",
       "   'bandes laterales bleu orange cote'],\n",
       "  'slip'),\n",
       " (['accueil ventes dondup homme casquette baseball blanche dondup',\n",
       "   'casquette baseball orange dondup',\n",
       "   'casquette baseball blanche dondup'],\n",
       "  'casquette'),\n",
       " (['chemise noir effet delave beige',\n",
       "   'jean skinny coton bleu dechirure dondup',\n",
       "   'jean skinny coton bleu dech',\n",
       "   'accueil ventes dondup homme jean skinny coton bleu dechirure dondup',\n",
       "   'chemise coton noir',\n",
       "   'coton doublure polyester coton',\n",
       "   'surpiqure fantaisie orange'],\n",
       "  'jean'),\n",
       " (['casquette baseball orange dondup',\n",
       "   'accueil ventes dondup homme casquette baseball orange dondup',\n",
       "   'casquette baseball blanche dondup'],\n",
       "  'casquette'),\n",
       " (['pull alpaga merinos bordeaux woolgroup',\n",
       "   'acrylique alpaga laine merinos',\n",
       "   'pull alpaga merinos bordeaux',\n",
       "   'pull col rond bleu woolgroup',\n",
       "   'accueil ventes woolgroup fiesoli homme pull alpaga merinos bordeaux woolgroup',\n",
       "   'jean skinny blanc dechirure',\n",
       "   'pull alpaga merinos bordea'],\n",
       "  'pull'),\n",
       " (['blouson blanc facon perfecto bal',\n",
       "   'coton elasthanne doublure polyester coton',\n",
       "   'accueil ventes dondup homme jean coton gris delave dondup',\n",
       "   'mannequin mesure porte 30us',\n",
       "   'jean coton gris delave dondup',\n",
       "   'jean skinny coton bleu dech',\n",
       "   'blouson style perfecto',\n",
       "   'poches plaquees brodees aux fesses',\n",
       "   'jean skinny blanc dechirure',\n",
       "   'sweat coton gris chine floc',\n",
       "   'jean coton gris',\n",
       "   'fermeture boutons patte bouton fantaisie visible'],\n",
       "  'jean'),\n",
       " (['casquette jaune fluo dondup',\n",
       "   'casquette coton jaune fluo',\n",
       "   'accueil ventes dondup homme casquette jaune fluo dondup',\n",
       "   'imprime pied poule noire',\n",
       "   'polyester coton viscose elasthanne'],\n",
       "  'casquette'),\n",
       " (['accueil ventes dondup homme jean skinny coton bleu dondup',\n",
       "   'jean skinny coton bleu dondup',\n",
       "   'haut coton kaki',\n",
       "   'surpiqure fantaisie jaune',\n",
       "   'mannequin mesure porte 31us',\n",
       "   'fermeture glissiere patte bouton fantaisie griffe',\n",
       "   'sweat capuche kaki logo velo'],\n",
       "  'jean'),\n",
       " (['accueil ventes shourouk femme collier ethnique doree perles shourouk',\n",
       "   'collier ethnique doree perles shourouk'],\n",
       "  'collier'),\n",
       " (['robe jean noir oeillet fant',\n",
       "   'collier tricolore pierre argent marc jacobs',\n",
       "   'collier tricolore pierre argen',\n",
       "   'accueil ventes marc jacobs femme collier tricolore pierre argent marc jacobs',\n",
       "   'collier cordon saumon franges',\n",
       "   'robe jean noir'],\n",
       "  'collier'),\n",
       " (['accueil ventes acne studios femme bague metal acne studios',\n",
       "   'bague metal acne studios'],\n",
       "  'bague'),\n",
       " (['robe volantee soie rouge spac',\n",
       "   'collier dore perles pierres',\n",
       "   'accueil ventes shourouk femme collier dore perles pierres shourouk',\n",
       "   'collier dore perles pierres shourouk',\n",
       "   'robe soie rouge'],\n",
       "  'collier'),\n",
       " (['multi bague chaine eddie borgo',\n",
       "   'boucle oreilles clip forme plumes roberto cavalli',\n",
       "   'boucle oreilles clip form',\n",
       "   'accueil ventes roberto cavalli femme boucle oreilles clip forme plumes roberto cavalli'],\n",
       "  'boucles'),\n",
       " (['accueil ventes marc jacobs femme bague doree logo marc jacobs',\n",
       "   'bague doree logo marc jacobs'],\n",
       "  'bague'),\n",
       " (['lot bagues fash doree',\n",
       "   'collier pierres tricolores ant',\n",
       "   'accueil ventes anton heunis femme collier pierres tricolores anton heunis',\n",
       "   'collier pierres tricolores anton heunis',\n",
       "   'jean matelasse blanc poches'],\n",
       "  'collier'),\n",
       " (['accueil ventes roberto cavalli femme bague metal doree gemme roberto cavalli',\n",
       "   'bague metal doree gemme roberto cavalli',\n",
       "   'bague metal doree gemme'],\n",
       "  'bague'),\n",
       " (['accueil ventes helene zubeldia femme collier pierres franges noires helene zubeldia',\n",
       "   'collier pierres franges noires helene zubeldia',\n",
       "   'jean matelasse blanc poches',\n",
       "   'collier pierres franges noi'],\n",
       "  'collier'),\n",
       " (['collier rose pompoms shourouk',\n",
       "   'accueil ventes shourouk femme collier rose pompoms shourouk'],\n",
       "  'collier'),\n",
       " (['accueil ventes anton heunis femme collier pierres strass tricolore anton heunis',\n",
       "   'collier pierres strass tric',\n",
       "   'collier pierres strass tricolore anton heunis'],\n",
       "  'collier'),\n",
       " (['collier dore pierres franges helene zubeldia',\n",
       "   'collier dore pierres frange',\n",
       "   'jean matelasse blanc poches',\n",
       "   'accueil ventes helene zubeldia femme collier dore pierres franges helene zubeldia'],\n",
       "  'collier'),\n",
       " (['accueil ventes helene zubeldia femme collier pierres multicolore helene zubeldia',\n",
       "   'collier pierres multicolore helene zubeldia',\n",
       "   'collier pierres multicolore'],\n",
       "  'collier'),\n",
       " (['accueil ventes marc jacobs femme collier metal dore pendentifs etoiles marc jacobs',\n",
       "   'collier metal dore pendentifs etoiles marc jacobs',\n",
       "   'maillot bain pieces kaki',\n",
       "   'maillot bain kaki'],\n",
       "  'collier'),\n",
       " (['bague doree tete mort roberto cavalli',\n",
       "   'pull alpaga merinos',\n",
       "   'bague doree tete mort',\n",
       "   'jean matelasse blanc poches',\n",
       "   'accueil ventes roberto cavalli femme bague doree tete mort roberto cavalli'],\n",
       "  'bague'),\n",
       " (['slip bain bicolore',\n",
       "   'boucle oreille pompons tory',\n",
       "   'boucle oreille pompons tory burch',\n",
       "   'accueil ventes tory burch femme boucle oreille pompons tory burch'],\n",
       "  'boucles'),\n",
       " (['accueil ventes shourouk femme collier pierres sequins doree shourouk',\n",
       "   'collier pierres sequins doree shourouk',\n",
       "   'collier pierres sequins dor'],\n",
       "  'collier'),\n",
       " (['accueil ventes helene zubeldia femme boucles oreilles perles franges helene zubeldia',\n",
       "   'boucles oreilles perles franges helene zubeldia',\n",
       "   'jean matelasse blanc poches',\n",
       "   'collier pierres franges noi'],\n",
       "  'boucles'),\n",
       " (['pull alpaga bleu',\n",
       "   'collier cordon saumon franges pierres anton heunis',\n",
       "   'accueil ventes anton heunis femme collier cordon saumon franges pierres anton heunis',\n",
       "   'collier cordon saumon franges'],\n",
       "  'collier'),\n",
       " (['bague metal dore cloute pie',\n",
       "   'bague metal dore cloute pierre tom binns',\n",
       "   'accueil ventes tom binns femme bague metal dore cloute pierre tom binns'],\n",
       "  'bague'),\n",
       " (['robe jersey rose',\n",
       "   'collier pierres violet bleu',\n",
       "   'robe drapee jersey rose dsqua',\n",
       "   'collier pierres violet bleu helene zubeldia',\n",
       "   'accueil ventes helene zubeldia femme collier pierres violet bleu helene zubeldia'],\n",
       "  'collier'),\n",
       " (['collier ethniques pierres',\n",
       "   'accueil ventes erickson beamon femme collier ethniques pierres perles multicolores erickson beamon',\n",
       "   'collier ethniques pierres perles multicolores erickson beamon'],\n",
       "  'collier'),\n",
       " (['robe bleue col brode svnty',\n",
       "   'accueil ventes swarovski femme bracelet jonc dore pierres swarovski swarovski',\n",
       "   'bracelet jonc dore pierres swarovski swarovski',\n",
       "   'bracelet jonc dore pierres swa',\n",
       "   'robe crepe bleu',\n",
       "   'ligne atelier swarovski'],\n",
       "  'bracelet'),\n",
       " (['collier antique pierre verte tory burch',\n",
       "   'collier antique pierre verte',\n",
       "   'accueil ventes tory burch femme collier antique pierre verte tory burch',\n",
       "   'jean matelasse blanc poches'],\n",
       "  'collier'),\n",
       " (['legere fente bas milieu',\n",
       "   'polyester acetate coton doublure coton',\n",
       "   'poignet casse triple boutonnage recouvert',\n",
       "   'veste smocking vieux rose',\n",
       "   'accueil ventes john richmond femme veste smocking vieux rose motif geometrique john richmond',\n",
       "   'veste crepe vieux rose',\n",
       "   'veste crepe vieux',\n",
       "   'motif geometrique rouge rose',\n",
       "   'pantalon smocking vieux rose',\n",
       "   'veste smocking vieux rose motif geometrique john richmond'],\n",
       "  'veste'),\n",
       " (['soie doublure soie perles verre',\n",
       "   'imprime ethnique noir',\n",
       "   'robe soie kaki broderie ethnique michel klein',\n",
       "   'broderie perlee ethnique',\n",
       "   'robe soie kaki',\n",
       "   'robe soie kaki broderie eth',\n",
       "   'accueil ventes michel klein femme robe soie kaki broderie ethnique michel klein'],\n",
       "  'robe'),\n",
       " (['robe laine rose',\n",
       "   'coupe chauve souris',\n",
       "   'robe pull chauve souris laine cotele rose alexander mcqueen',\n",
       "   'accueil ventes alexander mcqueen femme robe pull chauve souris laine cotele rose alexander mcqueen',\n",
       "   'robe pull chauve souris laine'],\n",
       "  'robe'),\n",
       " (['polyester acetate coton doublure coton',\n",
       "   'veste smocking vieux rose',\n",
       "   'pantalon smocking vieux rose motif geometrique john richmond',\n",
       "   'pantalon crepe vieux rose',\n",
       "   'motif geometrique rouge rose',\n",
       "   'fermeture glissiere patte bouton recouvert',\n",
       "   'pull alpaga merinos',\n",
       "   'veste crepe vieux',\n",
       "   'pantalon smocking vieux rose',\n",
       "   'accueil ventes john richmond femme pantalon smocking vieux rose motif geometrique john richmond'],\n",
       "  'pantalon'),\n",
       " (['doudoune technique bleu matelass',\n",
       "   'slip bain bicolore',\n",
       "   'patch logo manche gauche',\n",
       "   'accueil ventes parajumpers femme doudoune technique bleu matelassee parajumpers',\n",
       "   'aeration niveau aisselles',\n",
       "   'jean skinny blanc effet dechire',\n",
       "   'polyester doublure polyamide doublure capuche polyester rembourrage duvet plumes',\n",
       "   'rembourrage plumes premium',\n",
       "   'doudoune technique bleu matelassee parajumpers'],\n",
       "  'doudoune'),\n",
       " (['slip bain bicolore',\n",
       "   'proprete interieure biais bleu',\n",
       "   'perfecto cuir metallise bleu',\n",
       "   'blouson cuir bleu',\n",
       "   'accueil ventes galliano femme perfecto cuir metallise rose galliano',\n",
       "   'bride pressions col',\n",
       "   'blouson cuir rose',\n",
       "   'fermeture glissiere milieu devant',\n",
       "   'col pointes pressions',\n",
       "   'fermeture glissiere poignet',\n",
       "   'jean skinny blanc effet dechire',\n",
       "   'perfecto cuir metallise rose galliano'],\n",
       "  'perfecto'),\n",
       " (['robe soie bleue',\n",
       "   'robe smockee soie',\n",
       "   'soie tissu polyester',\n",
       "   'accueil ventes galliano femme robe smockee soie bleu fleurie galliano',\n",
       "   'robe smockee soie bleu fleurie galliano'],\n",
       "  'robe'),\n",
       " (['robe soie noir',\n",
       "   'robe volantee soie noir galliano',\n",
       "   'accueil ventes galliano femme robe volantee soie noir galliano'],\n",
       "  'robe'),\n",
       " (['bride broderie eclair perles',\n",
       "   'polyester doublure polyamide elasthanne tissu acetate polyamide elasthanne',\n",
       "   'robe crepe noir',\n",
       "   'pull alpaga bleu',\n",
       "   'accueil ventes frankie morello femme robe asymetrique bride eclair frankie morello',\n",
       "   'robe asymetrique bride eclair',\n",
       "   'robe asymetrique bride eclair frankie morello'],\n",
       "  'robe'),\n",
       " (['accueil ventes galliano femme robe volantee soie bleu fleurie galliano',\n",
       "   'robe volantee soie bleu fleur',\n",
       "   'robe volantee soie bleu fleurie galliano',\n",
       "   'robe soie bleu',\n",
       "   'soie tissu polyester'],\n",
       "  'robe'),\n",
       " (['finition biais cuir noir',\n",
       "   'polyester polycarbonate tissu cuir mouton tissu polyester polycarbonate doublure polyester',\n",
       "   'accueil ventes balmain femme robe moulante noire balmain',\n",
       "   'fermeture glissiere argent milieu',\n",
       "   'robe moulante noire balmain',\n",
       "   'robe viscose filet noir',\n",
       "   'ligne pierre balmain'],\n",
       "  'robe'),\n",
       " (['gilet lurex bleu rouge pai',\n",
       "   'gilet lurex bleu rouge',\n",
       "   'liens nouer milieu',\n",
       "   'accueil ventes missoni femme gilet lurex bleu rouge paillete missoni',\n",
       "   'polymiade viscose polyester coton',\n",
       "   'jean skinny blanc effet dechire',\n",
       "   'gilet lurex bleu rouge paillete missoni'],\n",
       "  'gilet'),\n",
       " (['robe coton chine gris brode',\n",
       "   'robe coton chine gris',\n",
       "   'robe coton chine gris broderies fantaisies svnty',\n",
       "   'robe coton chine',\n",
       "   'longueur bas genoux',\n",
       "   'accueil ventes svnty femme robe coton chine gris broderies fantaisies svnty'],\n",
       "  'robe'),\n",
       " (['robe chemise jaune imprimee details plisses sara roka',\n",
       "   'ceinture kimono coton bleu',\n",
       "   'accueil ventes sara roka femme robe chemise jaune imprimee details plisses sara roka',\n",
       "   'ceinture vendue part',\n",
       "   'robe popeline jaune',\n",
       "   'robe chemise jaune imprimee'],\n",
       "  'robe'),\n",
       " (['blouse mousseline noir boutons griffes balmain',\n",
       "   'blouse mousseline noir bout',\n",
       "   'boutons griffes argent',\n",
       "   'blouse mousseline noir',\n",
       "   'poignet simple boutonnage',\n",
       "   'fermeture glissiere doree milieu',\n",
       "   'longueur legerement asymetrique',\n",
       "   'ligne pierre balmain',\n",
       "   'jean skinny blanc effet dechire',\n",
       "   'accueil ventes balmain femme blouse mousseline noir boutons griffes balmain'],\n",
       "  'blouse'),\n",
       " (['coupe cache coeur',\n",
       "   'combinaison pantalon coton rayee blanc miss miss',\n",
       "   'combinaison coton blanc bleu camel',\n",
       "   'combinaison pantalon coton',\n",
       "   'accueil ventes miss miss femme combinaison pantalon coton rayee blanc miss miss',\n",
       "   'coupe cache coeur oeillets'],\n",
       "  'combinaison'),\n",
       " (['accueil ventes sara roka femme robe chemise blanche orange imprimee details plisses sara roka',\n",
       "   'coton tissu coton polyamide elasthanne',\n",
       "   'ceinture kimono coton bleu',\n",
       "   'robe chemise blanche orange imprimee details plisses sara roka',\n",
       "   'ceinture vendue part',\n",
       "   'imprime rayes oranges',\n",
       "   'robe popeline blanche',\n",
       "   'robe chemise blanche orange'],\n",
       "  'robe'),\n",
       " (['veste crepe bleu surpiqures',\n",
       "   'viscose elasthanne doublure viscose polyester',\n",
       "   'poches plaquees poches rabats',\n",
       "   'legere fente bas milieu',\n",
       "   'veste crepe bleu surpiqures rouges sportmax',\n",
       "   'accueil ventes sportmax femme veste crepe bleu surpiqures rouges sportmax',\n",
       "   'veste crepe bleu',\n",
       "   'jean skinny blanc effet dechire',\n",
       "   'surpiqures fantaisies rouges'],\n",
       "  'veste'),\n",
       " (['robe tailleur dentelle mou',\n",
       "   'robe dentelle mousseline bleue',\n",
       "   'ceinture plissee noeud fantaisies',\n",
       "   'robe tailleur dentelle mousseline bleu edward achour',\n",
       "   'coton polyamide tissu polyester doublure polyester',\n",
       "   'accueil ventes edward achour femme robe tailleur dentelle mousseline bleu edward achour',\n",
       "   'pull alpaga merinos'],\n",
       "  'robe'),\n",
       " (['polyester tissu polyamide doublure polyester application polyester',\n",
       "   'slip bain bicolore',\n",
       "   'robe dentelle noir',\n",
       "   'robe soiree longue dentell',\n",
       "   'col liens nouer',\n",
       "   'accueil ventes roberto cavalli femme robe soiree longue dentelle noir volantee roberto cavalli',\n",
       "   'robe soiree longue dentelle noir volantee roberto cavalli'],\n",
       "  'robe'),\n",
       " (['jean skinny blanc effet dechire adriano goldschmied',\n",
       "   'blouse mousseline noir bout',\n",
       "   'mannequin mesure porte',\n",
       "   'jean coton blanc',\n",
       "   'fermeture glissiere patte bouton griffe',\n",
       "   'accueil ventes adriano goldschmied femme jean skinny blanc effet dechire adriano goldschmied',\n",
       "   'jean skinny blanc effet dechire'],\n",
       "  'jean'),\n",
       " (['robe soie kaki imprime anim',\n",
       "   'robe soie kaki imprime animal balmain',\n",
       "   'soie doublure polyester',\n",
       "   'poignets drape zip',\n",
       "   'ligne pierre balmain',\n",
       "   'accueil ventes balmain femme robe soie kaki imprime animal balmain',\n",
       "   'imprime animal noir',\n",
       "   'robe soie kaki'],\n",
       "  'robe'),\n",
       " (['accueil ventes sara roka femme robe chemise blanche imprimee details plisses sara roka',\n",
       "   'top coton polyamide elasthanne jupe soie doublure cupro tulle polyamide',\n",
       "   'robe chemisier femme',\n",
       "   'ceinture kimono coton bleu',\n",
       "   'ceinture vendue part',\n",
       "   'robe chemise blanche imprimee',\n",
       "   'robe chemisier jupon boule effet',\n",
       "   'robe popeline blanche',\n",
       "   'robe chemise blanche imprimee details plisses sara roka'],\n",
       "  'robe'),\n",
       " (['robe tailleur laine bleu alex',\n",
       "   'robe laine bleu',\n",
       "   'rayonne laine elasthanne details acetate soie doublure acetate soie',\n",
       "   'fermeture glissiere argent milieu',\n",
       "   'accueil ventes alexander mcqueen femme robe tailleur laine bleu alexander mcqueen',\n",
       "   'robe tailleur laine bleu alexander mcqueen'],\n",
       "  'robe'),\n",
       " (['robe texturee facon',\n",
       "   'robe texturee facon tweed effet raye fil brillant',\n",
       "   'veste tweed lumineux rose edw',\n",
       "   'robe tweed lumineux rose edwa',\n",
       "   'robe tweed lumineux beige edw',\n",
       "   'accueil ventes edward achour femme robe tweed lumineux rose edward achour',\n",
       "   'veste facon tweed fil',\n",
       "   'coton polyester viscose polyamide acrylique lin metal polyurethane doublure polyester',\n",
       "   'boutons fantaisie perles',\n",
       "   'col rond boutonniere trompe-l oeil',\n",
       "   'robe tweed lumineux rose edward achour',\n",
       "   'fermeture eclair discrete arriere',\n",
       "   'veste manches tweed rose',\n",
       "   'bordures fil coupe',\n",
       "   'veste manches tweed beig'],\n",
       "  'robe'),\n",
       " (['accueil ventes roberto cavalli femme robe soiree sirene matiere bleue strass roberto cavalli',\n",
       "   'robe viscose bleu',\n",
       "   'robe viscose bleu lurex noir',\n",
       "   'robe soiree sirene matiere bleue strass roberto cavalli',\n",
       "   'viscose elasthanne tissu polyamide elasthanne tissu polyamide elasthanne',\n",
       "   'broderie strass rectangulaire',\n",
       "   'robe soiree sirene matiere'],\n",
       "  'robe'),\n",
       " (['doudoune technique bleue brillante matelassee parajumpers',\n",
       "   'doudoune technique bleue brillan',\n",
       "   'doudoune bleu nuit brillant',\n",
       "   'accueil ventes parajumpers femme doudoune technique bleue brillante matelassee parajumpers',\n",
       "   'polyester polyamide doublure polyamide rembourrage duvet',\n",
       "   'aeration niveau aisselles',\n",
       "   'patch logo manche gauche',\n",
       "   'doudoune bleu nuit',\n",
       "   'rembourrage plumes premium',\n",
       "   'jean skinny blanc effet dechire'],\n",
       "  'doudoune'),\n",
       " (['robe chemisier destructure lin blanc balossa',\n",
       "   'fermeture boutons nacre',\n",
       "   'robe chemisier destructure',\n",
       "   'accueil ventes balossa femme robe chemisier destructure lin blanc balossa',\n",
       "   'robe lin blanc'],\n",
       "  'robe'),\n",
       " (['robe soie rose imprime fantaisie frankie morello',\n",
       "   'soie tissu polyester elasthanne',\n",
       "   'accueil ventes frankie morello femme robe soie rose imprime fantaisie frankie morello',\n",
       "   'col rond biais',\n",
       "   'robe soie rose imprime',\n",
       "   'imprime fantaisie rouge rose',\n",
       "   'publie date commande',\n",
       "   'robe soie rose'],\n",
       "  'robe'),\n",
       " (['perfecto cuir metallise bleu',\n",
       "   'accueil ventes galliano femme perfecto cuir metallise bleu galliano',\n",
       "   'proprete interieure biais bleu',\n",
       "   'jean skinny blanc effet dechire',\n",
       "   'blouson cuir bleu',\n",
       "   'bride pressions col',\n",
       "   'perfecto cuir metallise bleu galliano',\n",
       "   'fermeture glissiere milieu devant',\n",
       "   'col pointes pressions',\n",
       "   'fermeture glissiere poignet'],\n",
       "  'perfecto'),\n",
       " (['sweat coton violet',\n",
       "   'sweat noir flocage damir doma',\n",
       "   'sweat violet flocage damir doma',\n",
       "   'broderie lotto damir doma poitrine gauche',\n",
       "   'accueil ventes damir doma homme sweat rouge flocage damir doma',\n",
       "   'issue collaboration entre maison damir doma lotto',\n",
       "   'patch photo fantaisie',\n",
       "   'ligne damir doma lotto',\n",
       "   'jean regulard effet huile renhsen',\n",
       "   'sweat coton rouge',\n",
       "   'sweat rouge flocage damir doma'],\n",
       "  'sweat'),\n",
       " (['jean regular coton bleu brut',\n",
       "   'accueil ventes john richmond homme jean regular coton bleu brut john richmond',\n",
       "   'jean regular coton bleu brut john richmond'],\n",
       "  'jean'),\n",
       " (['tetes morts strass swarovski',\n",
       "   'accueil ventes philipp plein homme pantalon jogging strass swarovski noir philipp plein',\n",
       "   'poches laterales zippees',\n",
       "   'application plaque metallique signature devant',\n",
       "   'coupe resserree aux chevilles',\n",
       "   'long cordons serrage oeillets metalliques griffes',\n",
       "   'pantalon jogging noir orange coton',\n",
       "   'inscription east ndeg78 arriere',\n",
       "   'pantalon jogging strass swa',\n",
       "   'pantalon jogging strass swarovski noir philipp plein'],\n",
       "  'pantalon'),\n",
       " (['coton lyocell elasthanne',\n",
       "   'accueil ventes homme jean regular coton noir effet tache',\n",
       "   't-shirt lin noir poche poit',\n",
       "   't-shirt lin noir',\n",
       "   'jean regular coton noir effet',\n",
       "   'jean regular coton noir effet tache',\n",
       "   'mannequin mesure porte 28us',\n",
       "   'effet tache violet'],\n",
       "  'jean'),\n",
       " (['mannequin mesure porte 31us',\n",
       "   'jean regular bleu brut fendu eac',\n",
       "   'chemise blanche poche poitrine',\n",
       "   'accueil ventes homme jean regular bleu brut fendu',\n",
       "   'jean regular bleu brut fendu'],\n",
       "  'jean'),\n",
       " (['sweat noir flocage damir doma',\n",
       "   'broderie lotto damir doma bas manche gauche',\n",
       "   'accueil ventes damir doma homme sweat rouge flocage damir doma',\n",
       "   'jean regulard effet huile renhsen',\n",
       "   'issue collaboration entre maison damir doma lotto',\n",
       "   'ligne damir doma lotto',\n",
       "   'sweat coton rouge',\n",
       "   'flocage fantaisie noir',\n",
       "   'sweat rouge flocage damir doma'],\n",
       "  'sweat'),\n",
       " (['t-shirt coton rose flocage',\n",
       "   'flocage gotique noir col',\n",
       "   'flocage noir john richmond',\n",
       "   't-shirt coton rose',\n",
       "   'pantalon jean bleu',\n",
       "   'accueil ventes john richmond homme t-shirt coton rose flocage noir john richmond',\n",
       "   'jean regular fit bleu delave man',\n",
       "   't-shirt coton rose flocage noir john richmond'],\n",
       "  't-shirt'),\n",
       " (['accueil ventes adams homme veste coton bleu adams',\n",
       "   'veste coton bleu adams',\n",
       "   'chemise blanche poche poitrine',\n",
       "   'mannequin mesure porte',\n",
       "   'veste coton bleu',\n",
       "   'coton lin elasthanne doublure polyamide'],\n",
       "  'veste'),\n",
       " (['short imprime geometrique bleu noir low brand',\n",
       "   'accueil ventes low brand homme short imprime geometrique bleu noir low brand',\n",
       "   'coton laine vierge',\n",
       "   'short imprime geometrique ble',\n",
       "   'imprime geometrique noir effet',\n",
       "   'coton laine vierge bleu',\n",
       "   'poches rabats noir arriere',\n",
       "   'mannequin mesure 182cm porte',\n",
       "   'elastique cordon serrage'],\n",
       "  'short'),\n",
       " (['jean regular noir zip fantaisie',\n",
       "   'chemise blanche poche poitrine',\n",
       "   'fermeture zip fantaisie',\n",
       "   'accueil ventes homme jean regular noir zip fantaisie',\n",
       "   'mannequin mesure porte 28us',\n",
       "   'jean regular noir zip fantaisi'],\n",
       "  'jean'),\n",
       " (['chemise cintree blanche salle',\n",
       "   'mannequin mesure porte 30us',\n",
       "   'jean regular bleu ourlet frang',\n",
       "   'jean regular bleu ourlet frange',\n",
       "   'accueil ventes homme jean regular bleu ourlet frange'],\n",
       "  'jean'),\n",
       " (['sweat coton violet',\n",
       "   'sweat noir flocage damir doma',\n",
       "   'sweat violet flocage damir doma',\n",
       "   'broderie lotto damir doma poitrine gauche',\n",
       "   'patch photo fantaisie',\n",
       "   'jean regulard effet huile renhsen',\n",
       "   'ligne damir doma lotto',\n",
       "   'issue collaboration entre maison damir doma lotto',\n",
       "   'sweat coton rouge',\n",
       "   'sweat rouge flocage damir doma',\n",
       "   'accueil ventes damir doma homme sweat noir flocage damir doma'],\n",
       "  'sweat'),\n",
       " (['broderie lotto damir doma bas manche gauche',\n",
       "   'pantalon coton gris',\n",
       "   'sweat capuche noir flocage damir doma',\n",
       "   'issue collaboration entre maison damir doma lotto',\n",
       "   'accueil ventes damir doma homme sweat capuche noir flocage damir doma',\n",
       "   'ligne damir doma lotto',\n",
       "   'flocage fantaisie noir',\n",
       "   'pantalon regular coton gris',\n",
       "   'sweat capuche noir flocage'],\n",
       "  'sweat'),\n",
       " (['pull bicolore coton bleu',\n",
       "   'pull bicolore coton gris',\n",
       "   'pull coton gris',\n",
       "   'pull coton gris clair',\n",
       "   'pull bicolore coton gris rayures copains',\n",
       "   'pull coton bleu',\n",
       "   'accueil ventes copains homme pull bicolore coton gris rayures copains',\n",
       "   'rayures gris fonce'],\n",
       "  'pull'),\n",
       " (['polo coton pique',\n",
       "   'accueil ventes copains homme polo coton pique blanc bandes laterales copains',\n",
       "   'polo coton pique noir bande',\n",
       "   'patch logo poitrine gauche',\n",
       "   'manches courtes bandes laterales',\n",
       "   'polo coton pique blanc',\n",
       "   'polo coton pique blanc band',\n",
       "   'polo coton pique blanc bandes laterales copains',\n",
       "   'polo coton pique jaune band'],\n",
       "  'polo'),\n",
       " (['jean regular bleu zip fantaisie',\n",
       "   'chemise blanche poche poitrine',\n",
       "   'fermeture zip fantaisie',\n",
       "   'mannequin mesure porte 31us',\n",
       "   'accueil ventes homme jean regular bleu zip fantaisie',\n",
       "   'jean regular bleu zip fantaisi'],\n",
       "  'jean'),\n",
       " (['accueil ventes blue industry homme chemise coton piquee bleu blue industry',\n",
       "   'poignets casses doubles boutonnages',\n",
       "   'mannequin mesure porte',\n",
       "   'chemise coton piquee bleu',\n",
       "   'coupe slim fit',\n",
       "   'chemise coton piquee bleu blue industry',\n",
       "   'chemise coton piquee bleu blu'],\n",
       "  'chemise'),\n",
       " (['pantalon cargo bleu low brand',\n",
       "   'poches passepoiles surpiquees fesse',\n",
       "   'pantalon cargo beige low brand',\n",
       "   'accueil ventes low brand homme pantalon cargo vert low brand',\n",
       "   'pantalon cargo vert low brand',\n",
       "   'patte boutonnage invisible bouton griffe',\n",
       "   't-shirt noir low brand',\n",
       "   'mannequin mesure porte',\n",
       "   'pantalon cargo noir low brand',\n",
       "   'poches rabats plaques aux cuisses',\n",
       "   'pantalon coton vert',\n",
       "   'poches italiennes cotes'],\n",
       "  'pantalon'),\n",
       " (['blouson type bomber matiere',\n",
       "   'blouson coton kaki bleu beige',\n",
       "   'accueil ventes adams homme blouson type bomber matiere kaki adams',\n",
       "   'finition bord cote bleu rayures kaki',\n",
       "   'blouson type bomber matiere kaki adams',\n",
       "   'imprime camouflage carreaux',\n",
       "   'coton elasthanne doublure polyester polyamide doublure coton polyamide troisieme doublure acetate viscose',\n",
       "   'blouson coton kaki'],\n",
       "  'blouson'),\n",
       " (['polo coton pique',\n",
       "   'polo coton pique noir bande',\n",
       "   'patch logo poitrine gauche',\n",
       "   'accueil ventes copains homme polo coton pique noir bandes laterales copains',\n",
       "   'manches courtes bandes laterales',\n",
       "   'polo coton pique blanc band',\n",
       "   'polo coton pique noir bandes laterales copains',\n",
       "   'polo coton pique noir',\n",
       "   'polo coton pique jaune band'],\n",
       "  'polo'),\n",
       " (['chemise blanche poche poitrine',\n",
       "   'accueil ventes homme jean skinny velours noir',\n",
       "   'jean skinny velours noir',\n",
       "   'mannequin mesure porte 31us',\n",
       "   'jean velours noir'],\n",
       "  'jean'),\n",
       " (['poche raglan poches plaquees',\n",
       "   'accueil ventes lardini homme veste laine bleu motif raye lardini',\n",
       "   'motif rayures grises',\n",
       "   'col pointe broche amovible',\n",
       "   'veste laine bleu motif raye lardini',\n",
       "   'poignet casse quadruple boutonnage',\n",
       "   'veste laine bleu motif raye',\n",
       "   'jean skinny blanc dechirure',\n",
       "   'pull alpaga merinos bordea',\n",
       "   'laine coton poliammide elasthanne doublure manches viscose cupro doublure genou viscose',\n",
       "   'veste laine bleu'],\n",
       "  'veste'),\n",
       " (['mannequin mesure porte 31us',\n",
       "   'chemise blanche poche poitrine',\n",
       "   'jean skinny coton vert',\n",
       "   'jean coton vert',\n",
       "   'accueil ventes homme jean skinny coton vert'],\n",
       "  'jean'),\n",
       " (['bandes laterales contrastantes style sport',\n",
       "   'chaussures bateau grises vertes style baskets swims',\n",
       "   'bout rond fermeture lacets',\n",
       "   'durables flexibles assurent grand confort',\n",
       "   'anti-derapantes non marquantes',\n",
       "   'chaussures bateaux grises ora',\n",
       "   'enfilent facilement normalement',\n",
       "   'chaussures bateau grises vert',\n",
       "   'chaussures bateau grises foncees',\n",
       "   'accueil ventes swims homme chaussures bateau grises vertes style baskets swims',\n",
       "   'chaussures bateau bleues vert',\n",
       "   'tissus semelles caoutchouc',\n",
       "   'chaussures bateau comportant bonne ventilation'],\n",
       "  'chaussures'),\n",
       " (['jean skinny coton bleu effet',\n",
       "   'issue collection capsule planet',\n",
       "   't-shirt coton blanc flocage',\n",
       "   'accueil ventes john richmond homme jean skinny coton bleu effet use john richmond',\n",
       "   'jean skinny coton bleu effet use john richmond'],\n",
       "  'jean'),\n",
       " (['polo coton pique',\n",
       "   'polo coton pique bleu cop',\n",
       "   'logo brode manches gauches',\n",
       "   'accueil ventes copains homme polo coton pique bleu copains',\n",
       "   'polo coton pique bleu copains',\n",
       "   'polo coton pique bleu'],\n",
       "  'polo'),\n",
       " (['grand conseillons prendre dessous',\n",
       "   't-shirt coton kaki',\n",
       "   't-shirt blanc casse broderie',\n",
       "   't-shirt blanc casse broderie tigre balmain',\n",
       "   't-shirt coton blanc',\n",
       "   'manches courtes broderie tigre pierre balmain noir',\n",
       "   't-shirt coton noir',\n",
       "   'accueil ventes balmain homme t-shirt blanc casse broderie tigre balmain',\n",
       "   't-shirt noir broderie tigre',\n",
       "   't-shirt kaki broderie tigre',\n",
       "   't-shirt coton blanc casse'],\n",
       "  't-shirt'),\n",
       " (['grand conseillons prendre dessous',\n",
       "   'accueil ventes balmain homme sweat vert kaki broderie tigre balmain',\n",
       "   'sweat noir broderie tigre',\n",
       "   'sweat blanc broderie tigre',\n",
       "   'sweat vert kaki broderie tigre balmain',\n",
       "   'sweat vert kaki broderie tigr',\n",
       "   'sweat coton kaki',\n",
       "   'manches longues broderie tigre pierre balmain noir'],\n",
       "  'sweat'),\n",
       " (['accueil livre super posure tigi van gil',\n",
       "   'livre super posure tigi van gil',\n",
       "   'texte michel verlinden sebastien charpentier'],\n",
       "  'livre'),\n",
       " (['ceinture cuir noire cas',\n",
       "   'ceinture cuir noire castelbajac',\n",
       "   'boucle mecanisme metal argent griffe',\n",
       "   'accueil ventes castelbajac homme ceinture cuir noire castelbajac',\n",
       "   'ceinture cuir noir'],\n",
       "  'ceinture'),\n",
       " (['accueil ventes maison margiela homme pochette noire logo maison margiela',\n",
       "   'pochette noire logo maison margiela',\n",
       "   'pochette noire logo maison mar'],\n",
       "  'pochette'),\n",
       " (['accueil ventes frankie morello homme ceinture noire frankie morello',\n",
       "   'ceinture noire frankie morello'],\n",
       "  'ceinture'),\n",
       " (['boucle metal argent griffe',\n",
       "   'accueil ventes castelbajac homme ceinture cuir marron castelbajac',\n",
       "   'ceinture cuir marron castelbajac',\n",
       "   'ceinture cuir marron'],\n",
       "  'ceinture'),\n",
       " (['ceinture cuir noir diesel',\n",
       "   'accueil ventes diesel homme ceinture cuir noir diesel'],\n",
       "  'ceinture'),\n",
       " (['accueil ventes valentino homme livre grande histoire italienne valentino garavani',\n",
       "   'livre grande histoire itali',\n",
       "   'livre grande histoire italienne valentino garavani'],\n",
       "  'livre'),\n",
       " (['accueil ventes bikkembergs homme manchette blanche bikkembergs',\n",
       "   'manchette blanche bikkembergs'],\n",
       "  'manchette'),\n",
       " (['accueil ventes frankie morello homme ceinture bi-matiere bleu frankie morello',\n",
       "   'ceinture bi-matiere bleu frankie',\n",
       "   'longueur minimale 85cm longueur maximale 95cm largeur 5cm longueur minimale 90cm longueur maximale 100cm longueur minimale 95cm longueur maximale 105cm',\n",
       "   'ceinture bi-matiere bleu frankie morello'],\n",
       "  'ceinture'),\n",
       " (['accueil ventes hydrogen homme ceinture kaki hydrogen',\n",
       "   'ceinture kaki hydrogen'],\n",
       "  'ceinture'),\n",
       " (['sacoche bandouliere cuir',\n",
       "   'coton cuir doublure coton',\n",
       "   'sacoche bandouliere cuir noir replay',\n",
       "   'accueil ventes replay homme sacoche bandouliere cuir noir replay'],\n",
       "  'sacoche'),\n",
       " (['anses cuir graine vieux rose',\n",
       "   'parfait partir week-end',\n",
       "   'accueil ventes falorni homme sac cabas cuir rose falorni',\n",
       "   'sac cabas cuir rose falorni',\n",
       "   'poches plaquees poche zippe interieure',\n",
       "   'sac cuir graine',\n",
       "   'sac cuir graine vieux rose'],\n",
       "  'sac'),\n",
       " (['casquette motifs skateur carven',\n",
       "   'accueil casquette motifs skateur carven'],\n",
       "  'casquette'),\n",
       " (['parfait partir week-end',\n",
       "   'sac cuir graine noir',\n",
       "   'sac cabas cuir bleu falorni',\n",
       "   'poches plaquees poche zippe interieure',\n",
       "   'sac cuir graine',\n",
       "   'sac cabas cuir noir falorni',\n",
       "   'accueil ventes falorni homme sac cabas cuir noir falorni',\n",
       "   'anses cuir graine noir'],\n",
       "  'sac'),\n",
       " (['parfait partir week-end',\n",
       "   'sac cabas cuir bleu falorni',\n",
       "   'anses cuir graine bleu',\n",
       "   'sac cuir graine bleu',\n",
       "   'poches plaquees poche zippe interieure',\n",
       "   'accueil ventes falorni homme sac cabas cuir bleu falorni',\n",
       "   'sac cuir graine',\n",
       "   'sac cabas cuir noir falorni'],\n",
       "  'sac'),\n",
       " (['portefeuille bleu motifs hugo',\n",
       "   'hauteur longueur largeur',\n",
       "   'cuir veau garniture peau vache doublurez polyester',\n",
       "   'portefeuille bleu motifs hugo boss',\n",
       "   'accueil ventes hugo boss femme portefeuille bleu motifs hugo boss'],\n",
       "  'portefeuille'),\n",
       " (['portefeuille noir david scotti',\n",
       "   'accueil ventes david scotti homme portefeuille noir david scotti',\n",
       "   'portefeuille noir emplacement porte carte'],\n",
       "  'portefeuille'),\n",
       " (['ceinture cuir daim rouge',\n",
       "   'boucle metal argent griffe',\n",
       "   'passants jaunes rouges fantaisies',\n",
       "   'ceinture daim rouge passant',\n",
       "   'ceinture daim rouge passant bicolore castelbajac',\n",
       "   'accueil ventes castelbajac homme ceinture daim rouge passant bicolore castelbajac',\n",
       "   'ceinture cuir marron'],\n",
       "  'ceinture'),\n",
       " (['ceinture cuir gris iceberg',\n",
       "   'accueil ventes iceberg homme ceinture cuir gris iceberg'],\n",
       "  'ceinture'),\n",
       " (['accueil ventes robinson bains homme boxer bain gris chine robinson bains',\n",
       "   'boxer bain gris',\n",
       "   'logo brode vert fluo',\n",
       "   'boxer bain gris chine robinso',\n",
       "   'maillot bain gris',\n",
       "   'boxer bain gris chine robinson bains',\n",
       "   'boxer bain gris chine',\n",
       "   't-shirt coton noir col rond',\n",
       "   'shirt coton noir'],\n",
       "  'boxer'),\n",
       " (['casquette noire motifs carven', 'accueil casquette noire motifs carven'],\n",
       "  'casquette'),\n",
       " (['ceinture tricolore castelbajac',\n",
       "   'ceinture tricolore castelb',\n",
       "   'accueil ventes castelbajac homme ceinture tricolore castelbajac'],\n",
       "  'ceinture'),\n",
       " (['ceinture marron facon cravate',\n",
       "   'accueil ventes frankie morello homme ceinture marron facon cravate frankie morello',\n",
       "   'ceinture marron facon cravate frankie morello',\n",
       "   'ceinture noir facon cravate fran'],\n",
       "  'ceinture'),\n",
       " (['accueil ventes castelbajac homme ceinture cuir marron castelbajac',\n",
       "   'ceinture daim rouge passant',\n",
       "   'ceinture cuir marron castelbajac',\n",
       "   'ceinture cuir marron'],\n",
       "  'ceinture'),\n",
       " (['jean noir effet dechire john ric',\n",
       "   'accueil ventes john richmond homme jean noir effet dechire john richmond',\n",
       "   'pull alpaga bleu electrique',\n",
       "   'mannequin mesure porte 32us',\n",
       "   'poches italiennes dont detail simili cuir',\n",
       "   'pull alpaga bleu',\n",
       "   'jean noir effet dechire john richmond',\n",
       "   'fjean coton noir',\n",
       "   'fermeture glissiere patte bouton fantaisie'],\n",
       "  'jean'),\n",
       " (['decoupe jaune bleu noir',\n",
       "   'sweat gris detail tricolore',\n",
       "   'col rond cotele',\n",
       "   'jean regulard bleu frankie morello',\n",
       "   'sweat coton gris',\n",
       "   'sweat gris detail tricolore frankie morello',\n",
       "   'accueil ventes frankie morello homme sweat gris detail tricolore frankie morello'],\n",
       "  'sweat'),\n",
       " (['accueil ventes frankie morello homme jean skinny bleu delave chaine fantaisie frankie morello',\n",
       "   'poches plaquees fantaisie aux fesses',\n",
       "   'fermeture glissiere pattes bouton',\n",
       "   'oeillet fantaisie griffe milieu',\n",
       "   'chaine fantaisie plaquee',\n",
       "   'jean skinny bleu delave chaine fantaisie frankie morello',\n",
       "   'jean skinny bleu delave chaine'],\n",
       "  'jean'),\n",
       " (['poches plaques aux fesses',\n",
       "   'jean regulard bleu frankie morello',\n",
       "   'accueil ventes frankie morello homme jean regulard bleu frankie morello'],\n",
       "  'jean'),\n",
       " (['pull coton blanc',\n",
       "   'poches plaquees broderie fantaisie aux fesses',\n",
       "   'pull col rond coton blanc',\n",
       "   'accueil ventes frankie morello homme pantalon skinny beige frankie morello',\n",
       "   'pantalon skinny beige frankie morello',\n",
       "   'mannequin mesure porte 31us',\n",
       "   'fermeture glissiere patte bouton fantaisie griffe',\n",
       "   'pantalon skinny beige frankie'],\n",
       "  'pantalon'),\n",
       " (['sweat bleu flocages fantaisies frankie morello',\n",
       "   'jean skinny noir patchs fantai',\n",
       "   'sweat bleu flocages fantaisies',\n",
       "   'accueil ventes frankie morello homme sweat bleu flocages fantaisies frankie morello',\n",
       "   'sweat coton bleu',\n",
       "   'flocages fantaisies cosmique rouge'],\n",
       "  'sweat'),\n",
       " (['bomber bordeaux poches frankie morello',\n",
       "   'accueil ventes frankie morello homme bomber bordeaux poches frankie morello',\n",
       "   'poche fantaisie zip manche gauche',\n",
       "   'pull laine merinos gris imp',\n",
       "   'jean regulard bleu frankie morello',\n",
       "   'bomber bordeaux poches frankie',\n",
       "   'finitions bord cote'],\n",
       "  'veste'),\n",
       " (['conseil mode piscine coupe ample privilegier dessus',\n",
       "   'jean slim traits',\n",
       "   'patte boutonnage motifs carreaux',\n",
       "   'coupe cintree col',\n",
       "   'col fin boutons',\n",
       "   'chemise fushia frankie morello',\n",
       "   'accueil ventes frankie morello homme chemise fushia frankie morello',\n",
       "   'jean bleu effet use john galliano',\n",
       "   'application logo nuque'],\n",
       "  'chemise'),\n",
       " (['conseil mode piscine privilegier dessus coupe ample',\n",
       "   'chemise grise carreaux frankie morello',\n",
       "   'chemise coupe cintree',\n",
       "   'jean slim traits',\n",
       "   'accueil ventes frankie morello homme chemise grise carreaux frankie morello',\n",
       "   'jeu col bas manches patte boutonnage',\n",
       "   'chemise grise carreaux frankie',\n",
       "   'jean bleu effet use john galliano',\n",
       "   'application logo nuque'],\n",
       "  'chemise'),\n",
       " (['sweat manches longues bords cotes imprime imbriques',\n",
       "   'sweat frankie morello',\n",
       "   'sweat manches longues',\n",
       "   'accueil ventes frankie morello homme sweat frankie morello'],\n",
       "  'sweat'),\n",
       " (['pantalon poches denim teinte forme ample normale fermeture large zip gros bouton plat metal dore',\n",
       "   't-shirt raye hommes',\n",
       "   'pantalon poches beige frankie',\n",
       "   'pantalon poches beige frankie morello',\n",
       "   'accueil ventes frankie morello homme pantalon poches beige frankie morello'],\n",
       "  'pantalon'),\n",
       " (['lisere noir bords cotes',\n",
       "   'sweat gris manches longues',\n",
       "   'coupe regular droit',\n",
       "   'sweat gris col chemise frankie morello',\n",
       "   'application facon chemise boutons col',\n",
       "   'col rond fermeture boutons pressions',\n",
       "   'coton polyamide elasthanne',\n",
       "   'sweat gris manches',\n",
       "   'jean style motard noir',\n",
       "   'sweat gris col chemise fran',\n",
       "   'accueil ventes frankie morello homme sweat gris col chemise frankie morello',\n",
       "   'application texturee poitrine'],\n",
       "  'sweat'),\n",
       " (['parmenture bleu cotelee',\n",
       "   'gilet laine beige patch fan',\n",
       "   'jean skinny noir patchs fantai',\n",
       "   'patch fantaisie jaune poitrine gauche',\n",
       "   'mannequin mesure porte',\n",
       "   'accueil ventes frankie morello homme gilet laine beige patch fantaisie frankie morello',\n",
       "   'polyamide laine acrylique',\n",
       "   'gilet laine beige',\n",
       "   'coupe oversize col',\n",
       "   'gilet laine beige patch fantaisie frankie morello',\n",
       "   'pull tricolore ecusson fra'],\n",
       "  'gilet'),\n",
       " (['cachemire acylique alpaga',\n",
       "   'pull bleu grosse mailles',\n",
       "   'coupe regular droit',\n",
       "   'jean style motard noir',\n",
       "   'motifs carreaux manches haut corps',\n",
       "   'pull grosses mailles torsadees',\n",
       "   'pull bleu grosse mailles cachemire frankie morello',\n",
       "   'accueil ventes frankie morello homme pull bleu grosse mailles cachemire frankie morello',\n",
       "   'pull grosses mailles'],\n",
       "  'pull'),\n",
       " (['accueil ventes frankie morello homme sweat noir imprime fantaisie frankie morello',\n",
       "   'pantalon jean bleu',\n",
       "   'imprime fantaisie graphique gris rouge',\n",
       "   'jean regular fit bleu delave man',\n",
       "   'sweat noir imprime fantaisie frankie morello',\n",
       "   'sweat noir imprime fantaisie'],\n",
       "  'sweat'),\n",
       " (['t-shirt fluide blanc poche poi',\n",
       "   'pantalon skinny bleu frankie morello',\n",
       "   'pantalon skinny bleu frankie mor',\n",
       "   'oeillet fantaisie milieu',\n",
       "   'mannequin mesure porte 31us',\n",
       "   'accueil ventes frankie morello homme pantalon skinny bleu frankie morello',\n",
       "   'fermeture glissiere patte bouton fantaisie griffe'],\n",
       "  'pantalon'),\n",
       " (['application poche coeur',\n",
       "   'motifs textures poitrine manche',\n",
       "   'jean bleu effet delave low brand',\n",
       "   'accueil ventes frankie morello homme sweat bleu poches frankie morello',\n",
       "   'sweat bleu poches frankie morello',\n",
       "   'sweat col rond'],\n",
       "  'sweat'),\n",
       " (['accueil ventes frankie morello homme chemise bronze motifs frankie morello',\n",
       "   'chemise bronze motifs frankie',\n",
       "   'coupe legerement cintree',\n",
       "   'chemise bronze motifs frankie morello',\n",
       "   'jean slim traits',\n",
       "   'jean bleu effet use john galliano',\n",
       "   'coton tissu coton elasthanne'],\n",
       "  'chemise'),\n",
       " (['mannequin mesure porte',\n",
       "   'polo coton blanc pique marcha',\n",
       "   'accueil ventes frankie morello homme short bermuda coton bleu delave frankie morello',\n",
       "   'polo coton blanc',\n",
       "   'short bermuda coton bleu delave frankie morello',\n",
       "   'fermeture glissiere patte bouton fantaisie griffe visible',\n",
       "   'short bermuda coton bleu dela'],\n",
       "  'short'),\n",
       " (['slip bain gris motif frankie morello',\n",
       "   'slip bain gris motif franki',\n",
       "   'imprime panneau signalisation jaune rouge bleu',\n",
       "   'maillot bain gris',\n",
       "   'accueil ventes frankie morello homme slip bain gris motif frankie morello',\n",
       "   'normalement conseillons prendre habituelle'],\n",
       "  'slip'),\n",
       " (['application fermetures eclaires cotes',\n",
       "   'accueil ventes frankie morello homme pull tricolore col rond frankie morello',\n",
       "   'laine acrylique alpaga',\n",
       "   'coupe regular droit',\n",
       "   'jean style motard noir',\n",
       "   'pull tricolore col rond frankie morello',\n",
       "   'pull grosse maille tricolore jaune bleu gris'],\n",
       "  'pull'),\n",
       " (['jean bleu effet delave low brand',\n",
       "   't-shirt noir low brand',\n",
       "   'laine acrylique alpaga',\n",
       "   'bloc facon patchwork',\n",
       "   'gilet gris oversize frankie morello',\n",
       "   'accueil ventes frankie morello homme gilet gris oversize frankie morello',\n",
       "   'gilet maillet texturee'],\n",
       "  'gilet'),\n",
       " (['doudoune legere bleu motifs frankie morello',\n",
       "   'doudoune nylon bleu',\n",
       "   'accueil ventes frankie morello homme doudoune legere bleu motifs frankie morello',\n",
       "   'mannequin mesure 190cm porte',\n",
       "   'poches raglan boutonnees',\n",
       "   'doudoune legere bleu motifs',\n",
       "   'motifs panneau signalisation',\n",
       "   't-shirt coton blanc col ron',\n",
       "   'polyester doublure polyamide'],\n",
       "  'doudoune'),\n",
       " (['pantalon bleu cotele frankie morello',\n",
       "   'fermeture bouton interieur agrafe glissiere',\n",
       "   'mannequin mesure 1m84 porte',\n",
       "   'poches arrieres passepoilees fantaisie',\n",
       "   'coupe mi-haute classique',\n",
       "   'pantalon bleu cotele frankie mor',\n",
       "   'accueil ventes frankie morello homme pantalon bleu cotele frankie morello'],\n",
       "  'pantalon'),\n",
       " (['pull gris maison morello frankie morello',\n",
       "   'coton laine tissu coton',\n",
       "   'pull gris maison morello frank',\n",
       "   'coupe regular droit',\n",
       "   'jean style motard noir',\n",
       "   'application logo texture',\n",
       "   'bicolore gris marron',\n",
       "   'accueil ventes frankie morello homme pull gris maison morello frankie morello',\n",
       "   'pull bi-matiere grosse maille laine coton manches coton',\n",
       "   'manches longues contrastantes'],\n",
       "  'pull'),\n",
       " (['tricolore orange bleu gris',\n",
       "   'pull orange asymetrique frankie',\n",
       "   'col rond fantaisie',\n",
       "   'coupe regular droit',\n",
       "   'pull manches longues',\n",
       "   'jean style motard noir',\n",
       "   'accueil ventes frankie morello homme pull orange asymetrique frankie morello',\n",
       "   'polyamide laine acrylique',\n",
       "   'bord cote fantaisie',\n",
       "   'pull orange asymetrique frankie morello'],\n",
       "  'pull'),\n",
       " (['coupe regular droit',\n",
       "   'pull grosse maille multicolore',\n",
       "   'jean style motard noir',\n",
       "   'application logo niveau hanche',\n",
       "   'accueil ventes frankie morello homme pull gris col frankie morello',\n",
       "   'pull grosse maille',\n",
       "   'pull gris col frankie morello'],\n",
       "  'pull'),\n",
       " (['polo bleu motif frankie morello',\n",
       "   'application tete mort poche poitrine',\n",
       "   'polo manches courtes',\n",
       "   'jean bleu effet delave low brand',\n",
       "   'col bord cote boutons',\n",
       "   'accueil ventes frankie morello homme polo bleu motif frankie morello'],\n",
       "  'polo'),\n",
       " (['motif petit carreaux marron',\n",
       "   'pantalon tailleur laine',\n",
       "   'motif petit carreaux',\n",
       "   'veste tailleur laine marro',\n",
       "   'accueil ventes chloe stora femme pantalon tailleur laine marron carreaux chloe stora',\n",
       "   'laine polyamide autres fibres doublure polyester coton',\n",
       "   'fermeture glissiere patte crochet',\n",
       "   'veste laine gris',\n",
       "   'publie date commande',\n",
       "   'pantalon tailleur laine marron carreaux chloe stora'],\n",
       "  'pantalon'),\n",
       " (['accueil ventes chloe stora femme robe noire longue laine merinos rayures chloe stora',\n",
       "   'robe noire longue laine merinos rayures chloe stora',\n",
       "   'motifs rayures beiges dores',\n",
       "   'laine merinos fil metal',\n",
       "   'robe noire longue laine merin',\n",
       "   'robe laine merinos noir'],\n",
       "  'robe'),\n",
       " (['chemisier coton blanc',\n",
       "   'accueil ventes chloe stora femme chemisier coton blanc col chloe stora',\n",
       "   'chemisier coton blanc col chloe stora',\n",
       "   'pantalon chino beige satine chlo',\n",
       "   'parmenture epaule gauche boutons',\n",
       "   'chemisier coton blanc col'],\n",
       "  'chemisier'),\n",
       " (['blouse broderie fleurie',\n",
       "   'blouse jaune chloe stora',\n",
       "   'blouse rouge chloe stora',\n",
       "   'blouse bleue fleurie coton',\n",
       "   'top bleu manches ajoure chl',\n",
       "   'top manches vert ajoure chl',\n",
       "   'col rond manches longues dessus poitrine ajoures fines bandes contrastantes',\n",
       "   'accueil ventes chloe stora femme blouse jaune chloe stora'],\n",
       "  'blouse'),\n",
       " (['accueil ventes chloe stora femme blouse soie moutarde chloe stora',\n",
       "   'blouse soie moutarde',\n",
       "   'poignets casses doubles boutonnages',\n",
       "   'mannequin mesure porte',\n",
       "   'pantalon palazzo satin duches',\n",
       "   'veste satin duchesse rose',\n",
       "   'blouse soie moutarde chloe stora'],\n",
       "  'blouse'),\n",
       " (['veste ceinturee beige valentino',\n",
       "   'pantalon palazzo coton beige',\n",
       "   'pantalon palazzo coton beige rayures chloe stora',\n",
       "   'veste coton beige',\n",
       "   'pull coton tricolore stefano',\n",
       "   'accueil ventes chloe stora femme pantalon palazzo coton beige rayures chloe stora'],\n",
       "  'pantalon'),\n",
       " (['petit conseillons dessus habituelle',\n",
       "   'pantalon satin vert sapin',\n",
       "   'imprime rayures bordeaux beige',\n",
       "   'pantalon satin vert',\n",
       "   'pantalon vert smocke satin',\n",
       "   'chemise verte satin rayures',\n",
       "   'chemise vert sapins',\n",
       "   'pantalon vert smocke satin rayures chloe stora',\n",
       "   'smockee brides nouees',\n",
       "   'accueil ventes chloe stora femme pantalon vert smocke satin rayures chloe stora'],\n",
       "  'pantalon'),\n",
       " (['petit conseillons dessus habituelle',\n",
       "   'fines rayures jaunes bleus noires marrons',\n",
       "   'pantalon palazzo satin duchesse rose rayes chloe stora',\n",
       "   'pantalon satin duchesse rose',\n",
       "   'pantalon palazzo satin duches',\n",
       "   'viscose doublure acetate viscose',\n",
       "   'veste satin duchesse rose',\n",
       "   'blouse soie moutarde chloe stora',\n",
       "   'accueil ventes chloe stora femme pantalon palazzo satin duchesse rose rayes chloe stora'],\n",
       "  'pantalon'),\n",
       " (['grand conseillons prendre dessous',\n",
       "   'gilet merinos rouge',\n",
       "   'gilet merinos rouge chloe stora',\n",
       "   'pull rayures lame beige chloe',\n",
       "   'accueil ventes chloe stora femme pantalon cigarette rayures blanches grises chloe stora',\n",
       "   'pantalon cigarette rayures bla',\n",
       "   'polyester laine doublure polyester coton',\n",
       "   'pull maille beige',\n",
       "   'tennis cuir piquee blanc',\n",
       "   'blazer veste rayures blanches',\n",
       "   'pantalon cigarette rayures blanches grises chloe stora',\n",
       "   'poches passepoilees arriere boutons classique',\n",
       "   'elastique corde serrage'],\n",
       "  'pantalon'),\n",
       " (['robe longue kaki coton impr',\n",
       "   'robe kaki coton',\n",
       "   'robe longue kaki coton imprime floral chloe stora',\n",
       "   'accueil ventes chloe stora femme robe longue kaki coton imprime floral chloe stora',\n",
       "   'imprime floral blanc'],\n",
       "  'robe'),\n",
       " (['lyocell respectueux environnement resistant respirant',\n",
       "   'pantalon lyocell bleu',\n",
       "   'poches prises couture',\n",
       "   'ceinture elastique fantaisie rayure beige',\n",
       "   'accueil ventes chloe stora femme pantalon chino lyocell bleu chloe stora chloe stora',\n",
       "   'sweat blanc broderies fantaisi',\n",
       "   'lyocell doublure coton',\n",
       "   'pantalon chino lyocell bleu',\n",
       "   'pantalon chino lyocell bleu chloe stora chloe stora'],\n",
       "  'pantalon'),\n",
       " (['blazer veste rayures blanches',\n",
       "   'accueil ventes chloe stora femme gilet merinos rouge chloe stora',\n",
       "   'gilet merinos rouge',\n",
       "   'gilet merinos rouge chloe stora',\n",
       "   'pull maille beige',\n",
       "   'fermeture via boutons',\n",
       "   'pull rayures lame beige chloe',\n",
       "   'laine fibres metallisee',\n",
       "   'pantalon cigarette rayures bla',\n",
       "   'tennis cuir piquee blanc',\n",
       "   'finition tricot rayures beige gris'],\n",
       "  'gilet'),\n",
       " (['gilet merinos rouge',\n",
       "   'gilet merinos rouge chloe stora',\n",
       "   'pull rayures lame beige chloe',\n",
       "   'pull rayures lame beige chloe stora',\n",
       "   'col rond rouge',\n",
       "   'acrylique viscose polyester fibres metallisee',\n",
       "   'rayures rouge noir lame argent',\n",
       "   'pantalon cigarette rayures bla',\n",
       "   'pull maille beige',\n",
       "   'pull maille beige lame argent',\n",
       "   'tennis cuir piquee blanc',\n",
       "   'blazer veste rayures blanches',\n",
       "   'accueil ventes chloe stora femme pull rayures lame beige chloe stora'],\n",
       "  'pull'),\n",
       " (['pantalon palazzo brocart bleue fleurs chloe stora',\n",
       "   'polyester fibres metalliques',\n",
       "   'pantalon palazzo brocart bleu',\n",
       "   'petit conseillons dessus habituelle',\n",
       "   'pantalon palazzo brocart rose',\n",
       "   'accueil ventes chloe stora femme pantalon palazzo brocart bleue fleurs chloe stora',\n",
       "   'pantalon brocart bleu',\n",
       "   'fermeture glissiere patte crochet',\n",
       "   'motifs fleuris fantaisies'],\n",
       "  'pantalon'),\n",
       " (['accueil ventes chloe stora femme pantalon chino crepe cotele kaki chloe stora',\n",
       "   'top rayures soie forteforte',\n",
       "   'pantalon crepe kaki',\n",
       "   'ceinture elastique noir rayures doree',\n",
       "   'pantalon chino lyocell beige',\n",
       "   'viscose polyamide doublure polyester coton',\n",
       "   'pantalon chino crepe cotele kaki chloe stora',\n",
       "   'pantalon chino crepe cotele',\n",
       "   'soie col rond'],\n",
       "  'pantalon'),\n",
       " (['short soie blanc casse impr',\n",
       "   'short soie blanc',\n",
       "   'accueil ventes chloe stora femme short soie blanc casse imprimee trompe oeil chloe stora',\n",
       "   'imprime trompe oeil geometrique noir rouge',\n",
       "   'short soie blanc casse imprimee trompe oeil chloe stora'],\n",
       "  'short'),\n",
       " (['poches passepoilees arriere boutons classique',\n",
       "   'pantalon chino beige satine chlo',\n",
       "   'accueil ventes chloe stora femme pantalon chino beige satine chloe stora',\n",
       "   'chemisier coton blanc col',\n",
       "   'pantalon chino beige satine chloe stora'],\n",
       "  'pantalon'),\n",
       " (['accueil ventes chloe stora femme chemisier coton bleu carreaux chloe stora',\n",
       "   'carreaux brique bleu noir',\n",
       "   'chemisier coton bleu',\n",
       "   'chemisier coton bleu carreaux chloe stora',\n",
       "   'fermeture boutons pattes',\n",
       "   'jean skinny coton bleu renhsen',\n",
       "   'chemisier coton bleu carrea'],\n",
       "  'chemisier'),\n",
       " (['jupe boheme coton beige ray',\n",
       "   'jupe coton beige',\n",
       "   'touche boheme tissu',\n",
       "   'jupe boheme coton beige rayures chloe stora',\n",
       "   'accueil ventes chloe stora femme jupe boheme coton beige rayures chloe stora',\n",
       "   'tennis cuir piquee blanc',\n",
       "   'acrylique lin coton'],\n",
       "  'jupe'),\n",
       " (['lyocell respectueux environnement resistant respirant',\n",
       "   'pantalon lyocell beige',\n",
       "   'accueil ventes chloe stora femme pantalon chino lyocell beige chloe stora',\n",
       "   'pantalon chino lyocell beige',\n",
       "   'ceinture elastique fantaisie rayure kaki',\n",
       "   'lyocell doublure coton',\n",
       "   'poches prise couture',\n",
       "   'publie date commande',\n",
       "   'pantalon chino crepe cotele'],\n",
       "  'pantalon'),\n",
       " (['motif petit carreaux marron',\n",
       "   'pantalon tailleur laine',\n",
       "   'motif petit carreaux',\n",
       "   'accueil ventes chloe stora femme veste tailleur laine marron carreaux chloe stora',\n",
       "   'blouse crepes bleu',\n",
       "   'veste tailleur laine marro',\n",
       "   'veste tailleur laine marron carreaux chloe stora',\n",
       "   'blouse crepe bleu imprime',\n",
       "   'veste laine gris',\n",
       "   'laine polyamide autres fibres doublure viscose'],\n",
       "  'veste'),\n",
       " (['veste satin duchesse rose rayures jaunes chloe stora',\n",
       "   'accueil ventes chloe stora femme veste satin duchesse rose rayures jaunes chloe stora',\n",
       "   'entierement doublee satin',\n",
       "   'longueur legerement asymetrique',\n",
       "   'pantalon palazzo satin duches',\n",
       "   'viscose doublure acetate viscose',\n",
       "   'veste satin duchesse rose',\n",
       "   'rayures fantaisies jaune noire bleu marron',\n",
       "   'blouse soie moutarde chloe stora',\n",
       "   'fermeture boutons fantaisies'],\n",
       "  'veste'),\n",
       " (['accueil ventes chloe stora femme pantalon chino vert imprime floral chloe stora',\n",
       "   'pantalon chino vert imprime floral chloe stora',\n",
       "   'pantalon chino vert imprime',\n",
       "   'imprime floral beige',\n",
       "   'fermeture glissiere patte crochet',\n",
       "   'pantalon coton vert',\n",
       "   'collier cordon saumon franges'],\n",
       "  'pantalon'),\n",
       " (['jupe crayon soie bleu rayures chloe stora',\n",
       "   'blouse soie bleu',\n",
       "   'blouse soie bleu rayures',\n",
       "   'fermeture glissiere cote gauche',\n",
       "   'jupe crayon soie bleu rayur',\n",
       "   'accueil ventes chloe stora femme jupe crayon soie bleu rayures chloe stora',\n",
       "   'plie fantaisie croise',\n",
       "   'jupe soie bleu',\n",
       "   'laine viscose soie polyamide acrylique'],\n",
       "  'jupe'),\n",
       " (['accueil ventes chloe stora femme blouse soie bleu rayures chloe stora',\n",
       "   'blouse soie bleu',\n",
       "   'poignets fendues croises',\n",
       "   'blouse soie bleu rayures',\n",
       "   'jupe crayon soie bleu rayur',\n",
       "   'blouse soie bleu rayures chloe stora',\n",
       "   'jupe soie bleu',\n",
       "   'laine viscose soie polyamide acrylique'],\n",
       "  'blouse'),\n",
       " (['polyester fibres metalliques',\n",
       "   'pantalon palazzo brocart bleu',\n",
       "   'petit conseillons dessus habituelle',\n",
       "   'pantalon brocart rose',\n",
       "   'pantalon palazzo brocart rose',\n",
       "   'accueil ventes chloe stora femme pantalon palazzo brocart rose fleurs chloe stora',\n",
       "   'fermeture glissiere patte crochet',\n",
       "   'motifs fleuris fantaisies',\n",
       "   'pantalon palazzo brocart rose fleurs chloe stora'],\n",
       "  'pantalon'),\n",
       " (['accueil ventes chloe stora femme blouse cupro bleu fleurs chloe stora',\n",
       "   'poignets fendues croises',\n",
       "   'blouse cupro bleu',\n",
       "   'blouse cupro bleu fleurs chloe stora',\n",
       "   'pantalon smoking noir pince',\n",
       "   'blouse cupro bleu fleurs'],\n",
       "  'blouse'),\n",
       " (['accueil ventes chloe stora femme chemise verte satin rayures bordeaux chloe stora',\n",
       "   'poignets casses simples boutonnages',\n",
       "   'pantalon satin vert',\n",
       "   'fermeture boutons recouverts',\n",
       "   'pantalon vert smocke satin',\n",
       "   'chemise vert sapins satin',\n",
       "   'chemise verte satin rayures bordeaux chloe stora',\n",
       "   'imprime rayures fantaisies',\n",
       "   'chemise verte satin rayures',\n",
       "   'chemise vert sapins',\n",
       "   'imprime rayures bordeaux beige'],\n",
       "  'chemise'),\n",
       " (['poches passepoilees poche rabat',\n",
       "   'polyester doublure viscose',\n",
       "   'veste crepe texturee bleue',\n",
       "   'mannequin mesure 1m70 porte',\n",
       "   'blazer veste bleue motifs fantaisies chloe stora',\n",
       "   'robe vert sapin',\n",
       "   'robe verte plissee lurex',\n",
       "   'accueil ventes chloe stora femme blazer veste bleue motifs fantaisies chloe stora',\n",
       "   'blazer veste bleue motifs fant',\n",
       "   'motifs fantaisies doree fuchsia'],\n",
       "  'blazer'),\n",
       " (['accueil ventes chloe stora femme blazer veste rayures blanches grises chloe stora',\n",
       "   'gilet merinos rouge',\n",
       "   'gilet merinos rouge chloe stora',\n",
       "   'pull rayures lame beige chloe',\n",
       "   'pantalon cigarette rayures bla',\n",
       "   'blazer veste rayures blanches grises chloe stora',\n",
       "   'pull maille beige',\n",
       "   'tennis cuir piquee blanc',\n",
       "   'proprete interieur biais leopard',\n",
       "   'blazer veste rayures blanches',\n",
       "   'polyester laine doublure coton doublure manches viscose',\n",
       "   'imprime fine rayures beige gris'],\n",
       "  'blazer'),\n",
       " (['accueil ventes swims homme short bain bleu swims',\n",
       "   'polyester doublure polyamide elasthanne',\n",
       "   'sandale claquette caoutchouc'],\n",
       "  'short'),\n",
       " (['maillot bain marron',\n",
       "   'imprime tropical marron vert',\n",
       "   'slip maillot bain marron',\n",
       "   'pince milieu devant',\n",
       "   'accueil ventes bikkembergs homme slip maillot bain marron imprime tropical bikkembergs',\n",
       "   'slip maillot bain marron imprime tropical bikkembergs',\n",
       "   'elastique cordon serrage'],\n",
       "  'slip'),\n",
       " (['maillot bain raye blanc noir dolce gabbana',\n",
       "   'accueil ventes dolce gabbana homme maillot bain raye blanc noir dolce gabbana',\n",
       "   'maillot bain raye blanc',\n",
       "   'short bain rayures poches laterales poche gousset poches passepoilees bouton arriere slip filet interieur nylon elastique fermeture zip bouton',\n",
       "   'coton polyamide elasthanne tissu polyamide elasthanne'],\n",
       "  'maillot'),\n",
       " (['logo metal cote gauche',\n",
       "   'pince milieu devant',\n",
       "   'empiecement lurex metallise bleu',\n",
       "   'slip bain bleu lurex metall',\n",
       "   'slip bain bleu lurex metallise robinson bains',\n",
       "   'doublure filet blanche',\n",
       "   'maillot bain bleu',\n",
       "   'accueil ventes robinson bains homme slip bain bleu lurex metallise robinson bains'],\n",
       "  'slip'),\n",
       " (['accueil ventes dolce gabbana homme short bain vert eau logo lateral dolce gabbana',\n",
       "   'logo lateral multicolore',\n",
       "   'doublure filet blanche',\n",
       "   'short bain vert eau logo',\n",
       "   'liens serrage violets',\n",
       "   'short bain bleu',\n",
       "   'short bain vert eau logo lateral dolce gabbana'],\n",
       "  'short'),\n",
       " (['maillot bain fushia',\n",
       "   'maillot bain noir',\n",
       "   'slip bain fushia logo brode',\n",
       "   'pince milieu devant',\n",
       "   'doublure filet blanc',\n",
       "   'slip bain bleu raye logo',\n",
       "   'accueil ventes robinson bains homme slip bain noir motif tropical robinson bains',\n",
       "   'slip bain noir motif tropic',\n",
       "   'slip bain noir motif tropical robinson bains',\n",
       "   'maillot bain bleu',\n",
       "   'polyamide elasthanne doublure polyamide elasthanne'],\n",
       "  'slip'),\n",
       " (['maillot bain fushia',\n",
       "   'maillot bain noir',\n",
       "   'accueil ventes robinson bains homme slip bain fushia logo brode robinson bains',\n",
       "   'slip bain fushia logo brode',\n",
       "   'slip bain fushia logo brode robinson bains',\n",
       "   'logo brode noir cote gauche',\n",
       "   'pince milieu devant',\n",
       "   'slip bain bleu raye logo',\n",
       "   'slip bain noir motif tropic',\n",
       "   'doublure filet blanche',\n",
       "   'maillot bain bleu'],\n",
       "  'slip'),\n",
       " (['slip maillot bain vert fluo',\n",
       "   'flocage inscription bleue aux fesses',\n",
       "   'slip maillot bain vert fluo dsquared',\n",
       "   'maillot bain vert fluo',\n",
       "   'maillot bain vert',\n",
       "   'accueil ventes dsquared2 homme slip maillot bain vert fluo dsquared'],\n",
       "  'slip'),\n",
       " (['short bain noir',\n",
       "   'short bain noir motifs tricolores robinson bains',\n",
       "   'short bain noir motifs tric',\n",
       "   'accueil ventes robinson bains homme short bain noir motifs tricolores robinson bains',\n",
       "   'finition biais noir',\n",
       "   'motifs geometriques verts blancs rouges'],\n",
       "  'short'),\n",
       " (['pince milieu devant',\n",
       "   'slip bain violet logo brode',\n",
       "   'logo brode blanc cote gauche',\n",
       "   'slip bain violet logo brode robinson bains',\n",
       "   'maillot bain violet',\n",
       "   't-shirt coton noir col rond',\n",
       "   'accueil ventes robinson bains homme slip bain violet logo brode robinson bains',\n",
       "   'polyamide elasthanne doublure polyamide',\n",
       "   'doublure filet blanche',\n",
       "   'shirt coton noir'],\n",
       "  'slip'),\n",
       " (['maillot bain bleu motifs robinson bains',\n",
       "   'polyester doublure polyester elasthanne',\n",
       "   'short bain bleu',\n",
       "   'poche zippee poche italienne',\n",
       "   'maillot bain bleu motifs',\n",
       "   'boutons pressions pattes bouton griffe',\n",
       "   'accueil ventes robinson bains homme maillot bain bleu motifs robinson bains'],\n",
       "  'maillot'),\n",
       " (['shirt coton noir',\n",
       "   'ceinture blanche contrastante',\n",
       "   'maillot bain noir',\n",
       "   'boxer bain noir ceinture blanche robinson bains',\n",
       "   't-shirt coton noir col rond',\n",
       "   'accueil ventes robinson bains homme boxer bain noir ceinture blanche robinson bains',\n",
       "   'boxer bain bleu motifs geom',\n",
       "   'doublure filet blanche',\n",
       "   'maillot bain bleu',\n",
       "   'boxer bain noir ceinture'],\n",
       "  'boxer'),\n",
       " (['maillot bain noir',\n",
       "   'boxer bain bleu motifs geometriques robinson bains',\n",
       "   'motifs geometriques gris',\n",
       "   'boxer bain bleu motifs geom',\n",
       "   'doublure filet blanche',\n",
       "   'maillot bain bleu',\n",
       "   'boxer bain noir ceinture',\n",
       "   'accueil ventes robinson bains homme boxer bain bleu motifs geometriques robinson bains'],\n",
       "  'boxer'),\n",
       " (['shirt coton noir',\n",
       "   'boutons griffe dore',\n",
       "   'accueil ventes robinson bains homme boxer bain bleu boutons dores robinson bains',\n",
       "   'boxer bain bleu boutons dor',\n",
       "   'poche fantaisie cote gauche',\n",
       "   't-shirt coton noir col rond',\n",
       "   'maillot bain bleu',\n",
       "   'boxer bain bleu boutons dores robinson bains'],\n",
       "  'boxer'),\n",
       " (['shirt coton noir',\n",
       "   'accueil ventes robinson bains homme boxer bain bleu poche fantaisie robinson bains',\n",
       "   'boxer bain bleu poche fanta',\n",
       "   'boxer bain bleu poche fantaisie robinson bains',\n",
       "   'passant ceinture blanche contrastante',\n",
       "   'maillot bain bleu',\n",
       "   'polyamide elasthanne doublure polyamide elasthanne',\n",
       "   't-shirt coton noir col rond',\n",
       "   'poche fantaisie cote gauche'],\n",
       "  'boxer'),\n",
       " (['maillot bain blanc',\n",
       "   'slip bain blanc broderie logo robinson bains',\n",
       "   'pince milieu devant',\n",
       "   'accueil ventes robinson bains homme slip bain blanc broderie logo robinson bains',\n",
       "   'polyamide elasthanne doublure polyester elasthanne',\n",
       "   'broderie logo dore cote gauche',\n",
       "   'slip bain blanc broderie',\n",
       "   'doublure filet blanche'],\n",
       "  'slip'),\n",
       " (['accueil ventes mugler homme maillot bains violet motif abstrait mugler',\n",
       "   'imprime abstrait multicolore',\n",
       "   'maillot bains violet motif abstrait mugler',\n",
       "   'maillot bain violet',\n",
       "   'boutons pressions fantaisie griffee',\n",
       "   'maillot bains violet motif',\n",
       "   'normalement conseillons prendre habituelle',\n",
       "   'brides sangles fantaisie reglable'],\n",
       "  'maillot'),\n",
       " (['slip bain vert biais bleu dsquared',\n",
       "   'accueil ventes dsquared2 homme slip bain vert biais bleu dsquared',\n",
       "   'maillot bain vert',\n",
       "   'slip bain vert biais bleu',\n",
       "   'logo metal dsquard cote gauche'],\n",
       "  'slip'),\n",
       " (['accueil ventes robinson bains homme maillot bain noir robinson bains',\n",
       "   'doublure filet blanc',\n",
       "   'maillot bain noir robinson bains',\n",
       "   'maillot bain noir robinson',\n",
       "   'polyamide elasthanne doublure polyamide elasthanne'],\n",
       "  'maillot'),\n",
       " (['imprime reptile noir',\n",
       "   'slip maillot bain bleu robert',\n",
       "   'accueil ventes roberto cavalli homme slip maillot bain bleu roberto cavalli',\n",
       "   'pince milieu devant',\n",
       "   'maillot bain bleu electrique',\n",
       "   'mannequin mesure porte',\n",
       "   'smockee biais blanc fantaisie',\n",
       "   'slip maillot bain bleu roberto cavalli',\n",
       "   'maillot bain bleu'],\n",
       "  'slip'),\n",
       " (['julian floque bleu',\n",
       "   'accueil ventes dsquared2 homme slip maillot bain violet dsquard2',\n",
       "   'slip maillot bain violet dsqu',\n",
       "   'slip maillot bain violet dsquard2',\n",
       "   'pince milieu devant',\n",
       "   'flocage international gigolo aux fesses',\n",
       "   'mannequin mesure porte',\n",
       "   'maillot bain violet'],\n",
       "  'slip'),\n",
       " (['motifs geometriques bleu',\n",
       "   'accueil ventes robinson bains homme short bain bleu motifs robinson bains',\n",
       "   'short bain gris',\n",
       "   'short bain bleu motifs robinson bains',\n",
       "   'short bain bleu motifs robi',\n",
       "   'finition biais gris'],\n",
       "  'short'),\n",
       " (['brides sangles fantaisie reglables',\n",
       "   'slip bain violet motif abstrait thierry mugler',\n",
       "   'imprime abstrait multicolore',\n",
       "   'maillot bain violet',\n",
       "   'accueil ventes mugler homme slip bain violet motif abstrait thierry mugler',\n",
       "   'boutons pression fantaisie griffes',\n",
       "   'slip bain violet motif abst'],\n",
       "  'slip'),\n",
       " (['imprime carreaux jaune rose bleu noir',\n",
       "   'polyester doublure polyester elasthanne',\n",
       "   'poche zippee patch fesse gauche',\n",
       "   'short bain blanc carreaux',\n",
       "   'patch robinson bains bas gauche',\n",
       "   'accueil ventes robinson bains homme short bain blanc carreaux multicolores robinson bains',\n",
       "   'boutons pressions pattes boutons fantaisie griffee',\n",
       "   'short bain blanc carreaux multicolores robinson bains',\n",
       "   'short bain blanc',\n",
       "   'bride pressions serrage'],\n",
       "  'short'),\n",
       " (['shirt coton noir',\n",
       "   'accueil ventes robinson bains homme boxer bain bleu robinson bains',\n",
       "   'patch logo cote gauche',\n",
       "   'polyamide elasthanne doublure polyamide',\n",
       "   'boxer bain bleu robinson',\n",
       "   't-shirt coton noir col rond',\n",
       "   'maillot bain bleu',\n",
       "   'boxer bain bleu robinson bains'],\n",
       "  'boxer'),\n",
       " (['finition biais blanc',\n",
       "   'slip bain bleu imprime floral vert guess',\n",
       "   'pince milieu devant',\n",
       "   'imprime floral vert',\n",
       "   'slip bain bleu imprime flor',\n",
       "   'oeillet argent fantaisie',\n",
       "   'maillot bain bleu',\n",
       "   'normalement conseillons prendre habituelle',\n",
       "   'accueil ventes guess homme slip bain bleu imprime floral vert guess'],\n",
       "  'slip'),\n",
       " (['slip bain bleu raye logo brode robinson bains',\n",
       "   'maillot bain fushia',\n",
       "   'maillot bain noir',\n",
       "   'slip bain fushia logo brode',\n",
       "   'pince milieu devant',\n",
       "   'logo brode cote gauche',\n",
       "   'slip bain bleu raye logo',\n",
       "   'accueil ventes robinson bains homme slip bain bleu raye logo brode robinson bains',\n",
       "   'slip bain noir motif tropic',\n",
       "   'doublure filet blanche',\n",
       "   'maillot bain bleu'],\n",
       "  'slip'),\n",
       " (['cote fendu croise',\n",
       "   'short bain bleu carreaux',\n",
       "   'imprime carreaux gris',\n",
       "   'polyester doublure polyester elasthanne',\n",
       "   'accueil ventes robinson bains homme short bain bleu carreaux gris robinson bains',\n",
       "   'short bain bleu',\n",
       "   'short bain bleu carreaux gris robinson bains',\n",
       "   'finition biais bleu electrique',\n",
       "   'patch robinson bains bas gauche'],\n",
       "  'short'),\n",
       " (['pochette ordinateur orange cote ciel',\n",
       "   'concu macbook pro ecran retina pochette comporte bordure protection anti-rayure',\n",
       "   'accueil ventes cote ciel homme pochette ordinateur orange cote ciel',\n",
       "   'concu macbook pro',\n",
       "   'pochette ordinateur orange cote'],\n",
       "  'pochette'),\n",
       " (['pochette ordinateur kaki cote ciel',\n",
       "   'concu macbook pro ecran retina pochette comporte bordure protection anti-rayure',\n",
       "   'concu macbook pro',\n",
       "   'pochette ordinateur kaki cote',\n",
       "   'accueil ventes cote ciel homme pochette ordinateur kaki cote ciel'],\n",
       "  'pochette'),\n",
       " (['pochette ordinateur zippee orang',\n",
       "   'concu macbook pro',\n",
       "   'concu macbook pro ecran retina pochette zippee comporte bordure protection anti-rayure',\n",
       "   'accueil ventes cote ciel homme pochette ordinateur zippee orange cote ciel',\n",
       "   'pochette ordinateur zippee orange cote ciel'],\n",
       "  'pochette'),\n",
       " (['pochette ordinateur noir cote ciel',\n",
       "   'accueil ventes cote ciel homme pochette ordinateur noir cote ciel',\n",
       "   'pochette ordinateur noir cot',\n",
       "   'ordinateur pochette zippee comporte bordure protection anti-rayure'],\n",
       "  'pochette'),\n",
       " (['pochette grise ipad cote ciel',\n",
       "   'pochette style tote comporte poignee couture systeme serrure instantanee transport compose double couche microfibre proteger ipad accueil ipad permet ranger importe sac cote ciel',\n",
       "   'pochette style tote',\n",
       "   'pochette grise ipad cote',\n",
       "   'accueil ventes cote ciel homme pochette grise ipad cote ciel'],\n",
       "  'pochette'),\n",
       " (['accueil ventes cote ciel homme pochette noire ipad cote ciel cote ciel',\n",
       "   'pochette style tote',\n",
       "   'compose double couche microfibre proteger ipad',\n",
       "   'pochette noire ipad cote ciel cote ciel',\n",
       "   'pochette noire ipad cote',\n",
       "   'pochette style tote comporte poignee couture systeme serrure instantanee transport',\n",
       "   'accueil ipad permet ranger importe sac cote ciel'],\n",
       "  'pochette'),\n",
       " (['concu macbook pro',\n",
       "   'concu macbook pro ecran retina pochette zippee comporte bordure protection anti-rayure',\n",
       "   'accueil ventes cote ciel homme pochette kaki ordinateur cote ciel',\n",
       "   'pochette kaki ordinateur cote ciel',\n",
       "   'pochette kaki ordinateur'],\n",
       "  'pochette'),\n",
       " (['poche fantaisie fourrure noir',\n",
       "   'sac rouge carreaux noir',\n",
       "   'imprime vichy noir',\n",
       "   'fermeture sangles cuirs',\n",
       "   'sac rouge carreaux noir poche fourrure moose knuckles',\n",
       "   'logo cuir niveau chapeau',\n",
       "   'poches plaquees interieur',\n",
       "   'accueil ventes moose knucles homme sac rouge carreaux noir poche fourrure moose knuckles'],\n",
       "  'sac'),\n",
       " (['pochette ordinateur rose cot',\n",
       "   'pochette ordinateur rose cote ciel',\n",
       "   'pochette interieur indigo ultra fine legere macbook air pouces concue eco yarn',\n",
       "   'accueil ventes cote ciel homme pochette ordinateur rose cote ciel'],\n",
       "  'pochette'),\n",
       " (['cette pochette ipad 2-3 retina constituee cuir vachette epais lisse bords cires polis coutures contrastees soulignent style support multi-fonction offrant positions ecrire regarder fente aux bords francs acceuille ipad simplicite pochette exterieure destine document',\n",
       "   'pochette cuir ipad',\n",
       "   'accueil ventes cote ciel homme pochette cuir ipad'],\n",
       "  'pochette'),\n",
       " (['accueil ventes cote ciel homme pochette corail ipad cote ciel',\n",
       "   'pochette style tote comporte poignee couture systeme serrure instantanee transport compose double couche microfibre proteger ipad accueil ipad permet ranger importe sac cote ciel',\n",
       "   'pochette style tote',\n",
       "   'pochette corail ipad cote',\n",
       "   'pochette corail ipad cote ciel'],\n",
       "  'pochette'),\n",
       " (['concu macbook pro',\n",
       "   'concu macbook pro ecran retina pochette zippee comporte bordure protection anti-rayure',\n",
       "   'pochette violette ordinateur',\n",
       "   'accueil ventes cote ciel homme pochette violette ordinateur cote ciel',\n",
       "   'pochette violette ordinateur cote ciel'],\n",
       "  'pochette'),\n",
       " (['concu macbook pro',\n",
       "   'concu macbook pro ecran retina pochette zippee comporte bordure protection anti-rayure',\n",
       "   'pochette violette ordinateur',\n",
       "   'accueil ventes cote ciel homme pochette violette ordinateur cote ciel',\n",
       "   'pochette violette ordinateur cote ciel'],\n",
       "  'pochette'),\n",
       " (['concu macbook pro ecran retina pochette comporte bordure protection anti-rayure',\n",
       "   'concu macbook pro',\n",
       "   'pochette ordinateur rose cote',\n",
       "   'pochette ordinateur rose cote ciel',\n",
       "   'accueil ventes cote ciel homme pochette ordinateur rose cote ciel'],\n",
       "  'pochette'),\n",
       " (['sac mutipoches renforcement coques souple cuir pochette interieur amovible dimension l40cm h55cm 30l',\n",
       "   'accueil ventes kris van assche homme sac bleu krisvanassche',\n",
       "   'bordures details cuir',\n",
       "   'sac bleu krisvanassche'],\n",
       "  'sac'),\n",
       " (['accueil ventes cote ciel homme pochette orange macbook air pouces cote ciel',\n",
       "   'pochette interieur indigo ultra fine legere macbook air pouces concue eco yarn',\n",
       "   'pochette orange macbook air pouces cote ciel',\n",
       "   'pochette orange macbook air'],\n",
       "  'pochette'),\n",
       " (['concu macbook pro',\n",
       "   'concu macbook pro ecran retina pochette zippee comporte bordure protection anti-rayure',\n",
       "   'pochette ordinateur cote ciel',\n",
       "   'accueil ventes cote ciel homme pochette ordinateur cote ciel'],\n",
       "  'pochette'),\n",
       " (['concu macbook pro',\n",
       "   'pochette ordinateur rose cot',\n",
       "   'concu macbook pro ecran retina pochette zippee comporte bordure protection anti-rayure',\n",
       "   'pochette ordinateur rose cote ciel',\n",
       "   'accueil ventes cote ciel homme pochette ordinateur rose cote ciel'],\n",
       "  'pochette'),\n",
       " (['concu macbook pro',\n",
       "   'pochette ordinateur gris cote ciel',\n",
       "   'concu macbook pro ecran retina pochette zippee comporte bordure protection anti-rayure',\n",
       "   'accueil ventes cote ciel homme pochette ordinateur gris cote ciel',\n",
       "   'pochette ordinateur gris cote'],\n",
       "  'pochette'),\n",
       " (['pochette grise macbook',\n",
       "   'concu laptops pouces',\n",
       "   'pochette grise macbook pouces cote ciel',\n",
       "   'specialement concu protexction seconde peau acces failite macbook pro',\n",
       "   'accueil ventes cote ciel homme pochette grise macbook pouces cote ciel',\n",
       "   'design ultra-slim grace diamond grip textile'],\n",
       "  'pochette'),\n",
       " (['fermeture glissiere argent',\n",
       "   'sangles arriere amovible',\n",
       "   'cuir marron coton gris',\n",
       "   'logo metal landi',\n",
       "   'poche xxl cuir tresse marron fermeture glissiere',\n",
       "   'finition incrustation cuir marron',\n",
       "   'porter sac sac main',\n",
       "   'sac gris poche xxl',\n",
       "   'anses cuir marron',\n",
       "   'cuir marron coton',\n",
       "   'porter sac main sac',\n",
       "   'poche zippee poche plaquee interieur',\n",
       "   'accueil ventes landi femme sac gris poche xxl cuir marron tresse landi',\n",
       "   'entierement doublee toile gris',\n",
       "   'sac gris poche xxl cuir marron tresse landi'],\n",
       "  'sac'),\n",
       " (['pochette ordinateur zippee orang',\n",
       "   'concu macbook pro',\n",
       "   'concu macbook pro ecran retina pochette zippee comporte bordure protection anti-rayure',\n",
       "   'accueil ventes cote ciel homme pochette ordinateur zippee orange cote ciel',\n",
       "   'pochette ordinateur zippee orange cote ciel',\n",
       "   'publie date commande'],\n",
       "  'pochette'),\n",
       " (['pochette noir ordinateur',\n",
       "   'concu macbook pro',\n",
       "   'concu macbook pro ecran retina pochette zippee comporte bordure protection anti-rayure',\n",
       "   'accueil ventes cote ciel homme pochette noir ordinateur cote ciel',\n",
       "   'pochette noir ordinateur cote ciel'],\n",
       "  'pochette'),\n",
       " (['col rond decoupe',\n",
       "   'bracelet jonc doree breloques',\n",
       "   'motifs cloutes etoiles',\n",
       "   'poche plaquee cloutee',\n",
       "   'mannequin mesure 1m70 porte',\n",
       "   'accueil ventes department femme sweat manche kaki cloute department',\n",
       "   'sweat manche kaki cloute',\n",
       "   'jean skinny coton bleu renhsen',\n",
       "   'sweat coton kaki',\n",
       "   'sweat manche kaki cloute department'],\n",
       "  'sweat'),\n",
       " (['sweat blanc broderies fantaisies edition',\n",
       "   'sweat noir broderies fantaisie',\n",
       "   'accueil ventes edition femme sweat blanc broderies fantaisies edition',\n",
       "   'sweat blanc broderies fantaisi',\n",
       "   'broderies fantaisies sequins manches',\n",
       "   'jean regular bleu coutures lat'],\n",
       "  'sweat'),\n",
       " (['pantalon chino lyocell bleu',\n",
       "   'sweat blanc broderies fantaisies svnty',\n",
       "   'sweat blanc broderies fantaisi',\n",
       "   'broderies fantaisies perlees poitrine gauche',\n",
       "   'accueil ventes svnty femme sweat blanc broderies fantaisies svnty',\n",
       "   'broderies fantaisies oeil sequins'],\n",
       "  'sweat'),\n",
       " (['jupe satin duchesse',\n",
       "   'jupe trapeze noir fleuris dent',\n",
       "   'sweat blanc broderies fantaisi',\n",
       "   'broderies fantaisies perlees',\n",
       "   'accueil ventes svnty femme sweat blanc broderies fantaisies svnty'],\n",
       "  'sweat'),\n",
       " (['imprime floral insecte',\n",
       "   'sweat manches noir fleurie',\n",
       "   'sweat manches noir fleurie givenchy',\n",
       "   'capuche cordon serrage noir fin',\n",
       "   'mannequin mesure porte',\n",
       "   'sweat manches fleur givenchy',\n",
       "   'accueil ventes givenchy femme sweat manches noir fleurie givenchy',\n",
       "   'finition ourlet bord-cote'],\n",
       "  'sweat'),\n",
       " (['sweat blanc bandes laterales',\n",
       "   'coton application viscose polyester polyamide tissu polyester elasthanne',\n",
       "   'ecuissons fantaisies griffes',\n",
       "   'accueil ventes roberto cavalli femme sweat blanc bandes laterales roberto cavalli',\n",
       "   'sweat blanc bandes laterales roberto cavalli',\n",
       "   'finitions bords cote',\n",
       "   'mannequin mesure 1m65 porte',\n",
       "   'bandes laterales galons fantaisies aux manches'],\n",
       "  'sweat'),\n",
       " (['sweat blanc broderies fantaisies edition',\n",
       "   'vrais pierres swarovski',\n",
       "   'pantalon simili bleu huile',\n",
       "   'accueil ventes edition femme sweat blanc broderies fantaisies edition',\n",
       "   'broderies fantaisies pierres swarovski',\n",
       "   'sweat blanc broderies fantaisi',\n",
       "   'cote gauche fendue',\n",
       "   'manches longues coudes fendues'],\n",
       "  'sweat'),\n",
       " (['sweat rouge capuche pierres jijil',\n",
       "   'sweat rouge capuche pierres',\n",
       "   'mannequin mesure porte',\n",
       "   'broches fantaisies pierres poitrine gauche',\n",
       "   'accueil ventes jijil femme sweat rouge capuche pierres jijil',\n",
       "   'jean regular bleu coutures lat',\n",
       "   'capuche cordon lame'],\n",
       "  'sweat'),\n",
       " (['sweat bleu strass fantaisies jijil',\n",
       "   'jean coton bordeaux',\n",
       "   'sweat bleu strass fantaisies',\n",
       "   'sweat coton bleu turquoise',\n",
       "   'sweat coton bleu',\n",
       "   'accueil ventes jijil femme sweat bleu strass fantaisies jijil',\n",
       "   'jean bordeaux poches fantaisie',\n",
       "   'manches longues strass fantaisies'],\n",
       "  'sweat'),\n",
       " (['sweat violet fleuri dexters',\n",
       "   'accueil ventes dexters femme sweat gris fleuri dexters',\n",
       "   'jupe violette fleurie dexters',\n",
       "   'sweat gris fleuri dexters',\n",
       "   'jupe grise fleurie dexters'],\n",
       "  'sweat'),\n",
       " (['accueil ventes dexters femme sweat violet fleuri dexters',\n",
       "   'sweat violet fleuri dexters',\n",
       "   'jupe violette fleurie dexters',\n",
       "   'sweat gris fleuri dexters',\n",
       "   'jupe grise fleurie dexters'],\n",
       "  'sweat'),\n",
       " (['sweat coton violet',\n",
       "   'broderie lotto damir doma bas manche gauche',\n",
       "   'flocage fantaisie blanc',\n",
       "   'issue collaboration entre maison damir doma lotto',\n",
       "   'ligne damir doma lotto',\n",
       "   'accueil ventes damir doma femme sweat noir flocage damir doma',\n",
       "   'sweat noir flocage damir doma',\n",
       "   'sweat capuche violet flocage'],\n",
       "  'sweat'),\n",
       " (['coton fil argent',\n",
       "   'accueil ventes dexters femme sweat gris sequins dexters',\n",
       "   'manches contrastantes courtes sequins style baseball',\n",
       "   'sweat gris sequins dexters'],\n",
       "  'sweat'),\n",
       " (['sweat gris coeur dentelle',\n",
       "   'accueil ventes frankie morello femme sweat gris coeur dentelle noir frankie morello',\n",
       "   'sweat coton gris',\n",
       "   'viscose polyamide tissu acrylique polyester polyamide',\n",
       "   'sweat gris coeur dentelle noir frankie morello',\n",
       "   'finitions bords cote',\n",
       "   'coeur fantaisie galon dentelle',\n",
       "   'mannequin mesure 1m65 porte'],\n",
       "  'sweat'),\n",
       " (['jupe asymetrique brocart noir',\n",
       "   'logo maison morello brode aux epaules',\n",
       "   'accueil ventes frankie morello femme sweat coton noir logo brode frankie morello',\n",
       "   'sweat coton noir logo brode frankie morello',\n",
       "   'haut sweat mousseline',\n",
       "   'coton tissu acetate tissu coton elasthanne',\n",
       "   'sweat coton noir logo brode',\n",
       "   'jupe brocart noir'],\n",
       "  'sweat'),\n",
       " (['sweat noir broderies fantaisie',\n",
       "   'mannequin mesure porte',\n",
       "   'sweat blanc broderies fantaisi',\n",
       "   'broderies fantaisies sequins manches',\n",
       "   'sweat noir broderies fantaisies edition',\n",
       "   'jean coton blanc revers',\n",
       "   'accueil ventes edition femme sweat noir broderies fantaisies edition'],\n",
       "  'sweat'),\n",
       " (['sweat coton violet',\n",
       "   'sweat violet flocage damir doma',\n",
       "   'broderie lotto damir doma poitrine gauche',\n",
       "   'patch photo fantaisie',\n",
       "   'issue collaboration entre maison damir doma lotto',\n",
       "   'ligne damir doma lotto',\n",
       "   'accueil ventes damir doma femme sweat violet flocage damir doma',\n",
       "   'mannequin mesure 175cm porte'],\n",
       "  'sweat'),\n",
       " (['accueil ventes jijil femme sweat blanc raye flocage levres jijil',\n",
       "   'sweat blanc raye flocage levr',\n",
       "   'sweat blanc raye flocage levres jijil',\n",
       "   'normale conseillons prendre habituelle',\n",
       "   'flocage levres paillete'],\n",
       "  'sweat'),\n",
       " (['sweat coton violet',\n",
       "   'broderie lotto damir doma bas manche gauche',\n",
       "   'flocage fantaisie blanc',\n",
       "   'issue collaboration entre maison damir doma lotto',\n",
       "   'ligne damir doma lotto',\n",
       "   'accueil ventes damir doma femme sweat capuche violet flocage damir doma',\n",
       "   'sweat noir flocage damir doma',\n",
       "   'sweat capuche violet flocage'],\n",
       "  'sweat'),\n",
       " (['accueil ventes frankie morello femme sweat blanc imprime fantaisie noir frankie morello',\n",
       "   'sweat blanc imprime fantaisie noir frankie morello',\n",
       "   'imprime fantaisie noir',\n",
       "   'sweat blanc imprime fantaisie',\n",
       "   'finitions bords cote',\n",
       "   'mannequin mesure 1m65 porte'],\n",
       "  'sweat'),\n",
       " (['sac main cuir argent metallise proenza schouler',\n",
       "   'bride fantaisie cloute',\n",
       "   'accueil ventes proenza schouler femme sac main cuir argent metallise proenza schouler',\n",
       "   'sac main cuir argent metall'],\n",
       "  'sac'),\n",
       " (['sac main matiere orange motifs animal valentino',\n",
       "   'cuir toile orange',\n",
       "   'top maille noir',\n",
       "   'ligne red valentino',\n",
       "   'sac main matiere orange',\n",
       "   'anses cuir bleu',\n",
       "   'top maille noire manches',\n",
       "   'pantalon smoking noir pince',\n",
       "   'accueil ventes valentino femme sac main matiere orange motifs animal valentino'],\n",
       "  'sac'),\n",
       " (['logo fantaisie fleurie',\n",
       "   'accueil ventes mary katrantzou femme pochette bleue rayee motifs colore mary katrantzou',\n",
       "   'pompon fantaisie perle',\n",
       "   'pvc polyester coton tissu cuir veau',\n",
       "   'pvc cuir blanc bleu',\n",
       "   'pochette bleue rayee motifs colore mary katrantzou',\n",
       "   'pvc cuir blanc',\n",
       "   'pochette bleue rayee motifs'],\n",
       "  'pochette'),\n",
       " (['fermeture glissiere aimant',\n",
       "   'simili cuir jaune',\n",
       "   'accueil ventes guess femme sac main cabas jaune logo metal guess',\n",
       "   'poche zippee poches plaquees interieur',\n",
       "   'logo metal guess',\n",
       "   'anses simili cuir vernis',\n",
       "   'sac main cabas jaune logo',\n",
       "   'poche zippee arriere'],\n",
       "  'sac'),\n",
       " (['pochette bordeaux voyage',\n",
       "   'accueil ventes charlotte olympia femme pochette bordeaux voyage charlotte olympia',\n",
       "   'pochette bordeaux voyage charlotte olympia'],\n",
       "  'pochette'),\n",
       " (['accueil ventes valentino femme pochette bandouliere rose dentelle valentino',\n",
       "   'pochette bandouliere rose',\n",
       "   'ligne red valentino',\n",
       "   'pochette bandouliere rose dentelle valentino',\n",
       "   'galon dentelle noir noeud fantaisie',\n",
       "   'bandouliere cuir vernis noir'],\n",
       "  'pochette'),\n",
       " (['robe maille rouge paillete',\n",
       "   'anses cuir camel',\n",
       "   'sac main cuir',\n",
       "   'cuir tresse facon cage',\n",
       "   'accueil ventes landi femme sac cabas cuir daim cage landi',\n",
       "   'fermeture liens pressions',\n",
       "   'panneaux cuir tresse facon cage violet camel',\n",
       "   'sac main cuir daim beige',\n",
       "   'entierement double jaune',\n",
       "   'sac cabas cuir daim cage landi',\n",
       "   'sac cabas cuir daim cage',\n",
       "   'robe maille orange'],\n",
       "  'sac'),\n",
       " (['accueil ventes valentino femme sac main cuir jaune valentino',\n",
       "   'sac main cuir jaune valentino',\n",
       "   'boulons fantaisie cotes',\n",
       "   'bandouliere cuir jaune'],\n",
       "  'sac'),\n",
       " (['pochette transparente mary katrantzou',\n",
       "   'accueil ventes mary katrantzou femme pochette transparente mary katrantzou',\n",
       "   'hauteur longueur largeur',\n",
       "   'pochette transparente mary katra'],\n",
       "  'pochette'),\n",
       " (['pochette rose motifs jacquard mary katrantzou',\n",
       "   'hauteur longueur largeur',\n",
       "   'accueil ventes mary katrantzou femme pochette rose motifs jacquard mary katrantzou',\n",
       "   'pochette rose motifs jacquard'],\n",
       "  'pochette'),\n",
       " (['pochette cuir rouge cloute',\n",
       "   'bandouliere cuir rouge chaine argent',\n",
       "   'accueil ventes paula cademartori femme pochette cuir rouge cloute paula cademartori'],\n",
       "  'pochette'),\n",
       " (['accueil ventes guess femme sac rouge guess',\n",
       "   'hauteur longueur largeur',\n",
       "   'sac rouge guess'],\n",
       "  'sac'),\n",
       " (['sac main cuir irise rose',\n",
       "   'cuir rose gold',\n",
       "   'accueil ventes alexander mcqueen femme sac main cuir irise rose gold alexander mcqueen'],\n",
       "  'sac'),\n",
       " (['sac besace noir mcm',\n",
       "   'hauteur longueur largeur',\n",
       "   'accueil ventes mcm femme sac besace noir mcm'],\n",
       "  'sac'),\n",
       " (['cuir bleu orange',\n",
       "   'sacoche bandouliere tricolores',\n",
       "   'sacoche bandouliere tricolores bleue victoria beckham',\n",
       "   'bandouliere amovible cuir orange',\n",
       "   'cuir bleu orange kaki',\n",
       "   'cuir veau doublure polyamide polyurethanne',\n",
       "   'logo flocke blanc',\n",
       "   'accueil ventes victoria beckham femme sacoche bandouliere tricolores bleue victoria beckham'],\n",
       "  'sacoche'),\n",
       " (['sac main noir motif alexande',\n",
       "   'fermeture mecanisme griffe',\n",
       "   'accueil ventes alexander mcqueen femme sac main noir motif alexander mcqueen',\n",
       "   'cuir graine noir',\n",
       "   'sac main noir motif alexander mcqueen'],\n",
       "  'sac'),\n",
       " (['anses cuir roses',\n",
       "   'sac main rose pailletes alexander mcqueen',\n",
       "   'accueil ventes alexander mcqueen femme sac main rose pailletes alexander mcqueen',\n",
       "   'bandouliere cuir rose',\n",
       "   'bijoux sac anse'],\n",
       "  'sac'),\n",
       " (['sac main rose sophie hulme',\n",
       "   'accueil ventes sophie hulme femme sac main rose sophie hulme',\n",
       "   'bandouliere amovible ajustable',\n",
       "   'anses cuir rose',\n",
       "   'bijoux argent cloute'],\n",
       "  'sac'),\n",
       " (['sac main noir motifs fleuris',\n",
       "   'cuir agneau doublure cuir agneau',\n",
       "   'bandouliere chaine doree',\n",
       "   'accueil ventes mary katrantzou femme sac main noir motifs fleuris mary katrantzou',\n",
       "   'sac main noir motifs fleuris mary katrantzou',\n",
       "   'motif fleurie rouge bleu'],\n",
       "  'sac'),\n",
       " (['sac cuir bleu graine coccinelle',\n",
       "   'hauteur longueur largeur',\n",
       "   'accueil ventes coccinelle femme sac cuir bleu graine coccinelle'],\n",
       "  'sac'),\n",
       " (['sac main cuir vernis bleu',\n",
       "   'cuir agneau doublure cuir agneau',\n",
       "   'accueil ventes mary katrantzou femme sac main cuir vernis bleu motif mary katrantzou',\n",
       "   'cuir vernis bleu',\n",
       "   'motif ecaille tortue',\n",
       "   'sac main cuir vernis bleu motif mary katrantzou',\n",
       "   'bandouliere chaine argent'],\n",
       "  'sac'),\n",
       " (['cuir kaki rose velours bleu',\n",
       "   'poche plaquee velours bleu',\n",
       "   'sac main kaki rose mary katrantzou',\n",
       "   'bandouliere amovible ajustable',\n",
       "   'sac main kaki rose mary kat',\n",
       "   'cuir veau tissu viscose doublure cuir agneau',\n",
       "   'accueil ventes mary katrantzou femme sac main kaki rose mary katrantzou',\n",
       "   'cuir kaki rose'],\n",
       "  'sac'),\n",
       " (['acrylique contrast nylon',\n",
       "   'pochette beige applications',\n",
       "   'hauteur longueur largeur',\n",
       "   'accueil ventes mary katrantzou femme pochette beige applications rose mary katrantzou',\n",
       "   'pochette beige applications rose mary katrantzou'],\n",
       "  'pochette'),\n",
       " (['sac main noir charlotte olympia',\n",
       "   'accueil ventes charlotte olympia femme sac main noir charlotte olympia',\n",
       "   'bandouliere fantaisie facon chaine'],\n",
       "  'sac'),\n",
       " (['toile cuir noir',\n",
       "   'accueil ventes proenza schouler femme sac main toile fleurie noir proenza schouler',\n",
       "   'imprime floral fluo',\n",
       "   'bandouliere chaine argent',\n",
       "   'sac main toile fleurie noir'],\n",
       "  'sac'),\n",
       " (['accueil ventes coccinelle femme sac seau cuir violet coccinelle',\n",
       "   'hauteur longueur largeur',\n",
       "   'sac seau cuir violet coccinelle'],\n",
       "  'sac'),\n",
       " (['interieur entierement double logo',\n",
       "   'bandouliere ajustable chaine argent simili rose',\n",
       "   'poche zippee poches plaquees interieur',\n",
       "   'logo metal fantaisie',\n",
       "   'simili cuir rose',\n",
       "   'sac bandouliere simili vernis',\n",
       "   'sac bandouliere simili vernis rose guess',\n",
       "   'accueil ventes guess femme sac bandouliere simili vernis rose guess'],\n",
       "  'sac'),\n",
       " (['sac shopping phone strap cuir veau gris',\n",
       "   'sac shopping phone strap',\n",
       "   'accueil ventes balenciaga femme sac shopping phone strap cuir veau gris',\n",
       "   'double porte deux anses bandouliere reglable amovible',\n",
       "   'fermeture dessus ouvert'],\n",
       "  'sac'),\n",
       " (['imprime animal dore',\n",
       "   'robe brocard noir',\n",
       "   'polyester tissu soie doublure viscose polyester',\n",
       "   'robe tailleur brocard noir',\n",
       "   'accueil ventes roberto cavalli femme robe tailleur brocard noir imprime animal roberto cavalli',\n",
       "   'ligne roberto cavalli',\n",
       "   'robe tailleur brocard noir imprime animal roberto cavalli',\n",
       "   'mannequin mesure 1m65 porte'],\n",
       "  'robe'),\n",
       " (['accueil ventes roberto cavalli femme foulard coton vert broderie fleurs roberto cavalli',\n",
       "   'foulard coton vert broderie fleurs roberto cavalli',\n",
       "   'foulard coton vert broderie'],\n",
       "  'foulard'),\n",
       " (['accueil ventes roberto cavalli femme sweat marron coton chine broderies flamand roberto cavalli',\n",
       "   'jean mom effet use bleu zoe karssen',\n",
       "   'sweat marron coton chine broderies flamand roberto cavalli',\n",
       "   'sweat marron coton',\n",
       "   'sweat marron coton chine',\n",
       "   'broderies centrales flamand',\n",
       "   'coton application fils metalliques plastique polyester verres laiton'],\n",
       "  'sweat'),\n",
       " (['cuir vachette graine',\n",
       "   'sac main vieux rose bijoux roberto cavalli femme',\n",
       "   'accueil ventes roberto cavalli femme sac main vieux rose bijoux roberto cavalli femme',\n",
       "   'bandouliere chaine doree',\n",
       "   'sac main vieux rose bijoux'],\n",
       "  'sac'),\n",
       " (['polyester rembourrage plume canard duvet canard',\n",
       "   'doudoune bleu matelassee ceint',\n",
       "   'doudoune bleu matelassee ceinture bijoux roberto cavalli',\n",
       "   'fermeture boutons pression',\n",
       "   'pantalon fuseau blanc moncler',\n",
       "   'debardeur soie blanc calvin',\n",
       "   'ceinture amovible smockee bijoux serpent',\n",
       "   'accueil ventes roberto cavalli femme doudoune bleu matelassee ceinture bijoux roberto cavalli'],\n",
       "  'doudoune'),\n",
       " (['ligne just cavalli',\n",
       "   'accueil ventes roberto cavalli femme foulard rose motifs roberto cavalli',\n",
       "   'foulard rose motifs roberto',\n",
       "   'foulard rose motifs roberto cavalli'],\n",
       "  'foulard'),\n",
       " (['accueil ventes roberto cavalli femme foulard bandana coton bleu roberto cavalli',\n",
       "   'ligne just cavalli',\n",
       "   'foulard bandana coton bleu roberto cavalli',\n",
       "   'foulard bandana coton bleu',\n",
       "   'foulard bandana coton rose'],\n",
       "  'foulard'),\n",
       " (['accueil ventes roberto cavalli femme robe longue empire violette just cavalli',\n",
       "   'col cache coeur',\n",
       "   'coupe empire longue',\n",
       "   'imprime fantaisie gris',\n",
       "   'viscose doublure viscose',\n",
       "   'robe mousseline violette',\n",
       "   'robe longue empire violette just cavalli',\n",
       "   'robe longue empire violette just'],\n",
       "  'robe'),\n",
       " (['t-shirt blanc logo ajoure perle roberto cavalli',\n",
       "   'mannequin mesure 1m75 porte xxs',\n",
       "   'accueil ventes roberto cavalli femme t-shirt blanc logo ajoure perle roberto cavalli',\n",
       "   'modal polyester elasthanne',\n",
       "   'logo ajoure perles',\n",
       "   't-shirt blanc logo ajoure'],\n",
       "  't-shirt'),\n",
       " (['fermeture glissiere pattes bouton griffe',\n",
       "   'logo metal argent fesse droite',\n",
       "   'mannequin mesure porte',\n",
       "   'jean noir delave effet tache',\n",
       "   'effet tache huile',\n",
       "   'jean noir delave effet tache huile roberto cavalli',\n",
       "   'chemise coton blanc volant',\n",
       "   'accueil ventes roberto cavalli femme jean noir delave effet tache huile roberto cavalli',\n",
       "   'coton elasthanne doublures poches polyester coton'],\n",
       "  'jean'),\n",
       " (['fermeture glissiere poignets',\n",
       "   'ligne just cavalli',\n",
       "   'blouson cuir agneau prune',\n",
       "   'entierement double satin noir',\n",
       "   'cuir doublure polyester',\n",
       "   'accueil ventes roberto cavalli femme blouson cuir prune roberto cavalli',\n",
       "   'blouson cuir prune roberto',\n",
       "   'blouson cuir prune roberto cavalli',\n",
       "   'jean matelasse blanc poches',\n",
       "   'fermeture glissiere patte pressions'],\n",
       "  'blouson'),\n",
       " (['accueil ventes roberto cavalli femme ceinture cuir beige effet reptile roberto cavalli',\n",
       "   'ceinture cuir beige effet reptile roberto cavalli',\n",
       "   'ceinture cuir beige effet rep'],\n",
       "  'ceinture'),\n",
       " (['galons dentelle noir',\n",
       "   'fente milieu devant',\n",
       "   'ligne just cavalli',\n",
       "   'robe crepe rose',\n",
       "   'accueil ventes roberto cavalli femme robe sirene crepe rose galons dentelle roberto cavalli',\n",
       "   'robe sirene crepe rose galons dentelle roberto cavalli',\n",
       "   'fermeture invisible milieu',\n",
       "   'viscose tissu coton tissu polyamide doublure viscose',\n",
       "   'robe sirene crepe rose galo',\n",
       "   'mannequin mesure 1m65 porte'],\n",
       "  'robe'),\n",
       " (['accueil ventes roberto cavalli femme robe crepe blanc imprime animal roberto cavalli',\n",
       "   'robe crepe blanc imprime',\n",
       "   'ligne just cavalli',\n",
       "   'viscose elasthanne doublure polyester',\n",
       "   'robe crepe blanc',\n",
       "   'robe crepe blanc imprime animal roberto cavalli'],\n",
       "  'robe'),\n",
       " (['ceinture metal doree roberto',\n",
       "   'ligne class cavalli',\n",
       "   'ceinture metal doree roberto cavalli',\n",
       "   'accueil ventes roberto cavalli femme ceinture metal doree roberto cavalli'],\n",
       "  'ceinture'),\n",
       " (['accueil ventes roberto cavalli femme veste smoking brocard noir motif violet roberto cavalli',\n",
       "   'poignets casses simple boutonnage griffe',\n",
       "   'col velours noir',\n",
       "   'veste brocard crepe noir',\n",
       "   'poches passepoilees velours',\n",
       "   'fermeture bouton griffe',\n",
       "   'col pointe velours noir',\n",
       "   'pantalon fuseau blanc moncler',\n",
       "   'veste smoking brocard noir motif violet roberto cavalli',\n",
       "   'debardeur soie blanc calvin',\n",
       "   'polyester polyamide tissu coton tissu viscose polyamide elasthanne doublure acetate viscose',\n",
       "   'ligne just cavalli',\n",
       "   'collier pendentif semi christ',\n",
       "   'veste smoking brocard noir'],\n",
       "  'veste'),\n",
       " (['accueil ventes roberto cavalli femme maillot bain pieces violet pierres roberto cavalli',\n",
       "   'maillot bain pieces violet',\n",
       "   'ligne just cavalli',\n",
       "   'maillot bain violet',\n",
       "   'bas coupe slip',\n",
       "   'maillot bain pieces violet pierres roberto cavalli'],\n",
       "  'maillot'),\n",
       " (['accueil ventes roberto cavalli femme top imprime coloris pop roberto cavalli',\n",
       "   'top imprime coloris pop robe',\n",
       "   'pochette bleue dkny',\n",
       "   'ceinture daim fuchsia sangle',\n",
       "   'col rond tourbillon',\n",
       "   'top viscose rose',\n",
       "   'top imprime coloris pop roberto cavalli',\n",
       "   'imprime dragon feuille tropical',\n",
       "   'mannequin mesure porte',\n",
       "   'ligne justg cavalli'],\n",
       "  'top'),\n",
       " (['top tulle noir',\n",
       "   'veste soie beige',\n",
       "   'entierement doublee satin imprime',\n",
       "   'veste soie beige broderies perles roberto cavalli',\n",
       "   'broderie couture perle rouge noir',\n",
       "   'soie broderie pvc verre doublure polyester',\n",
       "   'top tulle brode noir sequin',\n",
       "   'veste soie beige broderies',\n",
       "   'accueil ventes roberto cavalli femme veste soie beige broderies perles roberto cavalli',\n",
       "   'col rond brode',\n",
       "   'jean coton blanc revers'],\n",
       "  'veste'),\n",
       " (['petit conseillons dessus habituelle',\n",
       "   'accueil ventes roberto cavalli femme pantalon simili bleu huile just cavalli',\n",
       "   'pantalon simili bleu huile',\n",
       "   'boutons griffees fantaisies',\n",
       "   'poches zippees fantaisies',\n",
       "   'mannequin mesure porte',\n",
       "   'poches zippees aux fesses',\n",
       "   'tissu coton elasthanne rembourrage polyester',\n",
       "   'sweat blanc broderies fantaisi',\n",
       "   'pantalon simili cuir bleu',\n",
       "   'pantalon simili bleu huile just cavalli',\n",
       "   'coutures laterales milieu jambes'],\n",
       "  'pantalon'),\n",
       " (['col rond drape collier',\n",
       "   'ligne just cavalli',\n",
       "   'top beige sequin argent rob',\n",
       "   'accueil ventes roberto cavalli femme top beige sequin argent roberto cavalli',\n",
       "   'details clou boulons fantaisie argent',\n",
       "   'top beige manches',\n",
       "   'top beige sequin argent roberto cavalli',\n",
       "   'broderie arabesque sequin argent emmanchures'],\n",
       "  'top'),\n",
       " (['coupe sirene longue',\n",
       "   'accueil ventes roberto cavalli femme robe longue blanche imprime aquatique roberto cavalli',\n",
       "   'robe satin duchesse blanc',\n",
       "   'polyester elasthanne tissu polyester elasthanne',\n",
       "   'robe satin duchesse',\n",
       "   'robe longue blanche imprime aquatique roberto cavalli',\n",
       "   'incrustation jersey chair',\n",
       "   'robe longue blanche imprime'],\n",
       "  'robe'),\n",
       " (['jupe coupe cache coeur',\n",
       "   'robe viscose rose',\n",
       "   'robe moulante drapee etoile brod',\n",
       "   'broderie etoile perle',\n",
       "   'accueil ventes roberto cavalli femme robe moulante drapee etoile brode roberto cavalli',\n",
       "   'robe moulante drapee etoile brode roberto cavalli',\n",
       "   'mannequin mesure 1m72 porte'],\n",
       "  'robe'),\n",
       " (['ligne just cavalli',\n",
       "   'ceinture double tour beige rob',\n",
       "   'accueil ventes roberto cavalli femme ceinture double tour beige roberto cavalli',\n",
       "   'ceinture double tour beige roberto cavalli'],\n",
       "  'ceinture'),\n",
       " (['manteau tweed beige bleu marron',\n",
       "   'pantalon fuseau noir space simon',\n",
       "   'finitions galons franges',\n",
       "   'fantaisie proprete interieure chaine',\n",
       "   'manteau tweed beige',\n",
       "   'manteau tweed beige bleu',\n",
       "   'accueil ventes edward achour femme manteau tweed beige bleu edward achour',\n",
       "   'acrylique polyester laine coton polyamide viscose doublure polyester',\n",
       "   'poches plaquees galons franges boutons dores',\n",
       "   'pull laine cachemire gris'],\n",
       "  'manteau'),\n",
       " (['top mousseline noire edward',\n",
       "   'top mousseline bleue edward achour',\n",
       "   'manches courtes volants multiples',\n",
       "   'top mousseline noir',\n",
       "   'top mousseline bleu',\n",
       "   'top mousseline bleue edward',\n",
       "   'fermeture bouton fantaisie perles blanche',\n",
       "   'top mousseline rose edward',\n",
       "   'accueil ventes edward achour femme top mousseline bleue edward achour',\n",
       "   'top mousseline rose',\n",
       "   'coupe fluide asymetrique',\n",
       "   'fleurs brodee plaque sertie perles nacrees'],\n",
       "  'top'),\n",
       " (['poignets casses triple boutonnage fantaisie dore',\n",
       "   'parmenture boutons fantaisie dores',\n",
       "   'chemisier mousseline bordeaux',\n",
       "   'chemisier mousseline bordeaux edward achour',\n",
       "   'poches plaquees poitrines boutons fantaisie dore',\n",
       "   'coupe ultra classe',\n",
       "   'accueil ventes edward achour femme chemisier mousseline bordeaux edward achour'],\n",
       "  'chemisier'),\n",
       " (['accueil ventes edward achour femme veste tweed blanc galons tresse edward achour',\n",
       "   'chaine laiton doree pendent',\n",
       "   'veste tweed blanc galons tresse edward achour',\n",
       "   'veste tweed blanc galons',\n",
       "   'poches plaquees galons tresse boutons dores',\n",
       "   'galon fantaisie tresses',\n",
       "   'jean coton blanc revers',\n",
       "   'veste tweed blanc',\n",
       "   'mannequin mesure 1m65 porte'],\n",
       "  'veste'),\n",
       " (['accueil ventes edward achour femme veste tweed bleu edward achour',\n",
       "   'veste tweed bleu',\n",
       "   'galon fantaisie fleuris',\n",
       "   'poches plaquees galons fleuris boutons perles',\n",
       "   'veste tweed noir',\n",
       "   'coton acrylique lin polyamide polyester soie doublure polyester',\n",
       "   'veste tweed noir blanc edw',\n",
       "   'triple collier fantaisie moschino',\n",
       "   'jean coton blanc revers',\n",
       "   'mannequin mesure 1m65 porte',\n",
       "   'veste tweed bleu edward achour'],\n",
       "  'veste'),\n",
       " (['col rond galons dentelles noir',\n",
       "   'accueil ventes edward achour femme robe dentelle blanche noeud perle edward achour',\n",
       "   'robe dentelle rouge',\n",
       "   'ceinture noire cotelee',\n",
       "   'galon dentelles noir',\n",
       "   'manches galons dentelles noir',\n",
       "   'robe dentelle blanche noeud',\n",
       "   'robe dentelle rouge noeud',\n",
       "   'robe dentelle blanche noeud perle edward achour',\n",
       "   'coton polyamide doublure polyester',\n",
       "   'broche multiple noeuds perles',\n",
       "   'robe dentelle blanche',\n",
       "   'galons coteles nouer milieu'],\n",
       "  'robe'),\n",
       " (['short tweed beige',\n",
       "   'veste tweed beige raye edward',\n",
       "   'ballerines dorees nicholas kirkwood',\n",
       "   'galon fantaisie franges',\n",
       "   'short tweed beige raye edward',\n",
       "   'accueil ventes edward achour femme veste tweed beige raye edward achour',\n",
       "   'coton acrylique lin polyamide polyester soie doublure polyester',\n",
       "   'veste tweed beige',\n",
       "   'veste tweed beige raye edward achour',\n",
       "   'collier cascade semi christau',\n",
       "   'poches plaquees galons franges boutons perles',\n",
       "   'mannequin mesure 1m65 porte'],\n",
       "  'veste'),\n",
       " (['robe ballon bleue motif fleuri',\n",
       "   'plis ornee noeud',\n",
       "   'robe ballon bleue motif fleuri relief edward achour',\n",
       "   'robe bleu coupe',\n",
       "   'entierement doublee satin blanc',\n",
       "   'fermeture glissiere milieu crochet',\n",
       "   'imprime motif fleuri multicolore relief',\n",
       "   'polyester doublure acetate',\n",
       "   'accueil ventes edward achour femme robe ballon bleue motif fleuri relief edward achour'],\n",
       "  'robe'),\n",
       " (['accueil ventes edward achour femme robe crepes rose volant edward achour',\n",
       "   'robe crepes rose volant edw',\n",
       "   'bouton noeud lavalliere milieu col',\n",
       "   'finition emmanchures biais noir',\n",
       "   'robe crepes rose volant edward achour',\n",
       "   'robe crepes mousseline rose pastel',\n",
       "   'ceinture fantaisie noeud noir',\n",
       "   'jupe empiecement volante plisse',\n",
       "   'col rond parmenture bouton crepes noir'],\n",
       "  'robe'),\n",
       " (['col pointe froncee rouge',\n",
       "   'accueil ventes edward achour femme chemisier mousseline rose rouge edward achour',\n",
       "   'parmenture boutons patte bouton fantaisie dore',\n",
       "   'poignets casses rouges fronces simple boutonnage',\n",
       "   'chemisier mousseline rose',\n",
       "   'coupe ultra classe',\n",
       "   'bouton fantaisie perle poignet perles plusieurs',\n",
       "   'chemisier mousseline rose rouge edward achour',\n",
       "   'chemisier soie rose'],\n",
       "  'chemisier'),\n",
       " (['robe mousseline drape rose',\n",
       "   'accueil ventes edward achour femme robe mousseline drape rose edward achour',\n",
       "   'col cache coeur',\n",
       "   'poches plaquees galons cotele noir boutons dores',\n",
       "   'robe mousseline drape rose edward achour',\n",
       "   'galons cotele noir',\n",
       "   'publie date commande',\n",
       "   'robe mousseline rose'],\n",
       "  'robe'),\n",
       " (['galons tresse tricolore',\n",
       "   'jupe mousseline plisse blanche',\n",
       "   'poches plaquees galons bouton dore',\n",
       "   'robe tweed blanc',\n",
       "   'fermeture glissiere invisible cote gauche',\n",
       "   'manches boutons dorees',\n",
       "   'robe tweed mousseline blanche edward achour',\n",
       "   'robe tweed mousseline blan',\n",
       "   'accueil ventes edward achour femme robe tweed mousseline blanche edward achour'],\n",
       "  'robe'),\n",
       " (['coupe crop top',\n",
       "   'short jean bleu galons fant',\n",
       "   'porter chemise souhaiter',\n",
       "   'top tweed bleu',\n",
       "   'galons tresse tricolore',\n",
       "   'fermeture boutons dores',\n",
       "   'crop top tweed bleu rouge edward achour',\n",
       "   'viscose polyester polyamide coton doublure polyester',\n",
       "   'short jean bleu',\n",
       "   'accueil ventes edward achour femme crop top tweed bleu rouge edward achour',\n",
       "   'crop top tweed bleu rouge',\n",
       "   'top tweed bleu rouge'],\n",
       "  'crop'),\n",
       " (['accueil ventes edward achour femme veste tweed rouge galons fantaisies edward achour',\n",
       "   'veste tweed rouge galons',\n",
       "   'pantalon bouton fantaisie edwa',\n",
       "   'galon rouge blanc chaine doree',\n",
       "   'veste tweed rouge',\n",
       "   'entierement doublee rouge',\n",
       "   'veste tweed rouge galons fantaisies edward achour',\n",
       "   'poches plaquees galons frange tresses boutons dores',\n",
       "   'acrylique coton doublure polyester'],\n",
       "  'veste'),\n",
       " (['blouse mousseline dentelle bleu',\n",
       "   'coupe ultra sophistiquee',\n",
       "   'coton polyamide tissu polyester',\n",
       "   'blouse volantee matiere bleu edward achour',\n",
       "   'parmenture plisses boutons fantaisies',\n",
       "   'blouse volantee matiere bleu',\n",
       "   'jean coton blanc revers',\n",
       "   'accueil ventes edward achour femme blouse volantee matiere bleu edward achour',\n",
       "   'conseillons prendre dessous',\n",
       "   'manches longue volant plisse noeud'],\n",
       "  'blouse'),\n",
       " (['boutons fantaisie dores devant',\n",
       "   'mannequin mesure 1m74 porte',\n",
       "   'pantalon palazzo crepe noir',\n",
       "   'accueil ventes edward achour femme pantalon palazzo crepe noir boutons fantaisie edward achour',\n",
       "   'pantalon palazzo crepe noir boutons fantaisie edward achour',\n",
       "   'pantalon crepe noir'],\n",
       "  'pantalon'),\n",
       " (['short jean bleu galons fant',\n",
       "   'top tweed bleu',\n",
       "   'short jean bleu galons fantaisie edward achour',\n",
       "   'galons fantaisies tresse',\n",
       "   'short jean bleu',\n",
       "   'boutons fantaisie doree',\n",
       "   'coton lin doublure polyester',\n",
       "   'crop top tweed bleu rouge',\n",
       "   'accueil ventes edward achour femme short jean bleu galons fantaisie edward achour',\n",
       "   'parfait habillee etant decontracte'],\n",
       "  'short'),\n",
       " (['fermeture glissiere patte bouton perles',\n",
       "   'parfait habille etant decontracte',\n",
       "   'veste tweed beige raye edward',\n",
       "   'short tweed beige raye edward achour',\n",
       "   'short tweed beige raye edward',\n",
       "   'coton acrylique lin polyamide polyester soie doublure polyester',\n",
       "   'accueil ventes edward achour femme short tweed beige raye edward achour',\n",
       "   'veste tweed beige',\n",
       "   'short tweed beige',\n",
       "   'ballerines dorees nicholas kirkwood',\n",
       "   'collier cascade semi christau'],\n",
       "  'short'),\n",
       " (['gilet maille cotele noir perles edward achour',\n",
       "   'gilet maille cotele noir',\n",
       "   'accueil ventes edward achour femme gilet maille cotele noir perles edward achour',\n",
       "   'jupe tweed bleu galons noir',\n",
       "   'gilet maille noire',\n",
       "   'broderie perles fantaisie',\n",
       "   'jupe tweed bleu'],\n",
       "  'gilet'),\n",
       " (['polyester polyamide doublure polyester',\n",
       "   'accueil ventes edward achour femme robe crepe texture noir perle nacre edward achour',\n",
       "   'lien nouer milieu col',\n",
       "   'robe crepe texture noir per',\n",
       "   'robe crepe texture noir perle nacre edward achour',\n",
       "   'passepoile perle blanche',\n",
       "   'robe crepes noir'],\n",
       "  'robe'),\n",
       " (['veste tweed beige epaules',\n",
       "   'veste tweed beige epaules denudees edward achour',\n",
       "   'accueil ventes edward achour femme veste tweed beige epaules denudees edward achour',\n",
       "   'veste tweed beige',\n",
       "   'coton polyamide acrylique viscose polyester lin doublure polyester',\n",
       "   'pantalon cigarette crepe text',\n",
       "   'poches plaques galons fantaisies boutons perles',\n",
       "   'fermeture boutons perles'],\n",
       "  'veste'),\n",
       " (['veste tweed rose',\n",
       "   'veste tweed noir edward achour',\n",
       "   'poches plaquees boutons dores',\n",
       "   'galon fantaisie ruban',\n",
       "   'veste tweed rose galons noi',\n",
       "   'jean coton blanc revers',\n",
       "   'accueil ventes edward achour femme veste tweed noir edward achour',\n",
       "   'laine doublure polyester',\n",
       "   'mannequin mesure 1m65 porte'],\n",
       "  'veste'),\n",
       " (['coton polyester doublure polyester',\n",
       "   'veste longue tweed noir edward achour',\n",
       "   'veste tweed noir',\n",
       "   'triple collier fantaisie moschino',\n",
       "   'jean coton blanc revers',\n",
       "   'coupe longue cintree',\n",
       "   'galon fantaisie frange',\n",
       "   'veste longue tweed noir',\n",
       "   'accueil ventes edward achour femme veste longue tweed noir edward achour',\n",
       "   'mannequin mesure 1m65 porte',\n",
       "   'poches plaquees galons franges'],\n",
       "  'veste'),\n",
       " (['veste crepe noire',\n",
       "   'entierement recouverte sequins',\n",
       "   'fermeture boutons fantaisie perles croisees',\n",
       "   'veste noire sequins edward achour',\n",
       "   'triple collier fantaisie moschino',\n",
       "   'jean coton blanc revers',\n",
       "   'accueil ventes edward achour femme veste noire sequins edward achour',\n",
       "   'poches plaquees boutons perles'],\n",
       "  'veste'),\n",
       " (['chemisier mousseline rouge volantsedward achour',\n",
       "   'accueil ventes edward achour femme chemisier mousseline rouge volantsedward achour',\n",
       "   'fermeture boutons fantaisie perles',\n",
       "   'manches longues volants plisses',\n",
       "   'manches volants plisses',\n",
       "   'chemisier mousseline rouge',\n",
       "   'col rond lavalliere amovible',\n",
       "   'pantalon fuseau blanc space simo'],\n",
       "  'chemisier'),\n",
       " (['manteau tweed noir galon',\n",
       "   'veste tweed rose',\n",
       "   'accueil ventes edward achour femme robe tailleur dentelle rose edward achour',\n",
       "   'entierement doublee satin rose',\n",
       "   'manches courtes ajourees',\n",
       "   'robe dentelle rose',\n",
       "   'polyester polyamide doublure polyester doublure acetate viscose',\n",
       "   'robe tailleur dentelle rose edward achour',\n",
       "   'robe tailleur dentelle rose'],\n",
       "  'robe'),\n",
       " (['veste tweed rose',\n",
       "   'poches plaquees galons boutons perles',\n",
       "   'acrylique coton polyamide viscose polyester doublure polyester',\n",
       "   'entierement doublee mousseline',\n",
       "   'accueil ventes edward achour femme veste tweed rose galons bleu edward achour',\n",
       "   'veste tweed rose galons bleu edward achour',\n",
       "   'pantalon bouton fantaisie edwa',\n",
       "   'veste tweed rose galons ble'],\n",
       "  'veste'),\n",
       " (['chemise skinny coton blanc plisse balmain',\n",
       "   'chemise skinny coton blanc',\n",
       "   'accueil ventes balmain homme chemise skinny coton blanc plisse balmain',\n",
       "   'fermeture boutons pattes',\n",
       "   'ligne pierre balmain'],\n",
       "  'chemise'),\n",
       " (['pull coton pique',\n",
       "   'pull coton pique fin blanc manches courtes woolgroup',\n",
       "   'pull coton pique fin blanc',\n",
       "   'pull coton pique fin gris',\n",
       "   'accueil ventes woolgroup fiesoli homme pull coton pique fin blanc manches courtes woolgroup'],\n",
       "  'pull'),\n",
       " (['accueil ventes archive 18-20 homme sweat coton blanc fleuris archive 18-20',\n",
       "   'sweat coton blanc fleuris archive 18-20',\n",
       "   'liens nouer capuche',\n",
       "   'col rond capuche',\n",
       "   'sweat coton blanc fleur',\n",
       "   'sweat coton noir fleuri'],\n",
       "  'sweat'),\n",
       " (['t-shirt coton gris',\n",
       "   'jean skinny coton bleu effet',\n",
       "   'poche imprimee fantaisie',\n",
       "   'accueil ventes marchand drapier homme t-shirt gris poches poitrine fantaisie marchand drapier',\n",
       "   't-shirt gris poches poitrine',\n",
       "   't-shirt gris poches poitrine fantaisie marchand drapier',\n",
       "   'poche imprimee fantaisie poitrine gauche'],\n",
       "  't-shirt'),\n",
       " (['accueil ventes flippa homme chemise blanche poche poitrine flippa',\n",
       "   'chemise blanche poche poitrine',\n",
       "   'jean skinny velours noir',\n",
       "   'chemise blanche poche poitrine flippa',\n",
       "   'jean velours noir',\n",
       "   'coupe slim fit',\n",
       "   'poche poitrine gauche'],\n",
       "  'chemise'),\n",
       " (['accueil ventes john richmond homme sweat capuche coton noir john richmond',\n",
       "   'logo point zigzag vert',\n",
       "   'mannequin mesure porte',\n",
       "   'sweat capuche coton noir john richmond',\n",
       "   'sweat capuche coton noir'],\n",
       "  'sweat'),\n",
       " (['jean noir dechire skinny balmain',\n",
       "   't-shirt bleu incrustation simi',\n",
       "   'broderie pierre balmain',\n",
       "   'incrustation simili cuir matelasse aux epaules',\n",
       "   'accueil ventes balmain homme t-shirt bleu incrustation simili matelasse balmain',\n",
       "   'ligne pierre balmain',\n",
       "   't-shirt bleu incrustation simili matelasse balmain',\n",
       "   't-shirt coton bleu'],\n",
       "  't-shirt'),\n",
       " (['chemise jean balmain',\n",
       "   'chemise jean bleu',\n",
       "   'col pointe col mao',\n",
       "   'accueil ventes balmain homme chemise jean balmain'],\n",
       "  'chemise'),\n",
       " (['fond contraste cargot imprimer python',\n",
       "   'imprimer python tendance',\n",
       "   'sweat coton marron',\n",
       "   'pare col rond',\n",
       "   'mannequin mesure 1m84 porte',\n",
       "   'accueil sweat kaki imprimer python marcelo burlon',\n",
       "   'imprimer central serpent symetrique',\n",
       "   'finitions cotelees aux poignets base',\n",
       "   'chelsea boots noir swims',\n",
       "   'jean coupe droite',\n",
       "   'sweat kaki imprimer python marc',\n",
       "   'sweat kaki imprimer python marcelo burlon'],\n",
       "  'sweat'),\n",
       " (['broderie lotto damir doma bas manche gauche',\n",
       "   'flocage fantaisie blanc',\n",
       "   'issue collaboration entre maison damir doma lotto',\n",
       "   'jean regulard effet huile renhsen',\n",
       "   'ligne damir doma lotto',\n",
       "   'sweat coton rouge',\n",
       "   'sweat noir flocage damir doma',\n",
       "   'sweat rouge flocage damir doma',\n",
       "   'accueil ventes damir doma homme sweat noir flocage damir doma'],\n",
       "  'sweat'),\n",
       " (['polo coton pique',\n",
       "   'accueil ventes copains homme polo coton pique framboise copains',\n",
       "   'polo coton pique framboise',\n",
       "   'logo brode manches gauches',\n",
       "   'manches courtes finition rayures',\n",
       "   'polo coton pique framboise copains',\n",
       "   'polo coton pique kaki cop'],\n",
       "  'polo'),\n",
       " (['shirt coton kaki',\n",
       "   'shirt coton kaki logo fle',\n",
       "   'jean skinny coton bleu effet',\n",
       "   'accueil ventes adams homme shirt coton blanc logo fleuri adams',\n",
       "   'shirt coton blanc broderi',\n",
       "   'shirt coton blanc logo fleuri adams',\n",
       "   'shirt coton blanc logo',\n",
       "   'shirt coton blanc'],\n",
       "  't-shirt'),\n",
       " (['veste jogging capuche',\n",
       "   'accueil ventes philipp plein homme veste jogging strass swarovski noir philipp plein',\n",
       "   'legerement rembourre aux epaules',\n",
       "   'poches laterales zippees',\n",
       "   'veste jogging strass swarovski noir philipp plein',\n",
       "   'application ecusson metallique signature poitrine',\n",
       "   'fermeture eclair plaque cuir griffee',\n",
       "   'veste jogging strass swarov',\n",
       "   'drapeau americain strass swarovski',\n",
       "   'pantalon jogging gris stras'],\n",
       "  'veste'),\n",
       " (['t-shirt coton lin gris chine',\n",
       "   'accueil ventes zadig voltaire homme t-shirt gris chine flocage happy zadig voltaire',\n",
       "   't-shirt gris chine flocage',\n",
       "   't-shirt gris chine flocage happy zadig voltaire',\n",
       "   't-shirt coton rouge raye effe',\n",
       "   'flocage blanc happy',\n",
       "   't-shirt coton rouge',\n",
       "   'polyester coton lin'],\n",
       "  't-shirt'),\n",
       " (['sweat coton violet',\n",
       "   'sweat noir flocage damir doma',\n",
       "   'sweat violet flocage damir doma',\n",
       "   'accueil ventes damir doma homme sweat violet flocage damir doma',\n",
       "   'broderie lotto damir doma poitrine gauche',\n",
       "   'patch photo fantaisie',\n",
       "   'issue collaboration entre maison damir doma lotto',\n",
       "   'ligne damir doma lotto',\n",
       "   'jean regulard effet huile renhsen',\n",
       "   'sweat coton rouge',\n",
       "   'sweat rouge flocage damir doma'],\n",
       "  'sweat'),\n",
       " (['pull bicolore coton bleu',\n",
       "   'pull bicolore coton gris',\n",
       "   'pull coton gris',\n",
       "   'accueil ventes copains homme pull bicolore coton bleu rayures copains',\n",
       "   'pull bicolore coton bleu rayures copains',\n",
       "   'pull coton bleu'],\n",
       "  'pull'),\n",
       " (['sweat coton violet',\n",
       "   'sweat capuche violet flocage damir doma',\n",
       "   'broderie lotto damir doma bas manche gauche',\n",
       "   'issue collaboration entre maison damir doma lotto',\n",
       "   'ligne damir doma lotto',\n",
       "   'flocage fantaisie noir',\n",
       "   'accueil ventes damir doma homme sweat capuche violet flocage damir doma',\n",
       "   'sweat capuche violet flocage'],\n",
       "  'sweat'),\n",
       " (['polo coton pique',\n",
       "   'accueil ventes copains homme polo coton pique kaki copains',\n",
       "   'polo coton pique framboise',\n",
       "   'logo brode manches gauches',\n",
       "   'manches courtes finition rayure',\n",
       "   'polo coton pique kaki cop',\n",
       "   'polo coton pique kaki copains',\n",
       "   'polo coton pique kaki'],\n",
       "  'polo'),\n",
       " (['auteur jean-charles castelbajac',\n",
       "   'accueil ventes castelbajac homme livre j-c castelbajac edition michel aveline',\n",
       "   'edition michel avenue',\n",
       "   'livre j-c castelbajac edition michel aveline',\n",
       "   'quantite minimale pouvoir commander',\n",
       "   'livre j-c castelbajac edition'],\n",
       "  'livre'),\n",
       " (['polyester polyamide elasthanne',\n",
       "   'jupe crepe noir',\n",
       "   'jupe drapee crepe texture noi',\n",
       "   'jupe drapee crepe texture noir space simona corsellini',\n",
       "   'ligne space simona corsellini',\n",
       "   'accueil ventes space simona corsellini femme jupe drapee crepe texture noir space simona corsellini'],\n",
       "  'jupe'),\n",
       " (['accueil ventes space simona corsellini femme robe volante bustier soie vert space simona corsellini',\n",
       "   'soie tissu acetate viscose',\n",
       "   'bustier smocke volants',\n",
       "   'robe soie verte',\n",
       "   'robe volante bustier soie vert space simona corsellini',\n",
       "   'robe volante bustier soie ver'],\n",
       "  'robe'),\n",
       " (['robe courte drape crepe bleu turquoise space simona corsellini',\n",
       "   'polyester polyamide elasthanne',\n",
       "   'robe courte drape crepe bleu',\n",
       "   'robe crepe bleu turquoise',\n",
       "   'accueil ventes space simona corsellini femme robe courte drape crepe bleu turquoise space simona corsellini',\n",
       "   'ligne space simona corsellini',\n",
       "   'robe crepe bleu'],\n",
       "  'robe'),\n",
       " (['bague metal dore cloute pie',\n",
       "   'accueil ventes space simona corsellini femme combinaison jersey saumon chaines fantaisies space simona corsellini',\n",
       "   'bracelet jonc metal dore clou',\n",
       "   'combinaison jersey saumon',\n",
       "   'combinaison jersey saumon chaines fantaisies space simona corsellini',\n",
       "   'combinaison matiere soie',\n",
       "   'chaine fantaisie doree'],\n",
       "  'combinaison'),\n",
       " (['chemisier organza soie bleu',\n",
       "   'jupe crepe noir',\n",
       "   'jupe drapee crepe texture noi',\n",
       "   'coupe empire cache coeur',\n",
       "   'accueil ventes space simona corsellini femme chemisier cache coeur organza soie bleu space simona corsellini',\n",
       "   'chemisier cache coeur organza soie bleu space simona corsellini',\n",
       "   'chemisier cache coeur organza',\n",
       "   'manches courtes volantees',\n",
       "   'ligne space simona corsellini'],\n",
       "  'chemisier'),\n",
       " (['polyester polyamide doublure acetate viscose',\n",
       "   'accueil ventes space simona corsellini femme pantalon haute satin duchesse dore space simona corsellini',\n",
       "   'pantalon haute satin duchesse dore space simona corsellini',\n",
       "   'pantalon satin duchesse dore',\n",
       "   'pantalon haute satin'],\n",
       "  'pantalon'),\n",
       " (['veste satin duchesse champagn',\n",
       "   'veste satin duchesse champagne',\n",
       "   'accueil ventes space simona corsellini femme veste satin duchesse champagne smockee space simona corsellini',\n",
       "   'ligne space simona corsellini',\n",
       "   'polyester polyamide doublure viscose',\n",
       "   'veste satin duchesse champagne smockee space simona corsellini',\n",
       "   'collier cascade semi christau',\n",
       "   'pantalon cigarette crepe text',\n",
       "   'manches longues fendues'],\n",
       "  'veste'),\n",
       " (['robe cocktail mini crepe',\n",
       "   'robe crepe noir',\n",
       "   'robe cocktail mini crepe noir space simona corsellini',\n",
       "   'ligne space simona corsellini',\n",
       "   'polyester polyamide elasthanne doublure polyamide elasthanne',\n",
       "   'accueil ventes space simona corsellini femme robe cocktail mini crepe noir space simona corsellini'],\n",
       "  'robe'),\n",
       " (['soie tissu acetate viscose doublure acetate polyester',\n",
       "   'combinaison soie vert volant space simona corsellini',\n",
       "   'pantalon palazzo haute',\n",
       "   'accueil ventes space simona corsellini femme combinaison soie vert volant space simona corsellini',\n",
       "   'combinaison soie verte',\n",
       "   'volant fantaisie organza verte bustier',\n",
       "   'chaussures talons noir aperlai',\n",
       "   'combinaison soie vert vol',\n",
       "   'mannequin mesure 1m65 porte'],\n",
       "  'combinaison'),\n",
       " (['pantalon cigarette crepe texture noir space simona corsellini',\n",
       "   'polyester polyamide elasthanne doublure acetate viscose',\n",
       "   'collier cascade semi christau',\n",
       "   'fermeture glissiere pattes crochet',\n",
       "   'pantalon cigarette crepe text',\n",
       "   'accueil ventes space simona corsellini femme pantalon cigarette crepe texture noir space simona corsellini',\n",
       "   'poches passepoilees fesses',\n",
       "   'pantalon crepe noir'],\n",
       "  'pantalon'),\n",
       " (['acetate viscose elasthanne tissu polyester doublure acetate polyester',\n",
       "   'mannequin mesure 1m85 porte',\n",
       "   'destructure robe pantalon',\n",
       "   'proprete interieur biais noir',\n",
       "   'broche metal doree milieu devant bustier',\n",
       "   'combinaison bustier mousselin',\n",
       "   'combinaison bustier mousseline crepe rose space simona corsellini',\n",
       "   'combinaison crepes soie',\n",
       "   'accueil ventes space simona corsellini femme combinaison bustier mousseline crepe rose space simona corsellini',\n",
       "   'combinaison crepes rose fuchsia',\n",
       "   'traine mousseline drape',\n",
       "   'pantalon coupe cigarette'],\n",
       "  'combinaison'),\n",
       " (['robe tulle noir',\n",
       "   'ceinture amovible recouverte',\n",
       "   'accueil ventes space simona corsellini femme robe longue soie bleu turquoise lame volante space simona corsellini',\n",
       "   'robe soie bleu',\n",
       "   'soie fibres metalliques doublure polyester',\n",
       "   'robe fourreaux velours noir',\n",
       "   'robe longue soie bleu turquoise lame volante space simona corsellini',\n",
       "   'robe longue soie bleu turquoi'],\n",
       "  'robe'),\n",
       " (['accueil ventes space simona corsellini femme veste smocking saumon space simona corsellini',\n",
       "   'poignet casse fente',\n",
       "   'robe soie saumon',\n",
       "   'legere fente bas milieu',\n",
       "   'col pointe satin duchesse saumon',\n",
       "   'acetate viscose doublure viscose',\n",
       "   'veste smocking saumon space simona corsellini',\n",
       "   'veste crepe saumon',\n",
       "   'veste smocking saumon space',\n",
       "   'robe soie lamee drapee saumon'],\n",
       "  'veste'),\n",
       " (['robe soie saumon',\n",
       "   'robe volante bustier soie saumon',\n",
       "   'soie tissu acetate viscose',\n",
       "   'bustier smocke volants',\n",
       "   'robe lurex rose',\n",
       "   'robe soiree longue lurex',\n",
       "   'chaussures talons noir aperlai',\n",
       "   'accueil ventes space simona corsellini femme robe volante bustier soie saumon',\n",
       "   'robe princesse velours soi'],\n",
       "  'robe'),\n",
       " (['robe princesse beige tulle brode broderie aquatiques space simona corsellini',\n",
       "   'robe tulle beige',\n",
       "   'bustier volante armature',\n",
       "   'robe princesse beige tulle',\n",
       "   'robe crepe noir',\n",
       "   'robe smoking noir sequins dore',\n",
       "   'accueil ventes space simona corsellini femme robe princesse beige tulle brode broderie aquatiques space simona corsellini',\n",
       "   'polyester doublure polyester tissu polyamide',\n",
       "   'robe smoking noir sequins vert'],\n",
       "  'robe'),\n",
       " (['robe bustier soie bleu space simona corsellini',\n",
       "   'soie doublure polyester doublure polyamide elasthanne',\n",
       "   'robe bustier soie bleu space',\n",
       "   'robe soie bleue',\n",
       "   'accueil ventes space simona corsellini femme robe bustier soie bleu space simona corsellini',\n",
       "   'ligne space simona corsellini',\n",
       "   'finition point bourdon'],\n",
       "  'robe'),\n",
       " (['polyester polyamide elasthanne tissu viscose soie polyamide tissu polyester doublure acetate viscose',\n",
       "   'pantalon coupe palazzo',\n",
       "   'accueil ventes space simona corsellini femme combinaison matiere soie violet space simona corsellini',\n",
       "   'manches longues fantaisies',\n",
       "   'combinaison matiere soie violet space simona corsellini',\n",
       "   'motif fleuris jacquard',\n",
       "   'combinaison satin duchesse violet soie noir',\n",
       "   'combinaison matiere soie',\n",
       "   'mannequin mesure 1m65 porte',\n",
       "   'combinaison jersey saumon'],\n",
       "  'combinaison'),\n",
       " (['pantalon coton jaune',\n",
       "   'petit conseillons prendre dessus habituelle',\n",
       "   'accueil ventes space simona corsellini femme pantalon culotte jaune ceinture space simona corsellini',\n",
       "   'chemise coton blanc col fan',\n",
       "   'pantalon culotte jaune ceinture',\n",
       "   'pantalon culotte jaune ceinture space simona corsellini'],\n",
       "  'pantalon'),\n",
       " (['robe fourreau satin duchesse saumon ourlet volante space simona corsellini',\n",
       "   'robe satin duchesse saumon',\n",
       "   'robe satin duchesse',\n",
       "   'escarpin cuir saumon saint',\n",
       "   'robe fourreau satin duchesse',\n",
       "   'accueil ventes space simona corsellini femme robe fourreau satin duchesse saumon ourlet volante space simona corsellini'],\n",
       "  'robe'),\n",
       " (['accueil ventes space simona corsellini femme robe cocktail mini crepe jaune space simona corsellini',\n",
       "   'robe crepe jaune',\n",
       "   'robe cocktail mini crepe',\n",
       "   'ligne space simona corsellini',\n",
       "   'polyester polyamide elasthanne doublure polyamide elasthanne',\n",
       "   'robe cocktail mini crepe jaune space simona corsellini'],\n",
       "  'robe'),\n",
       " (['robe brocart argent',\n",
       "   'robe mousseline soie blanche',\n",
       "   'accueil ventes space simona corsellini femme robe chemise lavalliere brocard argent sequin space simona corsellini',\n",
       "   'robe chemise lavalliere bro',\n",
       "   'imprime fantaisie noir',\n",
       "   'col lavalliere nouer',\n",
       "   'broderie sequins translucide',\n",
       "   'publie date commande',\n",
       "   'robe chemise lavalliere brocard argent sequin space simona corsellini'],\n",
       "  'robe'),\n",
       " (['accueil ventes space simona corsellini femme top asymetrique mousseline vert volant space simona corsellini',\n",
       "   'top mousseline vert',\n",
       "   'top asymetrique mousseline',\n",
       "   'top asymetrique mousseline vert volant space simona corsellini',\n",
       "   'epaule gauche galons fantaisie nouer',\n",
       "   'manche droite chauve souris',\n",
       "   'jean coton blanc revers',\n",
       "   'mannequin mesure 1m65 porte'],\n",
       "  'top'),\n",
       " (['manches longues fendue',\n",
       "   'robe soie orange',\n",
       "   'polyester polyamide doublure polyamide elasthanne',\n",
       "   'robe bustier crepe saumon',\n",
       "   'veste crepes saumon rayures',\n",
       "   'accueil ventes space simona corsellini femme robe bustier crepe saumon rayures metalisee space simona corsellini',\n",
       "   'robe bustier crepe saumon rayures metalisee space simona corsellini'],\n",
       "  'robe'),\n",
       " (['manches longues empiecement fronce',\n",
       "   'coupe empire cache coeur',\n",
       "   'pantalon cigarette crepe text',\n",
       "   'chemisier cache coeur organza soie blanc space simona corsellini',\n",
       "   'chemisier cache coeur organza',\n",
       "   'ligne space simona corsellini',\n",
       "   'fermeture bouton pression',\n",
       "   'chemisier organza soie blanc',\n",
       "   'accueil ventes space simona corsellini femme chemisier cache coeur organza soie blanc space simona corsellini'],\n",
       "  'chemisier'),\n",
       " (['robe bustier soie vert space',\n",
       "   'accueil ventes space simona corsellini femme robe bustier soie vert space simona corsellini',\n",
       "   'robe soie verte',\n",
       "   'chaussures talons noir aperlai',\n",
       "   'ligne space simona corsellini',\n",
       "   'soie tissu polyamide elasthanne doublure polyester',\n",
       "   'robe bustier soie vert space simona corsellini',\n",
       "   'finition point bourdon'],\n",
       "  'robe'),\n",
       " (['corsage guipure rose',\n",
       "   'robe soie jaune guipure rose',\n",
       "   'soie tissu polyestere',\n",
       "   'robe guipure soie basque',\n",
       "   'ceinture decorative jaune',\n",
       "   'robe guipure soie basque rose jaune space simona corsellini',\n",
       "   'robe soie jaune',\n",
       "   'accueil ventes space simona corsellini femme robe guipure soie basque rose jaune space simona corsellini'],\n",
       "  'robe'),\n",
       " (['manches longues fendue',\n",
       "   'polyester polyamide doublure viscose',\n",
       "   'veste crepes saumon rayures metallisees space simona corsellini',\n",
       "   'accueil ventes space simona corsellini femme veste crepes saumon rayures metallisees space simona corsellini',\n",
       "   'escarpin cuir saumon saint',\n",
       "   'veste crepes saumon rayures',\n",
       "   'ligne space simona corsellini',\n",
       "   'jean coton blanc revers'],\n",
       "  'veste'),\n",
       " (['top soie saumon volants spa',\n",
       "   'mannequin mesure 1m65 porte',\n",
       "   'jupe crepe noir',\n",
       "   'jupe drapee crepe texture noi',\n",
       "   'soie tissu acetate viscose',\n",
       "   'top soie saumon',\n",
       "   'top soie noir volants space',\n",
       "   'manche droite volante',\n",
       "   'accueil ventes space simona corsellini femme top soie saumon volants space simona corsellini',\n",
       "   'top soie noir',\n",
       "   'ligne space simona corsellini',\n",
       "   'top soie saumon volants space simona corsellini'],\n",
       "  'top'),\n",
       " (['logo point bouclette',\n",
       "   'accueil ventes best company homme sweat noir logo bouclette best company',\n",
       "   'sweat capuche kaki logo bouc',\n",
       "   'jean skinny coton bleu dech',\n",
       "   'sweat noir logo bouclette best company',\n",
       "   'sweat noir logo bouclette best',\n",
       "   'logo kaki bordeaux bouclettes',\n",
       "   'sweat coton kaki'],\n",
       "  'sweat'),\n",
       " (['galon bleu col ourlet',\n",
       "   'chemisier long bleu soie imprime tropicaux laurel',\n",
       "   'chemisier long bleu soie',\n",
       "   'grand conseillions prendre dessous',\n",
       "   'pantalon jupe culotte lin bla',\n",
       "   'imprime tropicaux bleu',\n",
       "   'pantalon lin blanc',\n",
       "   'manches longues fronce',\n",
       "   'accueil ventes laurel femme chemisier long bleu soie imprime tropicaux laurel',\n",
       "   'chemise soie blanche'],\n",
       "  'chemisier'),\n",
       " (['soie doublure polyester',\n",
       "   'top manche rose soie',\n",
       "   'imprime geometrique rouge noir vert',\n",
       "   'accueil ventes joie femme top manche rose soie imprime geomatrique joie',\n",
       "   'top mousseline soie',\n",
       "   'top manche rose soie imprime geomatrique joie',\n",
       "   'col rond legerement fronce',\n",
       "   'entierement double mousseline soie rose'],\n",
       "  'top'),\n",
       " (['emmanchures finition biais violet',\n",
       "   'top satin noir',\n",
       "   'top satin noir fleuri isabell',\n",
       "   'accueil ventes isabelle blanche femme top satin noir fleuri isabelle blanche',\n",
       "   'jean skinny coton blanc ban',\n",
       "   'parmenture boutons dores',\n",
       "   'top satin noir fleuri isabelle blanche',\n",
       "   'mannequin mesure 1m75 porte'],\n",
       "  'top'),\n",
       " (['top crepe satine blanc carreaux svnty',\n",
       "   'top crepe satine',\n",
       "   'top crepe satine blanc carr',\n",
       "   'carreaux jaune gris',\n",
       "   'mannequin mesure 1m80 porte',\n",
       "   'accueil ventes svnty femme top crepe satine blanc carreaux svnty',\n",
       "   'top crepe satine blanc',\n",
       "   'viscose tissu viscose rayon'],\n",
       "  'top'),\n",
       " (['broderie panda etoile inscriptions pierre swarovski',\n",
       "   'chemise bleue broderie panda',\n",
       "   'chemise bleue broderie panda swarovski philipp plein',\n",
       "   'poches poitrines rabat',\n",
       "   'chemise jean bleu',\n",
       "   'accueil ventes philipp plein femme chemise bleue broderie panda swarovski philipp plein'],\n",
       "  'chemise'),\n",
       " (['t-shirt coton gris',\n",
       "   'epaules ouvertures fantaisies',\n",
       "   'plaque logo metal milieu',\n",
       "   't-shirt coton gris chine',\n",
       "   'top mousseline blanc brode sequins svnty',\n",
       "   'jean skinny gris broderie pai',\n",
       "   'top mousseline blanc brode',\n",
       "   'broderie fantaisies epaules',\n",
       "   'accueil ventes svnty femme top mousseline blanc brode sequins svnty'],\n",
       "  'top'),\n",
       " (['jean skinny bleu broderie flor',\n",
       "   'top crepe bleu',\n",
       "   'top crepe bleu broderies',\n",
       "   'fermeture glissieres invisibles milieu',\n",
       "   'accueil ventes svnty femme top crepe bleu broderies floraux svnty',\n",
       "   'top crepe bleu broderies floraux svnty'],\n",
       "  'top'),\n",
       " (['t-shirt blanc manches epaules brodees jijil',\n",
       "   'accueil ventes jijil femme t-shirt blanc manches epaules brodees jijil',\n",
       "   't-shirt blanc manches epa'],\n",
       "  't-shirt'),\n",
       " (['jupe crayon bleue tressee franki',\n",
       "   'jean boyfriend bleu dechire fra',\n",
       "   'lien fantaisie noue',\n",
       "   'chemise bi-matieres rayures',\n",
       "   'popeline imprime rayures blanches bleues',\n",
       "   'chemise coton effet jean popeline',\n",
       "   'lien fantaisie nouer',\n",
       "   'coupe crayon pres',\n",
       "   'accueil ventes frankie morello femme chemise bi-matieres rayures bleu blanc frankie morello',\n",
       "   'chemise bi-matieres rayures bleu blanc frankie morello',\n",
       "   'mannequin mesure 1m75 porte'],\n",
       "  'chemise'),\n",
       " (['debardeur caraco mousseline bleu imprime paradis blanc',\n",
       "   'accueil ventes paradis blanc femme debardeur caraco mousseline bleu imprime paradis blanc',\n",
       "   'top mousseline bleu',\n",
       "   'fines bretelles ajustable',\n",
       "   'debardeur caraco mousseline',\n",
       "   'debardeur caraco coton rose',\n",
       "   'jean coton blanc revers',\n",
       "   'debardeur caraco coton vert',\n",
       "   'col dentelle bleu',\n",
       "   'mannequin mesure 1m65 porte',\n",
       "   'top coton vert',\n",
       "   'top coton fushia'],\n",
       "  'debardeur'),\n",
       " (['chemisier bi-matiere noir paradi',\n",
       "   'chemisier mousseline jersey noir',\n",
       "   'chemisier bi-matiere noir paradis blanc',\n",
       "   'polyester arriere viscose',\n",
       "   'accueil chemisier bi-matiere noir paradis blanc',\n",
       "   'manches longues jersey noir',\n",
       "   'col pointe bijoux dores',\n",
       "   'fermeture boutons fantaisies dores',\n",
       "   'jean matelasse blanc poches'],\n",
       "  'chemisier'),\n",
       " (['debardeur caraco coton vert dentelle paradis blanc',\n",
       "   'top mousseline bleu',\n",
       "   'accueil ventes paradis blanc femme debardeur caraco coton vert dentelle paradis blanc',\n",
       "   'top coton vert',\n",
       "   'mannequin mesure 1m80 porte',\n",
       "   'debardeur caraco mousseline',\n",
       "   'col galon dentelle',\n",
       "   'debardeur caraco coton rose',\n",
       "   'fines bretelles ajustables',\n",
       "   'top coton fushia',\n",
       "   'debardeur caraco coton vert'],\n",
       "  'debardeur'),\n",
       " (['plaque metallique griffee milieu',\n",
       "   't-shirt blanc motifs rococo animaux pierre swarovski philipp plein',\n",
       "   'motifs rococo animaux pierre swarovski',\n",
       "   't-shirt blanc motifs rococo',\n",
       "   'accueil ventes philipp plein femme t-shirt blanc motifs rococo animaux pierre swarovski philipp plein',\n",
       "   'jean cigarette noir jijil'],\n",
       "  't-shirt'),\n",
       " (['plaque metallique griffee milieu',\n",
       "   'motifs rococo pierre swarovski',\n",
       "   't-shirt blanc pierre swarovski',\n",
       "   't-shirt blanc motifs rococo',\n",
       "   'accueil ventes philipp plein femme t-shirt blanc pierre swarovski philipp plein',\n",
       "   't-shirt blanc pierre swarovski philipp plein'],\n",
       "  't-shirt'),\n",
       " (['plaque metallique griffee milieu',\n",
       "   't-shirt noir tete tigre pierre swarovski philipp plein',\n",
       "   't-shirt coton noir',\n",
       "   'imprime tete tigre pierre swarovski',\n",
       "   't-shirt noir tete tigre pie',\n",
       "   'accueil ventes philipp plein femme t-shirt noir tete tigre pierre swarovski philipp plein'],\n",
       "  't-shirt'),\n",
       " (['accueil ventes philipp plein femme chemise gris broderie chat swarovski philipp plein',\n",
       "   'chemise gris broderie chat swa',\n",
       "   'pantalon fuseau noir space simon',\n",
       "   'chemise gris broderie chat swarovski philipp plein',\n",
       "   'chemise jean gris',\n",
       "   'broderie chat etoile inscriptions pierre swarovski',\n",
       "   'poches poitrines rabat'],\n",
       "  'chemise'),\n",
       " (['accueil ventes liis japan femme blouse soie jaune noeud fantaisie liis japan',\n",
       "   'blouse soie jaune noeud fantaisie liis japan',\n",
       "   'blouse soie jaune noeud fan',\n",
       "   'mannequin mesure 1m80 porte',\n",
       "   'blouse soie jaune',\n",
       "   'col rond lavalliere'],\n",
       "  'blouse'),\n",
       " (['ceinture daim fuchsia sangle',\n",
       "   'fermeture culotte pression lingerie',\n",
       "   'incrustation symetrique dentelle',\n",
       "   'body coton noir philipp plein',\n",
       "   'tete mort brode swarovski veritable',\n",
       "   'details tete mort metal swarovskien bas droite',\n",
       "   'fermeture chemise bouton cache parmenture',\n",
       "   'coton polyamide elasthanne',\n",
       "   'accueil ventes philipp plein femme body coton noir philipp plein',\n",
       "   'col chemise pointe',\n",
       "   'pierres swarovski veritables',\n",
       "   'mannequin mesure 1m72 porte'],\n",
       "  'body'),\n",
       " (['top tulle fin blanc',\n",
       "   'motifs degrades multicolores',\n",
       "   'accueil ventes jijil femme top blanc tulle motifs multicolores jijil',\n",
       "   'broche metal argent logo milieu',\n",
       "   'polyester tissu coton',\n",
       "   'top blanc tulle motifs mult',\n",
       "   'top blanc tulle motifs multicolores jijil',\n",
       "   'mannequin mesure 1m65 porte'],\n",
       "  'top'),\n",
       " (['gilet long dentelle noir ajoure jijil',\n",
       "   'gilet dentelle noir',\n",
       "   'collier argente pierres vertes',\n",
       "   'jean coton blanc revers',\n",
       "   'ideal maillot bain',\n",
       "   'gilet long dentelle noir ajou',\n",
       "   'accueil ventes jijil femme gilet long dentelle noir ajoure jijil'],\n",
       "  'gilet'),\n",
       " (['ourlet broderies orientales rose rouge',\n",
       "   'top coton blanc',\n",
       "   'accueil ventes paradis blanc femme top lin blanc galons colores paradis blanc',\n",
       "   'top lin blanc galons colore',\n",
       "   'col broderies orientales rose',\n",
       "   'top lin blanc galons colores paradis blanc'],\n",
       "  'top'),\n",
       " (['accueil ventes paradis blanc femme debardeur caraco coton rose fushia dentelle paradis blanc',\n",
       "   'top mousseline bleu',\n",
       "   'mannequin mesure 1m80 porte',\n",
       "   'top coton vert',\n",
       "   'debardeur caraco mousseline',\n",
       "   'col galon dentelle',\n",
       "   'debardeur caraco coton rose fushia dentelle paradis blanc',\n",
       "   'debardeur caraco coton rose',\n",
       "   'fines bretelles ajustables',\n",
       "   'top coton fushia',\n",
       "   'debardeur caraco coton vert'],\n",
       "  'debardeur'),\n",
       " (['mannequin mesure porte',\n",
       "   'jean noir dechire skinny balmain',\n",
       "   'poches plaquees fesses',\n",
       "   'accueil ventes balmain homme jean noir dechire skinny balmain',\n",
       "   'fermeture glissiere patte decoratif bouton',\n",
       "   'poches italiennes poches raglans decoratifs'],\n",
       "  'jean'),\n",
       " (['shirt coton kaki',\n",
       "   't-shirt coton kaki',\n",
       "   't-shirt blanc casse broderie',\n",
       "   'shirt kaki imprime poisson doree balmain',\n",
       "   't-shirt coton blanc',\n",
       "   't-shirt coton noir',\n",
       "   'grand conseillons prendre dessus',\n",
       "   't-shirt noir broderie tigre',\n",
       "   't-shirt kaki broderie tigre',\n",
       "   'imprime poisson doree inscription pierre balmain doree',\n",
       "   'accueil ventes balmain homme shirt kaki imprime poisson doree balmain'],\n",
       "  't-shirt'),\n",
       " (['jean noir skinny balmain',\n",
       "   'accueil ventes balmain homme jean noir skinny balmain',\n",
       "   'grosse chaine fantaisie doree initiale',\n",
       "   'mannequin mesure porte',\n",
       "   'poches plaquees fesses',\n",
       "   'pull cotele soie vert dolce',\n",
       "   'fermeture glissiere patte decoratif bouton',\n",
       "   'pull soie vert'],\n",
       "  'jean'),\n",
       " (['grand conseillons prendre dessous',\n",
       "   'accueil ventes balmain homme sweat blanc broderie tigre balmain',\n",
       "   'sweat noir broderie tigre',\n",
       "   'sweat blanc broderie tigre',\n",
       "   'sweat blanc broderie tigre balmain',\n",
       "   'pantalon jean bleu',\n",
       "   'jean regular fit bleu delave man',\n",
       "   'sweat vert kaki broderie tigr',\n",
       "   'sweat coton kaki',\n",
       "   'manches longues broderie tigre pierre balmain noir'],\n",
       "  'sweat'),\n",
       " (['imprime pierre balmain doree',\n",
       "   'shirt blanc imprime pierre balmain doree balmain',\n",
       "   'accueil ventes balmain homme shirt blanc imprime pierre balmain doree balmain',\n",
       "   'grand conseillons prendre dessus',\n",
       "   'shirt coton blanc'],\n",
       "  't-shirt'),\n",
       " (['shirt coton blanc casse',\n",
       "   'grand conseillons prendre dessous',\n",
       "   'accueil ventes balmain homme shirt blanc casse imprime poisson balmain',\n",
       "   'imprime poisson inscription pierre balmain noir',\n",
       "   'jean brut fonce skinny lords',\n",
       "   'shirt blanc casse imprime poisson balmain'],\n",
       "  't-shirt'),\n",
       " (['ligne balmain beachwear',\n",
       "   'maillot bain noir',\n",
       "   'accueil ventes balmain homme boxer bain noir balmain',\n",
       "   'boxer bain noir balmain',\n",
       "   'plaque metal doree balmain beachwear'],\n",
       "  'boxer'),\n",
       " (['epaules col bas manches effet cotele matelasse',\n",
       "   'blouson gris molletonne balmain',\n",
       "   'ferme fermeture eclair transversale',\n",
       "   'inscription pierre cloutee',\n",
       "   'bords-cotes resserre aux poignets',\n",
       "   'pull bleu doux woolgroup',\n",
       "   'blouson porte differentes facons',\n",
       "   'poches zippees cotes',\n",
       "   'ouvert zippant boutonnant rabats',\n",
       "   'accueil ventes balmain homme blouson gris molletonne balmain'],\n",
       "  'blouson'),\n",
       " (['empiecement plis soufflet',\n",
       "   'mannequin mesure porte',\n",
       "   't-shirt pierre balmain',\n",
       "   'accueil ventes balmain homme t-shirt pierre balmain',\n",
       "   'pierre brode points chainette poitrine gauche',\n",
       "   'chino jaune department',\n",
       "   'shirt coton gris'],\n",
       "  't-shirt'),\n",
       " (['chemise asymetrique coton bleu balmain',\n",
       "   'chemise asymetrique coton ble',\n",
       "   'accueil ventes balmain homme chemise asymetrique coton bleu balmain',\n",
       "   'ligne pierre balmain'],\n",
       "  'chemise'),\n",
       " (['t-shirt coton kaki',\n",
       "   'grand conseillons prendre dessous',\n",
       "   'jean noir effet dechire john ric',\n",
       "   't-shirt blanc casse broderie',\n",
       "   'mannequin mesure porte',\n",
       "   'accueil ventes balmain homme t-shirt kaki broderie tigre col balmain',\n",
       "   't-shirt coton blanc',\n",
       "   'manches courtes broderie tigre pierre balmain noir',\n",
       "   't-shirt coton noir',\n",
       "   't-shirt noir broderie tigre',\n",
       "   't-shirt kaki broderie tigre',\n",
       "   't-shirt kaki broderie tigre col balmain',\n",
       "   'fjean coton noir'],\n",
       "  't-shirt'),\n",
       " (['blouson blanc facon perfecto bal',\n",
       "   'blouson style perfecto lin coton',\n",
       "   'ceinture passant bouton pression',\n",
       "   'poches raglan devant',\n",
       "   'empiecement cotele aux epaules cotes',\n",
       "   'blouson style perfecto',\n",
       "   'blouson blanc facon perfecto balmain',\n",
       "   'pull gris col double trussardi',\n",
       "   'epaulettes passants pression',\n",
       "   'coton lin doublure viscose',\n",
       "   'col pointe boutons pression griffes',\n",
       "   'accueil ventes balmain homme blouson blanc facon perfecto balmain',\n",
       "   'fermeture eclair transversale',\n",
       "   'jean brut bleu edition',\n",
       "   'mannequin mesure 1m84 porte',\n",
       "   'col rond double'],\n",
       "  'blouson'),\n",
       " (['t-shirt bleu saturday night',\n",
       "   'imprime inscription pierre balmain saturday night',\n",
       "   'accueil ventes balmain homme t-shirt bleu saturday night balmain',\n",
       "   'coupe regular droit',\n",
       "   'jean style motard noir',\n",
       "   't-shirt manches courtes laine effet chine',\n",
       "   't-shirt bleu saturday night balmain'],\n",
       "  't-shirt'),\n",
       " (['imprime tache bleu nuit',\n",
       "   'survetement coton bleu',\n",
       "   'fermeture glissiere pattes bouton',\n",
       "   'accueil ventes balmain homme jogging coton bleu balmain',\n",
       "   'pull noir col rond',\n",
       "   'poches raglan zippe',\n",
       "   'poche passepoilee fesse droite',\n",
       "   'pull noir col rond coton',\n",
       "   'jogging coton bleu balmain'],\n",
       "  'jogging'),\n",
       " (['grand conseillons prendre dessous',\n",
       "   't-shirt coton kaki',\n",
       "   't-shirt blanc casse broderie',\n",
       "   't-shirt coton blanc',\n",
       "   't-shirt noir broderie tigre balmain',\n",
       "   'manches courtes broderie tigre pierre balmain noir',\n",
       "   't-shirt coton noir',\n",
       "   't-shirt noir broderie tigre',\n",
       "   't-shirt kaki broderie tigre',\n",
       "   'accueil ventes balmain homme t-shirt noir broderie tigre balmain'],\n",
       "  't-shirt'),\n",
       " (['sweat gris imprime svnty',\n",
       "   'accueil ventes balmain homme blouson perfecto noir balmain',\n",
       "   'fermeture eclair pression',\n",
       "   'chevre doublure viscose',\n",
       "   'coutures aux manches',\n",
       "   'blouson style perfecto',\n",
       "   'blouson perfecto noir balmain',\n",
       "   'empiecements cuir cotele',\n",
       "   'doublure integrale motif signature pierre balmain poche interieure',\n",
       "   'deux poches devant zippees'],\n",
       "  'blouson'),\n",
       " (['t-shirt coton kaki',\n",
       "   'grand conseillons prendre dessous',\n",
       "   't-shirt kaki broderie tigre balmain',\n",
       "   't-shirt blanc casse broderie',\n",
       "   'accueil ventes balmain homme t-shirt kaki broderie tigre balmain',\n",
       "   't-shirt coton blanc',\n",
       "   'manches courtes broderie tigre pierre balmain noir',\n",
       "   't-shirt coton noir',\n",
       "   't-shirt noir broderie tigre',\n",
       "   't-shirt kaki broderie tigre'],\n",
       "  't-shirt'),\n",
       " (['chemise veste bleue jean balmain',\n",
       "   'poches plaquees rabats',\n",
       "   'chemise jean bleu',\n",
       "   'accueil ventes balmain homme chemise veste bleue jean balmain',\n",
       "   'poignet casse double boutonnage'],\n",
       "  'chemise'),\n",
       " (['t-shirt coton gris',\n",
       "   'accueil ventes balmain homme t-shirt gris inscriptions balmain',\n",
       "   'mannequin mesure porte',\n",
       "   'flocage inscriptions noir',\n",
       "   't-shirt gris inscriptions balmain'],\n",
       "  't-shirt'),\n",
       " (['mannequin mesure porte',\n",
       "   'finition bord coats',\n",
       "   'sweat coton bleu',\n",
       "   'jean skinny noir john richmond',\n",
       "   'effet delave noir',\n",
       "   'sweat coton bleu balmain',\n",
       "   'accueil ventes balmain homme sweat coton bleu balmain'],\n",
       "  'sweat'),\n",
       " (['poches plaquees aux fesses',\n",
       "   'accueil ventes balmain homme jean bleu delave skinny balmain',\n",
       "   'mannequin mesure porte',\n",
       "   'metal argent patch cuir cote gauche',\n",
       "   'fermeture boutons patte bouton griffe',\n",
       "   'jean bleu delave skinny balmain'],\n",
       "  'jean'),\n",
       " (['accueil ventes balmain homme jean bleu matelasse skinny balmain',\n",
       "   'poches plaquees aux fesses',\n",
       "   'jean bleu matelasse skinny balmain',\n",
       "   'mannequin mesure porte',\n",
       "   'fermeture glissiere patte fantaisie',\n",
       "   'poches italiennes poches raglan'],\n",
       "  'jean'),\n",
       " (['accueil ventes balmain homme blouson maille gris fonce balmain',\n",
       "   'fermeture croisee zip',\n",
       "   'acrylique laine viscose alpaga tissu polyester',\n",
       "   'boutons fantaisie logo balmain',\n",
       "   'chelsea boots noir swims',\n",
       "   'blouson maille gris fonce bal',\n",
       "   'blouson maille gris fonce balmain',\n",
       "   'blouson maille epaisse'],\n",
       "  'blouson'),\n",
       " (['accueil ventes balmain homme jean bleu matelasse skinny pierre balmain',\n",
       "   'pull coton beige capuche',\n",
       "   'poches plaquees fesses patch marque fesse droite',\n",
       "   'mannequin mesure porte',\n",
       "   'jean bleu matelasse skinny pierr',\n",
       "   'pull coton beige',\n",
       "   'fermeture glissiere patte decoratif bouton',\n",
       "   'jean bleu matelasse skinny pierre balmain'],\n",
       "  'jean'),\n",
       " (['accueil ventes balmain homme jean bleu matelasse skinny balmain',\n",
       "   'poches plaquees aux fesses',\n",
       "   'jean bleu matelasse skinny balmain',\n",
       "   'mannequin mesure porte',\n",
       "   'fermeture glissiere patte fantaisie',\n",
       "   'poches italiennes poches raglan'],\n",
       "  'jean'),\n",
       " (['echarpe chaude laine melangee',\n",
       "   'ideale contre brises fraiches',\n",
       "   'accueil ventes low brand homme echarpe longue grise franges low brand',\n",
       "   'laine viscose polyamide cachemire',\n",
       "   'franges aux extremites',\n",
       "   'echarpe longue grise franges low brand',\n",
       "   'echarpe longue grise franges',\n",
       "   'echarpe longue bleue franges'],\n",
       "  'echarpe'),\n",
       " (['ligne ecocashmere daniel fiesoli',\n",
       "   'grande echarpe eco cachemire',\n",
       "   'motifs coteles beiges',\n",
       "   'echarpe eco cachemire orange',\n",
       "   'accueil ventes woolgroup fiesoli homme grande echarpe eco cachemire orange cotele daniele fiesoli',\n",
       "   'grande echarpe eco cachemire orange cotele daniele fiesoli'],\n",
       "  'echarpe'),\n",
       " (['tricot motif fines cordes',\n",
       "   'accueil ventes woolgroup fiesoli homme grande echarpe laine bleue fines tresses woolgroup',\n",
       "   'grande echarpe laine bleue',\n",
       "   'acrylique laine polyamide',\n",
       "   'grande echarpe laine tresse',\n",
       "   'rayures fantaisies verte gris',\n",
       "   'echarpe laine bleue',\n",
       "   'grande echarpe laine bleue fines tresses woolgroup'],\n",
       "  'echarpe'),\n",
       " (['patch logo bas droite',\n",
       "   'echarpe polaire rouge',\n",
       "   'accueil ventes ralph lauren homme echarpe polaire rouge reversible noir ralph lauren',\n",
       "   'echarpe polaire rouge reversible noir ralph lauren',\n",
       "   'echarpe polaire rouge reversible',\n",
       "   'ligne ralph lauren polo'],\n",
       "  'echarpe'),\n",
       " (['accueil ventes diesel homme echarpe bleu carreaux dechirures diesel',\n",
       "   'echarpe coton bleu',\n",
       "   'dimensions 25x 153cm',\n",
       "   'echarpe bleu carreaux dechirures diesel',\n",
       "   'echarpe bleu carreaux dechi',\n",
       "   'ligne diesel style lab'],\n",
       "  'echarpe'),\n",
       " (['accueil ventes woolgroup fiesoli homme grande echarpe alpaga merinos fines tresses bleue woolgroup',\n",
       "   'tricot motif fines cordes',\n",
       "   'echarpe alpaga merinos bleue',\n",
       "   'acrylique laine alpaga viscose',\n",
       "   'grande echarpe alpaga merinos fines tresses bleue woolgroup',\n",
       "   'grande echarpe alpaga meri'],\n",
       "  'echarpe'),\n",
       " (['acrylique laine polyamide',\n",
       "   'echarpe laine gris',\n",
       "   'accueil ventes woolgroup fiesoli homme grande echarpe laine gris chine woolgroup',\n",
       "   'grande echarpe laine gris chine woolgroup',\n",
       "   'grande echarpe laine gris chi'],\n",
       "  'echarpe'),\n",
       " (['echarpe chaude laine melangee',\n",
       "   'ideale contre brises fraiches',\n",
       "   'laine viscose polyamide cachemire',\n",
       "   'franges aux extremites',\n",
       "   'echarpe longue bleue franges low brand',\n",
       "   'echarpe longue grise franges',\n",
       "   'echarpe longue bleue franges',\n",
       "   'accueil ventes low brand homme echarpe longue bleue franges low brand'],\n",
       "  'echarpe'),\n",
       " (['finitions tricots motifs chevrons',\n",
       "   'motifs fines tresses',\n",
       "   'echarpe alpaga beige',\n",
       "   'grande echarpe alpaga beige finitions chevrons daniele fiesoli',\n",
       "   'accueil ventes woolgroup fiesoli homme grande echarpe alpaga beige finitions chevrons daniele fiesoli',\n",
       "   'alpaga baby polyamide laine',\n",
       "   'grande echarpe alpaga beige'],\n",
       "  'echarpe'),\n",
       " (['echarpe laine bleu carreaux claudio cutuli',\n",
       "   'echarpe laine bleu carreaux',\n",
       "   'echarpe laine bleu',\n",
       "   'imprime carreaux vert',\n",
       "   'accueil ventes claudio cutuli homme echarpe laine bleu carreaux claudio cutuli'],\n",
       "  'echarpe'),\n",
       " (['rayures fantaisies gris blanc',\n",
       "   'echarpe laine noir',\n",
       "   'grande echarpe laine bleue',\n",
       "   'acrylique laine polyamide',\n",
       "   'grande echarpe laine tresse',\n",
       "   'accueil ventes woolgroup fiesoli homme grande echarpe laine tresse noir woolgroup',\n",
       "   'grande echarpe laine tresse noir woolgroup',\n",
       "   'echarpe laine bleue',\n",
       "   'tricots motif cordes'],\n",
       "  'echarpe'),\n",
       " (['motif tricot tresse',\n",
       "   'echarpe merinos alpaga beige',\n",
       "   'acrylique laine alpaga viscose',\n",
       "   'grande echarpe laine alpag',\n",
       "   'accueil ventes woolgroup fiesoli homme grande echarpe laine alpaga beige woolgroup'],\n",
       "  'echarpe'),\n",
       " (['grande echarpe laine grise woolgroup',\n",
       "   'echarpe laine grise',\n",
       "   'acrylique laine polyamide',\n",
       "   'grande echarpe laine grise',\n",
       "   'accueil ventes woolgroup fiesoli homme grande echarpe laine grise woolgroup'],\n",
       "  'echarpe'),\n",
       " (['motifs fines tresses',\n",
       "   'grande echarpe alpaga cotele',\n",
       "   'alpaga baby polyamide',\n",
       "   'echarpe alpaga beige',\n",
       "   'accueil ventes woolgroup fiesoli homme grande echarpe alpaga cotele beige daniele fiesoli',\n",
       "   'grande echarpe alpaga cotele beige daniele fiesoli'],\n",
       "  'echarpe'),\n",
       " (['accueil ventes hydrogen homme grande echarpe laine gris reversible noir hydrogen',\n",
       "   'grande echarpe laine gris reversible noir hydrogen',\n",
       "   'grande echarpe laine gris rev',\n",
       "   'echarpe laine gris',\n",
       "   'echarpe laine gris noir'],\n",
       "  'echarpe'),\n",
       " (['accueil ventes woolgroup fiesoli homme grande echarpe laine cachemire bleue woolgroup',\n",
       "   'grande echarpe laine cache',\n",
       "   'laine viscose polyamide cachemire',\n",
       "   'grande echarpe laine cachemire bleue woolgroup',\n",
       "   'echarpe laine cachemire bleue'],\n",
       "  'echarpe'),\n",
       " (['grande echarpe laine cache',\n",
       "   'echarpe cou laine cachemire bordeaux',\n",
       "   'grande echarpe laine cachemire bordeaux woolgroup',\n",
       "   'accueil ventes woolgroup fiesoli homme grande echarpe laine cachemire bordeaux woolgroup',\n",
       "   'laine polyamide autres fibres'],\n",
       "  'echarpe'),\n",
       " (['haut tablier fantaisie nouer',\n",
       "   'liens fantaisie nouer',\n",
       "   'grand foulard soie lame viole',\n",
       "   'maillot bain coton nylon blanc',\n",
       "   'maillot bain pieces blanc',\n",
       "   'bas coupe slip',\n",
       "   'polyamide elasthanne doublure polyamide',\n",
       "   'maillot bain pieces blanc col tablier',\n",
       "   'accueil ventes maison margiela femme maillot bain pieces blanc col tablier maison margiela',\n",
       "   'maillot bain pieces blanc col tablier maison margiela'],\n",
       "  'maillot'),\n",
       " (['maillot bain crochet lurex vert noir',\n",
       "   'viscose coton polyester polyamide doublure polyester',\n",
       "   'maillot bain crochet',\n",
       "   'finition biais noir',\n",
       "   'haut triangles coulissants',\n",
       "   'imprime geometrique jaune argent vert',\n",
       "   'bas coupe slip',\n",
       "   'maillot bain crochet lurex vert noir iceberg',\n",
       "   'accueil ventes iceberg femme maillot bain crochet lurex vert noir iceberg'],\n",
       "  'maillot'),\n",
       " (['accueil ventes pamela beaumane femme bikini blanc broche volants pamela beaumane',\n",
       "   'fleur pique devant',\n",
       "   'bikini blanc broche volants',\n",
       "   'bikini blanc broche volants pamela beaumane'],\n",
       "  'bikini'),\n",
       " (['bonnets non renforces',\n",
       "   'cordons nouer cotes',\n",
       "   'accueil ventes pamela beaumane femme bikini noir franges pamela beaumane',\n",
       "   'bikini noir franges pamela beaumane',\n",
       "   'bikini noir franges pamela'],\n",
       "  'bikini'),\n",
       " (['maillot bain nylon corail',\n",
       "   'entierement double vert citron',\n",
       "   'maillot bain piece corail motif coquillage missoni',\n",
       "   'maillot bain piece corail',\n",
       "   'patch logo fantaisie bas gauche',\n",
       "   'accueil ventes missoni femme maillot bain piece corail motif coquillage missoni',\n",
       "   'grand foulard soie lame viole',\n",
       "   'soutien gorge rembourre baleines'],\n",
       "  'maillot'),\n",
       " (['maillot bain pieces noir',\n",
       "   'maillot bain nylon noir gris',\n",
       "   'maillot bain pieces noir frange',\n",
       "   'liens fantaisie nouer',\n",
       "   'accueil ventes femme maillot bain pieces noir frange',\n",
       "   'bas coupe slip',\n",
       "   'haut dentelle simili cuir galon frange',\n",
       "   'polyamide polyester elasthanne doublure polyamide elasthanne'],\n",
       "  'maillot'),\n",
       " (['accueil ventes pamela beaumane femme bikini noir neoprene pamela beaumane',\n",
       "   'bikini noir neoprene pamela beaumane',\n",
       "   'bikini noir neoprene pamela',\n",
       "   'enfile facile normalement'],\n",
       "  'bikini'),\n",
       " (['maillot bain pieces beige broderies macrame jijil',\n",
       "   'accueil ventes jijil femme maillot bain pieces beige broderies macrame jijil',\n",
       "   'maillot bain pieces beige',\n",
       "   'bas coupe slip',\n",
       "   'maillot bain beige',\n",
       "   'mannequin mesure 1m65 porte',\n",
       "   'polyamide elasthanne doublure polyamide elasthanne'],\n",
       "  'maillot'),\n",
       " (['maillot bain nylon bleu rouge',\n",
       "   'maillot bain piece bleu',\n",
       "   'accueil ventes missoni femme maillot bain piece bleu pois missoni',\n",
       "   'entierement double patch logo fantaisie bas gauche',\n",
       "   'maillot bain piece bleu pois missoni',\n",
       "   'soutien gorge rembourre baleines'],\n",
       "  'maillot'),\n",
       " (['accueil ventes femme maillot bain rose broderie',\n",
       "   'maillot bain rose broderie',\n",
       "   'maillot bain noir broder',\n",
       "   'maillot bain bleu broder',\n",
       "   'haut maillot forme',\n",
       "   'polyester elasthanne doublure polyamide elasthanne',\n",
       "   'maillot bain rose broder',\n",
       "   'haut maillot forme bandeau coutures souples godets broderies nouer derriere bas maillot noue cotes texture effet use'],\n",
       "  'maillot'),\n",
       " (['bikini rose imprime tropique pam',\n",
       "   'bikini rose imprime tropique pamela beaumane',\n",
       "   'accueil ventes pamela beaumane femme bikini rose imprime tropique pamela beaumane',\n",
       "   'noeuds amovibles cotes'],\n",
       "  'bikini'),\n",
       " (['maillot bain pieces',\n",
       "   'culotte unie noeuds fantaisies cotes',\n",
       "   'accueil ventes pamela beaumane femme maillot bain pieces rose breloques pamela beaumane',\n",
       "   'maillot bain pieces rose breloques pamela beaumane',\n",
       "   'maillot bain pieces rose',\n",
       "   'application breloques multicolores'],\n",
       "  'maillot'),\n",
       " (['maillot bain piece blanc',\n",
       "   'ceinture crochet doree',\n",
       "   'maillot bain piece blanc motif animal fendi',\n",
       "   'maillot bain nylon blanc',\n",
       "   'accueil ventes fendi femme maillot bain piece blanc motif animal fendi',\n",
       "   'soutien gorge rembourre baleines'],\n",
       "  'maillot'),\n",
       " (['accueil ventes lim femme maillot bain pieces kaki motifs abstrait lim',\n",
       "   'haut rembourrage baleine',\n",
       "   'maillot bain pieces kaki motifs abstrait lim',\n",
       "   'maillot bain pieces kaki',\n",
       "   'bas coupe slip',\n",
       "   'motifs abstraits violet',\n",
       "   'mannequin mesure 1m65 porte',\n",
       "   'maillot bain kaki'],\n",
       "  'maillot'),\n",
       " (['bikini vert corail pamela beaumane',\n",
       "   'bonnets forme triangle',\n",
       "   'motif geometrique multicolore',\n",
       "   'liens nouer cotes',\n",
       "   'accueil ventes pamela beaumane femme bikini vert corail pamela beaumane',\n",
       "   'bikini multicolore pamela bea',\n",
       "   'bikini vert corail pamela'],\n",
       "  'bikini'),\n",
       " (['maillot piece imprime tropical',\n",
       "   'accueil ventes pamela beaumane femme maillot piece imprime tropical pamela beaumane',\n",
       "   'maillot piece imprime tropical pamela beaumane',\n",
       "   'noeud fente devant'],\n",
       "  'maillot'),\n",
       " (['grand foulard soie rose dsquared',\n",
       "   'accueil ventes balmain femme maillot bain pieces noir ecailles fantaisies balmain',\n",
       "   'ligne balmain paris',\n",
       "   'haut entierement double blanc',\n",
       "   'bride tour cou ajustable',\n",
       "   'maillot bain nylon noir',\n",
       "   'maillot bain pieces noir ecailles fantaisies balmain',\n",
       "   'haut ecailles fantaisies strass',\n",
       "   'maillot bain pieces noir',\n",
       "   'entierement double noir',\n",
       "   'bas coupe culotte',\n",
       "   'polyamide elasthanne doublure polyamide elasthanne'],\n",
       "  'maillot'),\n",
       " (['maillot piece blanc volante pamela beaumane',\n",
       "   'ajoure bretelles volantes',\n",
       "   'normalement enfile facilement',\n",
       "   'maillot piece blanc volante',\n",
       "   'accueil ventes pamela beaumane femme maillot piece blanc volante pamela beaumane'],\n",
       "  'maillot'),\n",
       " (['maillot bain crochet lurex violet',\n",
       "   'accueil ventes iceberg femme maillot bain crochet lurex violet iceberg',\n",
       "   'viscose polyester polyamide doublure polyester',\n",
       "   'maillot bain crochet',\n",
       "   'imprime reptile python violet',\n",
       "   'haut triangles coulissants',\n",
       "   'bas coupe slip',\n",
       "   'entierement double nude',\n",
       "   'maillot bain crochet lurex violet iceberg'],\n",
       "  'maillot'),\n",
       " (['accueil ventes lim femme maillot bain pieces rouge lim',\n",
       "   'haut rembourrage baleine',\n",
       "   'maillot bain rouge',\n",
       "   'maillot bain pieces rouge lim',\n",
       "   'bas coupe slip',\n",
       "   'mannequin mesure 1m65 porte'],\n",
       "  'maillot'),\n",
       " (['accueil ventes pamela beaumane femme maillot piece noir vert ajoure pamela beaumane',\n",
       "   'maillot piece noir vert ajoure pamela beaumane',\n",
       "   'maillot piece noir vert ajo',\n",
       "   'ajoure bandes noires contrastantes cotes'],\n",
       "  'maillot'),\n",
       " (['accueil ventes twinset femme maillot bain trikini sequin twinset',\n",
       "   'maillot bain taupe',\n",
       "   'polyamide coton elasthanne',\n",
       "   'fermeture bride nouer',\n",
       "   'maillot bain trikini sequin twinset',\n",
       "   'maillot bain trikini sequin'],\n",
       "  'maillot'),\n",
       " (['maillot bain crochet lurex violet noir iceberg',\n",
       "   'viscose coton polyester polyamide doublure polyester',\n",
       "   'maillot bain crochet',\n",
       "   'imprime reptile python violet',\n",
       "   'haut triangles coulissants',\n",
       "   'bas coupe slip',\n",
       "   'accueil ventes iceberg femme maillot bain crochet lurex violet noir iceberg',\n",
       "   'noeud noue nuque',\n",
       "   'entierement double leopard'],\n",
       "  'maillot'),\n",
       " (['maillot bain piece blanc col tablier',\n",
       "   'maillot bain piece blanc',\n",
       "   'haut tablier fantaisie nouer',\n",
       "   'liens fantaisie nouer',\n",
       "   'accueil ventes maison margiela femme maillot bain piece blanc col tablier maison margiela',\n",
       "   'polyamide elasthanne doublure polyamide',\n",
       "   'maillot bain coton nylon blanc',\n",
       "   'maillot bain piece blanc col tablier maison margiela'],\n",
       "  'maillot'),\n",
       " (['bikini multicolore pamela beaumane',\n",
       "   'bonnets forme triangle',\n",
       "   'bikini vert corail pamela',\n",
       "   'motif geometrique multicolore',\n",
       "   'liens nouer cotes',\n",
       "   'bikini multicolore pamela bea',\n",
       "   'accueil ventes pamela beaumane femme bikini multicolore pamela beaumane'],\n",
       "  'bikini'),\n",
       " (['maillot piece multicolore bust',\n",
       "   'ajoure fermeture agrafe volants',\n",
       "   'accueil ventes pamela beaumane femme maillot piece multicolore bustier pamela beaumane',\n",
       "   'motif geometrique multicolore',\n",
       "   'maillot piece multicolore bustier pamela beaumane'],\n",
       "  'maillot'),\n",
       " (['polyamide fibres metalliques elasthanne',\n",
       "   'maillot bain pieces lure',\n",
       "   'haut rembourrage baleine',\n",
       "   'maillot bain lurex dore',\n",
       "   'maillot bain pieces lurex dore maison pere',\n",
       "   'accueil ventes maison pere femme maillot bain pieces lurex dore maison pere',\n",
       "   'bas coupe slip',\n",
       "   'mannequin mesure 1m65 porte'],\n",
       "  'maillot'),\n",
       " (['poches plaquees arriere',\n",
       "   'jean mom effet use bleu zoe karssen',\n",
       "   'accueil ventes zoe karssen femme jean mom effet use bleu zoe karssen',\n",
       "   'top maille fine jaune moschino',\n",
       "   'top maille fine',\n",
       "   'fermeture glissiere patte bouton',\n",
       "   'mannequin mesure 1m75 porte'],\n",
       "  'jean'),\n",
       " (['poches plaquees aux fesses',\n",
       "   'jean slim coton gris dechirures john galliano',\n",
       "   'mannequin mesure porte',\n",
       "   'jean coton gris',\n",
       "   'accueil ventes galliano femme jean slim coton gris dechirures john galliano',\n",
       "   't-shirt blanc etoile arc-en-ci',\n",
       "   'jean slim coton gris dechir',\n",
       "   'incrustation type patchwork gris fonce'],\n",
       "  'jean'),\n",
       " (['jean noir skinny delave balmain',\n",
       "   'mannequin mesure porte',\n",
       "   'accueil ventes balmain femme jean noir skinny delave balmain'],\n",
       "  'jean'),\n",
       " (['mannequin mesure 1m65 porte',\n",
       "   'accueil ventes femme jean palazzo brut coton bleu',\n",
       "   'chemise crop top coton blanc',\n",
       "   'coton rayonne polyester doublure coton',\n",
       "   'jean palazzo brut coton bleu',\n",
       "   'fermeture glissiere metal pattes crochet'],\n",
       "  'jean'),\n",
       " (['fermeture glissiere metal pattes',\n",
       "   'coton polyester elasthanne',\n",
       "   'mannequin mesure 1m70 porte',\n",
       "   'accueil ventes renhsen femme jean skinny coton bleu renhsen',\n",
       "   'jean skinny coton bleu renhsen'],\n",
       "  'jean'),\n",
       " (['fermeture glissiere pattes bouton griffe',\n",
       "   'jean regular coton beige trus',\n",
       "   'poches surpiqures fantaisies plaquees aux fesses',\n",
       "   'accueil ventes trussardi femme jean regular coton beige trussardi',\n",
       "   'jean coton beige',\n",
       "   'jean regular coton beige trussardi',\n",
       "   'publie date commande',\n",
       "   'mannequin mesure 1m75 porte'],\n",
       "  'jean'),\n",
       " (['pull manches maille viol',\n",
       "   'petit conseillons dessus habituelle',\n",
       "   'tissu coton elasthanne doublure poche polyester coton application cuir veau contient parties non textiles origine animale',\n",
       "   'jean gris delave effet dechire dsquared',\n",
       "   'jean coton gris',\n",
       "   'coupe super skinny',\n",
       "   'jean gris delave effet dechire',\n",
       "   'accueil ventes dsquared2 femme jean gris delave effet dechire dsquared'],\n",
       "  'jean'),\n",
       " (['jean vintage coupe mom fit editi',\n",
       "   'fermeture glissiere pattes bouton griffe',\n",
       "   'effet brut vintage',\n",
       "   'coupe mom fit',\n",
       "   'accueil ventes edition femme jean vintage coupe mom fit edition',\n",
       "   'jean bleu effet',\n",
       "   'jean vintage coupe mom fit edition'],\n",
       "  'jean'),\n",
       " (['accueil ventes jbrand femme jean skinny delave turquoise jbrand',\n",
       "   'jean skinny delave rose pastel',\n",
       "   'jean skinny delave turquoise jbrand',\n",
       "   'fermeture glissiere metal patte',\n",
       "   'pull ajoure coton rose jijil',\n",
       "   'coton polyester elastane',\n",
       "   'mannequin mesure 1m75 porte 26us',\n",
       "   'jean coton rose',\n",
       "   'jean coton bleu turquoise',\n",
       "   'pull coton rose'],\n",
       "  'jean'),\n",
       " (['poches plaquees aux fesses',\n",
       "   'mannequin mesure porte',\n",
       "   'fermeture glissiere patte fantaisie',\n",
       "   'jean skinny coton gris matela',\n",
       "   'poches italiennes poches raglan',\n",
       "   'jean coton gris',\n",
       "   'accueil ventes balmain femme jean skinny coton gris matelasse balmain',\n",
       "   'jean skinny coton gris matelasse balmain'],\n",
       "  'jean'),\n",
       " (['accueil ventes space simona corsellini femme jean bleu space',\n",
       "   'jeans poches haute coupe flare delave fermeture zip bouton',\n",
       "   'jean bleu space'],\n",
       "  'jean'),\n",
       " (['fermeture glissiere metal patte',\n",
       "   'coton polyester elasthanne',\n",
       "   'top bateau brique epaules smoc',\n",
       "   'top viscose brique',\n",
       "   'mannequin mesure 1m75 porte 26us',\n",
       "   'accueil ventes jbrand femme jean skinny delave bleu jbrand',\n",
       "   'jean skinny delave bleu jbrand'],\n",
       "  'jean'),\n",
       " (['accueil ventes svnty femme jean skinny gris broderie paix svnty',\n",
       "   'jean skinny gris broderie paix svnty',\n",
       "   'jean skinny gris broderie pai',\n",
       "   'fermeture glissiere metal pattes bouton griffe',\n",
       "   'jean coton gris',\n",
       "   'mannequin mesure 1m75 porte 26us',\n",
       "   'debardeur soie blanc calvin'],\n",
       "  'jean'),\n",
       " (['jean brut flair jijil',\n",
       "   'mannequin mesure porte',\n",
       "   'top vinyle lame',\n",
       "   'top vinyle lame bleu collie',\n",
       "   'accueil ventes jijil femme jean brut flair jijil'],\n",
       "  'jean'),\n",
       " (['jean skinny bleu broderie flor',\n",
       "   'jean skinny bleu broderie floral may june',\n",
       "   'mannequin mesure 1m75 porte 26us',\n",
       "   'fermeture glissiere metal pattes bouton griffe',\n",
       "   'broderie floral fesses',\n",
       "   'debardeur soie blanc calvin',\n",
       "   'accueil ventes may june femme jean skinny bleu broderie floral may june'],\n",
       "  'jean'),\n",
       " (['pantalon coton taupe',\n",
       "   'pantalon skinny imprime cachemir',\n",
       "   'poches plaquees fesses',\n",
       "   'pantalon skinny imprime cachemire taupe renhsen',\n",
       "   'mannequin mesure 1m75 porte 26us',\n",
       "   'accueil ventes renhsen femme pantalon skinny imprime cachemire taupe renhsen',\n",
       "   'fermeture glissiere patte bouton griffe',\n",
       "   'gilet maille laine tressee'],\n",
       "  'pantalon'),\n",
       " (['couture laterales milieu devant',\n",
       "   'chemise matieres raye blanc',\n",
       "   'fermeture bouton pattes',\n",
       "   'mannequin mesure porte',\n",
       "   'jean regular bleu coutures laterales coyotes paris',\n",
       "   'accueil ventes coyotes paris femme jean regular bleu coutures laterales coyotes paris',\n",
       "   'jean regular bleu coutures lat',\n",
       "   'ourlet effet dechire franges'],\n",
       "  'jean'),\n",
       " (['pantalon skinny beige mauro grifoni',\n",
       "   'poches plaquees surpiqure fantaisie arriere',\n",
       "   'accueil ventes mauro grifoni femme pantalon skinny beige mauro grifoni',\n",
       "   'fermeture glissiere patte bouton',\n",
       "   'mannequin mesure 1m75 porte'],\n",
       "  'pantalon'),\n",
       " (['poches plaquees dechirures aux fesses',\n",
       "   'jean gris delave effet dechire balmain',\n",
       "   'fermeture boutons patte',\n",
       "   'mannequin mesure porte',\n",
       "   'accueil ventes balmain femme jean gris delave effet dechire balmain',\n",
       "   'jean coton gris',\n",
       "   'jean gris delave effet dechire'],\n",
       "  'jean'),\n",
       " (['petit conseillons dessus habituelle',\n",
       "   't-shirt blanc col ajoure dsq',\n",
       "   'broderie cuisse droite',\n",
       "   'jean gris delave effet dechire dsquared',\n",
       "   'coton elasthanne doublure poche polyester coton application cuir veau',\n",
       "   'jean coton gris',\n",
       "   'broderie logo bas poche gauche',\n",
       "   'patch logo fermeture glissiere',\n",
       "   'coupe super skinny',\n",
       "   'jean gris delave effet dechire',\n",
       "   'accueil ventes dsquared2 femme jean gris delave effet dechire dsquared'],\n",
       "  'jean'),\n",
       " (['jean slim camel jbrand',\n",
       "   'pantalon coton camel',\n",
       "   'mannequin mesure 1m75 porte 36us',\n",
       "   'accueil ventes jbrand femme jean slim camel jbrand',\n",
       "   'fermeture fermeture glissiere metal patte'],\n",
       "  'jean'),\n",
       " (['jean coton rose',\n",
       "   'jean skinny delave rose pastel',\n",
       "   'fermeture glissiere metal patte',\n",
       "   'jean skinny delave turquoise jbrand',\n",
       "   'jean skinny delave rose pastel jbrand',\n",
       "   'top bi-matiere ecru fleurie',\n",
       "   'coton polyester elastane',\n",
       "   'accueil ventes jbrand femme jean skinny delave rose pastel jbrand',\n",
       "   'mannequin mesure 1m75 porte 27us',\n",
       "   'jean coton rose pastel'],\n",
       "  'jean'),\n",
       " (['top tulle noir',\n",
       "   'revers aux chevilles',\n",
       "   'mannequin mesure porte',\n",
       "   'top tulle brode noir sequin',\n",
       "   'broche logo doree passant',\n",
       "   'jean coton blanc',\n",
       "   'fermeture glissiere pattes boutons',\n",
       "   'jean coton blanc revers copains',\n",
       "   'accueil ventes copains femme jean coton blanc revers copains',\n",
       "   'jean coton blanc revers'],\n",
       "  'jean'),\n",
       " (['poches plaquees arriere',\n",
       "   'jean skinny framboise elisabetta franchi',\n",
       "   'jean coton framboise',\n",
       "   'top mousseline brique fleur',\n",
       "   'jean skinny framboise elisabetta',\n",
       "   'accueil ventes elisabetta franchi femme jean skinny framboise elisabetta franchi',\n",
       "   'mannequin mesure 1m72 porte'],\n",
       "  'jean'),\n",
       " (['accueil ventes may june femme jean skinny coton blanc bandes laterales may june',\n",
       "   'coton polyester elasthanne',\n",
       "   'blouse bi-matiere noir copains',\n",
       "   'jean skinny coton blanc bandes laterales may june',\n",
       "   'jean coton blanc',\n",
       "   'jean skinny coton blanc ban',\n",
       "   'fines bandes laterales fantaisies argent',\n",
       "   'fermeture glissiere metal pattes boutons griffes',\n",
       "   'mannequin mesure 1m75 porte'],\n",
       "  'jean'),\n",
       " (['chemisier bi-matiere noir paradi',\n",
       "   'poches plaquees aux fesses',\n",
       "   'mannequin mesure porte',\n",
       "   'jean coton blanc',\n",
       "   'poches raglans poches italiennes',\n",
       "   'fermeture glissiere patte bouton griffe',\n",
       "   'jean matelasse blanc poches fantaisie balmain',\n",
       "   'accueil ventes balmain femme jean matelasse blanc poches fantaisie balmain',\n",
       "   'jean matelasse blanc poches'],\n",
       "  'jean'),\n",
       " (['accueil ventes balmain femme jean kaki imprime animal balmain balmain',\n",
       "   'broche passant ceinture droite',\n",
       "   'top satin blanc',\n",
       "   'mannequin mesure porte',\n",
       "   'jean kaki imprime animal balmain balmain',\n",
       "   'poches italiennes poches raglan',\n",
       "   'jean coton kaki',\n",
       "   'top satin blanc broderie',\n",
       "   'jean kaki imprime animal balma'],\n",
       "  'jean'),\n",
       " (['jean clair poches',\n",
       "   'jean bleu plein sud',\n",
       "   'jean clair poches delave coutures tournantes fermeture zip bouton',\n",
       "   'accueil ventes plein sud femme jean bleu plein sud'],\n",
       "  'jean'),\n",
       " (['effet use jambe gratine',\n",
       "   'coupe boyfriend fit',\n",
       "   'jean bleu effet use dolce gabbana',\n",
       "   'plaque griffee poche droite arriere',\n",
       "   'accueil ventes dolce gabbana femme jean bleu effet use dolce gabbana',\n",
       "   'top manches noue noir edwar',\n",
       "   'coton doublure cuir'],\n",
       "  'jean'),\n",
       " (['poche fantaisie zippee',\n",
       "   'poche fantaisie zippee cote',\n",
       "   'jean skinny coton blanc john',\n",
       "   'sweat neoprene noire poche',\n",
       "   'poignet bord cote',\n",
       "   'sweat neoprene noire poche fantaisie yohji yamamoto adidas',\n",
       "   'liens nouer capuche',\n",
       "   'col rond capuche',\n",
       "   'sweat neoprene noir',\n",
       "   'coton polyamide bords cotes polyester polyurethane',\n",
       "   'accueil ventes yohji yamamoto adidas homme sweat neoprene noire poche fantaisie yohji yamamoto adidas'],\n",
       "  'sweat'),\n",
       " (['sweat coton kaki broderie fantaisie adams',\n",
       "   'sweat coton kaki',\n",
       "   'mannequin mesure porte',\n",
       "   'sweat coton bleu',\n",
       "   'sweat coton kaki broderie',\n",
       "   'accueil ventes adams homme sweat coton kaki broderie fantaisie adams',\n",
       "   'sweat coton bleu broderie',\n",
       "   'finition bord cote',\n",
       "   'broderie griffe milieu'],\n",
       "  'sweat'),\n",
       " (['broderie griffe beige',\n",
       "   'sweat coton noir broderie',\n",
       "   'sweat coton bleu',\n",
       "   'accueil ventes adams homme sweat coton noir broderie fantaisie beige adams',\n",
       "   'sweat coton gris broderie',\n",
       "   'sweat coton noir broderie fantaisie beige adams',\n",
       "   'sweat coton bleu broderie'],\n",
       "  'sweat'),\n",
       " (['sweat coton bleu broderie fantaisie adams',\n",
       "   'jean skinny coton bleu effet',\n",
       "   'sweat coton noir broderie',\n",
       "   'accueil ventes adams homme sweat coton bleu broderie fantaisie adams',\n",
       "   'sweat coton bleu',\n",
       "   'sweat coton gris broderie',\n",
       "   'sweat coton bleu broderie'],\n",
       "  'sweat'),\n",
       " (['accueil ventes scotch soda homme sweat coton lame bronze scotch soda',\n",
       "   'patch logo simili bas gauche',\n",
       "   'sweat coton lame bronze scotch soda',\n",
       "   'sweat coton bronze',\n",
       "   'sweat coton lame bronze scotc'],\n",
       "  'sweat'),\n",
       " (['petit conseillons prendre dessus',\n",
       "   'jean skinny double bouton guess',\n",
       "   'sweat gris logo nubuck john',\n",
       "   'accueil ventes john richmond homme sweat noir logo nubuck john richmond',\n",
       "   'sweat noir logo nubuck john',\n",
       "   'logo brode noir bande nubuck violet',\n",
       "   'sweat noir logo nubuck john richmond'],\n",
       "  'sweat'),\n",
       " (['sweat coton chine gris',\n",
       "   'accueil ventes john richmond homme sweat coton chine gris flocage mick jagger john richmond',\n",
       "   'sweat coton chine gris flocage mick jagger john richmond',\n",
       "   'sweat coton chine',\n",
       "   'sweat coton chine gris floc',\n",
       "   'flocage visage fantaisie noir'],\n",
       "  'sweat'),\n",
       " (['jean skinny coton noir effet',\n",
       "   'sweat noir flocage rouge',\n",
       "   'mannequin mesure 1m95 porte',\n",
       "   'coton biologique polyester',\n",
       "   'finitions bords cote',\n",
       "   'flocage message rouge',\n",
       "   'accueil ventes homme sweat noir flocage rouge'],\n",
       "  'sweat'),\n",
       " (['sweat coton noir broderie',\n",
       "   'sweat coton bleu',\n",
       "   'accueil ventes adams homme sweat coton noir broderie fantaisie noir adams',\n",
       "   'jean skinny noir effet huile eac',\n",
       "   'sweat coton gris broderie',\n",
       "   'sweat coton bleu broderie',\n",
       "   'finition bord cote',\n",
       "   'sweat coton noir broderie fantaisie noir adams',\n",
       "   'broderie griffe milieu'],\n",
       "  'sweat'),\n",
       " (['jean skinny coton bleu effet',\n",
       "   'broderie griffe beige',\n",
       "   'sweat coton noir broderie',\n",
       "   'sweat coton gris broderie fantaisie beige adams',\n",
       "   'sweat coton gris',\n",
       "   'accueil ventes adams homme sweat coton gris broderie fantaisie beige adams',\n",
       "   'sweat coton bleu',\n",
       "   'sweat coton gris broderie',\n",
       "   'sweat coton bleu broderie'],\n",
       "  'sweat'),\n",
       " (['sweat gris oversize andrea yaakov',\n",
       "   'sweat coton imprime',\n",
       "   'empiecement blocs textures lateraux dorsales',\n",
       "   'poches laterales discretes',\n",
       "   'manches longues mitaines',\n",
       "   'coutures apparentes dessinant silhouette',\n",
       "   'accueil ventes andrea yaakov homme sweat gris oversize andrea yaakov'],\n",
       "  'sweat'),\n",
       " (['sweat coton bleu broderie fantaisie adams',\n",
       "   'sweat coton kaki',\n",
       "   'accueil ventes adams homme sweat coton bleu broderie fantaisie adams',\n",
       "   'sweat coton bleu',\n",
       "   'sweat coton kaki broderie',\n",
       "   'jean skinny noir effet huile eac',\n",
       "   'sweat coton bleu broderie',\n",
       "   'finition bord cote',\n",
       "   'broderie griffe milieu'],\n",
       "  'sweat'),\n",
       " (['sweat coton bleu broderie fantaisie bleu adams',\n",
       "   'sweat coton noir broderie',\n",
       "   'mannequin mesure porte',\n",
       "   'broderie griffe bleu',\n",
       "   'sweat coton bleu',\n",
       "   'sweat coton gris broderie',\n",
       "   'accueil ventes adams homme sweat coton bleu broderie fantaisie bleu adams',\n",
       "   'sweat coton bleu broderie'],\n",
       "  'sweat'),\n",
       " (['jean skinny coton bleu effet',\n",
       "   'sweat coton blanc logo fleu',\n",
       "   'sweat coton kaki logo fleuri adams',\n",
       "   'sweat coton kaki logo fleur',\n",
       "   'jean skinny noir effet huile eac',\n",
       "   'sweat coton kaki',\n",
       "   'accueil ventes adams homme sweat coton kaki logo fleuri adams'],\n",
       "  'sweat'),\n",
       " (['sweat coton blanc broderie',\n",
       "   'jean skinny coton bleu effet',\n",
       "   'broderie griffe noir',\n",
       "   'sweat coton blanc broderie fantaisie adams',\n",
       "   'accueil ventes adams homme sweat coton blanc broderie fantaisie adams'],\n",
       "  'sweat'),\n",
       " (['jean skinny coton bleu effet',\n",
       "   'sweat gris chine logo floque vert courrege',\n",
       "   'sweat gris chine logo floque',\n",
       "   'logo floque vert',\n",
       "   'sweat coton gris',\n",
       "   'accueil ventes courrege homme sweat gris chine logo floque vert courrege'],\n",
       "  'sweat'),\n",
       " (['col montant cordons serrage',\n",
       "   'oversize porte ample',\n",
       "   'coupe longue modele classique',\n",
       "   'accueil ventes andrea yaakov homme sweat kaki oversize andrea yaakov',\n",
       "   'manches longues mitaines',\n",
       "   'empiecements textures lateraux',\n",
       "   'sweat kaki oversize andrea yaakov'],\n",
       "  'sweat'),\n",
       " (['sweat coton kaki logo fleuri adams',\n",
       "   'sweat coton blanc logo fleu',\n",
       "   'sweat coton kaki logo fleur',\n",
       "   'mannequin mesure porte',\n",
       "   'sweat coton kaki',\n",
       "   'accueil ventes adams homme sweat coton kaki logo fleuri adams'],\n",
       "  'sweat'),\n",
       " (['accueil ventes adams homme sweat coton blanc logo fleuri adams',\n",
       "   'sweat coton blanc logo fleu',\n",
       "   'sweat coton kaki logo fleur',\n",
       "   'mannequin mesure porte',\n",
       "   'sweat coton blanc logo fleuri adams',\n",
       "   'jean skinny velours noir',\n",
       "   'jean velours noir',\n",
       "   'sweat coton kaki'],\n",
       "  'sweat'),\n",
       " (['echarpe laine bouillit gris',\n",
       "   'echarpe gris motif animal came',\n",
       "   'motifs animal camel',\n",
       "   'accueil ventes carven femme echarpe gris motif animal camel carven',\n",
       "   'echarpe gris motif animal camel carven'],\n",
       "  'echarpe'),\n",
       " (['echarpe bleu soie cachemire',\n",
       "   'echarpe motifs zebre',\n",
       "   'echarpe motifs zebre cachemire soie',\n",
       "   'accueil ventes liapull femme echarpe bleu soie cachemire'],\n",
       "  'echarpe'),\n",
       " (['foulard cuir lin laine bleu',\n",
       "   'foulard matiere cuir',\n",
       "   'accueil ventes claudio cutuli femme foulard matiere cuir lin bleu delave claudio cutuli',\n",
       "   'empiecement cuir bleu filet',\n",
       "   'foulard cuir lin',\n",
       "   'foulard matiere cuir lin bleu delave claudio cutuli'],\n",
       "  'foulard'),\n",
       " (['gants cuir fourres',\n",
       "   'gants cuir violet maria grazi',\n",
       "   'accueil ventes maria grazia severi femme gants cuir violet maria grazia severi',\n",
       "   'exterieur cuir interieur laine',\n",
       "   'gants cuir fourres ouverture exterieur poignet',\n",
       "   'gants cuir violet maria grazia severi'],\n",
       "  'gants'),\n",
       " (['echarpe noire doree soie cachemire',\n",
       "   'echarpe noire doree soie',\n",
       "   'accueil ventes liapull femme echarpe noire doree soie cachemire',\n",
       "   'echarpe cachemire soie'],\n",
       "  'echarpe'),\n",
       " (['gants passe-coudes noir beige maria grazia severi',\n",
       "   'gants passe-coudes noir beige',\n",
       "   'gants passe-coudes fourres bras motif leopard',\n",
       "   'accueil ventes maria grazia severi femme gants passe-coudes noir beige maria grazia severi',\n",
       "   'gants passe-coudes noir blanc',\n",
       "   'gants passe-coudes noir gris',\n",
       "   'exterieur cuir interieur laine',\n",
       "   'gants passe-coudes rose noir'],\n",
       "  'gants'),\n",
       " (['gants passe-coudes noir beige',\n",
       "   'gants passe-coudes fourres bras motif leopard',\n",
       "   'accueil ventes maria grazia severi femme gants passe-coudes noir gris maria grazia severi',\n",
       "   'gants passe-coudes noir blanc',\n",
       "   'gants passe-coudes noir gris',\n",
       "   'exterieur cuir interieur laine',\n",
       "   'gants passe-coudes noir gris maria grazia severi',\n",
       "   'publie date commande',\n",
       "   'gants passe-coudes rose noir'],\n",
       "  'gants'),\n",
       " (['gants passe-coudes motif pied-de-coq',\n",
       "   'gants passe-coudes noir beige',\n",
       "   'viscose laine polyamide cachemire angora',\n",
       "   'accueil ventes maria grazia severi femme gants passe-coudes noir blanc maria grazia severi',\n",
       "   'gants passe-coudes noir blanc',\n",
       "   'gants passe-coudes noir blanc maria grazia severi',\n",
       "   'gants passe-coudes noir gris',\n",
       "   'gants passe-coudes rose noir'],\n",
       "  'gants'),\n",
       " (['ligne just cavalli',\n",
       "   'foulard bandana coton bleu',\n",
       "   'accueil ventes roberto cavalli femme foulard bandana coton rose roberto cavalli',\n",
       "   'foulard bandana coton rose'],\n",
       "  'foulard'),\n",
       " (['foulard pareo multicolore soie galon pompon space simona corsellini',\n",
       "   'accueil ventes space simona corsellini femme foulard pareo multicolore soie galon pompon space simona corsellini',\n",
       "   'foulard soie multicolore',\n",
       "   'foulard pareo multicolore soi',\n",
       "   'maillot bain crochet',\n",
       "   'galon pompon multicolore'],\n",
       "  'foulard'),\n",
       " (['foulard coton blanc motif',\n",
       "   'foulard coton blanc motif fluo mankind',\n",
       "   'accueil ventes mankind femme foulard coton blanc motif fluo mankind'],\n",
       "  'foulard'),\n",
       " (['accueil ventes maria grazia severi femme gants passe-coudes rose noir maria grazia severi',\n",
       "   'gants passe-coudes noir beige',\n",
       "   'gants passe-coudes fourres bras',\n",
       "   'gants passe-coudes noir blanc',\n",
       "   'gants passe-coudes noir gris',\n",
       "   'gants passe-coudes rose noir maria grazia severi',\n",
       "   'exterieur cuir interieur laine',\n",
       "   'gants passe-coudes rose noir'],\n",
       "  'gants'),\n",
       " (['foulard soie paillete dore',\n",
       "   'accueil ventes claudio cutuli femme foulard soie paillete dore claudio cutuli',\n",
       "   'foulard soie paillete dore claudio cutuli'],\n",
       "  'foulard'),\n",
       " (['echarpe rose cachemire soie',\n",
       "   'echarpe cachemire soie',\n",
       "   'accueil ventes liapull femme echarpe rose cachemire soie'],\n",
       "  'echarpe'),\n",
       " (['foulard triangle soie bleu roberto cavalli',\n",
       "   'ligne roberto cavalli',\n",
       "   'accueil ventes roberto cavalli femme foulard triangle soie bleu roberto cavalli',\n",
       "   'foulard triangle soie bleu'],\n",
       "  'foulard'),\n",
       " (['gants cuir doubles application clous strass',\n",
       "   'accueil ventes maria grazia severi femme gants cuir rose maria grazia severi',\n",
       "   'gants cuir rose maria grazia',\n",
       "   'gants cuir rose maria grazia severi',\n",
       "   'exterieur cuir interieur laine'],\n",
       "  'gants'),\n",
       " (['mannequin mesure 187cm porte',\n",
       "   'pantalon coton kaki',\n",
       "   'pantalon tailleur chino coton bleu edition',\n",
       "   'accueil ventes melinda gloss edition homme pantalon tailleur chino coton bleu edition',\n",
       "   'fermeture glissiere patte boutons crochet',\n",
       "   'poche passepoilee fesse droite',\n",
       "   'pantalon tailleur chino coton'],\n",
       "  'pantalon'),\n",
       " (['accueil ventes jijil femme pantalon jogging satin rose bandes laterales jijil',\n",
       "   'pantalon jogging satin rose',\n",
       "   'mannequin mesure porte',\n",
       "   'pantalon jogging satin rose bandes laterales jijil',\n",
       "   'fermeture glissiere aux chevilles',\n",
       "   'bandes laterales noir',\n",
       "   'pantalon satin rose'],\n",
       "  'pantalon'),\n",
       " (['t-shirt coton chine gris',\n",
       "   't-shirt coton chine gris poche poitrine zadig voltaire',\n",
       "   't-shirt coton chine gris fonc',\n",
       "   'accueil ventes zadig voltaire homme t-shirt coton chine gris poche poitrine zadig voltaire',\n",
       "   't-shirt coton chine'],\n",
       "  't-shirt'),\n",
       " (['robe noire sequins space',\n",
       "   'accueil ventes space simona corsellini femme robe noire sequins space',\n",
       "   'robe plissee manches',\n",
       "   'polyester spandex tissu polyamide doublure polyester',\n",
       "   'robe plissee manches courtes application sequins buste',\n",
       "   'publie date commande'],\n",
       "  'robe'),\n",
       " (['pantalon pinces rose bandes',\n",
       "   'petit conseillons prendre dessus habituelle',\n",
       "   'poches rabats boutonnees arriere',\n",
       "   'chemise coton blanc col fan',\n",
       "   'bandes laterales fantaisies',\n",
       "   'polyester viscose elasthanne',\n",
       "   'pantalon crepe rose',\n",
       "   'pantalon pinces rose bandes laterales jijil',\n",
       "   'accueil ventes jijil femme pantalon pinces rose bandes laterales jijil'],\n",
       "  'pantalon'),\n",
       " (['mannequin mesure 1m78 porte',\n",
       "   'accueil ventes dexters femme jean bleu effet peint dexters',\n",
       "   'jean bleu effet peint dexters',\n",
       "   'poches plaquees cotes',\n",
       "   'fermeture eclair double boutonnage',\n",
       "   'effet peinture doree laquee'],\n",
       "  'jean'),\n",
       " (['top body bleu elisabetta franchi',\n",
       "   'acetate viscose tissu acetate elasthanne',\n",
       "   'pantalon rose maria grazia severi',\n",
       "   'coupe body evasee',\n",
       "   'poches laterales petits strass appliques',\n",
       "   'effet plisse drape devant',\n",
       "   'accueil ventes maria grazia severi femme pantalon rose maria grazia severi'],\n",
       "  'pantalon'),\n",
       " (['pull merino bordeaux woolgroup',\n",
       "   'pull col boutons gris vert woolg',\n",
       "   'accueil ventes woolgroup fiesoli homme pull col boutons gris vert woolgroup',\n",
       "   'pull col boutons gris vert woolgroup',\n",
       "   'col rond boutons',\n",
       "   'laine merino extrafine'],\n",
       "  'pull'),\n",
       " (['basket blanche compense john ric',\n",
       "   'accueil ventes john richmond homme basket blanche compense john richmond',\n",
       "   'basket blanche compense john richmond'],\n",
       "  'baskets'),\n",
       " (['veste legere grise liu',\n",
       "   'veste blazer fine col',\n",
       "   'polyester elasthanne doublure polyester',\n",
       "   'veste blazer fine col revers poches plaquees poches interieures',\n",
       "   'accueil ventes liu homme veste legere grise liu'],\n",
       "  'veste'),\n",
       " (['poche simili cuir cloute poitrine gauche',\n",
       "   'accueil ventes jijil femme t-shirt rose poche cloutee jijil',\n",
       "   'pantalon jogging satin rose',\n",
       "   't-shirt rose poche cloutee jijil',\n",
       "   't-shirt coton rose',\n",
       "   'pantalon satin rose'],\n",
       "  't-shirt'),\n",
       " (['applique perles sequins forme fleur',\n",
       "   'fermeture bouton bandes nouer arriere',\n",
       "   'top blanc fleuri edward achour',\n",
       "   'accueil ventes edward achour femme top blanc fleuri edward achour',\n",
       "   'coupe classique col rond manches courtes',\n",
       "   'coupe classique col',\n",
       "   'publie date commande'],\n",
       "  'top'),\n",
       " (['gilet maille gris chine re-edition',\n",
       "   'gilet maille col rond fentes cotes fermeture boutons bords cotes',\n",
       "   'gilet maille gris chine re-ed',\n",
       "   'gilet maille col',\n",
       "   'accueil ventes soho molo eleven re-edition homme gilet maille gris chine re-edition'],\n",
       "  'gilet'),\n",
       " (['top mousseline drape blanc',\n",
       "   'top mousseline drape rouge',\n",
       "   'accueil ventes edward achour femme top mousseline drape blanc edward achour',\n",
       "   'top mousseline noir',\n",
       "   'boutons dores fantaisies',\n",
       "   'top mousseline noir blanc',\n",
       "   'top mousseline drape blanc edward achour',\n",
       "   'jupe mousseline noir plissee'],\n",
       "  'top'),\n",
       " (['accueil ventes swims homme mocassins grises swims',\n",
       "   'attention cependant ajouter adoucissant',\n",
       "   'lave machine retirant semelle utilisant detergent quotidien',\n",
       "   'longueur pied 6cm 9cm 3cm 6cm 25cm 3cm 3cm',\n",
       "   'mocassin bi-matiere gomme naturelle polyurethane thermoplastique',\n",
       "   'tissus semelles caoutchouc'],\n",
       "  'mocassins'),\n",
       " (['fermeture bouton double patte',\n",
       "   'accueil ventes low brand homme chemise coton noire low brand',\n",
       "   'mannequin mesure porte',\n",
       "   'pantalon chino coton noir low',\n",
       "   'coton polyamide elasthanne',\n",
       "   'chemise coton noire low brand',\n",
       "   'polo coton lin',\n",
       "   'polo lin coton chevron'],\n",
       "  'chemise'),\n",
       " (['bout rond fermeture lacets',\n",
       "   'chaussures bateau grises vertes style baskets swims',\n",
       "   'durables flexibles assurent grand confort',\n",
       "   'anti-derapantes non marquantes',\n",
       "   'chaussures bateau grises jaun',\n",
       "   'enfilent facilement normalement',\n",
       "   'chaussures bateau grises vert',\n",
       "   'accueil ventes swims homme chaussures bateau grises vertes style baskets swims',\n",
       "   'tissus semelles caoutchouc',\n",
       "   'chaussures bateau comportant bonne ventilation'],\n",
       "  'chaussures'),\n",
       " (['motif geometrique rose',\n",
       "   'robe maille fine taupe moti',\n",
       "   'robe maille fine taupe motif rose',\n",
       "   'robe maille fine',\n",
       "   'accueil ventes femme robe maille fine taupe motif rose',\n",
       "   'robe maille fine taupe'],\n",
       "  'robe'),\n",
       " (['manches longues froufrou',\n",
       "   'soie fibres metalllique',\n",
       "   'accueil ventes space simona corsellini femme chemisier soie lame saumon space simona corsellini',\n",
       "   'chemisier soie lame saumon space simona corsellini',\n",
       "   'chemisier soie lame saumon',\n",
       "   'fermeture bouton patte'],\n",
       "  'chemisier'),\n",
       " (['poches plaquees poitrines',\n",
       "   'flocage rich milieu',\n",
       "   'chemise noire poche poitrine',\n",
       "   'chemise noire poche poitrine john richmond',\n",
       "   'accueil ventes john richmond homme chemise noire poche poitrine john richmond',\n",
       "   'broderie rich point mouton poitrine gauche',\n",
       "   'chemise coton noir',\n",
       "   'pantalon carotte beige low brand',\n",
       "   'fermeture boutons pressions'],\n",
       "  'chemise'),\n",
       " (['mannequin mesure 1m73 porte',\n",
       "   't-shirt blanc coton motif fleuri abstrait coton nude',\n",
       "   'accueil ventes nude femme t-shirt blanc coton motif fleuri abstrait coton nude',\n",
       "   'col rond manches',\n",
       "   'coupe legerement longue modele classique',\n",
       "   'imprime floral abstrait devant',\n",
       "   't-shirt blanc coton motif'],\n",
       "  't-shirt'),\n",
       " (['jean regular fit bleu delave manostorti',\n",
       "   'mannequin mesure porte',\n",
       "   'pantalon jean bleu',\n",
       "   'poches plaquees fesses',\n",
       "   'pantalon regular fit coton',\n",
       "   'jean bleu manostorti',\n",
       "   'jean regular fit bleu delave man',\n",
       "   'coupe regular fit',\n",
       "   'accueil ventes manostorti homme jean regular fit bleu delave manostorti',\n",
       "   'coupe droite semi',\n",
       "   'sweat coton noir broderies'],\n",
       "  'jean'),\n",
       " (['inscription brodee partygirl strass devant',\n",
       "   'chemise bleue dexters',\n",
       "   'accueil ventes dexters femme chemise bleue dexters',\n",
       "   'fermeture bouton pression'],\n",
       "  'chemise'),\n",
       " (['t-shirt coton gris',\n",
       "   'broderie colombe perles poitrine gauche',\n",
       "   't-shirt gris chine broderies colombes',\n",
       "   't-shirt gris chine',\n",
       "   't-shirt gris chine broderies',\n",
       "   't-shirt gris chine broderies colombes svnty',\n",
       "   'accueil ventes svnty femme t-shirt gris chine broderies colombes svnty'],\n",
       "  't-shirt'),\n",
       " (['manteau marron tweed edward achour',\n",
       "   'bordures contrastantes beige',\n",
       "   'laine vierge mohair polyamide doublure polyester doublure acetate',\n",
       "   'manteau elegant texture facon tweed',\n",
       "   'manteau marron tweed edward',\n",
       "   'accueil ventes edward achour femme manteau marron tweed edward achour',\n",
       "   'poches plaquees devant boutons fantaisie',\n",
       "   'jean cigarette noir jijil'],\n",
       "  'manteau'),\n",
       " (['laine polyamide acrylic doublure acetate',\n",
       "   'accueil ventes edward achour femme veste tweed carreaux rouge edward achour',\n",
       "   'escarpins daim noir space',\n",
       "   'top stretch blanc',\n",
       "   'poches rabat boutons dores fantaisie',\n",
       "   'veste tweed carreaux rouge edward achour',\n",
       "   'tweed laine melange'],\n",
       "  'veste'),\n",
       " (['manteau tweed blanc carreau',\n",
       "   'pantalon blanc rayures marines',\n",
       "   'carreaux rouge bleu',\n",
       "   'blouse soie blanc biais noi',\n",
       "   'galon rouge blanc chaine doree',\n",
       "   'accueil ventes edward achour femme manteau tweed blanc carreaux rouge bleu edward achour',\n",
       "   'blouse soie blanc',\n",
       "   'manteau tweed blanc',\n",
       "   'poches plaquees galons frange tresses boutons dores',\n",
       "   'manteau tweed blanc carreaux rouge bleu edward achour',\n",
       "   'acrylique coton doublure polyester'],\n",
       "  'manteau'),\n",
       " (['accueil ventes nude femme debardeur noir coton nude',\n",
       "   'debardeur blanc coton nude',\n",
       "   'debardeur noir coton nude',\n",
       "   'coton doux toucher'],\n",
       "  'debardeur'),\n",
       " (['bande facon crochet ajouree',\n",
       "   'debardeur orange lin may june',\n",
       "   'accueil ventes may june femme debardeur rose lin may june',\n",
       "   'mannequin mesure 1m68 porte',\n",
       "   'debardeur rose lin may june'],\n",
       "  'debardeur'),\n",
       " (['t-shirt blanc raye broderie',\n",
       "   'fines rayures noires',\n",
       "   'accueil ventes svnty femme t-shirt blanc raye broderie grenouille svnty',\n",
       "   'jean skinny gris broderie pai',\n",
       "   'broderie grenouille perles',\n",
       "   't-shirt blanc raye broderie grenouille svnty',\n",
       "   'broderies perles crazy frog'],\n",
       "  't-shirt'),\n",
       " (['accueil ventes nude femme debardeur blanc coton nude',\n",
       "   'debardeur blanc coton nude',\n",
       "   'debardeur noir coton nude',\n",
       "   'coton doux toucher'],\n",
       "  'debardeur'),\n",
       " (['bande facon crochet ajouree',\n",
       "   'debardeur orange lin may june',\n",
       "   'mannequin mesure 1m68 porte',\n",
       "   'debardeur rose lin may june',\n",
       "   'accueil ventes may june femme debardeur orange lin may june'],\n",
       "  'debardeur'),\n",
       " (['mannequin mesure 1m73 porte',\n",
       "   'top orange soie nude',\n",
       "   'accueil ventes nude femme top orange soie nude',\n",
       "   'col rond manches',\n",
       "   'jean bleu paillete dexters',\n",
       "   'coupe fluide legerement long modele classique'],\n",
       "  'top'),\n",
       " (['jean skinny bleu broderie flor',\n",
       "   'debardeur soie blanc calvin klein',\n",
       "   'accueil ventes calvin klein femme debardeur soie blanc calvin klein',\n",
       "   'debardeur soie blanc calvin',\n",
       "   'viscose soie elastodiene',\n",
       "   'debardeur soie blanc'],\n",
       "  'debardeur'),\n",
       " (['t-shirt blanc floque stell',\n",
       "   't-shirt blanc floque stella mccartney',\n",
       "   'pantalon jogging velours',\n",
       "   'accueil t-shirt blanc floque stella mccartney'],\n",
       "  't-shirt'),\n",
       " (['t-shirt blanc floque stella mccartney',\n",
       "   'accueil t-shirt blanc floque stella mccartney',\n",
       "   't-shirt blanc floque stell'],\n",
       "  't-shirt'),\n",
       " (['mannequin mesure 1m70 porte',\n",
       "   't-shirt coton noir',\n",
       "   't-shirt blanc col sertie pierres edition',\n",
       "   'col rond sertie pierres multicolore',\n",
       "   't-shirt blanc col sertie',\n",
       "   'jean skinny coton bleu renhsen',\n",
       "   'accueil ventes edition femme t-shirt blanc col sertie pierres edition'],\n",
       "  't-shirt'),\n",
       " (['top satin noir',\n",
       "   'top caraco satin noir fleuris',\n",
       "   'top caraco satin noir fleuris isabelle blanche',\n",
       "   'jean skinny coton blanc ban',\n",
       "   'accueil ventes isabelle blanche femme top caraco satin noir fleuris isabelle blanche',\n",
       "   'mannequin mesure 1m75 porte'],\n",
       "  'top'),\n",
       " (['jean skinny coton bleu renhsen',\n",
       "   'shirt coton saumon',\n",
       "   'accueil ventes balmain femme debardeur saumon imprime poisson doree balmain',\n",
       "   'mannequin mesure porte',\n",
       "   'debardeur saumon imprime pois',\n",
       "   'flocage fantaisie dore',\n",
       "   'debardeur saumon imprime poisson doree balmain',\n",
       "   'grand conseillons prendre dessus',\n",
       "   'ligne pierre balmain'],\n",
       "  'debardeur'),\n",
       " (['issue collaboration entre maison adidas stella mccartney',\n",
       "   'polyester elasthanne bas vetement nylon elasthanne',\n",
       "   'debardeur technique elasthanne pique rose adidas',\n",
       "   'debardeur technique elasthann',\n",
       "   'tissue technique anti transpirant',\n",
       "   'debardeur elasthanne pique recycle rose',\n",
       "   'accueil ventes adidas stella mccartney femme debardeur technique elasthanne pique rose adidas',\n",
       "   'patch logo flocke argent milieu',\n",
       "   'bandes laterales fantaisies tricolores',\n",
       "   'col rond bord cote',\n",
       "   'short technique leggings noir'],\n",
       "  'debardeur'),\n",
       " (['t-shirt coton gris',\n",
       "   't-shirt coton gris logo maison margiela',\n",
       "   't-shirt coton gris logo mai',\n",
       "   'mannequin mesure 1m70 porte',\n",
       "   'accueil ventes maison margiela femme t-shirt coton gris logo maison margiela',\n",
       "   'jean skinny coton bleu renhsen'],\n",
       "  't-shirt'),\n",
       " (['debardeur beige plisse damir doma',\n",
       "   'coupe classique fluide',\n",
       "   'debardeur bleu fluide cotele motif damir doma',\n",
       "   'motifs abstraits multicolores',\n",
       "   'accueil ventes damir doma femme debardeur bleu fluide cotele motif damir doma',\n",
       "   'col rond manches bordures contrastantes',\n",
       "   'polyester garniture polyester elasthanne',\n",
       "   'debardeur bleu fluide cotele'],\n",
       "  'debardeur'),\n",
       " (['t-shirt elasthanne recycle rose',\n",
       "   'issue collaboration entre maison adidas stella mccartney',\n",
       "   'incrustations filets rose',\n",
       "   'patch logo floque argent milieu',\n",
       "   'tissu technique anti transpirant',\n",
       "   'polyester recylce elasthanne',\n",
       "   'accueil ventes adidas stella mccartney femme t-shirt technique elasthanne rose adidas',\n",
       "   'cycliste technique noir bleu',\n",
       "   't-shirt technique elasthanne',\n",
       "   't-shirt technique elasthanne rose adidas',\n",
       "   'manches courtes filet pique rose',\n",
       "   'incrustations fantaisies multiples'],\n",
       "  't-shirt'),\n",
       " (['debardeur soie vert eau del',\n",
       "   'entierement recouvert sequin',\n",
       "   'debardeur soie vert eau delave sequins aviu',\n",
       "   'debardeur soie bleu delave',\n",
       "   'accueil ventes aviu femme debardeur soie vert eau delave sequins aviu'],\n",
       "  'debardeur'),\n",
       " (['t-shirt blanc etoile arc-en-ciel stella mccartney',\n",
       "   'coton broderie viscose',\n",
       "   'broderie etoile arc-en-ciel milieu devant',\n",
       "   't-shirt blanc etoile arc-en-ci',\n",
       "   'jean slim coton gris dechir',\n",
       "   'accueil ventes stella mccartney femme t-shirt blanc etoile arc-en-ciel stella mccartney'],\n",
       "  't-shirt'),\n",
       " (['accueil t-shirt coton blanc manches longues woolgroup fiesoli',\n",
       "   'jean noir delave poches fantai',\n",
       "   't-shirt coton blanc manches longues woolgroup fiesoli',\n",
       "   't-shirt coton blanc manches',\n",
       "   'mannequin mesure 1m75 porte'],\n",
       "  't-shirt'),\n",
       " (['top soie blanche',\n",
       "   'debardeur caraco soie blanc',\n",
       "   'jean skinny coton blanc ban',\n",
       "   'accueil ventes jijil femme debardeur caraco soie blanc rayures rouges jijil',\n",
       "   'debardeur caraco soie blanc rayures rouges jijil'],\n",
       "  'debardeur'),\n",
       " (['jupe crayon jean bleu delave alexander mcqueen',\n",
       "   'jupe crayon jean bleu delave',\n",
       "   'jupe jean bleu',\n",
       "   'chemise coton blanc col fan',\n",
       "   'accueil ventes alexander mcqueen femme jupe crayon jean bleu delave alexander mcqueen',\n",
       "   'coton elasthanne doublure coton',\n",
       "   'broderie fantaisie effet cirques'],\n",
       "  'jupe'),\n",
       " (['plaque metal cuir griffe fesse droite',\n",
       "   'cloute aux genoux',\n",
       "   'pantalon legging crepe beige',\n",
       "   'accueil ventes philipp plein femme pantalon legging crepe beige cloute philipp plein',\n",
       "   'couture fantaisie aux genoux',\n",
       "   'baskets multi textures noir svnty',\n",
       "   'viscose polyester elasthanne',\n",
       "   't-shirt message run noir jijil',\n",
       "   'fermeture glissiere patte bouton griffe',\n",
       "   'pantalon legging crepe beige cloute philipp plein',\n",
       "   'baskets texture poils',\n",
       "   'pantalon crepe beige'],\n",
       "  'pantalon'),\n",
       " (['short coton blanc imprime python jijil',\n",
       "   'short coton blanc imprime',\n",
       "   'short coton blanc',\n",
       "   'bandes laterales vertes',\n",
       "   'accueil ventes jijil femme short coton blanc imprime python jijil',\n",
       "   'collier pierres multicolore',\n",
       "   'parfait habillee etant decontracte'],\n",
       "  'short'),\n",
       " (['jupe satin blanc',\n",
       "   'jupe cloche blanche imprime',\n",
       "   'jupe cloche blanche imprime animal sara roka',\n",
       "   'chemise crop top coton blanc',\n",
       "   'imprime animal fantaisie noir orange',\n",
       "   'accueil ventes sara roka femme jupe cloche blanche imprime animal sara roka',\n",
       "   'coupe cloche vintage',\n",
       "   'fermeture boutons classiques nacre'],\n",
       "  'jupe'),\n",
       " (['pantalon palazzo satin raye vert collectors club',\n",
       "   'rayures fantaisies multicolores',\n",
       "   'pantalon satin vert',\n",
       "   'accueil ventes collectors club femme pantalon palazzo satin raye vert collectors club',\n",
       "   'chemise coton blanc col fan',\n",
       "   'fermeture glissiere pattes crochet',\n",
       "   'pantalon palazzo satin raye'],\n",
       "  'pantalon'),\n",
       " (['chemise coton blanc col fan',\n",
       "   'pantalon cigarette crepe sati',\n",
       "   'fermeture glissiere pattes crochet',\n",
       "   'accueil ventes alexander mcqueen femme pantalon cigarette crepe satine saumon brode alexander mcqueen',\n",
       "   'pantalon crepe satine saumon',\n",
       "   'poches passepoilees fesses',\n",
       "   'pantalon cigarette crepe satine saumon brode alexander mcqueen'],\n",
       "  'pantalon'),\n",
       " (['jupe crepe blanc',\n",
       "   'jupe longue blanche plissee rayures metallisees jijil',\n",
       "   'chemise crop top coton blanc',\n",
       "   'jupe longue blanche plissee',\n",
       "   'accueil ventes jijil femme jupe longue blanche plissee rayures metallisees jijil'],\n",
       "  'jupe'),\n",
       " (['coton polyester tissu viscose',\n",
       "   'accueil ventes jijil femme jupe volantee bi-matiere grise jijil',\n",
       "   'jupe volantee bi-matiere grise jijil',\n",
       "   'chemise crop top coton blanc',\n",
       "   'jupe volantee bi-matiere grise',\n",
       "   'jupe coton chine gris simili cuir argent',\n",
       "   'jupe coton chine'],\n",
       "  'jupe'),\n",
       " (['poches plaquees arriere',\n",
       "   'accueil ventes philipp plein femme pantalon skinny vert peace love philipp plein',\n",
       "   'pantalon coton rose',\n",
       "   'poches fantaisies italiennes',\n",
       "   'broche fantaisies peace love',\n",
       "   'pantalon skinny vert peace',\n",
       "   'pantalon skinny rose peace',\n",
       "   'pantalon coton vert',\n",
       "   'fermeture glissiere patte bouton',\n",
       "   'pantalon skinny vert peace love philipp plein'],\n",
       "  'pantalon'),\n",
       " (['viscose soie tissu polyester doublure viscose polyester',\n",
       "   'volant passepoil vert',\n",
       "   'jupe longue destructure soie plisse bleu sportmax',\n",
       "   'jupe longue destructure soie',\n",
       "   'chemise coton blanc col fan',\n",
       "   'accueil ventes sportmax femme jupe longue destructure soie plisse bleu sportmax',\n",
       "   'jupe soie bleu'],\n",
       "  'jupe'),\n",
       " (['poches plaquees arriere',\n",
       "   'pantalon coton rose',\n",
       "   'accueil ventes philipp plein femme pantalon skinny rose peace love philipp plein',\n",
       "   'poches fantaisies italiennes',\n",
       "   'broche fantaisies peace love',\n",
       "   'pantalon skinny rose peace love philipp plein',\n",
       "   'pantalon skinny vert peace',\n",
       "   'pantalon skinny rose peace',\n",
       "   'pantalon coton vert',\n",
       "   'fermeture glissiere patte bouton'],\n",
       "  'pantalon'),\n",
       " (['polyamide viscose elasthanne',\n",
       "   'top coton noir',\n",
       "   'accueil ventes moncler femme pantalon fuseau blanc moncler',\n",
       "   'top coton noir stefano mortari',\n",
       "   'pantalon crepes blanche',\n",
       "   'elastique blanc chevilles',\n",
       "   'pantalon fuseau blanc moncler',\n",
       "   'fermeture glissiere pattes boutons invisible'],\n",
       "  'pantalon'),\n",
       " (['pantalon palazzo bleu rubans',\n",
       "   'accueil ventes laurel femme pantalon palazzo bleu rubans laurel',\n",
       "   'rubans fantaisie ceinture',\n",
       "   'grand conseillions prendre dessous',\n",
       "   'coupe palazzo fluide',\n",
       "   'bandes laterales fine satin',\n",
       "   'fermeture glissieres dissimule patte crochets',\n",
       "   'pantalon bleu nuit',\n",
       "   'pantalon palazzo bleu rubans laurel'],\n",
       "  'pantalon'),\n",
       " (['accueil ventes alexander mcqueen femme jupe tailleur laine gris alexander mcqueen',\n",
       "   'jupe laine gris',\n",
       "   'sac shopping phone strap',\n",
       "   'godets fendues fantaisie',\n",
       "   'chemise coton blanc col fan',\n",
       "   'jupe tailleur laine gris alex',\n",
       "   'jupe tailleur laine gris alexander mcqueen'],\n",
       "  'jupe'),\n",
       " (['accueil ventes laurel femme jupe plissee longue bleu electrique laurel',\n",
       "   'jupe plissee longue bleu electrique laurel',\n",
       "   'basket grise confort argent',\n",
       "   'jupe bleu electrique',\n",
       "   'elastique rayure bleu nuit blanche argent',\n",
       "   'jupe plissee longue bleu electri',\n",
       "   'mannequin mesure 1m75 porte'],\n",
       "  'jupe'),\n",
       " (['basket nubuck rose brodees',\n",
       "   'basket grise passant fantaisie argent svnty',\n",
       "   'languette cuir argent metallise marquage serafini',\n",
       "   'basket grise passant fantaisie',\n",
       "   'contrefort bi-matiere cuir blanc imprime leopard bleu',\n",
       "   'passant lacet smiley messages',\n",
       "   'basket grise confort argent',\n",
       "   'accueil ventes svnty femme basket grise passant fantaisie argent svnty',\n",
       "   'cuir argent metallise',\n",
       "   'semelle intermediaire caoutchouc blanc',\n",
       "   'publie date commande'],\n",
       "  'baskets'),\n",
       " (['semelle usure caoutchouc',\n",
       "   'semelle interieur liege',\n",
       "   'slippers bleu motifs ethnique galet',\n",
       "   'finition biais bleu',\n",
       "   'accueil ventes galet homme slippers bleu motifs ethnique galet',\n",
       "   'slippers bleu motifs ethnique',\n",
       "   'tige dessus textile doublure textile semelle autres materiaux'],\n",
       "  'slippers'),\n",
       " (['ballerines dorees nicholas kirkwood',\n",
       "   'escarpins bout pointu',\n",
       "   'accueil ventes nicholas kirkwood femme ballerines rose nicholas kirkwood',\n",
       "   'sandales talons bleu nicholas',\n",
       "   'ballerines bout pointu rose transparent',\n",
       "   'escarpins bleu nicholas kirkwood',\n",
       "   'ballerines rose nicholas kirkwood',\n",
       "   'sandales talons rouge nicholas',\n",
       "   'sandales talons dorees nichola'],\n",
       "  'ballerines'),\n",
       " (['ballerines dorees nicholas kirkwood',\n",
       "   'escarpins bout pointu',\n",
       "   'sandales talons bleu nicholas',\n",
       "   'sandales talons bout pointu dore transparent bride cheville',\n",
       "   'sandales talons dorees nicholas kirkwood',\n",
       "   'escarpins bleu nicholas kirkwood',\n",
       "   'ballerines rose nicholas kirkwood',\n",
       "   'sandales talons dorees nichola',\n",
       "   'sandales talons rouge nicholas',\n",
       "   'accueil ventes nicholas kirkwood femme sandales talons dorees nicholas kirkwood'],\n",
       "  'sandales'),\n",
       " (['slippers noir fleuris alexander',\n",
       "   'accueil ventes alexander mcqueen femme slippers noir fleuris alexander mcqueen',\n",
       "   'slippers noir fleuris alexander mcqueen'],\n",
       "  'slippers'),\n",
       " (['escarpins beige bout ouvert prada',\n",
       "   'escarpins rose bout ouvert prada',\n",
       "   'accueil ventes prada femme escarpins beige bout ouvert prada'],\n",
       "  'escarpins'),\n",
       " (['tige imprime florales noeud',\n",
       "   'sandales verte fleurie noeud',\n",
       "   'tige dessus autres materiaux doublure autres materiaux semelle cuir',\n",
       "   'imprime florales rose bleu',\n",
       "   'accueil ventes blumarine femme sandales verte fleurie noeud blumarine',\n",
       "   'simili cuir vert',\n",
       "   'simili cuir vert eau',\n",
       "   'talon cylindrique vert eau fleurs',\n",
       "   'sandales verte fleurie noeud blumarine'],\n",
       "  'sandales'),\n",
       " (['bottine cuir marron',\n",
       "   'contrefort cuir marron',\n",
       "   'botte cuir noir',\n",
       "   'accueil ventes femme bottine cuir noir',\n",
       "   'bottine cuir noir',\n",
       "   'botte cuir marron',\n",
       "   'tige cuir noir'],\n",
       "  'bottines'),\n",
       " (['bottine cuir marron',\n",
       "   'contrefort cuir marron',\n",
       "   'botte cuir noir',\n",
       "   'accueil ventes femme bottine cuir marron',\n",
       "   'bottine cuir noir',\n",
       "   'botte cuir marron',\n",
       "   'tige cuir marron'],\n",
       "  'bottines'),\n",
       " (['ballerines dorees nicholas kirkwood',\n",
       "   'escarpins bout pointu',\n",
       "   'accueil ventes nicholas kirkwood femme escarpins bleu nicholas kirkwood',\n",
       "   'sandales talons bleu nicholas',\n",
       "   'escarpins bleu nicholas kirkwood',\n",
       "   'ballerines rose nicholas kirkwood',\n",
       "   'sandales talons dorees nichola',\n",
       "   'sandales talons rouge nicholas',\n",
       "   'escarpins bout pointu bleu brillant transparent'],\n",
       "  'escarpins'),\n",
       " (['accueil ventes serafini femme basket scratch rose metalise serafini',\n",
       "   'basket blanche montante blanche',\n",
       "   'lacets rose fluo',\n",
       "   'lacets vert fluo',\n",
       "   'basket running rose fluo serafini',\n",
       "   'basket blanche fourrure serafini',\n",
       "   'tige cote decoupe laser',\n",
       "   'basket running vert fluo serafini',\n",
       "   'languette cuir rose metallise etiquette serafini',\n",
       "   'contrefort bi-matiere cuir rose metallise fourrure synthetique zebre 5cm',\n",
       "   'publie date commande',\n",
       "   'tennis cuir piquee blanc',\n",
       "   'cuir rose metallise',\n",
       "   'basket scratch rose metalise',\n",
       "   'basket scratch rose metalise serafini',\n",
       "   'semelle intermediaire caoutchouc blanc'],\n",
       "  'baskets'),\n",
       " (['sandales claquette satin imprime foulard bsb',\n",
       "   'sandales claquette satin',\n",
       "   'sandales satin beige',\n",
       "   'accueil ventes bsb femme sandales claquette satin imprime foulard bsb',\n",
       "   'tige dessus textile doublure autres materiaux semelle autres materiaux',\n",
       "   'double tiges drapee noeud'],\n",
       "  'sandales'),\n",
       " (['accueil ventes dove nuotano femme escarpins ouvert rouge dove nuotano',\n",
       "   'escarpins ouvert rouge dove nuotano'],\n",
       "  'escarpins'),\n",
       " (['tige dessus textile doublure cuir semelle cuir',\n",
       "   'accueil ventes alexander mcqueen femme slippers bleue brodee alexander mcqueen',\n",
       "   'slippers bleue brodee alexander',\n",
       "   'slippers bleue brodee alexander mcqueen'],\n",
       "  'slippers'),\n",
       " (['ballerines motifs python doree',\n",
       "   'accueil ventes lanvin femme ballerines motifs python doree lanvin',\n",
       "   'ballerines motifs python doree lanvin',\n",
       "   'ballerines argentees lanvin'],\n",
       "  'ballerines'),\n",
       " (['ballerines argentees lanvin',\n",
       "   'accueil ventes lanvin femme ballerines argentees lanvin',\n",
       "   'ballerines motifs python doree'],\n",
       "  'ballerines'),\n",
       " (['ballerines dorees nicholas kirkwood',\n",
       "   'escarpins bout pointu',\n",
       "   'ballerines bout pointu dore transparent',\n",
       "   'sandales talons bleu nicholas',\n",
       "   'escarpins bleu nicholas kirkwood',\n",
       "   'ballerines rose nicholas kirkwood',\n",
       "   'accueil ventes nicholas kirkwood femme ballerines dorees nicholas kirkwood',\n",
       "   'sandales talons rouge nicholas',\n",
       "   'sandales talons dorees nichola'],\n",
       "  'ballerines'),\n",
       " (['contrefort matieres cuir paillete patch caoutchouc bleu logo',\n",
       "   'oeillets fantaisies cotes',\n",
       "   'basket cuir blanc fourrure',\n",
       "   'basket cuir blanc fourrure serafini',\n",
       "   'lacets jaune bleu',\n",
       "   'languette cuir metallise bleu',\n",
       "   'accueil ventes serafini femme basket cuir blanc fourrure serafini',\n",
       "   'tige logo perforee galons fourrure synthetique bleu',\n",
       "   'semelle intermediaire caoutchouc blanc'],\n",
       "  'baskets'),\n",
       " (['lacet fantaisie noir gris',\n",
       "   'accueil ventes stokton femme basket tricolore cuir noir stokton',\n",
       "   'cuir noir violet argent',\n",
       "   'tige cuir argent violet noir',\n",
       "   'basket tricolore cuir noir stokton',\n",
       "   'basket tricolore cuir noir',\n",
       "   'languette cuir noir',\n",
       "   'contrefort tricolore cuir argent noir violet',\n",
       "   'tige dessus cuir textile doublure textile semelle cuir',\n",
       "   'semelle plateforme caoutchouc blanc'],\n",
       "  'baskets'),\n",
       " (['tige cuir noir motif animaux',\n",
       "   'tige dessus autres materiaux doublure autres materiaux semelle cuir',\n",
       "   'escarpin noir motif animaux',\n",
       "   'escarpins cuir noir',\n",
       "   'accueil ventes blumarine femme escarpin noir motif animaux blumarine',\n",
       "   'premiere proprete cuir chair',\n",
       "   'talon aiguille motif animaux',\n",
       "   'contrefort cuir noir motif animaux',\n",
       "   'escarpin noir motif animaux blumarine'],\n",
       "  'escarpins'),\n",
       " (['scratch cuir blanc',\n",
       "   'cuir semelle gomme',\n",
       "   'sandale noire perforee platefo',\n",
       "   'sandale noire perforee plateforme liu',\n",
       "   'sandale blanche perfore platef',\n",
       "   'accueil ventes liu femme sandale noire perforee plateforme liu'],\n",
       "  'sandales'),\n",
       " (['accueil ventes prada femme escarpins rose bout ouvert prada',\n",
       "   'escarpins beige bout ouvert prada',\n",
       "   'escarpins rose bout ouvert prada'],\n",
       "  'escarpins'),\n",
       " (['ballerines dorees nicholas kirkwood',\n",
       "   'escarpins bout pointu',\n",
       "   'sandales talons bleu nicholas',\n",
       "   'sandales talons bout pointu rouge transparent',\n",
       "   'escarpins bleu nicholas kirkwood',\n",
       "   'ballerines rose nicholas kirkwood',\n",
       "   'sandales talons dorees nichola',\n",
       "   'sandales talons rouge nicholas',\n",
       "   'accueil ventes nicholas kirkwood femme sandales talons rouge nicholas kirkwood',\n",
       "   'sandales talons rouge nicholas kirkwood'],\n",
       "  'sandales'),\n",
       " (['accueil ventes prada femme escarpins rose bout ouvert prada',\n",
       "   'escarpins rose bout ouvert prada'],\n",
       "  'escarpins'),\n",
       " (['ballerines dorees nicholas kirkwood',\n",
       "   'escarpins bout pointu',\n",
       "   'sandales talons bleu nicholas',\n",
       "   'escarpins bleu nicholas kirkwood',\n",
       "   'ballerines rose nicholas kirkwood',\n",
       "   'accueil ventes nicholas kirkwood femme sandales talons bleu nicholas kirkwood',\n",
       "   'sandales talons bleu nicholas kirkwood',\n",
       "   'sandales talons rouge nicholas',\n",
       "   'sandales talons dorees nichola',\n",
       "   'sandales talons bout pointu bleu brillant transparent bride cheville'],\n",
       "  'sandales'),\n",
       " (['motif fantaisie blanc',\n",
       "   'accueil ventes someday soon homme casquette noire motif blanc someday soon',\n",
       "   'casquette noire motif blanc',\n",
       "   'patch logo milieu devant',\n",
       "   'casquette noire motif blanc someday soon'],\n",
       "  'casquette'),\n",
       " (['ligne ecocashmere daniel fiesoli',\n",
       "   'bonnet eco cachemire gris dan',\n",
       "   'accueil ventes woolgroup fiesoli homme bonnet eco cachemire bleu nuit tresse daniele fiesoli',\n",
       "   'bonnet eco cachemire bleue',\n",
       "   'bonnet eco cachemire bleu nuit tresse daniele fiesoli',\n",
       "   'bonnet eco cachemire bleu nui',\n",
       "   'bonnet eco cachemire bleu tre',\n",
       "   'motifs tricots tresses'],\n",
       "  'bonnet'),\n",
       " (['motifs tricots fines tresses',\n",
       "   'bonnet alpaga bordeaux fins',\n",
       "   'accueil ventes woolgroup fiesoli homme bonnet alpaga bordeaux fins tresses woolgroup',\n",
       "   'acrylique laine alpaga viscsose',\n",
       "   'bonnet alpaga bordeaux',\n",
       "   'bonnet alpaga bordeaux fins tresses woolgroup'],\n",
       "  'bonnet'),\n",
       " (['bonnet laine bleu revers cotele woolgroup',\n",
       "   'accueil ventes woolgroup fiesoli homme bonnet laine bleu revers cotele woolgroup',\n",
       "   'bonnet laine bleu',\n",
       "   'bonnet laine bleu revers',\n",
       "   'laine polyamide autres fibres'],\n",
       "  'bonnet'),\n",
       " (['ligne ecocashmere daniel fiesoli',\n",
       "   'accueil ventes woolgroup fiesoli homme bonnet alpaga bleu revers beige daniele fiesoli',\n",
       "   'alpaga baby laine',\n",
       "   'patch logo milieu devant',\n",
       "   'bonnet alpaga bordeaux reve',\n",
       "   'revers coteles beige',\n",
       "   'bonnet alpaga bleu revers beige daniele fiesoli',\n",
       "   'bonnet alpaga bleu',\n",
       "   'bonnet alpaga bleu revers'],\n",
       "  'bonnet'),\n",
       " (['motifs tricots fines tresses',\n",
       "   'accueil ventes woolgroup fiesoli homme bonnet alpaga beige logo brode daniele fiesoli',\n",
       "   'logo brode gris',\n",
       "   'bonnet alpaga beige',\n",
       "   'alpaga baby polyamide',\n",
       "   'bonnet alpaga beige logo brode daniele fiesoli',\n",
       "   'bonnet alpaga beige logo'],\n",
       "  'bonnet'),\n",
       " (['ligne ecocashmere daniel fiesoli',\n",
       "   'bonnet eco cachemire gris dan',\n",
       "   'bonnet eco cachemire gris daniele fiesoli',\n",
       "   'bonnet eco cachemire gris',\n",
       "   'bonnet eco cachemire bleu nui',\n",
       "   'accueil ventes woolgroup fiesoli homme bonnet eco cachemire gris daniele fiesoli',\n",
       "   'bonnet eco cachemire bleu tre',\n",
       "   'motifs tricots tresses grise'],\n",
       "  'bonnet'),\n",
       " (['bordure contrastante bandes bleues',\n",
       "   'bonnet chaud laine',\n",
       "   'parfait contre basses temperatures',\n",
       "   'bonnet noir bandes bleues low brand',\n",
       "   'bonnet noir bandes bleues',\n",
       "   'accueil ventes low brand homme bonnet noir bandes bleues low brand',\n",
       "   'laine viscose polyamide cachemire',\n",
       "   'bonnet gris bandes orange',\n",
       "   'bonnet chaud laine melangee'],\n",
       "  'bonnet'),\n",
       " (['bonnet eco cachemire taupe revers beige daniele fiesoli',\n",
       "   'bonnet eco cachemire orange',\n",
       "   'ligne cashmere daniel fiesoli',\n",
       "   'bonnet eco cachemire gris',\n",
       "   'accueil ventes woolgroup fiesoli homme bonnet eco cachemire taupe revers beige daniele fiesoli',\n",
       "   'fin revers beige',\n",
       "   'bonnet eco cachemire taupe'],\n",
       "  'bonnet'),\n",
       " (['bonnet alpaga mouchete bleu woolgroup',\n",
       "   'accueil ventes woolgroup fiesoli homme bonnet alpaga mouchete bleu woolgroup',\n",
       "   'bonnet alpaga mouchete bleu',\n",
       "   'acrylique alpaga polyamide viscose',\n",
       "   'bonnet alpaga bleu'],\n",
       "  'bonnet'),\n",
       " (['ligne ecocashmere daniel fiesoli',\n",
       "   'accueil ventes woolgroup fiesoli homme bonnet eco cachemire orange daniele fiesoli',\n",
       "   'bonnet eco cachemire orange',\n",
       "   'bonnet eco cachemire gris',\n",
       "   'bonnet eco cachemire orange daniele fiesoli',\n",
       "   'bonnet eco cachemire taupe',\n",
       "   'motifs tricots fines tresses beiges'],\n",
       "  'bonnet'),\n",
       " (['motifs tricots fines tresses',\n",
       "   'accueil ventes woolgroup fiesoli homme bonnet alpaga vert daniele fiesoli',\n",
       "   'bonnet alpaga vert',\n",
       "   'bonnet alpaga vert daniele fiesoli',\n",
       "   'bonnet alpaga vert daniele'],\n",
       "  'bonnet'),\n",
       " (['accueil ventes woolgroup fiesoli homme bonnet laine vert woolgroup',\n",
       "   'acrylique laine polyamide',\n",
       "   'bonnet laine vert woolgroup',\n",
       "   'bonnet laine vert'],\n",
       "  'bonnet'),\n",
       " (['bonnet eco cachemire gris dan',\n",
       "   'revers bleu cotele',\n",
       "   'ligne cashmere daniel fiesoli',\n",
       "   'bonnet eco cachemire bleue',\n",
       "   'motif tricot tresse',\n",
       "   'bonnet eco cachemire bleu nui',\n",
       "   'bonnet eco cachemire bleu tresse daniele fiesoli',\n",
       "   'accueil ventes woolgroup fiesoli homme bonnet eco cachemire bleu tresse daniele fiesoli',\n",
       "   'bonnet eco cachemire bleu tre'],\n",
       "  'bonnet'),\n",
       " (['bonnet eco cachemire gris',\n",
       "   'ligne cashmere daniel fiesoli',\n",
       "   'bonnet eco cachemire orange',\n",
       "   'fin revers beige',\n",
       "   'accueil ventes woolgroup fiesoli homme bonnet eco cachemire gris revers beige daniele fiesoli',\n",
       "   'bonnet eco cachemire gris revers beige daniele fiesoli',\n",
       "   'bonnet eco cachemire taupe'],\n",
       "  'bonnet'),\n",
       " (['bonnet laine bleu rayures fantaisies vert gris woolgroup',\n",
       "   'motif tricots tresse',\n",
       "   'accueil ventes woolgroup fiesoli homme bonnet laine bleu rayures fantaisies vert gris woolgroup',\n",
       "   'bonnet laine bleu',\n",
       "   'acrylique laine polyamide',\n",
       "   'revers rayures fantaisies vert gris',\n",
       "   'bonnet laine bleu rayures'],\n",
       "  'bonnet'),\n",
       " (['bonnet alpaga bordeaux revers orange daniele fiesoli',\n",
       "   'alpaga baby laine',\n",
       "   'bonnet alpaga bordeaux',\n",
       "   'bonnet alpaga bordeaux reve',\n",
       "   'patch logo milieu devant',\n",
       "   'accueil ventes woolgroup fiesoli homme bonnet alpaga bordeaux revers orange daniele fiesoli',\n",
       "   'bonnet alpaga bleu',\n",
       "   'revers cotele orange',\n",
       "   'bonnet alpaga bleu revers'],\n",
       "  'bonnet'),\n",
       " (['bordure contrastante bandes bleues',\n",
       "   'bonnet chaud laine',\n",
       "   'parfait contre basses temperatures',\n",
       "   'accueil ventes low brand homme bonnet gris bandes orange low brand',\n",
       "   'bonnet noir bandes bleues',\n",
       "   'laine viscose polyamide cachemire',\n",
       "   'bonnet gris bandes orange',\n",
       "   'bonnet chaud laine melangee'],\n",
       "  'bonnet'),\n",
       " (['jupe texturee motif floral contrastant coupe droite mi-longue fermeture eclair laterale fente arriere doublure integrale',\n",
       "   'accueil ventes valentino femme jupe noire jaune texturee motif floral red valentino',\n",
       "   'polyester doublure acetate',\n",
       "   'jupe noire jaune texturee',\n",
       "   'jupe noire jaune texturee motif floral red valentino'],\n",
       "  'jupe'),\n",
       " (['jupe longue grise',\n",
       "   'accueil ventes damir doma femme jupe longue grise',\n",
       "   'jupe longue damir',\n",
       "   'jupe longue damir doma effet delave ouverture volants arriere doublee jupon court poches laterales'],\n",
       "  'jupe'),\n",
       " (['accueil ventes dexters femme jupe grise fleurie dexters',\n",
       "   'sweat violet fleuri dexters',\n",
       "   'jupe violette fleurie dexters',\n",
       "   'sweat gris fleuri dexters',\n",
       "   'jupe grise fleurie dexters'],\n",
       "  'jupe'),\n",
       " (['jupe courte coton vert eau',\n",
       "   'jupe boule courte jacquard',\n",
       "   'details curseur tete lion',\n",
       "   'curseur veritable bijoux',\n",
       "   'accueil ventes dexters femme jupe boule courte jacquard vert eau dexters',\n",
       "   'mannequin mesure 1m70 porte',\n",
       "   'jupe boule courte jacquard vert eau dexters',\n",
       "   'jupe courte coton'],\n",
       "  'jupe'),\n",
       " (['fendu cote gauche',\n",
       "   'motif geometrique rose',\n",
       "   'jupe asymetrique brocart noir',\n",
       "   'sweat coton noir logo brode',\n",
       "   'jupe brocart noir',\n",
       "   'jupe asymetrique brocart noir motif rose jijil',\n",
       "   'accueil ventes jijil femme jupe asymetrique brocart noir motif rose jijil'],\n",
       "  'jupe'),\n",
       " (['motifs abstrait vert gris paillete',\n",
       "   'polyester lurex doublure polyamide coton doublure polyester',\n",
       "   'accueil ventes markus lupfer femme short haute crepe bleu motifs abstraits vert markus lupfer',\n",
       "   'short haute crepe bleu',\n",
       "   'short crepe bleu',\n",
       "   'fermeture glissiere invisible pattes',\n",
       "   'short haute crepe bleu motifs abstraits vert markus lupfer'],\n",
       "  'short'),\n",
       " (['poches plaquees arriere',\n",
       "   'short jean patchs frankie',\n",
       "   'accueil ventes frankie morello femme short jean patchs frankie morello',\n",
       "   'short jean patchs frankie morello'],\n",
       "  'short'),\n",
       " (['short technique leggings noir adidas',\n",
       "   'issue collaboration entre maison adidas stella mccartney',\n",
       "   'accueil ventes adidas stella mccartney femme short technique leggings noir adidas',\n",
       "   'smockee cordon serrages',\n",
       "   'short technique leggings noir',\n",
       "   'short tissu technique noir',\n",
       "   'polyester recycle elasthanne',\n",
       "   'bandes laterales griffees',\n",
       "   'tissu anti transpirant',\n",
       "   'debardeur technique elasthann',\n",
       "   'leggings tissu technique noir'],\n",
       "  'short'),\n",
       " (['short plissee blanc rayures metallisees jijil',\n",
       "   'short crepe blanc',\n",
       "   'accueil ventes jijil femme short plissee blanc rayures metallisees jijil',\n",
       "   'short plissee blanc rayures',\n",
       "   'collier pierres multicolore'],\n",
       "  'short'),\n",
       " (['accueil ventes jijil femme jupe matiere plissee bleu rayures metallisees jijil',\n",
       "   'jupe coton cotele crepe blanc',\n",
       "   'coton elasthanne tissu polyester',\n",
       "   'jupe matiere plissee bleu',\n",
       "   'jupe matiere plissee bleu rayures metallisees jijil',\n",
       "   'jupe coton cotele'],\n",
       "  'jupe'),\n",
       " (['top fourreaux peplum taffet',\n",
       "   'accueil ventes blumarine femme jupe crayon noir bandes ajoures blumarine',\n",
       "   'jupe noir coupe',\n",
       "   'ligne blue girl',\n",
       "   'bande incruster ajoure',\n",
       "   'coton polyamide polyester doublure polyeser',\n",
       "   'fermeture glissiere invisible cote droit',\n",
       "   'mannequin mesure 1m75 porte',\n",
       "   'top taffetas blanc',\n",
       "   'jupe crayon noir bandes ajoure',\n",
       "   'produits normalement conseillions prendre habituelle',\n",
       "   'jupe crayon noir bandes ajoures blumarine'],\n",
       "  'jupe'),\n",
       " (['top jaune galons dentelles',\n",
       "   'ligne elisabetta franchi sample',\n",
       "   'jupe mousseline jaune',\n",
       "   'broderies perles dorees',\n",
       "   'accueil ventes elisabetta franchi femme jupe mousseline jaune franges perlees elisabetta franchi',\n",
       "   'top coton jaune',\n",
       "   'jupe mousseline jaune franges perlees elisabetta franchi',\n",
       "   'jupe mousseline jaune frang',\n",
       "   'franges perles dorees'],\n",
       "  'jupe'),\n",
       " (['accueil ventes elisabetta franchi femme jupe kaki elisabetta franchi',\n",
       "   'polyester doublure polyester elasthanne',\n",
       "   'boutons fantaisie transversaux plisses devant',\n",
       "   'jupe haute fendue',\n",
       "   'fermeture eclair arriere',\n",
       "   'jupe kaki elisabetta franchi',\n",
       "   'combinaison kaki volant lac'],\n",
       "  'jupe'),\n",
       " (['coupe courte haute',\n",
       "   'kangourou tissu peau agneau doublure acetate viscose doublure polyester',\n",
       "   'presence zips devant',\n",
       "   'fermeture eclair arriere',\n",
       "   'blouson noir marron roberto',\n",
       "   'jupe noire marron roberto cavalli',\n",
       "   'jupe cuir kangourou',\n",
       "   'jupe noire marron roberto cav',\n",
       "   'accueil ventes roberto cavalli femme jupe noire marron roberto cavalli'],\n",
       "  'jupe'),\n",
       " (['jupe crayon bleue tressee franki',\n",
       "   'fermeture eclair discrete laterale',\n",
       "   'chemise bi-matieres rayures',\n",
       "   'application tissu tresse',\n",
       "   'coupe crayon pres',\n",
       "   'coupe crayon pres corps haute',\n",
       "   'bandes noires contrastantes cotes',\n",
       "   'jupe crayon bleue tressee frankie morello',\n",
       "   'accueil ventes frankie morello femme jupe crayon bleue tressee frankie morello'],\n",
       "  'jupe'),\n",
       " (['t-shirt baby rose frankie',\n",
       "   'jupe doublure filet longue motif fleuri texture fermeture zip invisible laterale',\n",
       "   'jupe doublure filet',\n",
       "   'polyester polyamide soie tissu polyester tissu polyamide elasthanne',\n",
       "   'jupe fleurie bleue frankie morello',\n",
       "   'accueil ventes frankie morello femme jupe fleurie bleue frankie morello'],\n",
       "  'jupe'),\n",
       " (['poches devant poches arrieres',\n",
       "   'jupe jean noir tachee nikkie',\n",
       "   'fermeture eclair bouton',\n",
       "   'accueil ventes nikkie femme jupe jean noir tachee nikkie',\n",
       "   'coton facon jean'],\n",
       "  'jupe'),\n",
       " (['accueil ventes dexters femme jupe violette fleurie dexters',\n",
       "   'sweat violet fleuri dexters',\n",
       "   'jupe violette fleurie dexters',\n",
       "   'sweat gris fleuri dexters',\n",
       "   'jupe grise fleurie dexters'],\n",
       "  'jupe'),\n",
       " (['sweat blanc smile manches cour',\n",
       "   'polyester tissu polyamide',\n",
       "   'sweat rose smile manches court',\n",
       "   'short raye franges',\n",
       "   'fermeture eclair boutonnee discrete',\n",
       "   'accueil ventes svnty femme short noir blanc franges svnty',\n",
       "   'sweat noir smile manches court',\n",
       "   'short noir blanc franges svnty'],\n",
       "  'short'),\n",
       " (['short culotte bleu franges elisabetta franchi',\n",
       "   'viscose elasthanne manches polyester viscose acetate profil coton',\n",
       "   'rayures bleues rouges',\n",
       "   'mannequin mesure 1m80 porte',\n",
       "   'short culotte bleu franges eli',\n",
       "   'accueil ventes elisabetta franchi femme short culotte bleu franges elisabetta franchi',\n",
       "   'coupe culotte haute',\n",
       "   'veste maille bleu',\n",
       "   'boutons fantaisies cordes',\n",
       "   'galon franges doree passepoile',\n",
       "   'veste bolero maille stretch'],\n",
       "  'short'),\n",
       " (['jupe crayon noir double zip',\n",
       "   'accueil ventes alexander mcqueen femme jupe crayon noir double zip alexander mcqueen',\n",
       "   'chemise coton blanc col fan',\n",
       "   'double zip fantaisie',\n",
       "   'jupe coton noir',\n",
       "   'jupe crayon noir double zip alexander mcqueen'],\n",
       "  'jupe'),\n",
       " (['accueil ventes roberto cavalli femme jupe bleue facon dentelle fleurie roberto cavalli',\n",
       "   'coton doublure polyester',\n",
       "   'voile facon dentelle coton',\n",
       "   'fermeture eclair arriere',\n",
       "   'coupe tulipe haute longueur midi',\n",
       "   'mannequin mesure 1m70 porte',\n",
       "   'applique signature metallique',\n",
       "   'jupe bleue facon dentelle fleurie roberto cavalli'],\n",
       "  'jupe'),\n",
       " (['jupe satin duchesse',\n",
       "   'rayures oranges bleu',\n",
       "   'jupe bal satin duchesse',\n",
       "   'ceinture galon stretch noir',\n",
       "   'jupe satin duchesse vert',\n",
       "   'mannequin mesure porte',\n",
       "   'chemise coton blanc col fan',\n",
       "   'accueil ventes jijil femme jupe bal satin duchesse raye vert jijil',\n",
       "   'jupe bal satin duchesse raye vert jijil'],\n",
       "  'jupe'),\n",
       " (['jupe longue leopard dexters',\n",
       "   'imprime full leopard',\n",
       "   'jupe longue mousseline beige rose',\n",
       "   'imprimer animal tendance',\n",
       "   'accueil ventes dexters femme jupe longue leopard dexters'],\n",
       "  'jupe'),\n",
       " (['chemise destructure coton bla',\n",
       "   'jupe smockee coton noir copains',\n",
       "   'ligne blue copains',\n",
       "   'collier nouer semi christau',\n",
       "   'poches plaquees fesses',\n",
       "   'fausses poches italiennes',\n",
       "   'jupe coton noir',\n",
       "   'accueil ventes copains femme jupe smockee coton noir copains',\n",
       "   'jupe smockee coton noir',\n",
       "   'produits normalement conseillons prendre habituelle',\n",
       "   'mannequin mesure 1m75 porte'],\n",
       "  'jupe'),\n",
       " (['t-shirt coton noir col rond woolgroup',\n",
       "   't-shirt coton bleu col rond',\n",
       "   't-shirt coton kaki',\n",
       "   't-shirt coton bleu',\n",
       "   't-shirt coton blanc col ron',\n",
       "   'accueil ventes woolgroup fiesoli homme t-shirt coton noir col rond woolgroup',\n",
       "   't-shirt coton kaki col rond',\n",
       "   't-shirt coton noir col rond',\n",
       "   'shirt coton noir'],\n",
       "  't-shirt'),\n",
       " (['accueil ventes woolgroup fiesoli homme t-shirt coton blanc col rond fiesoli',\n",
       "   'col rond roulotte',\n",
       "   't-shirt coton blanc col rond fiesoli',\n",
       "   't-shirt coton blanc col ron'],\n",
       "  't-shirt'),\n",
       " (['pull lin chine blanc',\n",
       "   'pull lin chine blanc col tunisien woolgroup',\n",
       "   'pull lin chine blanc col',\n",
       "   'pull lin chine',\n",
       "   'col tunisien boutons nacres',\n",
       "   'accueil ventes woolgroup fiesoli homme pull lin chine blanc col tunisien woolgroup'],\n",
       "  'pull'),\n",
       " (['pull coton bleu fiesoli',\n",
       "   'pull coton bleu',\n",
       "   'accueil ventes woolgroup fiesoli homme pull coton bleu fiesoli'],\n",
       "  'pull'),\n",
       " (['polo bleu coton egyptien cote',\n",
       "   'polo bleu coton egyptien cotele fiesoli',\n",
       "   'col pointe boutons',\n",
       "   'mannequin mesure porte',\n",
       "   'polo coton egyptien',\n",
       "   'polo coton egyptien bleu cotele',\n",
       "   'accueil ventes woolgroup fiesoli homme polo bleu coton egyptien cotele fiesoli'],\n",
       "  'polo'),\n",
       " (['mannequin mesure 1m84 porte',\n",
       "   'pull col merinos noir fiesoli',\n",
       "   'pull manches longues',\n",
       "   'laine merino extrafine',\n",
       "   'accueil ventes woolgroup fiesoli homme pull col merinos noir fiesoli'],\n",
       "  'pull'),\n",
       " (['jean skinny coton bleu dondup',\n",
       "   'accueil ventes woolgroup fiesoli homme pull bleu coton egyptien fiesoli',\n",
       "   'pull coton bleu fonce',\n",
       "   'pull bleu coton egyptien fiesoli',\n",
       "   'pull coton bleu'],\n",
       "  'pull'),\n",
       " (['col rond surpiqure facon',\n",
       "   'sweat coton pique bleu woolgroup',\n",
       "   'accueil ventes woolgroup fiesoli homme sweat coton pique bleu woolgroup',\n",
       "   'sweat coton pique'],\n",
       "  'sweat'),\n",
       " (['accueil ventes woolgroup fiesoli homme t-shirt manches courtes coton bleu fiesoli',\n",
       "   'jean skinny coton bleu dondup',\n",
       "   't-shirt manches courtes coton bleu fiesoli',\n",
       "   't-shirt manches courtes coton',\n",
       "   't-shirt coton bleu'],\n",
       "  't-shirt'),\n",
       " (['polo coton jaune',\n",
       "   'polo coton orange',\n",
       "   'polo coton jaune manches courtes woolgroup',\n",
       "   'polo coton bleu',\n",
       "   'polo coton jaune manches',\n",
       "   'accueil ventes woolgroup fiesoli homme polo coton jaune manches courtes woolgroup',\n",
       "   'polo coton bleu manches cou',\n",
       "   'polo coton orange manches'],\n",
       "  'polo'),\n",
       " (['pull coton jaune facon grosse',\n",
       "   'accueil ventes woolgroup fiesoli homme pull coton bleu facon grosse maille woolgroup',\n",
       "   'pull coton bleu facon grosse maille woolgroup',\n",
       "   'pull coton jaune',\n",
       "   'pull coton bleu facon grosse',\n",
       "   'facon grosse maille',\n",
       "   'pull coton bleu'],\n",
       "  'pull'),\n",
       " (['pull grosse maille taupe woolgroup',\n",
       "   'pull coton taupe',\n",
       "   'facon grosse maille',\n",
       "   'accueil ventes woolgroup fiesoli homme pull grosse maille taupe woolgroup'],\n",
       "  'pull'),\n",
       " (['pull coton vert sapin motif geometrique woolgroup',\n",
       "   'accueil ventes woolgroup fiesoli homme pull coton vert sapin motif geometrique woolgroup',\n",
       "   'pull coton vert',\n",
       "   'pull coton vert sapin motif',\n",
       "   'pull coton vert sapin'],\n",
       "  'pull'),\n",
       " (['pull coton egyptien camel chi',\n",
       "   'accueil ventes woolgroup fiesoli homme pull coton egyptien camel chine manches courtes fiesoli',\n",
       "   'pull coton egyptien camel chine manches courtes fiesoli',\n",
       "   'pull coton camel chine',\n",
       "   'pull coton camel'],\n",
       "  'pull'),\n",
       " (['polo bicolore coton bleu wool',\n",
       "   'col pointe bleu fonce',\n",
       "   'polo coton bleu',\n",
       "   'polo bicolore coton bleu woolgroup',\n",
       "   'polo bicolore coton bleu elec',\n",
       "   'accueil ventes woolgroup fiesoli homme polo bicolore coton bleu woolgroup'],\n",
       "  'polo'),\n",
       " (['accueil ventes woolgroup fiesoli homme pantalon jogging coton beige woolgroup',\n",
       "   'smockee brides nouer',\n",
       "   'pantalon jogging coton beige woolgroup',\n",
       "   'pantalon jogging coton bei'],\n",
       "  'pantalon'),\n",
       " (['accueil ventes woolgroup fiesoli homme polo coton bleu manches courtes fiesoli',\n",
       "   'col pointe boutons',\n",
       "   'jean skinny coton bleu dondup',\n",
       "   'mannequin mesure 185cm porte',\n",
       "   'polo coton bleu',\n",
       "   'polo coton bleu manches cou',\n",
       "   'polo coton bleu manches courtes fiesoli'],\n",
       "  'polo'),\n",
       " (['shirt coton noir',\n",
       "   't-shirt coton bleu col rond',\n",
       "   't-shirt coton kaki',\n",
       "   't-shirt coton bleu col rond woolgroup',\n",
       "   'accueil ventes woolgroup fiesoli homme t-shirt coton bleu col rond woolgroup',\n",
       "   't-shirt coton blanc col ron',\n",
       "   't-shirt coton kaki col rond',\n",
       "   't-shirt coton noir col rond',\n",
       "   't-shirt coton bleu'],\n",
       "  't-shirt'),\n",
       " (['accueil ventes woolgroup fiesoli homme pull coton pique fin gris manches courtes woolgroup',\n",
       "   'pull coton pique',\n",
       "   'pull coton pique fin gris manches courtes woolgroup',\n",
       "   'pull coton pique fin blanc',\n",
       "   'pull coton pique fin gris'],\n",
       "  'pull'),\n",
       " (['accueil ventes woolgroup fiesoli homme shirt coton beige rayures fiesoli',\n",
       "   'shirt coton beige rayures',\n",
       "   't-shirt coton bleu ciel ray',\n",
       "   'shirt coton bleu rayures',\n",
       "   'shirt coton beige rayures fiesoli',\n",
       "   't-shirt coton beige',\n",
       "   't-shirt coton bleu'],\n",
       "  't-shirt'),\n",
       " (['shirt lin noir motifs fantaisies fiesoli',\n",
       "   't-shirt lin noir',\n",
       "   'accueil ventes woolgroup fiesoli homme shirt lin noir motifs fantaisies fiesoli',\n",
       "   'publie date commande',\n",
       "   'shirt lin noir motifs fan'],\n",
       "  't-shirt'),\n",
       " (['accueil ventes woolgroup fiesoli homme pull coton bleu facon grosse maille woolgroup',\n",
       "   'pull coton bleu facon grosse maille woolgroup',\n",
       "   'pull coton bleu facon grosse',\n",
       "   'facon grosse maille',\n",
       "   'pull coton bleu'],\n",
       "  'pull'),\n",
       " (['accueil ventes woolgroup fiesoli homme pull coton bleu motif geometrique woolgroup',\n",
       "   'pull coton bleu',\n",
       "   'pull coton bleu motif geome',\n",
       "   'pull coton bleu motif geometrique woolgroup'],\n",
       "  'pull'),\n",
       " (['pull lin chine blanc',\n",
       "   'pull lin blanc chine manche',\n",
       "   'pull lin blanc chine manches longues woolgroup',\n",
       "   'pull lin chine',\n",
       "   'accueil ventes woolgroup fiesoli homme pull lin blanc chine manches longues woolgroup'],\n",
       "  'pull'),\n",
       " (['accueil ventes woolgroup fiesoli homme pull coton nid abeille taupe woolgroup',\n",
       "   'pull coton nid abeille taupe woolgroup',\n",
       "   'pull coton taupe',\n",
       "   'coton nid abeille',\n",
       "   'pull coton nid abeille taup'],\n",
       "  'pull'),\n",
       " (['flocage fantaisie bleu',\n",
       "   'shirt coton blanc flocage fantaisie fiesoli',\n",
       "   'shirt coton blanc flocage',\n",
       "   'accueil ventes woolgroup fiesoli homme shirt coton blanc flocage fantaisie fiesoli'],\n",
       "  't-shirt'),\n",
       " (['polo coton eponge bleu manc',\n",
       "   'accueil ventes woolgroup fiesoli homme polo coton eponge bleu manches courte woolgroup',\n",
       "   'polo coton bleu',\n",
       "   'polo coton eponge bleu manches courte woolgroup'],\n",
       "  'polo'),\n",
       " (['t-shirt coton bleu turquoise',\n",
       "   't-shirt coton bleu turquoise poche poitrine fiesoli',\n",
       "   'accueil ventes woolgroup fiesoli homme t-shirt coton bleu turquoise poche poitrine fiesoli',\n",
       "   't-shirt coton bleu'],\n",
       "  't-shirt'),\n",
       " (['pull coton eponge bleu col rond woolgroup',\n",
       "   'pull coton gris',\n",
       "   'pull coton eponge gris col',\n",
       "   'accueil ventes woolgroup fiesoli homme pull coton eponge bleu col rond woolgroup',\n",
       "   'pull coton eponge bleu col',\n",
       "   'pull coton bleu'],\n",
       "  'pull'),\n",
       " (['jean coton bleu claire delave',\n",
       "   'chemise coton rose chrom',\n",
       "   'chemise coton blanche chrom',\n",
       "   'accueil ventes chrom homme chemise coton blanche chrom',\n",
       "   'publie date commande',\n",
       "   'chemise coton bleue chrom'],\n",
       "  'chemise'),\n",
       " (['accueil ventes fray homme chemise soie bleu imprime cachemire fray',\n",
       "   'chemise soie bleu imprime',\n",
       "   'chemise soie bleu',\n",
       "   'poignets casses doubles boutonnages',\n",
       "   'chemise soie bleu imprime cachemire fray'],\n",
       "  'chemise'),\n",
       " (['broderie logo bas gauche',\n",
       "   'chemise noire john richmond',\n",
       "   'basket jaune low brand',\n",
       "   'jean coton bleu john richmond',\n",
       "   'accueil ventes john richmond homme chemise blanche john richmond',\n",
       "   'chemise blanche john richmond',\n",
       "   'chemise coton noir',\n",
       "   'coton nylon elasthanne'],\n",
       "  'chemise'),\n",
       " (['fermeture parmenture boutons blanc nacre',\n",
       "   'pantalon smockee noir',\n",
       "   'chemise tissu japonais blanc flocage noir edition',\n",
       "   'chemise tissu japonais blanc',\n",
       "   'tissu japonais rayon lin voton',\n",
       "   'mannequin mesure porte',\n",
       "   'accueil ventes melinda gloss edition homme chemise tissu japonais blanc flocage noir edition',\n",
       "   'chemise homme coton',\n",
       "   'chemise homme coton tissus japonais',\n",
       "   'flocage velours noir edition safari'],\n",
       "  'chemise'),\n",
       " (['chemise cintree coton blanc carreaux prada',\n",
       "   'accueil ventes prada homme chemise cintree coton blanc carreaux prada',\n",
       "   'chemise cintree coton blanc'],\n",
       "  'chemise'),\n",
       " (['chemise col italien cintree motif pois boutonnee buste poignets col',\n",
       "   'chemise col italien',\n",
       "   'chemise grise pois lords fools',\n",
       "   'accueil ventes lords fools homme chemise grise pois lords fools'],\n",
       "  'chemise'),\n",
       " (['accueil ventes zadig voltaire homme chemisette coton rose zadig voltaire',\n",
       "   'chemisette coton rose zadig voltaire',\n",
       "   'chemisette coton blanc zadig',\n",
       "   'chemisette coton rose zadig',\n",
       "   'chemisette coton rose'],\n",
       "  'chemise'),\n",
       " (['chemisette coton blanc zadig',\n",
       "   'chemisette coton rose zadig',\n",
       "   'chemisette coton blanc',\n",
       "   'accueil ventes zadig voltaire homme chemisette coton blanc zadig voltaire',\n",
       "   'chemisette coton blanc zadig voltaire'],\n",
       "  'chemise'),\n",
       " (['jean coton bleu claire delave',\n",
       "   'chemise coton rose chrom',\n",
       "   'chemise coton blanche chrom',\n",
       "   'accueil ventes chrom homme chemise coton bleue chrom',\n",
       "   'publie date commande',\n",
       "   'chemise coton bleue chrom'],\n",
       "  'chemise'),\n",
       " (['pantalon smockee noir',\n",
       "   'chemise homme coton lin rose',\n",
       "   'chemise lin rose edition',\n",
       "   'chemise lin beige edition',\n",
       "   'fermeture parmenture boutons beige vernis',\n",
       "   'accueil ventes melinda gloss edition homme chemise lin rose edition',\n",
       "   'mannequin mesure porte',\n",
       "   'melange lin coton',\n",
       "   'chemise homme coton'],\n",
       "  'chemise'),\n",
       " (['chemise bleue motifs sand',\n",
       "   'coupe droite classique',\n",
       "   'accueil ventes sand homme chemise bleue motifs sand',\n",
       "   'mannequin mesure 1m81 porte'],\n",
       "  'chemise'),\n",
       " (['coton nylon elasthanne',\n",
       "   'accueil ventes john richmond homme chemise blanche motif gothique john richmond',\n",
       "   'chemise blanche motif gothique john richmond',\n",
       "   'poignets casses simple boutonnages',\n",
       "   'pantalon crepe noir john rich',\n",
       "   'chemise blanche motif gothique',\n",
       "   'chemise coton blanche'],\n",
       "  'chemise'),\n",
       " (['jean coton bleu claire delave',\n",
       "   'chemise coton rose chrom',\n",
       "   'chemise coton blanche chrom',\n",
       "   'accueil ventes chrom homme chemise coton rose chrom',\n",
       "   'chemise coton bleue chrom'],\n",
       "  'chemise'),\n",
       " (['fermeture patte boutonnage boutons nacres',\n",
       "   'chemise imprime arabesque oran',\n",
       "   'chemise coton orange',\n",
       "   'accueil ventes stof homme chemise imprime arabesque orange stof',\n",
       "   'poignets casse simple boutonnage',\n",
       "   'jean bleu regular carotte melind',\n",
       "   'chemise imprime arabesque orange stof'],\n",
       "  'chemise'),\n",
       " (['chemise coton gris',\n",
       "   'accueil ventes hommes homme chemise coton gris hommes',\n",
       "   'chemise coton gris hommes',\n",
       "   'chemise slim gris rayures',\n",
       "   'jean skinny bleu delave jacob cohen'],\n",
       "  'chemise'),\n",
       " (['chemise coton noir blanc',\n",
       "   'poches plaquees poitrines dont patch fantaisie aile',\n",
       "   'chemise blanche carreaux noir blanc john richmond',\n",
       "   'fermeture boutons pressions',\n",
       "   'jean coton bleu john richmond',\n",
       "   'basket jaune low brand',\n",
       "   'chemise coton noir',\n",
       "   'broderie rich cuir milieu',\n",
       "   'chemise blanche carreaux noir',\n",
       "   'accueil ventes john richmond homme chemise blanche carreaux noir blanc john richmond',\n",
       "   'imprime carreaux noir blanc'],\n",
       "  'chemise'),\n",
       " (['chemise col italien cintree motif petit pied-de-poule colore poignets col effet jean boutonnee buste poignets',\n",
       "   'accueil ventes lords fools homme chemise bleu rouge lords fools',\n",
       "   'chemise col italien',\n",
       "   'chemise bleu rouge lords fools'],\n",
       "  'chemise'),\n",
       " (['chemise skinny jean bleue edi',\n",
       "   'parmenture boutons pressions',\n",
       "   'poches plaquees rabats poitrine',\n",
       "   'accueil ventes melinda gloss edition homme chemise skinny jean bleue edition'],\n",
       "  'chemise'),\n",
       " (['accueil ventes lords fools homme chemise rose lords fools',\n",
       "   'chemise col italien',\n",
       "   'chemise rose lords fools',\n",
       "   'chemise col italien cintree boutonnee buste poignets'],\n",
       "  'chemise'),\n",
       " (['coupe oversize ample longue',\n",
       "   'pantalon carotte blanc low brand',\n",
       "   'coupe oversize ample',\n",
       "   'chemise grise lin effet beton',\n",
       "   'effet beton sali',\n",
       "   'accueil ventes lost found homme chemise grise lin effet beton lost found',\n",
       "   'chemise grise lin effet beton lost found',\n",
       "   'finition arrondie devant',\n",
       "   'superposition bordure fil coupe'],\n",
       "  'chemise'),\n",
       " (['chemise skinny jean bleue delave zadig voltaire',\n",
       "   'accueil ventes zadig voltaire homme chemise skinny jean bleue delave zadig voltaire',\n",
       "   'poignets casses triples boutonnages',\n",
       "   'parmenture boutons pressions',\n",
       "   'logo brode bas gauche',\n",
       "   'poches poitrines pressions',\n",
       "   'chemise skinny jean bleue del'],\n",
       "  'chemise'),\n",
       " (['chemise cintree blanche reflet mugler',\n",
       "   'accueil chemise cintree blanche reflet mugler',\n",
       "   'poignets casses doubles boutonnages',\n",
       "   'coupe slim fit',\n",
       "   'chemise cintree blanche reflet',\n",
       "   'pantalon slim fit coton bleu'],\n",
       "  'chemise'),\n",
       " (['parmenture boutons patte',\n",
       "   'coton elasthanne tissu coton',\n",
       "   'chemise coton noir coutures',\n",
       "   'chemise coton noir coutures fantaisies zadig voltaire',\n",
       "   'chemise coton bleu carreaux',\n",
       "   'chemise coton noir',\n",
       "   'accueil ventes zadig voltaire homme chemise coton noir coutures fantaisies zadig voltaire',\n",
       "   'jean skinny coton blanc zadig'],\n",
       "  'chemise'),\n",
       " (['chemise cintree blanche salle',\n",
       "   'mannequin mesure porte',\n",
       "   'chemise cintree blanche salle privee',\n",
       "   'jean skinny velours noir',\n",
       "   'accueil ventes borsa homme chemise cintree blanche salle privee',\n",
       "   'jean velours noir',\n",
       "   'coupe slim fit'],\n",
       "  'chemise'),\n",
       " (['motif tie dye bleu',\n",
       "   'accueil ventes vince homme chemisette coton blanc motif tie dye vince',\n",
       "   'chemisette coton blanc moti',\n",
       "   'chemisette coton blanc',\n",
       "   'motifs tie dye',\n",
       "   'chemisette coton blanc motif tie dye vince'],\n",
       "  'chemise'),\n",
       " (['broderie logo bas gauche',\n",
       "   'chemise noire john richmond',\n",
       "   'accueil ventes john richmond homme chemise noire john richmond',\n",
       "   'chemise blanche john richmond',\n",
       "   'chemise coton noir',\n",
       "   'coton nylon elasthanne'],\n",
       "  'chemise'),\n",
       " (['jean regular beige pierre turquoise valentino',\n",
       "   'jean regular beige pierre turq',\n",
       "   'pantalon coton rose',\n",
       "   'jean regular coton bleu valen',\n",
       "   'pantalon regular coton rose',\n",
       "   'ligne red valentino',\n",
       "   'poches italiennes pierre turquoise fantaisie',\n",
       "   'bouton fantaisie griffe',\n",
       "   'jean coton beige',\n",
       "   'broderie red fesse droite',\n",
       "   'poches plaquees boutonnees aux fesses',\n",
       "   'accueil ventes valentino homme jean regular beige pierre turquoise valentino'],\n",
       "  'jean'),\n",
       " (['publie date commande',\n",
       "   'jean coton gris john richmond',\n",
       "   'accueil ventes john richmond homme jean coton gris john richmond',\n",
       "   'poches italiennes dont detail simili cuir',\n",
       "   'mannequin mesure porte 31us',\n",
       "   'fermeture glissiere patte bouton fantaisie'],\n",
       "  'jean'),\n",
       " (['accueil ventes melinda gloss edition homme jean bleu melinda gloss',\n",
       "   'patte boutonnage devant invisible',\n",
       "   'mannequin mesure 1m81 porte',\n",
       "   'gilet capuche gris',\n",
       "   'poches devant prises couture petite poche plaquee',\n",
       "   'gilet gris capuche',\n",
       "   'coupe classique col',\n",
       "   'jean coupe droite',\n",
       "   'jean bleu melinda gloss',\n",
       "   't-shirt blanc col rond low brand'],\n",
       "  'jean'),\n",
       " (['accueil ventes homme jean skinny coton bleu patch',\n",
       "   'mannequin mesure porte 31us',\n",
       "   'jean skinny coton bleu patch',\n",
       "   'jean skinny coton bleu patc',\n",
       "   'chemise blanche poche poitrine'],\n",
       "  'jean'),\n",
       " (['jean skinny bleu patchworks',\n",
       "   'largeur bas jambe 29us 30us 31us 32us',\n",
       "   'broche epingle nourrice poche gauche',\n",
       "   'jean skinny bleu patchworks john galliano',\n",
       "   'accueil ventes galliano homme jean skinny bleu patchworks john galliano',\n",
       "   'chemise blanche bleue bande'],\n",
       "  'jean'),\n",
       " (['basket verte low brand',\n",
       "   'jean skinny tache peinture blanche low brand',\n",
       "   'imprime tache peinture blanche bas jambes',\n",
       "   't-shirt fluide blanc poche poi',\n",
       "   'jean skinny tache peinture',\n",
       "   'accueil ventes low brand homme jean skinny tache peinture blanche low brand',\n",
       "   'basket rouge low brand',\n",
       "   'basket jaune low brand',\n",
       "   'boutons patte bouton fantaisie griffe visible',\n",
       "   'mannequin mesure porte 31us',\n",
       "   'poche fermeture glissiere laterale jambe droite'],\n",
       "  'jean'),\n",
       " (['jean brut bleu regular poche brodee alexander mcqueen',\n",
       "   'coton elasthanne doublure polyester coton',\n",
       "   'jean brut bleu regular poche',\n",
       "   'broderie logo fesse droite',\n",
       "   'accueil ventes alexander mcqueen homme jean brut bleu regular poche brodee alexander mcqueen',\n",
       "   'surpiqure nervure fil orange'],\n",
       "  'jean'),\n",
       " (['sweat coton bleu broderie',\n",
       "   'sweat coton bleu',\n",
       "   'jean skinny noir effet huile eac',\n",
       "   'mannequin mesure porte 28us',\n",
       "   'jean skinny noir effet huile',\n",
       "   'accueil ventes homme jean skinny noir effet huile'],\n",
       "  'jean'),\n",
       " (['chemise blanche poche poitrine',\n",
       "   'accueil ventes homme jean regular coton noir effet tache',\n",
       "   'jean regular coton noir effet',\n",
       "   'jean regular coton noir effet tache',\n",
       "   'mannequin mesure porte 31us'],\n",
       "  'jean'),\n",
       " (['jean brut bleu regular poches',\n",
       "   'accueil ventes alexander mcqueen homme jean brut bleu regular poches brodees alexander mcqueen',\n",
       "   'broderie logo fesse droite',\n",
       "   'jean brut bleu regular poches brodees alexander mcqueen',\n",
       "   'surpiqure nervure fil orange'],\n",
       "  'jean'),\n",
       " (['jean skinny coton blanc john richmond',\n",
       "   'jean skinny coton blanc john',\n",
       "   'accueil ventes john richmond homme jean skinny coton blanc john richmond',\n",
       "   'jean coton blanc',\n",
       "   'shirt coton blanc logo clou',\n",
       "   'fermeture boutons pattes'],\n",
       "  'jean'),\n",
       " (['accueil ventes homme jean skinny bleu pins fantaisie',\n",
       "   'jean skinny bleu pins fantaisie',\n",
       "   'multiples pins fantaisies',\n",
       "   't-shirt lin noir poche poit',\n",
       "   't-shirt lin noir',\n",
       "   'mannequin mesure porte 28us',\n",
       "   'issue collaboration artiste robert montgomery',\n",
       "   'jean skinny bleu pins fantaisi'],\n",
       "  'jean'),\n",
       " (['chemise cintree blanche salle',\n",
       "   'jean skinny coton bleu effet',\n",
       "   'petit conseillons prendre dessus habituelle',\n",
       "   'accueil ventes john richmond homme jean skinny coton bleu effet dechire john richmond',\n",
       "   'mannequin mesure 175cm porte 31us',\n",
       "   'jean skinny coton bleu effet dechire john richmond'],\n",
       "  'jean'),\n",
       " (['pull coton pique',\n",
       "   'jean skinny coton blanc adriano goldschmied',\n",
       "   'mannequin mesure porte',\n",
       "   'fermeture glissiere pattes boutons griffes',\n",
       "   'pull fin coton pique noir man',\n",
       "   'jean coton blanc',\n",
       "   'poches plaquees fesses',\n",
       "   'accueil ventes adriano goldschmied homme jean skinny coton blanc adriano goldschmied',\n",
       "   'jean skinny coton blanc adria'],\n",
       "  'jean'),\n",
       " (['jean skinny coton bleu effet',\n",
       "   'petit conseillons prendre dessus habituelle',\n",
       "   'mannequin mesure 185cm porte 30us',\n",
       "   'chemise blanche poche poitrine',\n",
       "   'jean skinny coton bleu effet use john richmond',\n",
       "   'accueil ventes john richmond homme jean skinny coton bleu effet use john richmond'],\n",
       "  'jean'),\n",
       " (['polo coton pique bordeaux',\n",
       "   'polo coton pique',\n",
       "   'jean super skinny coton bleu brut john richmond',\n",
       "   'accueil ventes john richmond homme jean super skinny coton bleu brut john richmond',\n",
       "   'jean super skinny coton bleu',\n",
       "   'coupe ultra skinny'],\n",
       "  'jean'),\n",
       " (['jean coton bleu claire delave',\n",
       "   'pochette bleue dkny',\n",
       "   'mannequin mesure porte 30us',\n",
       "   'accueil ventes john richmond homme jean coton bleu claire delave john richmond',\n",
       "   'fermeture boutons patte bouton fantaisie visible',\n",
       "   'jean coton bleu claire delave john richmond'],\n",
       "  'jean'),\n",
       " (['maillot bain blanc',\n",
       "   'bermuda bain blanc robinson',\n",
       "   'doublure filet blanc',\n",
       "   'patch logo bas gauche',\n",
       "   'bermuda bain blanc robinson bains',\n",
       "   'accueil ventes robinson bains homme bermuda bain blanc robinson bains',\n",
       "   'polyamide elasthanne doublure polyamide'],\n",
       "  'bermuda'),\n",
       " (['accueil ventes myths homme bermuda coton blanc myths',\n",
       "   'short bermuda coton blanc',\n",
       "   'fermeture glissiere pattes bouton',\n",
       "   'bermuda coton blanc myths',\n",
       "   'short bermuda coton',\n",
       "   'shirt coton vieux rose',\n",
       "   'mannequin mesure 195cm porte',\n",
       "   'poches rabat boutons arriere',\n",
       "   'shirt coton vieux'],\n",
       "  'bermuda'),\n",
       " (['petit conseillons prendre dessus habituelle',\n",
       "   'pantalon coton kaki',\n",
       "   'ourlet galon simili dore',\n",
       "   't-shirt lin noir poche poit',\n",
       "   't-shirt lin noir',\n",
       "   'mannequin mesure porte 28us',\n",
       "   'accueil ventes nude homme pantalon cigarette kaki imprime camouflage nude',\n",
       "   'fermeture glissiere patte crochet',\n",
       "   'pantalon cigarette kaki imprime camouflage nude',\n",
       "   'pantalon cigarette kaki imprim',\n",
       "   'poches passepoilees fesses'],\n",
       "  'pantalon'),\n",
       " (['accueil ventes philipp plein homme pantalon jogging gris strass swarovski philipp plein',\n",
       "   'tetes mort coloree strass swarovski',\n",
       "   'coupe ample resserree aux chevilles',\n",
       "   'application plaque metallique signature arriere',\n",
       "   'pantalon jogging gris strass swarovski philipp plein',\n",
       "   'cordons serrage oeillets metalliques griffes',\n",
       "   'pantalon jogging gris stras'],\n",
       "  'pantalon'),\n",
       " (['pantalon slim fit coton bleu poches passepoilees adams',\n",
       "   'poches invisibles passepoilees gris',\n",
       "   'laine mohair doublure polyester coton',\n",
       "   'passant ceinture raye',\n",
       "   'fermeture boutons pattes',\n",
       "   'coupe slim fit',\n",
       "   'accueil ventes adams homme pantalon slim fit coton bleu poches passepoilees adams',\n",
       "   'poches passepoilees fesses',\n",
       "   'chemise cintree blanche reflet',\n",
       "   'pantalon slim fit coton bleu'],\n",
       "  'pantalon'),\n",
       " (['accueil ventes valentino homme jean regular coton bleu valentino',\n",
       "   'jean regular beige pierre turq',\n",
       "   'pantalon coton rose',\n",
       "   'jean regular coton bleu valen',\n",
       "   'pantalon regular coton rose',\n",
       "   'ligne red valentino',\n",
       "   'poches rabats boutonnees aux fesses',\n",
       "   'bouton fantaisie griffe',\n",
       "   'jean coton beige'],\n",
       "  'jean'),\n",
       " (['chemise cintree blanche salle',\n",
       "   'coton elasthanne doublure polyester coton',\n",
       "   'ceinture galon contrastante',\n",
       "   'ceinture galon cotele bleu electrique',\n",
       "   'accueil ventes adams homme pantalon tailleur bleu adams',\n",
       "   'pantalon tailleur bleu adams'],\n",
       "  'pantalon'),\n",
       " (['polo coton orange',\n",
       "   'accueil ventes kris van assche homme pantalon cargo coton noir kris van assche',\n",
       "   'pantalon cargo coton noir kris van assche',\n",
       "   'fermeture fermeture glissiere pattes crochet',\n",
       "   'mannequin mesure porte',\n",
       "   'poches italiennes poches cargo',\n",
       "   'pantalon cargo coton noir kri',\n",
       "   'polo coton orange broderie',\n",
       "   'poches passepoilees fesses'],\n",
       "  'pantalon'),\n",
       " (['bermuda coton bleu',\n",
       "   'coton polyester elasthanne',\n",
       "   'short bermuda rayure coton bleu myths',\n",
       "   'bermuda coton gris',\n",
       "   'short bermuda rayure coton',\n",
       "   'accueil ventes myths homme short bermuda rayure coton bleu myths',\n",
       "   'sandale claquette caoutchouc',\n",
       "   'mannequin mesure 182cm porte',\n",
       "   'elastique cordon serrage'],\n",
       "  'short'),\n",
       " (['application plaque metallique signature',\n",
       "   'poches laterales zippees',\n",
       "   'coton doublure polyurethane polyester',\n",
       "   'accueil ventes philipp plein homme pantalon jogging rouge philipp plein',\n",
       "   'coupe ample resserree aux chevilles',\n",
       "   'pantalon jogging coton',\n",
       "   'pantalon jogging rouge philip',\n",
       "   'cordons serrage oeillets metalliques griffes',\n",
       "   'genouilleres cotelees noires style motard',\n",
       "   'pantalon jogging rouge philipp plein'],\n",
       "  'pantalon'),\n",
       " (['jogging coton chine beige gol',\n",
       "   'jogging coton bleu',\n",
       "   'jogging coton chine bleu gold',\n",
       "   'jogging coton chine',\n",
       "   'accueil ventes golden goose homme jogging coton chine bleu golden goose',\n",
       "   'jogging coton chine bleu golden goose'],\n",
       "  'jogging'),\n",
       " (['poches arrieres boutonnees',\n",
       "   'pantalon noir motifs brodes',\n",
       "   'broderies tetes mort discretes',\n",
       "   'accueil ventes philipp plein homme pantalon noir motifs brodes philipp plein',\n",
       "   'coupe droite legerement resserree aux chevilles',\n",
       "   'pantalon noir motifs brodes philipp plein',\n",
       "   'mannequin mesure 1m81 porte',\n",
       "   'coton elasthanne doublure coton',\n",
       "   'application metallique griffe philipp plein'],\n",
       "  'pantalon'),\n",
       " (['short jean bleu effet use joh',\n",
       "   't-shirt lin noir poche poit',\n",
       "   't-shirt lin noir',\n",
       "   'short jean bleu',\n",
       "   'short jean bleu effet use john richmond',\n",
       "   'poches italiennes dont detail simili cuir',\n",
       "   'fermeture boutons pattes',\n",
       "   'mannequin mesure porte 32us',\n",
       "   'accueil ventes john richmond homme short jean bleu effet use john richmond'],\n",
       "  'short'),\n",
       " (['coton doublure coton',\n",
       "   'poches laterales discretes',\n",
       "   'coupe resserree aux chevilles',\n",
       "   'plaque metallique signature arriere poche plaquee',\n",
       "   'pantalon jogging noir bandes philipp plein',\n",
       "   'accueil ventes philipp plein homme pantalon jogging noir bandes philipp plein',\n",
       "   'pantalon jogging noir bande',\n",
       "   'cordon serrage application metallique griffe',\n",
       "   'pantalon jogging elegant coton',\n",
       "   'cotele aux genoux'],\n",
       "  'pantalon'),\n",
       " (['jogging noir bandes laterales zippees john richmond',\n",
       "   'bandes laterales zippees',\n",
       "   'accueil ventes john richmond homme jogging noir bandes laterales zippees john richmond',\n",
       "   'smockee brides nouer',\n",
       "   'viscose nylon elasthanne insert polyurethane',\n",
       "   'veste jogging noir bandes',\n",
       "   'jogging coton noir',\n",
       "   'shirt coton blanc logo clou',\n",
       "   'jogging noir bandes laterales',\n",
       "   'veste crepe noir'],\n",
       "  'jogging'),\n",
       " (['pantalon jogging orange phili',\n",
       "   'accueil ventes philipp plein homme pantalon jogging orange philipp plein',\n",
       "   'facon genouillere cotelees',\n",
       "   'application plaque metallique signature devant',\n",
       "   'poches zippees laterales',\n",
       "   'elastique bande griffee',\n",
       "   'pantalon jogging orange philipp plein',\n",
       "   'coupe legerement ample',\n",
       "   'resserree aux chevilles'],\n",
       "  'pantalon'),\n",
       " (['short jean bleu john richmond',\n",
       "   'shirt coton blanc broderi',\n",
       "   'mannequin mesure porte 32us',\n",
       "   'short jean bleu',\n",
       "   'poches italiennes dont detail simili cuir',\n",
       "   'fermeture boutons pattes',\n",
       "   'accueil ventes john richmond homme short jean bleu john richmond'],\n",
       "  'short'),\n",
       " (['short bain blanc rayures robinson bains',\n",
       "   'cote fendu croise',\n",
       "   'short bain blanc rayures',\n",
       "   'accueil ventes robinson bains homme short bain blanc rayures robinson bains',\n",
       "   'finition biais parme',\n",
       "   'patch robinson bains bas gauche',\n",
       "   'short bain blanc'],\n",
       "  'short'),\n",
       " (['poches arriere boutonnees',\n",
       "   'accueil ventes department homme pantalon texture noir department',\n",
       "   'pantalon texture noir department',\n",
       "   'mannequin mesure 1m84 porte',\n",
       "   'pantalon texture vert department',\n",
       "   'style chino coupe droite legerement resserre aux chevilles'],\n",
       "  'pantalon'),\n",
       " (['jogging coton chine beige',\n",
       "   'jogging coton chine beige gol',\n",
       "   'jogging coton bleu',\n",
       "   'jogging coton chine bleu gold',\n",
       "   'accueil ventes golden goose homme jogging coton chine beige golden goose',\n",
       "   'jogging coton chine beige golden goose',\n",
       "   'jogging coton chine'],\n",
       "  'jogging'),\n",
       " (['t-shirt oversize coton blanc',\n",
       "   'accueil ventes adams homme bermuda lin coton taupe adams',\n",
       "   'lin coton doublure coton polyamide',\n",
       "   'bermuda lin coton taupe adams',\n",
       "   'mannequin mesure 182cm porte',\n",
       "   'bermuda lin coton taupe'],\n",
       "  'bermuda'),\n",
       " (['elastique cordon serrage oeillet metallique griffe',\n",
       "   'pantalon noir laine philipp',\n",
       "   'application plaque metallique signature',\n",
       "   'doublure integrale coton',\n",
       "   'pantalon style bas jogging elegant laine',\n",
       "   'coupe ample resserree aux chevilles',\n",
       "   'pantalon noir laine philipp plein',\n",
       "   'mannequin mesure 1m81 porte',\n",
       "   'poches arrieres passepoilees boutonnees',\n",
       "   'pantalon style bas',\n",
       "   'laine doublure coton',\n",
       "   'accueil ventes philipp plein homme pantalon noir laine philipp plein'],\n",
       "  'pantalon'),\n",
       " (['short blanc bandes laterales griffees damir doma',\n",
       "   'mannequin mesure porte',\n",
       "   'logo brode cote gauche',\n",
       "   'issue collaboration entre maison damir doma lotto',\n",
       "   'ligne damir doma lotto',\n",
       "   'short blanc bandes laterales',\n",
       "   'bandes laterales griffees',\n",
       "   't-shirt coton blanc logo',\n",
       "   'accueil ventes damir doma homme short blanc bandes laterales griffees damir doma',\n",
       "   'short blanc coupe'],\n",
       "  'short'),\n",
       " (['accueil ventes philipp plein homme pantalon jogging gris strass swarovski philipp plein',\n",
       "   'coupe ample resserree aux chevilles',\n",
       "   'tetes mort strass swarovski',\n",
       "   'application plaque metallique signature arriere',\n",
       "   'pantalon jogging gris strass swarovski philipp plein',\n",
       "   'cordons serrage oeillets metalliques griffes',\n",
       "   'pantalon jogging gris stras'],\n",
       "  'pantalon'),\n",
       " (['cordons serrage application metallique griffee',\n",
       "   'blocs cloute cuir studs piques',\n",
       "   'pantalon jogging rouge cloute',\n",
       "   'coupe resserree aux chevilles',\n",
       "   'pantalon jogging rouge cloute philipp plein',\n",
       "   'mannequin mesure 1m81 porte',\n",
       "   'accueil ventes philipp plein homme pantalon jogging rouge cloute philipp plein',\n",
       "   'conseil mode piscine privilegier dessus',\n",
       "   'poche arriere plaque signature'],\n",
       "  'pantalon'),\n",
       " (['short rouge smockee gol',\n",
       "   'cote fendu croise',\n",
       "   'short nylon rouge',\n",
       "   'shirt coton blanc broderi',\n",
       "   'finition biais parme',\n",
       "   'short rouge smockee golden goose',\n",
       "   'accueil ventes golden goose homme short rouge smockee golden goose'],\n",
       "  'short'),\n",
       " (['pantalon jogging bleu strass swarovski philipp plein',\n",
       "   'application ecusson metallique signature arriere',\n",
       "   'coton effet delave',\n",
       "   'coupe ample resserree aux chevilles',\n",
       "   'accueil ventes philipp plein homme pantalon jogging bleu strass swarovski philipp plein',\n",
       "   'tete mort etoile inscrption plein strass swarovski',\n",
       "   'pantalon jogging bleu stras'],\n",
       "  'pantalon'),\n",
       " (['collier metal inoxydable argent',\n",
       "   'fermeture mecanisme fantaisies',\n",
       "   'collier style chaine argente bikkembergs',\n",
       "   'accueil ventes bikkembergs homme collier style chaine argente bikkembergs'],\n",
       "  'collier'),\n",
       " (['fermeture glissiere fantaisie rangs',\n",
       "   'accueil ventes maison margiela homme bracelet fermeture glissiere noir maison margiela',\n",
       "   'bracelet fermeture glissiere noir maison margiela',\n",
       "   'bracelet coton noir',\n",
       "   'bracelet fermeture glissiere'],\n",
       "  'bracelet'),\n",
       " (['manchette noire maison margiela',\n",
       "   'accueil ventes maison margiela homme manchette noire maison margiela'],\n",
       "  'manchette'),\n",
       " (['collier beige perles bleues bikkembergs',\n",
       "   'plaque acier inoxydable fantaisie logo',\n",
       "   'fermoir acier inoxydable',\n",
       "   'collier beige perles bleues',\n",
       "   'collier fil coton beige acier inoxydable',\n",
       "   'accueil ventes bikkembergs homme collier beige perles bleues bikkembergs',\n",
       "   'point broderie fantaisie'],\n",
       "  'collier'),\n",
       " (['effet use vintage',\n",
       "   'accueil ventes maison margiela homme bracelet cuir noir plaque argent maison margiela',\n",
       "   'plaque fantaisie argent logo pierre cristal',\n",
       "   'fermeture crochet fantaisie argent',\n",
       "   'bracelet cuir noir plaque argent maison margiela',\n",
       "   'bracelet cuir noir'],\n",
       "  'bracelet'),\n",
       " (['effet use vintage',\n",
       "   'bracelet cuir bordeaux',\n",
       "   'accueil ventes maison margiela homme bracelet ceinture cuir bordeaux maison margiela',\n",
       "   'bracelet ceinture cuir bordea',\n",
       "   'fermeture boucle fantaisie argent blanc',\n",
       "   'bracelet ceinture cuir bordeaux maison margiela',\n",
       "   'surpiqure fantaisie blanc'],\n",
       "  'bracelet'),\n",
       " (['bonnet dore brillant frankie mor',\n",
       "   'bonnet noir brillant frankie mor',\n",
       "   'extensible adapte tete',\n",
       "   'bonnet tendance irise',\n",
       "   'accueil ventes frankie morello femme bonnet noir brillant frankie morello',\n",
       "   'bonnet noir brillant frankie morello',\n",
       "   'bonnet tendance irise brillant'],\n",
       "  'bonnet'),\n",
       " (['chapeau violet forte forte',\n",
       "   'accueil ventes forte forte femme chapeau rouge forte forte',\n",
       "   'chapeau rouge forte forte'],\n",
       "  'chapeau'),\n",
       " (['bonnet dore brillant frankie mor',\n",
       "   'extensible adapte tete',\n",
       "   'bonnet noir brillant frankie mor',\n",
       "   'bonnet tendance irise',\n",
       "   'accueil ventes frankie morello femme bonnet dore brillant frankie morello',\n",
       "   'bonnet dore brillant frankie morello',\n",
       "   'bonnet tendance irise brillant'],\n",
       "  'bonnet'),\n",
       " (['accueil ventes elisabetta franchi femme chapeau laine noir elisabetta franchi',\n",
       "   'chapeau laine noir elisabetta',\n",
       "   'chapeau laine noir elisabetta franchi'],\n",
       "  'chapeau'),\n",
       " (['bonnet uni laine cachemire cotele',\n",
       "   'laine viscose polyester cachemire',\n",
       "   'bonnet uni laine',\n",
       "   'accueil ventes douuod femme bonnet beige douuod',\n",
       "   'bonnet beige douuod'],\n",
       "  'bonnet'),\n",
       " (['accueil casquette rose logo ralph lauren',\n",
       "   'logo brode lavant',\n",
       "   'casquette coton rose',\n",
       "   'casquette rose logo ralph lauren'],\n",
       "  'casquette'),\n",
       " (['chapeau violet forte forte',\n",
       "   'accueil ventes forte forte femme chapeau violet forte forte',\n",
       "   'chapeau rouge forte forte'],\n",
       "  'chapeau'),\n",
       " (['cravate grise lords fools',\n",
       "   'accueil ventes lords fools homme cravate grise lords fools'],\n",
       "  'cravate'),\n",
       " (['noeud papillon bleu marron lords fools',\n",
       "   'noeud papillon bleu marron',\n",
       "   'noeud papillon forme slim bleu marine motif marron reglable grace crochet coulissant',\n",
       "   'noeud papillon forme',\n",
       "   'accueil ventes lords fools homme noeud papillon bleu marron lords fools'],\n",
       "  'noeud'),\n",
       " (['noeud papillon prenoue',\n",
       "   'noeud papillon beige fleuri lord',\n",
       "   'accueil ventes lords fools homme noeud papillon beige fleuri lords fools',\n",
       "   'noeud papillon beige fleuri lords fools'],\n",
       "  'noeud'),\n",
       " (['noeud papillon forme slim noir motif fleuri fils dores reglable grace crochet coulissant',\n",
       "   'noeud papillon motif dore lords fools',\n",
       "   'accueil ventes lords fools homme noeud papillon motif dore lords fools',\n",
       "   'noeud papillon motif dore lords',\n",
       "   'noeud papillon forme'],\n",
       "  'noeud'),\n",
       " (['noeud papillon raye gris blan',\n",
       "   'noeud papillon prenoue',\n",
       "   'noeud papillon raye gris blanc mauro grifoni',\n",
       "   'accueil ventes mauro grifoni homme noeud papillon raye gris blanc mauro grifoni'],\n",
       "  'noeud'),\n",
       " (['accueil ventes sand homme cravate tricot grise sand',\n",
       "   'cravate tricot grise sand'],\n",
       "  'cravate'),\n",
       " (['noeud papillon maille lords fools',\n",
       "   'noeud papillon forme slim maille marine noir reglable grace crochet coulissant',\n",
       "   'noeud papillon maille lords',\n",
       "   'noeud papillon forme',\n",
       "   'accueil ventes lords fools homme noeud papillon maille lords fools'],\n",
       "  'noeud'),\n",
       " (['noeud papillon prenoue',\n",
       "   'noeud papillon slim bleu pois',\n",
       "   'accueil ventes lords fools homme noeud papillon slim bleu pois dores lords fools',\n",
       "   'noeud papillon slim bleu pois dores lords fools'],\n",
       "  'noeud'),\n",
       " (['noeud papillon forme slim motif brode fantaisie reglable grace crochet coulissant 13us 18us',\n",
       "   'noeud papillon noir lords fools',\n",
       "   'noeud papillon gris lords fools',\n",
       "   'noeud papillon marine lords fools',\n",
       "   'accueil ventes lords fools homme noeud papillon gris lords fools',\n",
       "   'noeud papillon forme'],\n",
       "  'noeud'),\n",
       " (['noeud papillon maille lords fools',\n",
       "   'accueil ventes lords fools homme noeud papillon maille lords fools',\n",
       "   'noeud papillon maille lords',\n",
       "   'noeud papillon forme',\n",
       "   'noeud papillon forme slim texture maille reglable grace crochet coulissant'],\n",
       "  'noeud'),\n",
       " (['noeud papillon bleu ciel lords',\n",
       "   'noeud papillon prenoue',\n",
       "   'noeud papillon bleu ciel lords fools',\n",
       "   'accueil ventes lords fools homme noeud papillon bleu ciel lords fools'],\n",
       "  'noeud'),\n",
       " (['noeud papillon prince galles',\n",
       "   'noeud papillon prince galles lords fools',\n",
       "   'noeud papillon forme slim motif prince galles reglable grace crochet coulissant',\n",
       "   'accueil ventes lords fools homme noeud papillon prince galles lords fools',\n",
       "   'noeud papillon forme'],\n",
       "  'noeud'),\n",
       " (['noeud papillon forme slim motif brode fantaisie reglable grace crochet coulissant 13us 18us',\n",
       "   'noeud papillon noir lords fools',\n",
       "   'accueil ventes lords fools homme noeud papillon noir lords fools',\n",
       "   'noeud papillon gris lords fools',\n",
       "   'noeud papillon marine lords fools',\n",
       "   'noeud papillon forme'],\n",
       "  'noeud'),\n",
       " (['accueil ventes lords fools homme noeud papillon slim bleu lords fools',\n",
       "   'noeud papillon prenoue',\n",
       "   'noeud papillon slim bleu lords fools',\n",
       "   'noeud papillon slim bleu lords'],\n",
       "  'noeud'),\n",
       " (['noeud papillon forme slim motif brode fantaisie reglable grace crochet coulissant 13us 18us',\n",
       "   'noeud papillon noir lords fools',\n",
       "   'noeud papillon gris lords fools',\n",
       "   'noeud papillon marine lords fools',\n",
       "   'accueil ventes lords fools homme noeud papillon marine lords fools',\n",
       "   'noeud papillon forme'],\n",
       "  'noeud'),\n",
       " (['noeud papillon prenoue',\n",
       "   'noeud papillon slim noir',\n",
       "   'accueil ventes lords fools homme noeud papillon slim noir'],\n",
       "  'noeud'),\n",
       " (['noeud papillon bleu pois dores',\n",
       "   'accueil ventes lords fools homme noeud papillon bleu pois dores lords fools',\n",
       "   'noeud papillon prenoue',\n",
       "   'noeud papillon bleu pois dores lords fools'],\n",
       "  'noeud'),\n",
       " (['accueil ventes lords fools homme noeud papillon fuchsia jacquard electrique',\n",
       "   'noeud papillon prenoue',\n",
       "   'noeud papillon fuchsia jacquard electrique',\n",
       "   'noeud papillon fuchsia jacquard'],\n",
       "  'noeud'),\n",
       " (['noeud papillon forme slim effet velours reglable grace crochet coulissant',\n",
       "   'noeud papillon velours lords',\n",
       "   'noeud papillon velours lords fools',\n",
       "   'accueil ventes lords fools homme noeud papillon velours lords fools',\n",
       "   'noeud papillon forme'],\n",
       "  'noeud'),\n",
       " (['accueil ventes kris van assche homme cravate fine grise kris van assche',\n",
       "   'cravate fine grise kris van assche'],\n",
       "  'cravate'),\n",
       " (['noeud papillon bleu lords fools',\n",
       "   'noeud papillon prenoue',\n",
       "   'accueil ventes lords fools homme noeud papillon bleu lords fools'],\n",
       "  'noeud'),\n",
       " (['noeud papillon forme slim motif prince galles reglable grace crochet coulissant',\n",
       "   'noeud prince galles lords fools',\n",
       "   'noeud prince galles lords',\n",
       "   'noeud papillon forme',\n",
       "   'accueil ventes lords fools homme noeud prince galles lords fools'],\n",
       "  'noeud'),\n",
       " (['noeud papillon prenoue',\n",
       "   'noeud papillon vert eau lords fools',\n",
       "   'accueil ventes lords fools homme noeud papillon vert eau lords fools',\n",
       "   'noeud papillon vert eau lords'],\n",
       "  'noeud'),\n",
       " (['accueil ventes lords fools homme noeud papillon bleu ciel pois blanc',\n",
       "   'noeud papillon prenoue',\n",
       "   'noeud papillon bleu ciel pois blanc',\n",
       "   'noeud papillon bleu ciel pois'],\n",
       "  'noeud'),\n",
       " (['elastique fantaisie logo',\n",
       "   'boxer coton bleu ermenegildo',\n",
       "   'accueil ventes ermenegildo zegna homme boxer coton bleu ermenegildo zegna',\n",
       "   'boxer coton bleu',\n",
       "   'mannequin mesure 180cm porte',\n",
       "   'boxer coton bleu ermenegildo zegna'],\n",
       "  'boxer'),\n",
       " (['finitions biais blanc',\n",
       "   'boxer noir elastique griffe',\n",
       "   'boxer noir elastique griffe dolce gabbana',\n",
       "   'vetement coton noir',\n",
       "   'accueil ventes dolce gabbana homme boxer noir elastique griffe dolce gabbana',\n",
       "   'normalement conseillons prendre habituelle'],\n",
       "  'boxer'),\n",
       " (['boxer jersey coton noir',\n",
       "   'accueil ventes john richmond homme boxer jersey coton noir john richmond',\n",
       "   'mannequin mesure 185cm porte',\n",
       "   'boxer jersey coton noir john',\n",
       "   'boxer jersey coton noir john richmond'],\n",
       "  'boxer'),\n",
       " (['accueil ventes roberto cavalli homme slip blanc elastique griffe roberto cavalli',\n",
       "   'vetement coton blanc',\n",
       "   'slip blanc elastique griffe roberto cavalli',\n",
       "   'slip blanc elastique griffe',\n",
       "   'point zigzag fantaisie jaune bleu',\n",
       "   'normalement conseillons prendre habituelle'],\n",
       "  'slip'),\n",
       " (['accueil ventes dsquared2 homme boxer long facon collant jaune dsquared2',\n",
       "   'boxer long facon collant jaune dsquared2',\n",
       "   'boxer coton pique jaune',\n",
       "   'boxer long facon collant jaune',\n",
       "   'mannequin mesure 185cm porte',\n",
       "   'boxer coton pique'],\n",
       "  'boxer'),\n",
       " (['logo point bouclette',\n",
       "   'accueil sweat capuche kaki logo bouclette best company',\n",
       "   'jean skinny coton gris dech',\n",
       "   'sweat capuche kaki logo bouclette best company',\n",
       "   'capuche lacet bleu',\n",
       "   'logo bleu bouclette',\n",
       "   'sweat capuche kaki logo bouc',\n",
       "   'sweat noir logo bouclette best',\n",
       "   'sweat coton kaki'],\n",
       "  'sweat'),\n",
       " (['portefeuille noir david scotti',\n",
       "   'portefeuille noir emplacement porte carte monnaie',\n",
       "   'accueil ventes david scotti homme portefeuille noir david scotti'],\n",
       "  'portefeuille'),\n",
       " (['portefeuille noir rose cote ciel',\n",
       "   'portefeuille cuir dote exterieur cuir souple doublure interieure microfibre deux compartiments ouverts double fermeture eclair comprend egalement poche zippee compartiment billets ainsi poche telephone dediee gardez vos objets valeur quotidiens organises securite portefeuille',\n",
       "   'portefeuille noir rose cote',\n",
       "   'accueil ventes cote ciel homme portefeuille noir rose cote ciel'],\n",
       "  'portefeuille'),\n",
       " (['cuir tissu polyester elasthanne',\n",
       "   'fermeture glissiere aux poignets',\n",
       "   'accueil ventes emanuel ungaro femme perfecto cuir noir paillete emanuel ungaro',\n",
       "   'epaule semi bouffante',\n",
       "   'fermeture glissiere milieu devant',\n",
       "   'perfecto cuir noir paillete',\n",
       "   'perfecto cuir noir paillete emanuel ungaro',\n",
       "   'blouson cuir noir',\n",
       "   'jean matelasse blanc poches'],\n",
       "  'perfecto'),\n",
       " (['coton elasthanne doublure polyester coton tissu coton polyester',\n",
       "   'blouson jean noir',\n",
       "   'accueil ventes balmain femme blouson jean fourre noir balmain',\n",
       "   'fourree laine mouton',\n",
       "   'triple collier fantaisie moschino',\n",
       "   'jean coton blanc revers',\n",
       "   'col pointe laine mouton',\n",
       "   'ligne pierre balmain',\n",
       "   'blouson jean fourre noir balmain',\n",
       "   'mannequin mesure 1m65 porte',\n",
       "   'entierement fourre laine mouton'],\n",
       "  'blouson'),\n",
       " (['veste style bomber court',\n",
       "   'veste style bomber',\n",
       "   'poches zippees devant',\n",
       "   'bordures fermeture eclair contrastantes',\n",
       "   'bomber saumon texture valentina',\n",
       "   'accueil ventes valentina vox femme bomber saumon texture valentina vox',\n",
       "   'polyester viscose elasthanne',\n",
       "   'manches contrastantes effet tisse',\n",
       "   'bomber saumon texture valentina vox'],\n",
       "  'veste'),\n",
       " (['manches longues contrastantes poignets boutonnes',\n",
       "   'accueil ventes roberto cavalli femme blouson noir marron roberto cavalli',\n",
       "   'poches zippees devant',\n",
       "   'kangourou tissu peau agneau doublure acetate viscose doublure polyester',\n",
       "   'blouson noir marron roberto cavalli',\n",
       "   'double ceinture sangle',\n",
       "   'blouson noir marron roberto',\n",
       "   'pourrez combiner cette veste jupe voir ci-dessous',\n",
       "   'jupe noire marron roberto cav',\n",
       "   'fermeture eclair devant'],\n",
       "  'blouson'),\n",
       " (['blouson matiere matelasse rouge moncler',\n",
       "   'laine vierge tissu polyamide doublure polyamide',\n",
       "   'blouson matiere matelasse rou',\n",
       "   'doudoune nylon laine rouge cotele',\n",
       "   'patch logo manche gauche',\n",
       "   'accueil ventes moncler femme blouson matiere matelasse rouge moncler',\n",
       "   'rembourre duvet premium norme afnor',\n",
       "   'pantalon fuseau blanc moncler',\n",
       "   'debardeur soie blanc calvin'],\n",
       "  'blouson'),\n",
       " (['doudoune technique bleu matelass',\n",
       "   'patch logo manche gauche',\n",
       "   'accueil ventes parajumpers femme doudoune technique bleu matelassee parajumpers',\n",
       "   'aeration niveau aisselles',\n",
       "   'polyester doublure polyamide rembourrage plume duvet',\n",
       "   'pantalon fuseau blanc moncler',\n",
       "   'debardeur soie blanc calvin',\n",
       "   'rembourrage plumes premium',\n",
       "   'doudoune technique bleu matelassee parajumpers'],\n",
       "  'doudoune'),\n",
       " (['accueil ventes emanuel ungaro femme veste alpaga mohair facon tweed marron emanuel ungaro',\n",
       "   'veste alpaga mohair facon',\n",
       "   'laine polyamide acrylique polyester mohaire alpaga tissu polyamide elasthanne',\n",
       "   'veste alpaga mohair facon tweed marron emanuel ungaro',\n",
       "   'poignet simple boutonnage',\n",
       "   'laine melange facon tweed',\n",
       "   'veste alpaga mohair marron',\n",
       "   'jean matelasse blanc poches'],\n",
       "  'veste'),\n",
       " (['accueil ventes frankie morello femme veste jean manches frankie morello',\n",
       "   'poches plaquees devant',\n",
       "   'coupe ajustee col',\n",
       "   'veste jean manches',\n",
       "   'veste jean manches frankie morello',\n",
       "   'veste jean manches frank'],\n",
       "  'veste'),\n",
       " (['blouson jean noire',\n",
       "   'coton elastane tissu secondaire polyester',\n",
       "   'accueil ventes damir doma femme blouson jean noire',\n",
       "   'publie date commande',\n",
       "   'veste jean multipoches col rond effiloche applications filet arriere fermeture large zip boutons aux poignets'],\n",
       "  'blouson'),\n",
       " (['blouson matiere vert texture emanuel ungaro',\n",
       "   'pantalon fuseau blanc moncler',\n",
       "   'debardeur soie blanc calvin',\n",
       "   'blouson matiere vert texture',\n",
       "   'accueil ventes emanuel ungaro femme blouson matiere vert texture emanuel ungaro',\n",
       "   'doudoune taffetas laine verte'],\n",
       "  'blouson'),\n",
       " (['veste blazer col',\n",
       "   'accueil ventes purotatto femme veste grise purotatto',\n",
       "   'veste blazer col revers poches coudieres motif pied poule fermeture boutons poignets buste',\n",
       "   'veste grise purotatto'],\n",
       "  'veste'),\n",
       " (['motif pois hachures noir',\n",
       "   'coton elasthanne tissu viscose elasthanne doublure viscose polyester',\n",
       "   'veste beige pois laurel',\n",
       "   'accueil ventes laurel femme veste beige pois laurel',\n",
       "   'veste coton beige',\n",
       "   'col rond noir',\n",
       "   'jean matelasse blanc poches'],\n",
       "  'veste'),\n",
       " (['veste laine bordeaux boutons croises alexander mcqueen',\n",
       "   'accueil veste laine bordeaux boutons croises alexander mcqueen',\n",
       "   'coton laine vierge doublure viscose',\n",
       "   'veste laine bordeaux bouton',\n",
       "   'pantalon fuseau blanc moncler',\n",
       "   'debardeur soie blanc calvin',\n",
       "   'fermeture boutons croises',\n",
       "   'veste laine bordeaux'],\n",
       "  'veste'),\n",
       " (['t-shirt coton gris',\n",
       "   'epaules ouvertures fantaisies',\n",
       "   'broderie fantaisies aux epaules',\n",
       "   'plaque logo metal milieu',\n",
       "   'top gris chine epaules brodees svnty',\n",
       "   't-shirt coton gris chine',\n",
       "   'top gris chine epaules brodees',\n",
       "   'accueil ventes svnty femme top gris chine epaules brodees svnty'],\n",
       "  'top'),\n",
       " (['accueil ventes paradis blanc femme blouse chauve souris mousseline bleu imprime paradis blanc',\n",
       "   'blouse chauve souris mousseline bleu imprime paradis blanc',\n",
       "   'coupe chauve souris',\n",
       "   'manches chauves souris',\n",
       "   'blouse chauve souris mousseli',\n",
       "   'blouse mousseline bleue',\n",
       "   'jean coton blanc revers'],\n",
       "  'blouse'),\n",
       " (['top satin cotele',\n",
       "   'blouse satinee bleu rayures',\n",
       "   'poignets casses double boutonnages',\n",
       "   'plaque logo metal milieu',\n",
       "   'rayures fantaisies blanches vertes',\n",
       "   'top satin cotele bleu',\n",
       "   'jean skinny gris broderie pai',\n",
       "   'accueil ventes svnty femme blouse satinee bleu rayures fantaisies svnty',\n",
       "   'blouse satinee bleu rayures fantaisies svnty',\n",
       "   'longueur legerement asymetrique'],\n",
       "  'blouse'),\n",
       " (['accueil ventes paradis blanc femme tunique coton bleu broderie oriental paradis blanc',\n",
       "   'tunique coton bleu broderie',\n",
       "   'mannequin mesure 1m65 porte',\n",
       "   'poignets casses doubles boutonnages',\n",
       "   'robe coton bleu',\n",
       "   'col broderie oriental vert pompon',\n",
       "   'tunique coton bleu broderie oriental paradis blanc',\n",
       "   'poignets broderies oriental vert'],\n",
       "  'tunique'),\n",
       " (['top coton noir',\n",
       "   'accueil ventes stefano mortari femme top coton noir stefano mortari',\n",
       "   'top coton noir stefano mortari',\n",
       "   'pantalon fuseau blanc moncler'],\n",
       "  'top'),\n",
       " (['top manches crepe rose jijil',\n",
       "   'top crepe rose',\n",
       "   'fine bretelle ajustables',\n",
       "   'liens nouer poitrine',\n",
       "   'accueil ventes jijil femme top manches crepe rose jijil',\n",
       "   'galon fronce fantaisie',\n",
       "   'top manches crepe rose'],\n",
       "  'top'),\n",
       " (['top tulle noir',\n",
       "   'accueil ventes isabelle blanche femme top tulle brode noir sequins isabelle blanche',\n",
       "   'mannequin mesure porte',\n",
       "   'top tulle brode noir sequin',\n",
       "   'top tulle brode noir sequins isabelle blanche',\n",
       "   'fines bretelles ajustable',\n",
       "   'vendue fond robe',\n",
       "   'jean coton blanc revers'],\n",
       "  'top'),\n",
       " (['accueil ventes dkny femme portefeuille blanc motifs dkny',\n",
       "   'portefeuille blanc motifs dkny',\n",
       "   'hauteur longueur largeur'],\n",
       "  'portefeuille'),\n",
       " (['accueil ventes hugo boss femme portefeuille marron hugo boss',\n",
       "   'portefeuille marron hugo boss',\n",
       "   'hauteur longueur largeur',\n",
       "   'cuir veau doublurez polyester'],\n",
       "  'portefeuille'),\n",
       " (['emplacements cartes billets interieur',\n",
       "   'portefeuille cuir graine kaki coccinelle',\n",
       "   'portefeuille cuir graine kaki',\n",
       "   'accueil ventes coccinelle femme portefeuille cuir graine kaki coccinelle',\n",
       "   'poche zippee monnaie',\n",
       "   'logo metal argent'],\n",
       "  'portefeuille'),\n",
       " (['portefeuille cuir graine fermeture glissiere contour fentes cartes compartiments principaux poche zippee pieces poche exterieure fendue',\n",
       "   'portefeuille saumon kate spade',\n",
       "   'accueil ventes kate spade femme portefeuille saumon kate spade'],\n",
       "  'portefeuille'),\n",
       " (['portefeuille cuir blanc',\n",
       "   'motifs fantaisies rose',\n",
       "   'portefeuille cuir blanc motifs rose kate spade',\n",
       "   'portefeuille cuir blanc noir',\n",
       "   'accueil ventes kate spade femme portefeuille cuir blanc motifs rose kate spade'],\n",
       "  'portefeuille'),\n",
       " (['portefeuille cuir graine vert',\n",
       "   'accueil ventes coccinelle femme portefeuille cuir graine vert coccinelle',\n",
       "   'portefeuille cuir graine vert coccinelle'],\n",
       "  'portefeuille'),\n",
       " (['gilet maille fine coton beige',\n",
       "   'gilet long beige maison margiela',\n",
       "   'gilet maille fine',\n",
       "   'robe manches soie beige',\n",
       "   'robe soie beige',\n",
       "   'empiecement manche tricot',\n",
       "   'accueil ventes maison margiela femme gilet long beige maison margiela',\n",
       "   'manches longues poches',\n",
       "   'fermeture boutons classiques nacre',\n",
       "   'mannequin mesure 1m72 porte'],\n",
       "  'gilet'),\n",
       " (['pantalon fuseau noir space simon',\n",
       "   'accueil ventes casheart femme specialiste cashmere pull laine cachemire bleu col casheart',\n",
       "   'pull laine cachemire bleu',\n",
       "   'pull laine cachemire marro',\n",
       "   'laine viscose polyaide cachemire',\n",
       "   'pull laine cachemire bleu col casheart'],\n",
       "  'pull'),\n",
       " (['petit conseillons prendre au-dessus',\n",
       "   'pull manches maille bleu armani jeans',\n",
       "   'pull maille bleu',\n",
       "   'accueil ventes armani femme pull manches maille bleu armani jeans',\n",
       "   'galons laterale bleu blanc',\n",
       "   'pull manches maille bleu',\n",
       "   'jean gris delave effet dechire',\n",
       "   'ligne armani jean'],\n",
       "  'pull'),\n",
       " (['gilet maille blanc detail',\n",
       "   'bracelet jonc doree breloques',\n",
       "   'poches plaquees boutons dores',\n",
       "   'gilet maille blanc detail tricolore edward achour',\n",
       "   'fermeture boutons dores',\n",
       "   'jean skinny coton bleu renhsen',\n",
       "   'accueil ventes edward achour femme gilet maille blanc detail tricolore edward achour',\n",
       "   'finitions details tricolore rose blanc vert',\n",
       "   'gilet maille blanc'],\n",
       "  'gilet'),\n",
       " (['pull manches maille viol',\n",
       "   'pull manches maille violette armani',\n",
       "   'accueil ventes armani femme pull manches maille violette armani',\n",
       "   'pull maille violette',\n",
       "   'logo brode bas gauche',\n",
       "   'jean gris delave effet dechire',\n",
       "   'ligne armani jean'],\n",
       "  'pull'),\n",
       " (['accueil ventes jijil femme blouson sweat noir bandes laterales jijil',\n",
       "   'blouson sweat noir bandes late',\n",
       "   'fermeture glissiere metal',\n",
       "   'bandes laterales fluo dore',\n",
       "   'mannequin mesure 1m70 porte',\n",
       "   't-shirt coton rose',\n",
       "   't-shirt rose pretty frankie',\n",
       "   'blouson sweat noir bandes laterales jijil',\n",
       "   'touche sport chic',\n",
       "   'blouson coton noir',\n",
       "   'matelasse motifs geometriques'],\n",
       "  'blouson'),\n",
       " (['gilet maille fine jaune moschino',\n",
       "   'motifs rayures tricots',\n",
       "   'jean mom effet use bleu zoe karssen',\n",
       "   'gilet maille fine',\n",
       "   'accueil ventes moschino femme gilet maille fine jaune moschino',\n",
       "   'ligne boutique moschino',\n",
       "   'gilet maille fine jaune',\n",
       "   'top maille fine jaune moschino',\n",
       "   'top maille fine'],\n",
       "  'gilet'),\n",
       " (['pull laine cachemire gris col roule casheart',\n",
       "   'pull laine gris',\n",
       "   'pull laine cachemire bleu',\n",
       "   'pull laine cachemire marro',\n",
       "   'accueil ventes casheart femme specialiste cashmere pull laine cachemire gris col roule casheart',\n",
       "   'pull laine marron',\n",
       "   'laine viscose polyaide cachemire',\n",
       "   'pull laine cachemire gris'],\n",
       "  'pull'),\n",
       " (['pull chemise maille satin',\n",
       "   'col pull carrer',\n",
       "   'chemises soie imprimee leopard',\n",
       "   'soie tissu maille cachemire',\n",
       "   'fermeture boutons fantaisies diamant',\n",
       "   'accueil ventes blumarine femme pull chemise maille satin leopard blumarine',\n",
       "   'pull cachemire soie',\n",
       "   'pull chemise maille satin leopard blumarine',\n",
       "   'plis plats corsage',\n",
       "   'mannequin mesure 1m72 porte'],\n",
       "  'pull'),\n",
       " (['gilet broderies ethniques brique jijil',\n",
       "   'gilet blanc broderies ethnique',\n",
       "   'gilet coton brique',\n",
       "   'coupe cache coeur',\n",
       "   'gilet broderies ethniques coul',\n",
       "   'coton elasthanne tissu polyester tissu coton',\n",
       "   'galons broderies pompons blanc turquoise marron ourlet piece manches',\n",
       "   'accueil ventes jijil femme gilet broderies ethniques brique jijil',\n",
       "   'gilet coton blanc'],\n",
       "  'gilet'),\n",
       " (['accueil ventes emanuel ungaro femme gilet lurex dore emanuel ungaro',\n",
       "   'gilet lurex dore',\n",
       "   'pull lurex dore',\n",
       "   'pull lurex dore emanuel ungaro',\n",
       "   'jean matelasse blanc poches',\n",
       "   'gilet lurex dore emanuel ungaro'],\n",
       "  'gilet'),\n",
       " (['accueil ventes jijil femme gilet blanc broderies ethniques jijil',\n",
       "   'gilet blanc broderies ethnique',\n",
       "   'coupe cache coeur',\n",
       "   'gilet broderies ethniques coul',\n",
       "   'coton elasthanne tissu polyester tissu coton',\n",
       "   'gilet blanc broderies ethniques jijil',\n",
       "   'galons broderies pompons blanc turquoise marron ourlet piece manches',\n",
       "   'gilet coton blanc'],\n",
       "  'gilet'),\n",
       " (['pull alpaga beige',\n",
       "   'pull alpaga beige rayures multicolores nenette',\n",
       "   'logo metal argent milieu',\n",
       "   'pull alpaga beige rayures',\n",
       "   'accueil ventes nenette femme pull alpaga beige rayures multicolores nenette',\n",
       "   'alpaga mohair molyamide viscose',\n",
       "   'jean coton blanc revers'],\n",
       "  'pull'),\n",
       " (['pantalon fuseau noir space simon',\n",
       "   'pull laine bleu',\n",
       "   'pull laine cachemire bleu',\n",
       "   'pull laine cachemire marro',\n",
       "   'accueil ventes casheart femme specialiste cashmere pull laine cachemire bleu col roule casheart',\n",
       "   'pull laine marron',\n",
       "   'pull laine cachemire bleu col roule casheart',\n",
       "   'laine viscose polyaide cachemire',\n",
       "   'pull laine cachemire gris'],\n",
       "  'pull'),\n",
       " (['empiecement mousseline plisse',\n",
       "   'passepoile perles finition encolure',\n",
       "   'gilet blanc empiecement mousseline drape broderies ethniques jijil',\n",
       "   'broderies ethniques perles pierres galons pompons epaules',\n",
       "   'gilet coton noir',\n",
       "   'lettre perle cousue milieu',\n",
       "   'accueil ventes jijil femme gilet blanc empiecement mousseline drape broderies ethniques jijil',\n",
       "   'coton elasthanne tissu polyester tissu coton',\n",
       "   'gilet blanc empiecement mousse',\n",
       "   'gilet noir empiecement moussel',\n",
       "   'gilet coton blanc'],\n",
       "  'gilet'),\n",
       " (['pantalon fuseau noir space simon',\n",
       "   'pull laine cachemire marron',\n",
       "   'pull laine cachemire bleu',\n",
       "   'pull laine cachemire marro',\n",
       "   'pull laine cachemire marron col casheart',\n",
       "   'accueil ventes casheart femme specialiste cashmere pull laine cachemire marron col casheart',\n",
       "   'laine viscose polyaide cachemire'],\n",
       "  'pull'),\n",
       " (['pantalon fuseau noir space simon',\n",
       "   'pull laine cachemire bleu',\n",
       "   'pull laine cachemire marro',\n",
       "   'accueil ventes casheart femme specialiste cashmere pull laine cachemire marron col roule casheart',\n",
       "   'pull laine marron',\n",
       "   'laine viscose polyaide cachemire',\n",
       "   'pull laine cachemire marron col roule casheart',\n",
       "   'pull laine cachemire gris'],\n",
       "  'pull'),\n",
       " (['pull coton bleu poche kango',\n",
       "   'pull coton bleu poche kangourou fendi',\n",
       "   'motif tricots tresses',\n",
       "   'jean skinny coton blanc ban',\n",
       "   'pull coton bleu',\n",
       "   'accueil ventes fendi femme pull coton bleu poche kangourou fendi',\n",
       "   'smockee liens nouer'],\n",
       "  'pull'),\n",
       " (['gilet coton blanc',\n",
       "   'empiecement mousseline plisse',\n",
       "   'passepoile perles finition encolure',\n",
       "   'broderies ethniques perles pierres galons pompons epaules',\n",
       "   'gilet coton noir',\n",
       "   'lettre perle cousue milieu',\n",
       "   'debardeur noir coton nude',\n",
       "   'coton elasthanne tissu polyester tissu coton',\n",
       "   'gilet blanc empiecement mousse',\n",
       "   'accueil ventes jijil femme gilet noir empiecement mousseline drape broderies ethniques jijil',\n",
       "   'gilet noir empiecement moussel',\n",
       "   'gilet noir empiecement mousseline drape broderies ethniques jijil'],\n",
       "  'gilet'),\n",
       " (['bracelet jonc doree breloques',\n",
       "   'gilet maille fine',\n",
       "   'gilet blanc maille coton',\n",
       "   'gilet maille fine taupe',\n",
       "   'coupe courte manches',\n",
       "   'jean skinny coton bleu renhsen',\n",
       "   'accueil ventes femme gilet maille fine taupe',\n",
       "   'mannequin mesure 1m75 porte'],\n",
       "  'gilet'),\n",
       " (['pull vert citron coton',\n",
       "   'accueil ventes jijil femme pull vert long destroy coton jijil',\n",
       "   'jean mom effet use bleu zoe karssen',\n",
       "   'pull vert long destroy coton jijil',\n",
       "   'pull vert citron',\n",
       "   'pull vert long destroy coton'],\n",
       "  'pull'),\n",
       " (['gilet lurex dore',\n",
       "   'pull lurex dore',\n",
       "   'pull lurex dore emanuel ungaro',\n",
       "   'accueil ventes emanuel ungaro femme pull lurex dore emanuel ungaro',\n",
       "   'jean matelasse blanc poches',\n",
       "   'gilet lurex dore emanuel ungaro'],\n",
       "  'pull'),\n",
       " (['accueil ventes fendi femme pull coton blanc rayures bleu fendi',\n",
       "   'pantalon smocke noir copains',\n",
       "   'patch logo argent bas gauche',\n",
       "   'pull coton blanc rayures',\n",
       "   'pull coton bleu',\n",
       "   'pull coton blanc rayures bleu fendi'],\n",
       "  'pull'),\n",
       " (['broche milieu poitrine',\n",
       "   'accueil ventes jijil femme sweat vert fantaisie capuche jijil',\n",
       "   'coton elasthane tissu polyester',\n",
       "   'jean mom effet use bleu zoe karssen',\n",
       "   'broches fantaisies oeillets franges milieu poitrine',\n",
       "   'sweat vert fantaisie capuche',\n",
       "   'mannequin mesure porte',\n",
       "   'sweat coton vert',\n",
       "   'sweat vert fantaisie capuche jijil',\n",
       "   'manches longues ballons empiecements taffetas',\n",
       "   'sweat coton vert citron'],\n",
       "  'sweat'),\n",
       " (['ceinture kimono coton bleu',\n",
       "   'accueil ventes sara roka femme ceinture kimono coton bleu cotele sara roka',\n",
       "   'ceinture kimono coton bleu cotele sara roka'],\n",
       "  'ceinture'),\n",
       " (['foulard soie colorblock',\n",
       "   'laissez-vous tenter style original cette echarpe soie fabrique italie logo carre vintage surface touche couleurs emblematiques saison bien tenue decontractee',\n",
       "   'foulard soie colorblock kenzo',\n",
       "   'accueil ventes kenzo femme foulard soie colorblock kenzo',\n",
       "   'grand logo carre multicolore imprime'],\n",
       "  'foulard'),\n",
       " (['costume pieces laine vierge marron luca roda',\n",
       "   'motif petit carreaux',\n",
       "   'costume pieces laine vierge',\n",
       "   'poches passepoilees poche raglan poitrine gauche',\n",
       "   'poches passepoilees boutons fesses',\n",
       "   'veste laine vierge marron',\n",
       "   'coupe regular fit',\n",
       "   'pantalon laine vierge marron',\n",
       "   'accueil ventes luca roda homme costume pieces laine vierge marron luca roda',\n",
       "   'laine vierge doublure polyester',\n",
       "   'poignet casse quadruple boutonnage'],\n",
       "  'costume'),\n",
       " (['fermeture deux boutons',\n",
       "   'poches fonctionnelles rabat devant',\n",
       "   'costume marron laine petits carreaux roda',\n",
       "   'accueil ventes luca roda homme costume marron laine petits carreaux roda',\n",
       "   'doublure poches interieures deux fentes arrieres',\n",
       "   'laine vierge doublure viscose',\n",
       "   'fermeture eclair boutons',\n",
       "   'grandes poches laterales',\n",
       "   'col crante revers encoche',\n",
       "   'mannequin mesure 1m80 porte',\n",
       "   'poches arrieres passepoilees boutonnees',\n",
       "   'costume marron laine petits'],\n",
       "  'costume'),\n",
       " (['fermeture deux boutons',\n",
       "   'poches fonctionnelles rabat devant',\n",
       "   'accueil ventes borgia homme costume gris laine borgia',\n",
       "   'doublure poches interieures deux fentes arrieres',\n",
       "   'costume gris laine borgia',\n",
       "   'fermeture eclair boutons',\n",
       "   'grandes poches laterales',\n",
       "   'col crante revers encoche',\n",
       "   'mannequin mesure 1m80 porte',\n",
       "   'poches arrieres passepoilees boutonnees',\n",
       "   'laine doublure acetate viscose'],\n",
       "  'costume'),\n",
       " (['fermeture deux boutons',\n",
       "   'laine soie doublure acetate viscose',\n",
       "   'accueil ventes borgia homme costume bleu raye laine soie borgia',\n",
       "   'costume bleu raye laine',\n",
       "   'fermeture eclair boutons',\n",
       "   'grandes poches laterales',\n",
       "   'col crante revers encoche',\n",
       "   'mannequin mesure 1m80 porte',\n",
       "   'poches arrieres passepoilees boutonnees',\n",
       "   'doublure poches interieures',\n",
       "   'costume bleu raye laine soie borgia',\n",
       "   'poches rabat devant'],\n",
       "  'costume'),\n",
       " (['costume gris rayures roda',\n",
       "   'fermeture deux boutons',\n",
       "   'accueil ventes luca roda homme costume gris rayures roda',\n",
       "   'laine vierge doublure viscose',\n",
       "   'fermeture eclair boutons',\n",
       "   'grandes poches laterales',\n",
       "   'col crante revers encoche',\n",
       "   'mannequin mesure 1m80 porte',\n",
       "   'poches arrieres passepoilees boutonnees',\n",
       "   'doublure poches interieures',\n",
       "   'poches fantaisie rabat devant'],\n",
       "  'costume'),\n",
       " (['fermeture deux boutons',\n",
       "   'doublure poches interieures fentes arrieres',\n",
       "   'accueil ventes borgia homme costume bleu laine vierge borgia',\n",
       "   'laine vierge doublure acetate viscose',\n",
       "   'fermeture glissiere crochet bouton',\n",
       "   'grandes poches laterales',\n",
       "   'col crante revers encoche',\n",
       "   'mannequin mesure 1m80 porte',\n",
       "   'poches arrieres passepoilees boutonnees',\n",
       "   'costume bleu laine vierge borgia',\n",
       "   'poches rabat devant'],\n",
       "  'costume'),\n",
       " (['fermeture deux boutons',\n",
       "   'costume gris laine raffinee',\n",
       "   'laine lyocell doublure acetate viscose',\n",
       "   'accueil ventes borgia homme costume gris laine raffinee borgia',\n",
       "   'fermeture eclair boutons',\n",
       "   'grandes poches laterales',\n",
       "   'col crante revers encoche',\n",
       "   'costume gris laine raffinee borgia',\n",
       "   'poches arrieres passepoilees boutonnees',\n",
       "   'poche cote coeur',\n",
       "   'mannequin mesure 1m80 porte',\n",
       "   'doublure poches interieures',\n",
       "   'poches rabat devant'],\n",
       "  'costume'),\n",
       " (['jean skinny coton bleu effet',\n",
       "   'col rond galon griffe',\n",
       "   't-shirt coton blanc logo damir doma',\n",
       "   'issue collaboration entre maison damir doma lotto',\n",
       "   'manches courtes galons griffe',\n",
       "   'ligne damir doma lotto',\n",
       "   't-shirt coton blanc logo',\n",
       "   't-shirt coton blanc',\n",
       "   'flocage fantaisie noir',\n",
       "   'shirt coton blanc',\n",
       "   'accueil ventes damir doma homme t-shirt coton blanc logo damir doma'],\n",
       "  't-shirt'),\n",
       " (['shirt coton kaki',\n",
       "   'shirt coton kaki broderie',\n",
       "   'shirt coton kaki broderie fantaisie adams',\n",
       "   'shirt coton blanc broderi',\n",
       "   'jean regular coton noir effet',\n",
       "   'shirt coton vieux rose',\n",
       "   'shirt coton vieux',\n",
       "   'accueil ventes adams homme shirt coton kaki broderie fantaisie adams'],\n",
       "  't-shirt'),\n",
       " (['shirt coton kaki',\n",
       "   'shirt coton kaki logo fle',\n",
       "   'shirt coton blanc broderie fantaisie adams',\n",
       "   'shirt coton blanc broderi',\n",
       "   'broderie griffe rouge poitrine gauche',\n",
       "   'jean skinny velours noir',\n",
       "   'jean velours noir',\n",
       "   'shirt coton blanc',\n",
       "   'shirt coton blanc logo',\n",
       "   'accueil ventes adams homme shirt coton blanc broderie fantaisie adams'],\n",
       "  't-shirt'),\n",
       " (['shirt coton kaki',\n",
       "   'jean skinny coton bleu effet',\n",
       "   'shirt coton kaki broderie',\n",
       "   'broderie griffe blanc',\n",
       "   'shirt coton blanc broderi',\n",
       "   'shirt coton vieux rose',\n",
       "   'shirt coton vieux',\n",
       "   'shirt coton vieux rose broderie fantaisie adams',\n",
       "   'accueil ventes adams homme shirt coton vieux rose broderie fantaisie adams'],\n",
       "  't-shirt'),\n",
       " (['shirt coton kaki',\n",
       "   'shirt coton kaki broderie',\n",
       "   'shirt coton blanc broderi',\n",
       "   'shirt coton vieux rose',\n",
       "   'shirt coton vieux',\n",
       "   'shirt coton vieux rose broderie fantaisie adams',\n",
       "   'accueil ventes adams homme shirt coton vieux rose broderie fantaisie adams'],\n",
       "  't-shirt'),\n",
       " (['jean skinny coton bleu effet',\n",
       "   'polo coton pique',\n",
       "   'accueil ventes archive 18-20 homme polo coton pique vert logo archive 18-20',\n",
       "   'manches courtes bandes laterales',\n",
       "   'polo coton pique vert',\n",
       "   'logo floque bande blanche',\n",
       "   'polo coton pique vert logo archive 18-20',\n",
       "   'polo coton pique vert logo'],\n",
       "  'polo'),\n",
       " (['shirt coton kaki',\n",
       "   'jean skinny coton bleu effet',\n",
       "   'shirt coton kaki broderie',\n",
       "   'shirt coton kaki broderie fantaisie adams',\n",
       "   'broderie griffe blanc',\n",
       "   'shirt coton blanc broderi',\n",
       "   'shirt coton vieux rose',\n",
       "   'shirt coton vieux',\n",
       "   'accueil ventes adams homme shirt coton kaki broderie fantaisie adams'],\n",
       "  't-shirt'),\n",
       " (['t-shirt oversize coton blanc',\n",
       "   'accueil ventes adams homme t-shirt oversize coton blanc adams',\n",
       "   't-shirt oversize coton blanc adams',\n",
       "   'bermuda lin coton taupe'],\n",
       "  't-shirt'),\n",
       " (['jean skinny coton bleu effet',\n",
       "   'shirt coton bleu',\n",
       "   'shirt coton bleu inscription',\n",
       "   'inscription floque blanc',\n",
       "   'accueil ventes homme shirt coton bleu inscription',\n",
       "   'shirt coton bleu inscript'],\n",
       "  't-shirt'),\n",
       " (['debardeur noir logo damir doma',\n",
       "   'accueil ventes damir doma homme debardeur noir logo damir doma',\n",
       "   'mannequin mesure porte',\n",
       "   'issue collaboration entre maison damir doma lotto',\n",
       "   'finition biais noir',\n",
       "   'ligne damir doma lotto',\n",
       "   'short blanc bandes laterales',\n",
       "   'motif petit pois blanc',\n",
       "   'short blanc coupe',\n",
       "   'bandes lateral griffees'],\n",
       "  'debardeur'),\n",
       " (['logo blanc floque',\n",
       "   'mannequin mesure porte',\n",
       "   'accueil ventes homme t-shirt coton noir flocage blanc',\n",
       "   'bermuda coton blanc myths',\n",
       "   'manches courtes bandes blanches floque',\n",
       "   't-shirt coton noir flocage',\n",
       "   'short bermuda coton',\n",
       "   't-shirt coton noir flocage blanc',\n",
       "   'shirt coton noir'],\n",
       "  't-shirt'),\n",
       " (['accueil ventes hydrogen homme shirt gris chine logo floque hydrogen',\n",
       "   'jean skinny coton bleu effet',\n",
       "   'shirt gris chine logo floque',\n",
       "   'shirt gris chine logo floque hydrogen',\n",
       "   'shirt coton gris'],\n",
       "  't-shirt'),\n",
       " (['flocage caoutchouc arms col',\n",
       "   'debardeur coton bleu',\n",
       "   'mannequin mesure porte',\n",
       "   'debardeur coton bleu flocag',\n",
       "   'jean skinny velours noir',\n",
       "   'accueil ventes homme debardeur coton bleu flocage',\n",
       "   'jean velours noir',\n",
       "   'issue collaboration artiste robert montgomery',\n",
       "   'debardeur coton bleu flocage'],\n",
       "  'debardeur'),\n",
       " (['shirt coton kaki',\n",
       "   'shirt coton kaki broderie',\n",
       "   'shirt coton blanc broderie fantaisie adams',\n",
       "   'broderie griffe noir',\n",
       "   'jean skinny coton noir effet',\n",
       "   'shirt coton blanc broderi',\n",
       "   'shirt coton vieux rose',\n",
       "   'shirt coton vieux',\n",
       "   'shirt coton blanc',\n",
       "   'accueil ventes adams homme shirt coton blanc broderie fantaisie adams'],\n",
       "  't-shirt'),\n",
       " (['t-shirt blanc steeve jobs lord',\n",
       "   'accueil ventes lords fools homme t-shirt blanc queen lords fools',\n",
       "   'mannequin mesure 1m80 porte',\n",
       "   'imprime queen encre effet vieillie',\n",
       "   't-shirt blanc queen lords fools',\n",
       "   't-shirt blanc obama lords fools'],\n",
       "  't-shirt'),\n",
       " (['col rond galon griffe',\n",
       "   'logo brode poitrine gauche',\n",
       "   't-shirt coton blanc logo damir doma',\n",
       "   'mannequin mesure porte',\n",
       "   'issue collaboration entre maison damir doma lotto',\n",
       "   'manches courtes galons griffe',\n",
       "   'ligne damir doma lotto',\n",
       "   'short blanc bandes laterales',\n",
       "   't-shirt coton blanc logo',\n",
       "   'shirt coton blanc',\n",
       "   'short blanc coupe',\n",
       "   'accueil ventes damir doma homme t-shirt coton blanc logo damir doma'],\n",
       "  't-shirt'),\n",
       " (['shirt coton kaki',\n",
       "   'mannequin mesure porte',\n",
       "   't-shirt coton kaki broderie fantaisie adams',\n",
       "   'accueil ventes adams homme t-shirt coton kaki broderie fantaisie adams',\n",
       "   't-shirt coton kaki broderie',\n",
       "   'broderie griffe milieu'],\n",
       "  't-shirt'),\n",
       " (['jean skinny coton bleu effet',\n",
       "   'polo chine gris col tunisien',\n",
       "   'polo chine gris col tunisien marchand drapier',\n",
       "   'accueil ventes marchand drapier homme polo chine gris col tunisien marchand drapier',\n",
       "   'polo coton gris',\n",
       "   'col chemise amovible',\n",
       "   'col tunisien blanc pointe'],\n",
       "  'polo'),\n",
       " (['shirt coton kaki',\n",
       "   'shirt coton kaki logo fle',\n",
       "   'jean skinny coton bleu effet',\n",
       "   'accueil ventes adams homme shirt coton kaki logo fleuri adams',\n",
       "   'shirt coton kaki logo fleuri adams',\n",
       "   'shirt coton blanc broderi',\n",
       "   'shirt coton blanc logo'],\n",
       "  't-shirt'),\n",
       " (['accueil manteau manches rayures maison pere',\n",
       "   'mannequin mesure 1m67 porte',\n",
       "   'petit sac cabas beige kate spade',\n",
       "   'fantaisie rayees fines',\n",
       "   'manteau manches rayures maison pere',\n",
       "   'laine polyester polyamide doublure viscose acetate',\n",
       "   'fermeture trois bouton devant',\n",
       "   'normalement enfile facilement',\n",
       "   'poches plaquees cotes',\n",
       "   'manteau manches rayures'],\n",
       "  'manteau'),\n",
       " (['pantalon chino crepe cotele',\n",
       "   'fermeture boutons dores',\n",
       "   'manteau laine rose',\n",
       "   'broderies florals dorees',\n",
       "   'soie col rond',\n",
       "   'top rayures soie forteforte',\n",
       "   'poches rabats poches raglans',\n",
       "   'manteau laine rose chine brod',\n",
       "   'semi double imprime leopard',\n",
       "   'laine polyamide fourrure ecologique acetate polyester compo polyester elastanne',\n",
       "   'manteau laine rose chine brode bazar deluxe',\n",
       "   'broderies florales dorees',\n",
       "   'accueil ventes bazar deluxe femme manteau laine rose chine brode bazar deluxe'],\n",
       "  'manteau'),\n",
       " (['pantalon chino noir passepoile',\n",
       "   'top soie blanc',\n",
       "   'accueil ventes biancalani femme manteau peau bovins texture noir biancalani',\n",
       "   'top soie blanc imprime fant',\n",
       "   'manteau peau bovins textur',\n",
       "   'manteau peau bovins noir',\n",
       "   'manteau peau bovins texture noir biancalani',\n",
       "   'fourrure peau veritable',\n",
       "   'ceinture cuir amovible',\n",
       "   'peau bovins doublure ceinture cuir'],\n",
       "  'manteau'),\n",
       " (['coupe evasee col',\n",
       "   'col pointe crante',\n",
       "   'manteau orange rayures maille studio',\n",
       "   'accueil ventes manteau orange rayures maille studio',\n",
       "   'manteau orange rayures mail',\n",
       "   'fermeture double boutonnage',\n",
       "   'manteau maille effet raye'],\n",
       "  'manteau'),\n",
       " (['fermeture boutons pressions fantaisie',\n",
       "   'manteau motif floral abstrait peter pilotto',\n",
       "   'manteau elegant col laine melangee motif floral',\n",
       "   'poches plaquees fonctionnelles cotes',\n",
       "   'accueil ventes peter pilotto femme manteau motif floral abstrait peter pilotto',\n",
       "   'laine polyamide angora viscose polyester',\n",
       "   'manteau motif floral abstrait'],\n",
       "  'manteau'),\n",
       " (['manteau coton bleu',\n",
       "   'manteau leger coton bleu motif ethnique purotatto',\n",
       "   'motif ethnique blanc jaune',\n",
       "   'accueil ventes purotatto femme manteau leger coton bleu motif ethnique purotatto',\n",
       "   'manteau leger coton bleu',\n",
       "   'coton viscose polyester'],\n",
       "  'manteau'),\n",
       " (['manteau kimono beige rayures texturees forte forte',\n",
       "   'rayures textures poil rase',\n",
       "   'viscose polyester acrilique alpaga laine vierge doublure acetate viscose',\n",
       "   'accueil ventes forte forte femme manteau kimono beige rayures texturees forte forte',\n",
       "   'jean regular bleu coutures lat',\n",
       "   'manteau satin cotele',\n",
       "   'manteau kimono beige rayures',\n",
       "   'chemise manches popeline'],\n",
       "  'manteau'),\n",
       " (['col capuche fourree',\n",
       "   'parka tissue technique noir',\n",
       "   'patch logo manche gauche',\n",
       "   'polyester coton doublure nylon garnissage duvet canard plumes canard rembourrage polyester',\n",
       "   'parka longue noire canada goose',\n",
       "   'fermeture glissiere patte boutons',\n",
       "   'poches rabats boutonnees poches raglans',\n",
       "   'accueil parka longue noire canada goose',\n",
       "   'jean matelasse blanc poches'],\n",
       "  'parka'),\n",
       " (['sweat gris paris isabelle blanche',\n",
       "   'manteau kaki style officier isab',\n",
       "   'accueil ventes isabelle blanche femme manteau kaki style officier isabelle blanche',\n",
       "   'manteau style officier',\n",
       "   'coton tissu polyester doublure polyester',\n",
       "   'manches longues languettes contrastantes vernies',\n",
       "   'col pointe simili cuir verni',\n",
       "   'manteau kaki style officier isabelle blanche',\n",
       "   'tissu imprime raye',\n",
       "   'fermeture double boutonnage',\n",
       "   'jean cigarette noir jijil'],\n",
       "  'manteau'),\n",
       " (['proprete interieur biais satin noir',\n",
       "   'manteau velours noir',\n",
       "   'manteau smocke ceinture velours noir forte forte',\n",
       "   'manteau smocke ceinture velou',\n",
       "   'sweat blanc broderies fantaisi',\n",
       "   'viscose soie doublure acetate viscose',\n",
       "   'jean regular bleu coutures lat',\n",
       "   'accueil ventes forte forte femme manteau smocke ceinture velours noir forte forte'],\n",
       "  'manteau'),\n",
       " (['manteau manches beige',\n",
       "   'acrylique coton polyamide viscose polyester doublure polyester',\n",
       "   'pantalon blanc rayures marines',\n",
       "   'accueil ventes edward achour femme manteau manches beige tweed multicolore edward achour',\n",
       "   'finition galons franges',\n",
       "   'manteau tweed beige',\n",
       "   'blouse soie blanc biais noi',\n",
       "   'entierement doublee mousseline',\n",
       "   'blouse soie blanc',\n",
       "   'manteau manches beige tweed multicolore edward achour',\n",
       "   'poches plaquees galons franges boutons perles'],\n",
       "  'manteau'),\n",
       " (['coton polyacrylique doublure polyester',\n",
       "   'finitions galons blancs',\n",
       "   'manteau tweed rose motif',\n",
       "   'manteaux tweed rose',\n",
       "   'manteaux tweed bleu',\n",
       "   'manteau tweed bleu motif geometrique blanc edward achour',\n",
       "   'accueil ventes edward achour femme manteau tweed bleu motif geometrique blanc edward achour',\n",
       "   'manteau tweed bleu motif',\n",
       "   'poches plaquees decoratives boutons fantaisie perles sertie dore galons blancs',\n",
       "   'fantaisie proprete interieur chaine',\n",
       "   'motif geometrique blanc'],\n",
       "  'manteau'),\n",
       " (['accueil ventes aquarama femme parka noire aquarama',\n",
       "   'manteau col chemine',\n",
       "   'manteau col chemine poches plaquees rabat bouton pression lien serrage interieur fermeture zip bouton pression',\n",
       "   'parka noire aquarama',\n",
       "   'polyamide polyester tissu laine polyester doublure polyester doublure polyamide remplissage polyester'],\n",
       "  'parka'),\n",
       " (['jean skinny delave rose pastel',\n",
       "   'accueil ventes bazar deluxe femme manteau laine gris cape ethnique bazar deluxe',\n",
       "   'manteau laine gris',\n",
       "   'top bi-matiere ecru fleurie',\n",
       "   'manteau laine noir',\n",
       "   'manteau laine gris cape ethnique bazar deluxe',\n",
       "   'manteau laine noir cape eth',\n",
       "   'manteau laine gris cape eth',\n",
       "   'jean coton rose',\n",
       "   'franges cuirs noirs',\n",
       "   'laine polyester polyamide tissu coton elasthanne col fourrure'],\n",
       "  'manteau'),\n",
       " (['manteau renard mohair vert kaki',\n",
       "   'manteau renard mohair kaki biancalani',\n",
       "   'manteau renard mohair kaki',\n",
       "   't-shirt coton noir',\n",
       "   'jean regular bleu coutures lat',\n",
       "   't-shirt noir flocage rock',\n",
       "   'accueil ventes biancalani femme manteau renard mohair kaki biancalani',\n",
       "   'renard doublure viscose tissu mohair laine polyurethane polyammide polyester'],\n",
       "  'manteau'),\n",
       " (['accueil ventes canada goose femme parka longue bleu matelasse canada goose',\n",
       "   'parka longue bleu matelasse cana',\n",
       "   'parka longue bleu matelasse canada goose',\n",
       "   'patch logo manche gauche',\n",
       "   'mannequin mesure 1m80 porte',\n",
       "   'fermeture glissiere pressions patte',\n",
       "   'polyester coton doublure nylon garnissage duvet canard plumes canard rembourrage polyester',\n",
       "   'jean matelasse blanc poches',\n",
       "   'col pointe fourre',\n",
       "   'parka tissu technique bleu'],\n",
       "  'parka'),\n",
       " (['fermeture glissiere pressions pattes',\n",
       "   'empiecement bouton milieu',\n",
       "   'pantalon laine bleu',\n",
       "   'accueil parka rose poches canada goose',\n",
       "   'blouse satin beige',\n",
       "   'poches rabats boutonnees',\n",
       "   'polyester doublure polyester recycle',\n",
       "   'blouse satin beige raye forte',\n",
       "   'logo laterale aux manches',\n",
       "   'parka tissu technique rose',\n",
       "   'pantalon pinces laine bleu',\n",
       "   'parka rose poches canada goose'],\n",
       "  'parka'),\n",
       " (['manches longues bandes laterales',\n",
       "   'veste tweed rose',\n",
       "   'galons bleu franges',\n",
       "   'acrylique coton polyamide viscose polyester doublure polyester',\n",
       "   'accueil ventes edward achour femme manteau tweed rose galons bleu edward achour',\n",
       "   'poches plaquees galons bleu franges boutons perles',\n",
       "   'pantalon bouton fantaisie edwa',\n",
       "   'manteau tweed rose galons',\n",
       "   'manteau tweed rose galons bleu edward achour'],\n",
       "  'manteau'),\n",
       " (['manteau fourrure cuir agneau',\n",
       "   'pantalon palazzo brocart bleu',\n",
       "   'accueil ventes femme manteau fourrure agneau',\n",
       "   'manteau fourrure agneau',\n",
       "   'manteau fourrure agneau eac',\n",
       "   'cuir tissu double face agneau',\n",
       "   'finitions bord cote'],\n",
       "  'manteau'),\n",
       " (['accueil ventes manostorti femme manteau long bleu manostorti',\n",
       "   'manteau long large',\n",
       "   'manteau long bleu manostorti',\n",
       "   'manteau long large col revers motif fleuri fil brillant poches laterales fermeture boutons pressions'],\n",
       "  'manteau'),\n",
       " (['manteau tweed noir galon',\n",
       "   'veste tweed rose',\n",
       "   'veste tweed rose bleu vert',\n",
       "   'manteau tweed noir galon perle edward achour',\n",
       "   'polyamide coton garniture coton polyester acrylique viscose polyamide lin doublure polyester',\n",
       "   'robe dentelle rose',\n",
       "   'accueil ventes edward achour femme manteau tweed noir galon perle edward achour',\n",
       "   'fantaisie proprete interieur chaine',\n",
       "   'robe tailleur dentelle rose',\n",
       "   'poches plaquees decoratives boutons fantaisie perle cristaux galons perles noir'],\n",
       "  'manteau'),\n",
       " (['tissu polyester doublure polyamide matelassage duvet oie',\n",
       "   'accueil ventes emilio pucci femme doudoune matelasse beige imprime fantaisie rose emilio pucci',\n",
       "   'poches rabats boutonnees',\n",
       "   'pantalon palazzo satin beige',\n",
       "   'fermeture glissiere pression',\n",
       "   'conseillons prendre dessous',\n",
       "   'imprime fantaisie rose',\n",
       "   'doudoune matelasse beige imprime fantaisie rose emilio pucci'],\n",
       "  'doudoune'),\n",
       " (['tissage tweed jaune taupe gris',\n",
       "   'manteaux tweed rose',\n",
       "   'accueil ventes edward achour femme manteau tweed rose edward achour',\n",
       "   'poches plaquees decoratives boutons fantaisie perles fleurs galons franges',\n",
       "   'finitions galons franges',\n",
       "   'manteau tweed rose edward achour',\n",
       "   'coton polyacrylique viscose lin doublure polyester',\n",
       "   'fantaisie proprete interieur chaine'],\n",
       "  'manteau'),\n",
       " (['accueil ventes edward achour femme manteau tweed bleu edward achour',\n",
       "   'polyester coton doublure polyester',\n",
       "   'manteau tweed bleu',\n",
       "   'pull jaune col fantaisie edwar',\n",
       "   'pantalon bouton fantaisie edwa',\n",
       "   'manteau tweed bleu edward achour',\n",
       "   'plis plats col',\n",
       "   'poches plaquees galons frange tresses boutons dores'],\n",
       "  'manteau'),\n",
       " (['manches empiecement fronce',\n",
       "   'manteau satin duchesse raye',\n",
       "   'plis creux milieu',\n",
       "   'entierement double mousseline noir',\n",
       "   'manteau satin duchesse raye edward achour',\n",
       "   'accueil ventes edward achour femme manteau satin duchesse raye edward achour',\n",
       "   'manteau satin duchesse',\n",
       "   'broches amovibles fleur noeud manches'],\n",
       "  'manteau'),\n",
       " (['manteau guipure blanche',\n",
       "   'manteau guipure blanche space',\n",
       "   'accueil ventes space simona corsellini femme manteau guipure blanche space simona corsellini',\n",
       "   'sandale cuir bleu denim',\n",
       "   'chemise blanche rayures rouges',\n",
       "   'manteau guipure blanche space simona corsellini',\n",
       "   'pantalon lin rouge',\n",
       "   'fermeture bouton pression',\n",
       "   'pantalon tailleur lin rouge'],\n",
       "  'manteau'),\n",
       " (['doudoune technique kaki matelass',\n",
       "   'polyester doublure polyamide rembourrage duvet plumes',\n",
       "   'aeration niveau aisselles',\n",
       "   'patch logo manche gauche',\n",
       "   'doudoune technique kaki matelassee parajumpers',\n",
       "   'mannequin mesure 1m80 porte',\n",
       "   'accueil ventes parajumpers femme doudoune technique kaki matelassee parajumpers',\n",
       "   'rembourrage plumes premium',\n",
       "   'jean matelasse blanc poches'],\n",
       "  'doudoune'),\n",
       " (['manteau cachemire fourrure beige fontani',\n",
       "   'entierement double logo',\n",
       "   'accueil ventes fontani femme manteau cachemire fourrure beige fontani',\n",
       "   'polyester tissu laine vierge cashmere tissu fourrure animale',\n",
       "   'robe smocke laine vierge came',\n",
       "   'fourrure peau veritable',\n",
       "   'robe laine vierge',\n",
       "   'manteau cachemire fourrure',\n",
       "   'fermeture boutons pressions'],\n",
       "  'manteau'),\n",
       " (['jean regular bleu coutures lat',\n",
       "   'motifs fantaisies visage',\n",
       "   'manteau chameau chevre beige',\n",
       "   'manteau fantaisie manches',\n",
       "   'sweat rouge capuche pierres',\n",
       "   'manteau fantaisie manches chameau chevre beige biancalani',\n",
       "   'accueil ventes biancalani femme manteau fantaisie manches chameau chevre beige biancalani',\n",
       "   'belier chevre chameau doublure cupro',\n",
       "   'motifs fantaisie visages poil chevre noir plume rose'],\n",
       "  'manteau'),\n",
       " (['manteau laine noir cape ethnique bazar deluxe',\n",
       "   'manteau laine gris',\n",
       "   'pull matiere mohair mou',\n",
       "   'pantalon carotte laine vierge',\n",
       "   'manteau laine noir',\n",
       "   'manteau laine noir cape eth',\n",
       "   'manteau laine gris cape eth',\n",
       "   'franges cuirs noirs',\n",
       "   'laine polyester polyamide tissu coton elasthanne col fourrure',\n",
       "   'accueil ventes bazar deluxe femme manteau laine noir cape ethnique bazar deluxe'],\n",
       "  'manteau'),\n",
       " (['chemise noir effet delave beige',\n",
       "   'poche plaquee fantaisie poitrine gauche',\n",
       "   'mannequin mesure 1m85 porte',\n",
       "   'jean skinny coton bleu dech',\n",
       "   'motif effet delave beige',\n",
       "   'chemise coton noir',\n",
       "   'chemise noir effet delave beige lords fools',\n",
       "   'accueil ventes lords fools homme chemise noir effet delave beige lords fools'],\n",
       "  'chemise'),\n",
       " (['pantalon smockee noir',\n",
       "   'matiere effet abeille pique',\n",
       "   'col pointe boutons',\n",
       "   'mannequin mesure porte',\n",
       "   'chemise coton abeille rose',\n",
       "   'chemise homme coton',\n",
       "   'chemise coton rose',\n",
       "   'chemise coton abeille rose edition',\n",
       "   'accueil ventes melinda gloss edition homme chemise coton abeille rose edition',\n",
       "   'chemise slim coton rose editi',\n",
       "   'fermeture bouton blanc'],\n",
       "  'chemise'),\n",
       " (['accueil ventes melinda gloss edition homme pantalon smoking coton beige edition',\n",
       "   'veste blazer croise coton bla',\n",
       "   'pantalon smoking coton beige edition',\n",
       "   'mannequin mesure porte',\n",
       "   'poche passepoilees fesse droite',\n",
       "   'pantalon smoking coton bei',\n",
       "   'chemise blanche john richmond',\n",
       "   'coupe regular fit plis casse',\n",
       "   'veste coton blanc',\n",
       "   'laine doublure polyester'],\n",
       "  'pantalon'),\n",
       " (['pull coton eponge',\n",
       "   'pull coton eponge marin bleu',\n",
       "   'pull coton eponge bleu blanc',\n",
       "   'pull coton eponge marin bleu blanc melinda gloss',\n",
       "   'accueil ventes melinda gloss edition homme pull coton eponge marin bleu blanc melinda gloss',\n",
       "   'pantalon carotte beige low brand',\n",
       "   'rayures marines intemporel',\n",
       "   'publie date commande'],\n",
       "  'pull'),\n",
       " (['pantalon smockee noir',\n",
       "   'chemise lin rose edition',\n",
       "   'fermeture parmenture boutons beige vernis',\n",
       "   'chemise lin beige edition',\n",
       "   'mannequin mesure porte',\n",
       "   'melange lin coton',\n",
       "   'blouson style perfecto',\n",
       "   'chemise homme coton',\n",
       "   'accueil ventes melinda gloss edition homme chemise lin beige edition',\n",
       "   'blouson perfecto noir balmain',\n",
       "   'chemise homme coton lin beige'],\n",
       "  'chemise'),\n",
       " (['accueil ventes melinda gloss edition homme pull col rond bleu chine merinos edition',\n",
       "   'pull col rond bleu chine meri',\n",
       "   'pull merinos bleu chine',\n",
       "   'pull merinos bleu',\n",
       "   'pantalon regular fit coton',\n",
       "   'pull col rond bleu chine merinos edition'],\n",
       "  'pull'),\n",
       " (['pull col rond jaune merinos edition',\n",
       "   'pull col rond jaune merinos',\n",
       "   'accueil ventes melinda gloss edition homme pull col rond jaune merinos edition',\n",
       "   'pantalon coton gris',\n",
       "   'pull merinos jaune',\n",
       "   'pantalon carreaux gris roda'],\n",
       "  'pull'),\n",
       " (['blouson vert kaki',\n",
       "   'manches longues multiple poche glissiere fantaisie',\n",
       "   'blouson bomber kaki poches edition',\n",
       "   'polyamide doublure polyester bord-cote polyamide elasthanne',\n",
       "   'pull col rond jaune merinos',\n",
       "   'pantalon coton gris',\n",
       "   'languette pressions aux epaules',\n",
       "   'pull merinos jaune',\n",
       "   'entierement double nude',\n",
       "   'accueil ventes melinda gloss edition homme blouson bomber kaki poches edition',\n",
       "   'pantalon carreaux gris roda',\n",
       "   'blouson bomber kaki poches edi'],\n",
       "  'blouson'),\n",
       " (['laine poches coton doublure jambe polyester',\n",
       "   'pantalon smoking beige edition',\n",
       "   'mannequin mesure porte',\n",
       "   'chino laine beige',\n",
       "   'accueil ventes melinda gloss edition homme pantalon smoking beige edition',\n",
       "   'fermeture glissiere patte crochet',\n",
       "   'poche passepoilee fesse droite',\n",
       "   'pantalon smoking beige editio',\n",
       "   'brides passant ceinture'],\n",
       "  'pantalon'),\n",
       " (['veste blazer croise coton bla',\n",
       "   'veste blazer croise coton blanc rayures bleu edition',\n",
       "   'mannequin mesure porte',\n",
       "   'chino laine beige',\n",
       "   'coton doublure viscose',\n",
       "   'chemise blanche john richmond',\n",
       "   'pantalon smoking beige editio',\n",
       "   'veste coton blanc',\n",
       "   'accueil ventes melinda gloss edition homme veste blazer croise coton blanc rayures bleu edition'],\n",
       "  'veste'),\n",
       " (['pantalon smockee noir',\n",
       "   'chemise coton rose col mao edition',\n",
       "   'mannequin mesure porte',\n",
       "   'fermeture parmenture boutons blanc',\n",
       "   'chemise coton rose col mao',\n",
       "   'accueil ventes melinda gloss edition homme chemise coton rose col mao edition',\n",
       "   'chemise coton rose'],\n",
       "  'chemise'),\n",
       " (['sweat coton beige flocage edition',\n",
       "   'sweat coton beige flocage',\n",
       "   'pantalon regular fit coton',\n",
       "   'sweat coton beige',\n",
       "   'accueil ventes melinda gloss edition homme sweat coton beige flocage edition'],\n",
       "  'sweat'),\n",
       " (['accueil ventes melinda gloss edition homme blouson veste gris petit carreaux bleu edition',\n",
       "   'polo coton pique',\n",
       "   'proprete interieur biais',\n",
       "   'blouson veste gris petit carre',\n",
       "   'polo pique blanc broderie flor',\n",
       "   'mannequin mesure porte',\n",
       "   'pantalon regular fit coton',\n",
       "   'laine nylon elasthanne',\n",
       "   'imprimes petit carreaux',\n",
       "   'blouson veste gris petit carreaux bleu edition',\n",
       "   'veste coton gris bleu'],\n",
       "  'blouson'),\n",
       " (['pantalon coton abeille bleu',\n",
       "   'mannequin mesure porte',\n",
       "   'pantalon tailleur chino coton bleu edition',\n",
       "   'accueil ventes melinda gloss edition homme pantalon tailleur chino coton bleu edition',\n",
       "   'chemise noir effet delave',\n",
       "   'coton lin poche coton doublure jambe polyester',\n",
       "   'fermeture glissiere patte boutons crochet',\n",
       "   'poche passepoilee fesse droite',\n",
       "   'pantalon tailleur chino coton'],\n",
       "  'pantalon'),\n",
       " (['bombers bleu poches edition',\n",
       "   'fermeture glissiere metal',\n",
       "   'blouson coton bleu',\n",
       "   'mannequin mesure 185cm porte',\n",
       "   'poignet casse simple boutonnage',\n",
       "   'accueil ventes melinda gloss edition homme bombers bleu poches edition'],\n",
       "  'veste'),\n",
       " (['accueil ventes melinda gloss edition homme chemise bleue petit carreaux edition',\n",
       "   'pantalon regular fit coton',\n",
       "   'imprimes petit carreaux',\n",
       "   'chemise bleue petit carreaux edition',\n",
       "   'chemise bleue petit carreaux',\n",
       "   'imprime petit carreaux'],\n",
       "  'chemise'),\n",
       " (['bombers imprime camouflage edition',\n",
       "   'accueil ventes melinda gloss edition homme bombers imprime camouflage edition',\n",
       "   'fermeture glissiere metal',\n",
       "   'poches plaquees rabats',\n",
       "   'imprime camouflage kaki',\n",
       "   'pantalon coton kaki',\n",
       "   'mannequin mesure 185cm porte',\n",
       "   'blouson coton beige',\n",
       "   'bombers imprime camouflage edi',\n",
       "   'poches fantaisie manches gauches',\n",
       "   'brides pressions aux epaules',\n",
       "   'pantalon tailleur chino coton'],\n",
       "  'veste'),\n",
       " (['pantalon cargo coton beige',\n",
       "   'laine doublure viscose',\n",
       "   'veste beige style saharienne edition',\n",
       "   'accueil ventes melinda gloss edition homme veste beige style saharienne edition',\n",
       "   'mannequin mesure porte',\n",
       "   'veste toile beige',\n",
       "   'poche rabat poches passepoilees',\n",
       "   'veste beige style saharienne edi',\n",
       "   'poignet casse double boutonnage'],\n",
       "  'veste'),\n",
       " (['chemise bleu imprime geometriq',\n",
       "   'accueil ventes melinda gloss edition homme chemise bleu imprime geometrique blanc edition',\n",
       "   'pantalon regular fit coton',\n",
       "   'imprime geometrique triangle blanc',\n",
       "   'chemise bleu imprime geometrique blanc edition'],\n",
       "  'chemise'),\n",
       " (['laine doublure viscose',\n",
       "   'veste blazer col revers poches rabats poches interieures',\n",
       "   'blazer bleu melinda gloss',\n",
       "   'accueil ventes melinda gloss edition homme blazer bleu melinda gloss',\n",
       "   'veste blazer col'],\n",
       "  'blazer'),\n",
       " (['poches plaquees arriere',\n",
       "   'bermuda short coton beige cam',\n",
       "   'polo coton pique',\n",
       "   'bermuda short coton beige camouflage edition',\n",
       "   'polo pique blanc broderie flor',\n",
       "   'imprime camouflage kaki',\n",
       "   'mannequin mesure porte',\n",
       "   'accueil ventes melinda gloss edition homme bermuda short coton beige camouflage edition',\n",
       "   'short coton beige'],\n",
       "  'bermuda'),\n",
       " (['fermeture parmenture boutons blanc nacre',\n",
       "   'chemise slim coton rose edition',\n",
       "   'col pointe boutons',\n",
       "   'accueil ventes melinda gloss edition homme chemise slim coton rose edition',\n",
       "   'chemise homme coton rose',\n",
       "   'mannequin mesure porte',\n",
       "   'chemise coton abeille rose',\n",
       "   'chemise homme coton',\n",
       "   'chemise coton rose',\n",
       "   'chemise slim coton rose editi',\n",
       "   'poignet casse double boutonnage'],\n",
       "  'chemise'),\n",
       " (['accueil ventes melinda gloss edition homme bombers beige poches edition',\n",
       "   'fermeture glissiere metal',\n",
       "   'poches plaquees rabats',\n",
       "   'pantalon coton kaki',\n",
       "   'mannequin mesure 185cm porte',\n",
       "   'blouson coton beige',\n",
       "   'poignet casse simple boutonnage',\n",
       "   'bombers beige poches edition',\n",
       "   'brides bouton col',\n",
       "   'pantalon tailleur chino coton'],\n",
       "  'veste'),\n",
       " (['mannequin mesure 187cm porte',\n",
       "   'veste laine marron',\n",
       "   'accueil ventes melinda gloss edition homme pantalon tailleur chino coton kaki edition',\n",
       "   'pantalon coton kaki',\n",
       "   'veste blazer laine marron',\n",
       "   'fermeture glissiere patte boutons crochet',\n",
       "   'poche passepoilee fesse droite',\n",
       "   'pantalon tailleur chino coton kaki edition',\n",
       "   'pantalon tailleur chino coton'],\n",
       "  'pantalon'),\n",
       " (['pantalon carotte beige low brand',\n",
       "   'pull coton bleu tresse melinda gloss',\n",
       "   'pull coton bleu',\n",
       "   'pull coton bleu tresse melind',\n",
       "   'accueil ventes melinda gloss edition homme pull coton bleu tresse melinda gloss'],\n",
       "  'pull'),\n",
       " (['veste beige carreaux edition',\n",
       "   'pull col rond bleu chine meri',\n",
       "   'proprete interieur biais',\n",
       "   'veste semi doublee',\n",
       "   'accueil ventes melinda gloss edition homme veste beige carreaux edition',\n",
       "   'mannequin mesure porte',\n",
       "   'coton doublure viscose',\n",
       "   'poignet casse triple boutonnages',\n",
       "   'pull merinos bleu',\n",
       "   'pantalon regular fit coton',\n",
       "   'veste coton noir jaune'],\n",
       "  'veste'),\n",
       " (['accueil ventes kris van assche femme ceinture cuir marron bronze boucle asymetrique kris van assche',\n",
       "   'logo grave boucle',\n",
       "   'ceinture cuir marron bronze boucle asymetrique kris van assche',\n",
       "   'ceinture cuir marron bronze',\n",
       "   'boucle metal argent asymetrique'],\n",
       "  'ceinture'),\n",
       " (['robe bustier longue fleurs',\n",
       "   'accueil ventes nude femme ceinture kimono fluide cuir noir nude',\n",
       "   'ceinture kimono fluide cuir',\n",
       "   'ceinture kimono fluide cuir noir nude',\n",
       "   'ceinture cuir noir'],\n",
       "  'ceinture'),\n",
       " (['bandes laterales orange',\n",
       "   'dimensions 85cm 95cm',\n",
       "   'fermeture boucles argents encastre',\n",
       "   'chemise noir effet delave',\n",
       "   'ceinture stretch taupe bandes',\n",
       "   'ceinture stretch taupe bandes laterales carven',\n",
       "   'accueil ventes carven femme ceinture stretch taupe bandes laterales carven',\n",
       "   'ceinture galon stretch beige cuir noir'],\n",
       "  'ceinture'),\n",
       " (['ceinture translucide pierres',\n",
       "   'accueil ventes frankie morello femme ceinture translucide pierres swarovski frankie morello',\n",
       "   'ceinture translucide pierres swarovski frankie morello',\n",
       "   'longueur largeur fine ceinture translucide applications cabochons bleus verts fermeture boucle classique'],\n",
       "  'ceinture'),\n",
       " (['ceinture noire roberta scarpa',\n",
       "   'ceinture noire brillant roberta',\n",
       "   'ceinture marron roberta scarpa',\n",
       "   'accueil ventes roberta scarpa femme ceinture noire roberta scarpa'],\n",
       "  'ceinture'),\n",
       " (['ceinture cuir lisse noir',\n",
       "   'ceinture cuir noir beige',\n",
       "   'accueil ventes carven femme ceinture cuir noir beige rayures carven',\n",
       "   'ceinture cuir lisse',\n",
       "   'ceinture cuir noir beige rayures carven',\n",
       "   'boucle metal argente'],\n",
       "  'ceinture'),\n",
       " (['boucle metal argent',\n",
       "   'accueil ceinture fine cuir rouge krisvanassche',\n",
       "   'ceinture cuir lisse rouge',\n",
       "   'ceinture cuir lisse',\n",
       "   'ceinture fine cuir rouge krisvanassche',\n",
       "   'ceinture fine cuir rouge kris'],\n",
       "  'ceinture'),\n",
       " (['boucle fantaisie metal bois',\n",
       "   'accueil ventes iceberg femme ceinture cuir beige boucle fantaisie iceberg',\n",
       "   'ceinture cuir beige boucle',\n",
       "   'effet use vieillit',\n",
       "   'ceinture cuir beige boucle fantaisie iceberg',\n",
       "   'multiples brides decoupe',\n",
       "   'ceinture cuir beige'],\n",
       "  'ceinture'),\n",
       " (['ceinture cuir noir boucle',\n",
       "   'logo grave boucle',\n",
       "   'multiples liens coton noir',\n",
       "   'ceinture cuir noir boucle asymetrique kris van assche',\n",
       "   'ceinture cuir noir',\n",
       "   'accueil ventes kris van assche femme ceinture cuir noir boucle asymetrique kris van assche',\n",
       "   'boucle metal argent asymetrique'],\n",
       "  'ceinture'),\n",
       " (['accueil ventes dolce gabbana femme ceinture cuir noir bijoux metals dolce gabbana',\n",
       "   'ceinture cuir noir bijoux metals dolce gabbana',\n",
       "   'ceinture cuir noir',\n",
       "   'boucle ronde metal argent',\n",
       "   'ceinture cuir noir bijoux'],\n",
       "  'ceinture'),\n",
       " (['ceinture jaune chaine fantaisi',\n",
       "   'ceinture jaune chaine fantaisie elisabetta franchi',\n",
       "   'accueil ventes elisabetta franchi femme ceinture jaune chaine fantaisie elisabetta franchi'],\n",
       "  'ceinture'),\n",
       " (['ceinture cuir noir coccinelle',\n",
       "   'ceinture cuir bleu effet pyth',\n",
       "   'accueil ventes coccinelle femme ceinture cuir noir coccinelle'],\n",
       "  'ceinture'),\n",
       " (['ceinture fine beige malo',\n",
       "   'accueil ventes malo femme ceinture fine beige malo'],\n",
       "  'ceinture'),\n",
       " (['accueil ceinture large xxl nubuck taupe revillon',\n",
       "   'ceinture large xxl nubuck taupe revillon',\n",
       "   'ceinture cuir taupe',\n",
       "   'ceinture large xxl nubuck tau'],\n",
       "  'ceinture'),\n",
       " (['logo grave boucle',\n",
       "   'multiples liens coton noir',\n",
       "   'ceinture cuir blanc boucle',\n",
       "   'ceinture cuir blanc',\n",
       "   'accueil ventes kris van assche femme ceinture cuir blanc boucle asymetrique kris van assche',\n",
       "   'boucle metal argent asymetrique',\n",
       "   'ceinture cuir blanc boucle asymetrique kris van assche'],\n",
       "  'ceinture'),\n",
       " (['accueil ventes carven femme ceinture cuir vernis noir carven',\n",
       "   'ceinture cuir vernis noir',\n",
       "   'ceinture cuir vernis noir carven'],\n",
       "  'ceinture'),\n",
       " (['fermeture boucles argent griffe crochet',\n",
       "   'ceinture triples chaines argent guess',\n",
       "   'accueil ventes guess femme ceinture triples chaines argent guess',\n",
       "   'chemise noir effet delave',\n",
       "   'ceinture chaines fantaisies argent',\n",
       "   'ceinture triples chaines argen',\n",
       "   'porter chaines pantalons'],\n",
       "  'ceinture'),\n",
       " (['ceinture cuir marron ruban',\n",
       "   'ruban blanc casse tresse cuir',\n",
       "   'ceinture cuir marron ruban blanc casse malo',\n",
       "   'boucle metal dore',\n",
       "   'accueil ventes malo femme ceinture cuir marron ruban blanc casse malo',\n",
       "   'ceinture cuir marron'],\n",
       "  'ceinture'),\n",
       " (['ceinture metal doree coeur fan',\n",
       "   'ceinture metal doree coeur fantaisie elisabetta franchi',\n",
       "   'accueil ventes elisabetta franchi femme ceinture metal doree coeur fantaisie elisabetta franchi'],\n",
       "  'ceinture'),\n",
       " (['ceinture cuir noir patch crystal carven',\n",
       "   'accueil ventes carven femme ceinture cuir noir patch crystal carven',\n",
       "   'ceinture cuir noir',\n",
       "   'ceinture cuir noir patch',\n",
       "   'patch fantaisie blanc crystal'],\n",
       "  'ceinture'),\n",
       " (['ceinture cuir tressee noire elisabetta franchi',\n",
       "   'boucle metal dore',\n",
       "   'ceinture cuir noir',\n",
       "   'accueil ventes elisabetta franchi femme ceinture cuir tressee noire elisabetta franchi',\n",
       "   'ceinture cuir tressee noire'],\n",
       "  'ceinture'),\n",
       " (['accueil ventes john richmond femme ceinture chaine argent galon foulard john richmond',\n",
       "   'ceinture chaine argent galon foulard john richmond',\n",
       "   'ceinture chaine argent galo',\n",
       "   'ceinture chaines fantaisies argent',\n",
       "   'fermeture liens nouer',\n",
       "   'galon foulard bleu tresse'],\n",
       "  'ceinture'),\n",
       " (['fermeture boucles metal argent',\n",
       "   'ceinture cuir jaune',\n",
       "   'accueil ventes roberta scarpa femme ceinture cuir jaune chaines roberta scarpa',\n",
       "   'ceinture cuir jaune chaines',\n",
       "   'ceinture cuir jaune chaines fantaisies agent',\n",
       "   'dimensions x100 x105',\n",
       "   'ceinture cuir jaune chaines roberta scarpa'],\n",
       "  'ceinture'),\n",
       " (['accueil ventes coccinelle femme ceinture cuir bleu effet python coccinelle',\n",
       "   'ceinture cuir noir coccinelle',\n",
       "   'ceinture cuir bleu effet pyth',\n",
       "   'ceinture cuir bleu effet python coccinelle'],\n",
       "  'ceinture'),\n",
       " (['ceinture simili camel',\n",
       "   'fermeture pointe doree',\n",
       "   'patchwork simili python vernis',\n",
       "   'accueil ventes elisabetta franchi femme ceinture large simili camel python elisabetta franchi',\n",
       "   'ceinture large simili camel',\n",
       "   'ceinture large simili camel python elisabetta franchi'],\n",
       "  'ceinture'),\n",
       " (['boucle fantaisie ronde metal arc ciel',\n",
       "   'accueil ventes space simona corsellini femme ceinture vague blanc doree space simona corsellini',\n",
       "   'ceinture vague blanc doree',\n",
       "   'ceinture cuir blanc',\n",
       "   'ceinture cuir blanc doree lame',\n",
       "   'ceinture vague blanc doree space simona corsellini'],\n",
       "  'ceinture'),\n",
       " (['ceinture chaines fantaisies doree',\n",
       "   'fermeture boucles doree forme coeur',\n",
       "   'ceinture hybride triples chain',\n",
       "   'accueil ventes guess femme ceinture hybride triples chaines fantaisies guess',\n",
       "   'ceinture hybride triples chaines fantaisies guess',\n",
       "   'porter chaines pantalons'],\n",
       "  'ceinture'),\n",
       " (['ceinture cuir bleu',\n",
       "   'ceinture cuir bleu motifs ethniques carven',\n",
       "   'motifs brodes ethniques',\n",
       "   'ceinture cuir bleu motifs',\n",
       "   'accueil ventes carven femme ceinture cuir bleu motifs ethniques carven',\n",
       "   'boucle metal argente'],\n",
       "  'ceinture'),\n",
       " (['accueil ventes woolgroup fiesoli homme blouson teddy laine gris clair motif woolgroup',\n",
       "   'blouson teddy laine gris clai',\n",
       "   'col bord cote',\n",
       "   'mannequin mesure 185cm porte',\n",
       "   'chemise noir effet delave',\n",
       "   'blouson laine gris',\n",
       "   'laine polyamide acrylique autres tissus',\n",
       "   'blouson teddy laine gris clair motif woolgroup',\n",
       "   'finitions bord cote'],\n",
       "  'blouson'),\n",
       " (['accueil ventes woolgroup fiesoli homme gilet rouille rayures woolgroup',\n",
       "   'gilet alpaga brique',\n",
       "   'jean noir dechire skinny balmain',\n",
       "   'motifs rayures grise',\n",
       "   'pull lin gris motif ethniqu',\n",
       "   'gilet rouille rayures woolgroup',\n",
       "   'acrylique laine alpaga',\n",
       "   'pull merinos gris',\n",
       "   'gilet alpaga brique rayures grises'],\n",
       "  'gilet'),\n",
       " (['gilet merinos extrafine marron',\n",
       "   'accueil ventes woolgroup fiesoli homme gilet manches marron laine woolgroup',\n",
       "   'gilet manches marron laine woolgroup',\n",
       "   'gilet manches marron lai'],\n",
       "  'gilet'),\n",
       " (['mannequin mesure 187cm porte',\n",
       "   'gilet alpaga gris bicolore',\n",
       "   'pull laine bleu col tunisie',\n",
       "   'acrylique laine alpaga',\n",
       "   'accueil ventes woolgroup fiesoli homme gilet alpaga gris bicolore woolgroup',\n",
       "   'cardigan alpaga gris',\n",
       "   'gilet alpaga gris bicolore woolgroup'],\n",
       "  'gilet'),\n",
       " (['cardigan gris fonce laine woo',\n",
       "   'gilet merinos extrafine gris',\n",
       "   'gilet laine merinos extrafi',\n",
       "   'gilet laine merinos extrafine gris delave woolgroup',\n",
       "   'pantalon regular coton kaki',\n",
       "   'cardigan orange laine woolgroup',\n",
       "   't-shirt coton vert',\n",
       "   'pantalon coton kaki',\n",
       "   'cardigan col patte',\n",
       "   't-shirt coton vert motifs',\n",
       "   'accueil ventes woolgroup fiesoli homme gilet laine merinos extrafine gris delave woolgroup',\n",
       "   'cardigan gris vert laine wool'],\n",
       "  'gilet'),\n",
       " (['accueil ventes woolgroup fiesoli homme blouson teddy laine gris motif woolgroup',\n",
       "   'jean noir dechire skinny balmain',\n",
       "   'col bord cote',\n",
       "   'mannequin mesure 185cm porte',\n",
       "   'blouson laine gris',\n",
       "   'laine polyamide acrylique autres tissus',\n",
       "   'blouson teddy laine gris',\n",
       "   'finitions bord cote',\n",
       "   'blouson teddy laine gris motif woolgroup'],\n",
       "  'blouson'),\n",
       " (['accueil ventes woolgroup fiesoli homme pull col revers bleu fiesoli',\n",
       "   'pull col revers gris bleu fiesoli',\n",
       "   'pull col revers bleu fiesoli',\n",
       "   'laine merino extrafine',\n",
       "   'pull uni manches',\n",
       "   'col ras cou revers contrastant'],\n",
       "  'pull'),\n",
       " (['cardigan coudieres contrastantes woolgroup',\n",
       "   'cardigan col fermeture cinq boutons poignets bas coteles coudieres coutures contrastantes coupe classique normalement',\n",
       "   'laine viscose polyamide cachemire',\n",
       "   'accueil ventes woolgroup fiesoli homme cardigan coudieres contrastantes woolgroup',\n",
       "   'cardigan coudieres contrastant'],\n",
       "  'cardigan'),\n",
       " (['accueil ventes woolgroup fiesoli homme pull manches orange woolgroup',\n",
       "   'pull manches col bordures coteles coupe classique normalement',\n",
       "   'pull manches col',\n",
       "   'pull manches orange woolgroup',\n",
       "   'laine viscose polyamide cachemire'],\n",
       "  'pull'),\n",
       " (['polymide alpaga laine t-shirt interne viscose',\n",
       "   'pull col rond double bleu daniele fiesoli',\n",
       "   'pull fin doublee',\n",
       "   'pull fin doublee t-shirt interieur col rond manches longues extremites roulees',\n",
       "   'accueil ventes woolgroup fiesoli homme pull col rond double bleu daniele fiesoli',\n",
       "   'pull col rond double bleu daniel'],\n",
       "  'pull'),\n",
       " (['cardigan orange laine woolgroup',\n",
       "   'cardigan gris fonce laine woo',\n",
       "   'cardigan gris vert laine woolgroup',\n",
       "   'cardigan col patte',\n",
       "   'cardigan col patte boutonnage contrastante fermeture six boutons poignets bas coteles coupe classique normalement',\n",
       "   'cardigan gris vert laine wool',\n",
       "   'accueil ventes woolgroup fiesoli homme cardigan gris vert laine woolgroup',\n",
       "   'gilet laine merinos extrafi'],\n",
       "  'cardigan'),\n",
       " (['pull fin vert motifs woolgroup',\n",
       "   'pull fin bleu motifs woolgroup',\n",
       "   'pull lin gris motif ethniqu',\n",
       "   'accueil ventes woolgroup fiesoli homme pull fin vert motifs woolgroup',\n",
       "   'encolure ronde manche',\n",
       "   'pull merinos gris',\n",
       "   'encolure ronde manche longue coupe droite normalement'],\n",
       "  'pull'),\n",
       " (['cardigan orange laine woolgroup',\n",
       "   'cardigan gris fonce laine woo',\n",
       "   'cardigan col patte',\n",
       "   'cardigan col patte boutonnage contrastante fermeture six boutons poignets bas coteles coupe classique normalement',\n",
       "   'accueil ventes woolgroup fiesoli homme cardigan orange laine woolgroup',\n",
       "   'cardigan gris vert laine wool',\n",
       "   'gilet laine merinos extrafi'],\n",
       "  'cardigan'),\n",
       " (['pull col motif',\n",
       "   'accueil ventes woolgroup fiesoli homme pull col gris woolgroup',\n",
       "   'pull col motif geometrique',\n",
       "   'pull col gris woolgroup'],\n",
       "  'pull'),\n",
       " (['pull laine gris woolgroup',\n",
       "   'accueil ventes woolgroup fiesoli homme pull laine gris woolgroup',\n",
       "   'laine merino extrafine'],\n",
       "  'pull'),\n",
       " (['pull bicolore col',\n",
       "   'manches longues application tissu texture autour col',\n",
       "   'polyamide alpaga laine extrafine',\n",
       "   'accueil ventes woolgroup fiesoli homme pull bicolore vert gris fiesoli',\n",
       "   'pull bicolore vert gris fiesoli'],\n",
       "  'pull'),\n",
       " (['accueil ventes woolgroup fiesoli homme pull vert oversize woolgroup',\n",
       "   'pull mohair vert chine',\n",
       "   'laine polyamide acrylique mohair',\n",
       "   'jean noir dechire skinny balmain',\n",
       "   'pull mohair vert',\n",
       "   'pull vert oversize woolgroup'],\n",
       "  'pull'),\n",
       " (['pull col rond raye daniele fiesoli',\n",
       "   'aplaga laine polyamide',\n",
       "   'pull rayures col',\n",
       "   'accueil ventes woolgroup fiesoli homme pull col rond raye daniele fiesoli',\n",
       "   'pull rayures col rond manches longues coutures roulees'],\n",
       "  'pull'),\n",
       " (['veste laine gris motif noir',\n",
       "   'mannequin mesure 185cm porte',\n",
       "   'accueil ventes woolgroup fiesoli homme veste laine gris motif noir woolgroup',\n",
       "   'laine polyamide acrylique autres tissus',\n",
       "   'poignet casse boutons',\n",
       "   'veste laine gris',\n",
       "   'veste laine gris motif noir woolgroup',\n",
       "   'motifs abstrait noir'],\n",
       "  'veste'),\n",
       " (['pull laine bleu',\n",
       "   'accueil ventes woolgroup fiesoli homme pull laine tresse bleu mouchete woolgroup',\n",
       "   'pull laine tresse bleu mouche',\n",
       "   'pull laine tresse bleu mouchete woolgroup',\n",
       "   'col rond montant cotele boutons'],\n",
       "  'pull'),\n",
       " (['pull col revers gris bleu fiesoli',\n",
       "   'accueil ventes woolgroup fiesoli homme pull col revers gris bleu fiesoli',\n",
       "   'laine merino extrafine',\n",
       "   'pull uni manches',\n",
       "   'pull col revers bleu fiesoli',\n",
       "   'col ras cou revers'],\n",
       "  'pull'),\n",
       " (['jean noir dechire skinny balmain',\n",
       "   'laine coton polyamide polyester acrylique autres tissus',\n",
       "   'mannequin mesure 185cm porte',\n",
       "   'veste laine grise motif woolgroup',\n",
       "   'veste laine grise motif woo',\n",
       "   'accueil ventes woolgroup fiesoli homme veste laine grise motif woolgroup',\n",
       "   'veste laine grise',\n",
       "   'pull merinos alpaga gris'],\n",
       "  'veste'),\n",
       " (['acrylique alpaga laine merinos',\n",
       "   'pull col rond bleu woolgroup',\n",
       "   'pull alpaga merinos bordea',\n",
       "   'accueil ventes woolgroup fiesoli homme pull col rond bleu woolgroup'],\n",
       "  'pull'),\n",
       " (['accueil ventes woolgroup fiesoli homme veste noir motif woolgroup',\n",
       "   'veste blazer cintree maille col revers poches plaquees',\n",
       "   'veste blazer cintree',\n",
       "   'veste noir motif woolgroup'],\n",
       "  'veste'),\n",
       " (['accueil ventes woolgroup fiesoli homme veste grise laine motif geometrique woolgroup',\n",
       "   'veste grise laine motif geometrique woolgroup',\n",
       "   'poignet casse triple boutonnage',\n",
       "   'laine polyamide acrylique autres tissus',\n",
       "   'veste grise laine motif geo',\n",
       "   'veste laine grise'],\n",
       "  'veste'),\n",
       " (['cardigan orange laine woolgroup',\n",
       "   'cardigan gris fonce laine woo',\n",
       "   'cardigan gris vert laine wool',\n",
       "   'cardigan col patte',\n",
       "   'cardigan col patte boutonnage contrastante fermeture six boutons poignets bas coteles coupe classique normalement',\n",
       "   'accueil ventes woolgroup fiesoli homme cardigan gris fonce laine woolgroup',\n",
       "   'gilet laine merinos extrafi',\n",
       "   'cardigan gris fonce laine woolgroup'],\n",
       "  'cardigan'),\n",
       " (['coupe classique ajustee',\n",
       "   'pull col manches',\n",
       "   'pull col coudieres gris fiesoli',\n",
       "   'accueil ventes woolgroup fiesoli homme pull col coudieres gris fiesoli',\n",
       "   'laine merinos polyamide alpaga'],\n",
       "  'pull'),\n",
       " (['cardigan violet coudieres contrastantes woolgroup',\n",
       "   'gilet homme laine',\n",
       "   'cardigan violet coudieres cont',\n",
       "   'pantalon coton kaki',\n",
       "   'pantalon regular coton kaki',\n",
       "   'gilet merinos extrafine violet',\n",
       "   'laine viscose polyamide cachemire',\n",
       "   'cardigan vert coudieres woolgr',\n",
       "   'accueil ventes woolgroup fiesoli homme cardigan violet coudieres contrastantes woolgroup'],\n",
       "  'cardigan'),\n",
       " (['accueil ventes woolgroup fiesoli homme veste bordeaux motif woolgroup',\n",
       "   'veste bordeaux motif woolgroup',\n",
       "   'veste col crante',\n",
       "   'veste col crante coupe droite fermeture deux boutons poches plaquees fonctionnelles devant poignets boutonnes manches doublees'],\n",
       "  'veste'),\n",
       " ...]"
      ]
     },
     "execution_count": 12,
     "metadata": {},
     "output_type": "execute_result"
    }
   ],
   "source": [
    "infos_tag = data[\"couple\"].to_list()\n",
    "infos_tag"
   ]
  },
  {
   "cell_type": "code",
   "execution_count": 13,
   "metadata": {},
   "outputs": [],
   "source": [
    "all_infos, all_tags = [], []\n",
    "for couple in infos_tag:\n",
    "    all_infos.extend(couple[0])\n",
    "    all_tags.extend([couple[1]]*len(couple[0]))"
   ]
  },
  {
   "cell_type": "code",
   "execution_count": 17,
   "metadata": {},
   "outputs": [],
   "source": [
    "nb_feature = 2**14\n",
    "vectorizer = HashingVectorizer(n_features = nb_feature)\n",
    "model_svc = LinearSVC(C=1.0, class_weight=None, dual=True, fit_intercept=True,\n",
    "                          intercept_scaling=3, loss='squared_hinge', max_iter=10000,\n",
    "                          multi_class='ovr', penalty='l2', random_state=0, tol=0.0001,\n",
    "                          verbose=0)\n",
    "model = CalibratedClassifierCV(model_svc)"
   ]
  },
  {
   "cell_type": "code",
   "execution_count": 25,
   "metadata": {},
   "outputs": [],
   "source": [
    "divis = 38000\n",
    "vectors = vectorizer.fit_transform(all_infos)\n",
    "train_vects = vectors[:divis]\n",
    "test_vects = vectors[divis:]\n",
    "train_tags = all_tags[:divis]\n",
    "test_tags = all_tags[divis:]"
   ]
  },
  {
   "cell_type": "code",
   "execution_count": 26,
   "metadata": {},
   "outputs": [
    {
     "data": {
      "text/plain": [
       "CalibratedClassifierCV(base_estimator=LinearSVC(C=1.0, class_weight=None,\n",
       "                                                dual=True, fit_intercept=True,\n",
       "                                                intercept_scaling=3,\n",
       "                                                loss='squared_hinge',\n",
       "                                                max_iter=10000,\n",
       "                                                multi_class='ovr', penalty='l2',\n",
       "                                                random_state=0, tol=0.0001,\n",
       "                                                verbose=0),\n",
       "                       cv=None, method='sigmoid')"
      ]
     },
     "execution_count": 26,
     "metadata": {},
     "output_type": "execute_result"
    }
   ],
   "source": [
    "model.fit(train_vects, train_tags)"
   ]
  },
  {
   "cell_type": "code",
   "execution_count": 27,
   "metadata": {},
   "outputs": [
    {
     "name": "stdout",
     "output_type": "stream",
     "text": [
      "sucess =  0.7192353643966547\n"
     ]
    }
   ],
   "source": [
    "# test test_vects\n",
    "test_data = []\n",
    "for x in range(test_vects.shape[0]):\n",
    "    pr = model.predict(test_vects[x])[0] # predict the \n",
    "    test_data.append((pr, test_tags[x]))\n",
    "\n",
    "e,d = 0, 0\n",
    "for x in test_data:\n",
    "    if x[0] != x[1]:\n",
    "        d += 1\n",
    "    else:\n",
    "        e += 1\n",
    "        \n",
    "print(\"sucess = \", e/(e + d))"
   ]
  },
  {
   "cell_type": "code",
   "execution_count": 28,
   "metadata": {},
   "outputs": [],
   "source": [
    "file_test = \"cleanInfo_pieces.json\"\n",
    "data_test = pd.read_json(file_test)\n",
    "lst_infos = data_test[\"infos\"].to_list()\n",
    "lst_infos = [\" \".join(x) for x in lst_infos]\n",
    "classes = model.classes_\n",
    "def get_cat(infos):\n",
    "    infos = [\" \".join(infos)]\n",
    "    vect = vectorizer.transform(infos)\n",
    "    probas = model.predict_proba(vect)[0]\n",
    "    prob_class = [(probas[x], classes[x]) for x in range(len(probas))]\n",
    "    prob_class.sort()\n",
    "    prob_class = prob_class[::-1]\n",
    "    return prob_class[:2]\n",
    "    \n",
    "    \n",
    "data_test[\"predict\"] = data_test[\"titleInfo\"].apply(get_cat)\n",
    "\n",
    "def is_sure(lst):\n",
    "    if lst[0][0] >= 0.3:\n",
    "        return lst[0][1]\n",
    "    else:\n",
    "        return \"other\"\n",
    "data_test[\"sure_pr\"] = data_test[\"predict\"].apply(is_sure)"
   ]
  },
  {
   "cell_type": "code",
   "execution_count": 33,
   "metadata": {},
   "outputs": [
    {
     "data": {
      "text/html": [
       "<div>\n",
       "<style scoped>\n",
       "    .dataframe tbody tr th:only-of-type {\n",
       "        vertical-align: middle;\n",
       "    }\n",
       "\n",
       "    .dataframe tbody tr th {\n",
       "        vertical-align: top;\n",
       "    }\n",
       "\n",
       "    .dataframe thead th {\n",
       "        text-align: right;\n",
       "    }\n",
       "</style>\n",
       "<table border=\"1\" class=\"dataframe\">\n",
       "  <thead>\n",
       "    <tr style=\"text-align: right;\">\n",
       "      <th></th>\n",
       "      <th>url</th>\n",
       "      <th>images</th>\n",
       "      <th>infos</th>\n",
       "      <th>price</th>\n",
       "      <th>categories</th>\n",
       "      <th>title</th>\n",
       "      <th>titleInfo</th>\n",
       "      <th>predict</th>\n",
       "    </tr>\n",
       "    <tr>\n",
       "      <th>sure_pr</th>\n",
       "      <th></th>\n",
       "      <th></th>\n",
       "      <th></th>\n",
       "      <th></th>\n",
       "      <th></th>\n",
       "      <th></th>\n",
       "      <th></th>\n",
       "      <th></th>\n",
       "    </tr>\n",
       "  </thead>\n",
       "  <tbody>\n",
       "    <tr>\n",
       "      <th>bague</th>\n",
       "      <td>2</td>\n",
       "      <td>2</td>\n",
       "      <td>2</td>\n",
       "      <td>2</td>\n",
       "      <td>2</td>\n",
       "      <td>2</td>\n",
       "      <td>2</td>\n",
       "      <td>2</td>\n",
       "    </tr>\n",
       "    <tr>\n",
       "      <th>bikini</th>\n",
       "      <td>26</td>\n",
       "      <td>26</td>\n",
       "      <td>26</td>\n",
       "      <td>26</td>\n",
       "      <td>26</td>\n",
       "      <td>26</td>\n",
       "      <td>26</td>\n",
       "      <td>26</td>\n",
       "    </tr>\n",
       "    <tr>\n",
       "      <th>blazer</th>\n",
       "      <td>2</td>\n",
       "      <td>2</td>\n",
       "      <td>2</td>\n",
       "      <td>2</td>\n",
       "      <td>2</td>\n",
       "      <td>2</td>\n",
       "      <td>2</td>\n",
       "      <td>2</td>\n",
       "    </tr>\n",
       "    <tr>\n",
       "      <th>blouse</th>\n",
       "      <td>72</td>\n",
       "      <td>72</td>\n",
       "      <td>72</td>\n",
       "      <td>72</td>\n",
       "      <td>72</td>\n",
       "      <td>72</td>\n",
       "      <td>72</td>\n",
       "      <td>72</td>\n",
       "    </tr>\n",
       "    <tr>\n",
       "      <th>body</th>\n",
       "      <td>26</td>\n",
       "      <td>26</td>\n",
       "      <td>26</td>\n",
       "      <td>26</td>\n",
       "      <td>26</td>\n",
       "      <td>26</td>\n",
       "      <td>26</td>\n",
       "      <td>26</td>\n",
       "    </tr>\n",
       "    <tr>\n",
       "      <th>bonnet</th>\n",
       "      <td>4</td>\n",
       "      <td>4</td>\n",
       "      <td>4</td>\n",
       "      <td>4</td>\n",
       "      <td>4</td>\n",
       "      <td>4</td>\n",
       "      <td>4</td>\n",
       "      <td>4</td>\n",
       "    </tr>\n",
       "    <tr>\n",
       "      <th>bottes</th>\n",
       "      <td>2</td>\n",
       "      <td>2</td>\n",
       "      <td>2</td>\n",
       "      <td>2</td>\n",
       "      <td>2</td>\n",
       "      <td>2</td>\n",
       "      <td>2</td>\n",
       "      <td>2</td>\n",
       "    </tr>\n",
       "    <tr>\n",
       "      <th>bottines</th>\n",
       "      <td>1</td>\n",
       "      <td>1</td>\n",
       "      <td>1</td>\n",
       "      <td>1</td>\n",
       "      <td>1</td>\n",
       "      <td>1</td>\n",
       "      <td>1</td>\n",
       "      <td>1</td>\n",
       "    </tr>\n",
       "    <tr>\n",
       "      <th>boucles</th>\n",
       "      <td>2</td>\n",
       "      <td>2</td>\n",
       "      <td>2</td>\n",
       "      <td>2</td>\n",
       "      <td>2</td>\n",
       "      <td>2</td>\n",
       "      <td>2</td>\n",
       "      <td>2</td>\n",
       "    </tr>\n",
       "    <tr>\n",
       "      <th>boxer</th>\n",
       "      <td>3</td>\n",
       "      <td>3</td>\n",
       "      <td>3</td>\n",
       "      <td>3</td>\n",
       "      <td>3</td>\n",
       "      <td>3</td>\n",
       "      <td>3</td>\n",
       "      <td>3</td>\n",
       "    </tr>\n",
       "    <tr>\n",
       "      <th>bracelet</th>\n",
       "      <td>15</td>\n",
       "      <td>15</td>\n",
       "      <td>15</td>\n",
       "      <td>15</td>\n",
       "      <td>15</td>\n",
       "      <td>15</td>\n",
       "      <td>15</td>\n",
       "      <td>15</td>\n",
       "    </tr>\n",
       "    <tr>\n",
       "      <th>cardigan</th>\n",
       "      <td>16</td>\n",
       "      <td>16</td>\n",
       "      <td>16</td>\n",
       "      <td>16</td>\n",
       "      <td>16</td>\n",
       "      <td>16</td>\n",
       "      <td>16</td>\n",
       "      <td>16</td>\n",
       "    </tr>\n",
       "    <tr>\n",
       "      <th>ceinture</th>\n",
       "      <td>128</td>\n",
       "      <td>128</td>\n",
       "      <td>128</td>\n",
       "      <td>128</td>\n",
       "      <td>128</td>\n",
       "      <td>128</td>\n",
       "      <td>128</td>\n",
       "      <td>128</td>\n",
       "    </tr>\n",
       "    <tr>\n",
       "      <th>chapeau</th>\n",
       "      <td>11</td>\n",
       "      <td>11</td>\n",
       "      <td>11</td>\n",
       "      <td>11</td>\n",
       "      <td>11</td>\n",
       "      <td>11</td>\n",
       "      <td>11</td>\n",
       "      <td>11</td>\n",
       "    </tr>\n",
       "    <tr>\n",
       "      <th>chemise</th>\n",
       "      <td>44</td>\n",
       "      <td>44</td>\n",
       "      <td>44</td>\n",
       "      <td>44</td>\n",
       "      <td>44</td>\n",
       "      <td>44</td>\n",
       "      <td>44</td>\n",
       "      <td>44</td>\n",
       "    </tr>\n",
       "    <tr>\n",
       "      <th>collier</th>\n",
       "      <td>48</td>\n",
       "      <td>48</td>\n",
       "      <td>48</td>\n",
       "      <td>48</td>\n",
       "      <td>48</td>\n",
       "      <td>48</td>\n",
       "      <td>48</td>\n",
       "      <td>48</td>\n",
       "    </tr>\n",
       "    <tr>\n",
       "      <th>combinaison</th>\n",
       "      <td>8</td>\n",
       "      <td>8</td>\n",
       "      <td>8</td>\n",
       "      <td>8</td>\n",
       "      <td>8</td>\n",
       "      <td>8</td>\n",
       "      <td>8</td>\n",
       "      <td>8</td>\n",
       "    </tr>\n",
       "    <tr>\n",
       "      <th>debardeur</th>\n",
       "      <td>46</td>\n",
       "      <td>46</td>\n",
       "      <td>46</td>\n",
       "      <td>46</td>\n",
       "      <td>46</td>\n",
       "      <td>46</td>\n",
       "      <td>46</td>\n",
       "      <td>46</td>\n",
       "    </tr>\n",
       "    <tr>\n",
       "      <th>doudoune</th>\n",
       "      <td>7</td>\n",
       "      <td>7</td>\n",
       "      <td>7</td>\n",
       "      <td>7</td>\n",
       "      <td>7</td>\n",
       "      <td>7</td>\n",
       "      <td>7</td>\n",
       "      <td>7</td>\n",
       "    </tr>\n",
       "    <tr>\n",
       "      <th>echarpe</th>\n",
       "      <td>48</td>\n",
       "      <td>48</td>\n",
       "      <td>48</td>\n",
       "      <td>48</td>\n",
       "      <td>48</td>\n",
       "      <td>48</td>\n",
       "      <td>48</td>\n",
       "      <td>48</td>\n",
       "    </tr>\n",
       "    <tr>\n",
       "      <th>foulard</th>\n",
       "      <td>10</td>\n",
       "      <td>10</td>\n",
       "      <td>10</td>\n",
       "      <td>10</td>\n",
       "      <td>10</td>\n",
       "      <td>10</td>\n",
       "      <td>10</td>\n",
       "      <td>10</td>\n",
       "    </tr>\n",
       "    <tr>\n",
       "      <th>gilet</th>\n",
       "      <td>12</td>\n",
       "      <td>12</td>\n",
       "      <td>12</td>\n",
       "      <td>12</td>\n",
       "      <td>12</td>\n",
       "      <td>12</td>\n",
       "      <td>12</td>\n",
       "      <td>12</td>\n",
       "    </tr>\n",
       "    <tr>\n",
       "      <th>jean</th>\n",
       "      <td>31</td>\n",
       "      <td>31</td>\n",
       "      <td>31</td>\n",
       "      <td>31</td>\n",
       "      <td>31</td>\n",
       "      <td>31</td>\n",
       "      <td>31</td>\n",
       "      <td>31</td>\n",
       "    </tr>\n",
       "    <tr>\n",
       "      <th>jogging</th>\n",
       "      <td>1</td>\n",
       "      <td>1</td>\n",
       "      <td>1</td>\n",
       "      <td>1</td>\n",
       "      <td>1</td>\n",
       "      <td>1</td>\n",
       "      <td>1</td>\n",
       "      <td>1</td>\n",
       "    </tr>\n",
       "    <tr>\n",
       "      <th>jupe</th>\n",
       "      <td>104</td>\n",
       "      <td>104</td>\n",
       "      <td>104</td>\n",
       "      <td>104</td>\n",
       "      <td>104</td>\n",
       "      <td>104</td>\n",
       "      <td>104</td>\n",
       "      <td>104</td>\n",
       "    </tr>\n",
       "    <tr>\n",
       "      <th>maillot</th>\n",
       "      <td>11</td>\n",
       "      <td>11</td>\n",
       "      <td>11</td>\n",
       "      <td>11</td>\n",
       "      <td>11</td>\n",
       "      <td>11</td>\n",
       "      <td>11</td>\n",
       "      <td>11</td>\n",
       "    </tr>\n",
       "    <tr>\n",
       "      <th>manteau</th>\n",
       "      <td>5</td>\n",
       "      <td>5</td>\n",
       "      <td>5</td>\n",
       "      <td>5</td>\n",
       "      <td>5</td>\n",
       "      <td>5</td>\n",
       "      <td>5</td>\n",
       "      <td>5</td>\n",
       "    </tr>\n",
       "    <tr>\n",
       "      <th>other</th>\n",
       "      <td>263</td>\n",
       "      <td>263</td>\n",
       "      <td>263</td>\n",
       "      <td>263</td>\n",
       "      <td>263</td>\n",
       "      <td>263</td>\n",
       "      <td>263</td>\n",
       "      <td>263</td>\n",
       "    </tr>\n",
       "    <tr>\n",
       "      <th>pantalon</th>\n",
       "      <td>55</td>\n",
       "      <td>55</td>\n",
       "      <td>55</td>\n",
       "      <td>55</td>\n",
       "      <td>55</td>\n",
       "      <td>55</td>\n",
       "      <td>55</td>\n",
       "      <td>55</td>\n",
       "    </tr>\n",
       "    <tr>\n",
       "      <th>pull</th>\n",
       "      <td>43</td>\n",
       "      <td>43</td>\n",
       "      <td>43</td>\n",
       "      <td>43</td>\n",
       "      <td>43</td>\n",
       "      <td>43</td>\n",
       "      <td>43</td>\n",
       "      <td>43</td>\n",
       "    </tr>\n",
       "    <tr>\n",
       "      <th>robe</th>\n",
       "      <td>380</td>\n",
       "      <td>380</td>\n",
       "      <td>380</td>\n",
       "      <td>380</td>\n",
       "      <td>380</td>\n",
       "      <td>380</td>\n",
       "      <td>380</td>\n",
       "      <td>380</td>\n",
       "    </tr>\n",
       "    <tr>\n",
       "      <th>sac</th>\n",
       "      <td>57</td>\n",
       "      <td>57</td>\n",
       "      <td>57</td>\n",
       "      <td>57</td>\n",
       "      <td>57</td>\n",
       "      <td>57</td>\n",
       "      <td>57</td>\n",
       "      <td>57</td>\n",
       "    </tr>\n",
       "    <tr>\n",
       "      <th>sandales</th>\n",
       "      <td>46</td>\n",
       "      <td>46</td>\n",
       "      <td>46</td>\n",
       "      <td>46</td>\n",
       "      <td>46</td>\n",
       "      <td>46</td>\n",
       "      <td>46</td>\n",
       "      <td>46</td>\n",
       "    </tr>\n",
       "    <tr>\n",
       "      <th>short</th>\n",
       "      <td>34</td>\n",
       "      <td>34</td>\n",
       "      <td>34</td>\n",
       "      <td>34</td>\n",
       "      <td>34</td>\n",
       "      <td>34</td>\n",
       "      <td>34</td>\n",
       "      <td>34</td>\n",
       "    </tr>\n",
       "    <tr>\n",
       "      <th>slip</th>\n",
       "      <td>5</td>\n",
       "      <td>5</td>\n",
       "      <td>5</td>\n",
       "      <td>5</td>\n",
       "      <td>5</td>\n",
       "      <td>5</td>\n",
       "      <td>5</td>\n",
       "      <td>5</td>\n",
       "    </tr>\n",
       "    <tr>\n",
       "      <th>sweat</th>\n",
       "      <td>9</td>\n",
       "      <td>9</td>\n",
       "      <td>9</td>\n",
       "      <td>9</td>\n",
       "      <td>9</td>\n",
       "      <td>9</td>\n",
       "      <td>9</td>\n",
       "      <td>9</td>\n",
       "    </tr>\n",
       "    <tr>\n",
       "      <th>t-shirt</th>\n",
       "      <td>134</td>\n",
       "      <td>134</td>\n",
       "      <td>134</td>\n",
       "      <td>134</td>\n",
       "      <td>134</td>\n",
       "      <td>134</td>\n",
       "      <td>134</td>\n",
       "      <td>134</td>\n",
       "    </tr>\n",
       "    <tr>\n",
       "      <th>top</th>\n",
       "      <td>238</td>\n",
       "      <td>238</td>\n",
       "      <td>238</td>\n",
       "      <td>238</td>\n",
       "      <td>238</td>\n",
       "      <td>238</td>\n",
       "      <td>238</td>\n",
       "      <td>238</td>\n",
       "    </tr>\n",
       "    <tr>\n",
       "      <th>tunique</th>\n",
       "      <td>3</td>\n",
       "      <td>3</td>\n",
       "      <td>3</td>\n",
       "      <td>3</td>\n",
       "      <td>3</td>\n",
       "      <td>3</td>\n",
       "      <td>3</td>\n",
       "      <td>3</td>\n",
       "    </tr>\n",
       "    <tr>\n",
       "      <th>veste</th>\n",
       "      <td>43</td>\n",
       "      <td>43</td>\n",
       "      <td>43</td>\n",
       "      <td>43</td>\n",
       "      <td>43</td>\n",
       "      <td>43</td>\n",
       "      <td>43</td>\n",
       "      <td>43</td>\n",
       "    </tr>\n",
       "  </tbody>\n",
       "</table>\n",
       "</div>"
      ],
      "text/plain": [
       "             url  images  infos  price  categories  title  titleInfo  predict\n",
       "sure_pr                                                                      \n",
       "bague          2       2      2      2           2      2          2        2\n",
       "bikini        26      26     26     26          26     26         26       26\n",
       "blazer         2       2      2      2           2      2          2        2\n",
       "blouse        72      72     72     72          72     72         72       72\n",
       "body          26      26     26     26          26     26         26       26\n",
       "bonnet         4       4      4      4           4      4          4        4\n",
       "bottes         2       2      2      2           2      2          2        2\n",
       "bottines       1       1      1      1           1      1          1        1\n",
       "boucles        2       2      2      2           2      2          2        2\n",
       "boxer          3       3      3      3           3      3          3        3\n",
       "bracelet      15      15     15     15          15     15         15       15\n",
       "cardigan      16      16     16     16          16     16         16       16\n",
       "ceinture     128     128    128    128         128    128        128      128\n",
       "chapeau       11      11     11     11          11     11         11       11\n",
       "chemise       44      44     44     44          44     44         44       44\n",
       "collier       48      48     48     48          48     48         48       48\n",
       "combinaison    8       8      8      8           8      8          8        8\n",
       "debardeur     46      46     46     46          46     46         46       46\n",
       "doudoune       7       7      7      7           7      7          7        7\n",
       "echarpe       48      48     48     48          48     48         48       48\n",
       "foulard       10      10     10     10          10     10         10       10\n",
       "gilet         12      12     12     12          12     12         12       12\n",
       "jean          31      31     31     31          31     31         31       31\n",
       "jogging        1       1      1      1           1      1          1        1\n",
       "jupe         104     104    104    104         104    104        104      104\n",
       "maillot       11      11     11     11          11     11         11       11\n",
       "manteau        5       5      5      5           5      5          5        5\n",
       "other        263     263    263    263         263    263        263      263\n",
       "pantalon      55      55     55     55          55     55         55       55\n",
       "pull          43      43     43     43          43     43         43       43\n",
       "robe         380     380    380    380         380    380        380      380\n",
       "sac           57      57     57     57          57     57         57       57\n",
       "sandales      46      46     46     46          46     46         46       46\n",
       "short         34      34     34     34          34     34         34       34\n",
       "slip           5       5      5      5           5      5          5        5\n",
       "sweat          9       9      9      9           9      9          9        9\n",
       "t-shirt      134     134    134    134         134    134        134      134\n",
       "top          238     238    238    238         238    238        238      238\n",
       "tunique        3       3      3      3           3      3          3        3\n",
       "veste         43      43     43     43          43     43         43       43"
      ]
     },
     "execution_count": 33,
     "metadata": {},
     "output_type": "execute_result"
    }
   ],
   "source": [
    "data_test.groupby(\"sure_pr\").count()"
   ]
  },
  {
   "cell_type": "code",
   "execution_count": 35,
   "metadata": {},
   "outputs": [],
   "source": []
  },
  {
   "cell_type": "code",
   "execution_count": 37,
   "metadata": {},
   "outputs": [],
   "source": [
    "data_test[\"categories\"] = data_test[\"categories\"].apply(lambda x : x[1])\n"
   ]
  },
  {
   "cell_type": "code",
   "execution_count": 39,
   "metadata": {},
   "outputs": [],
   "source": [
    "data_test[\"title\"] = data_test.apply(lambda row : row[\"title\"] + \"__\" + row[\"categories\"] , axis = 1)"
   ]
  },
  {
   "cell_type": "code",
   "execution_count": 41,
   "metadata": {},
   "outputs": [],
   "source": [
    "data_test[\"categories\"] = data_test[\"sure_pr\"]"
   ]
  },
  {
   "cell_type": "code",
   "execution_count": 42,
   "metadata": {},
   "outputs": [],
   "source": [
    "data_test.drop(\"sure_pr\", axis = 1, inplace = True)"
   ]
  },
  {
   "cell_type": "code",
   "execution_count": 44,
   "metadata": {},
   "outputs": [],
   "source": [
    "data_test.drop(\"predict\", axis = 1, inplace = True)"
   ]
  },
  {
   "cell_type": "code",
   "execution_count": 47,
   "metadata": {},
   "outputs": [],
   "source": [
    "data_test[\"categories\"] = data_test[\"categories\"].apply(lambda x : [x])"
   ]
  },
  {
   "cell_type": "code",
   "execution_count": 48,
   "metadata": {},
   "outputs": [],
   "source": [
    "f = open(\"pieces_predict_2nd.json\", \"w\")\n",
    "s = data_test.to_json(orient = \"records\").replace(\"{\", \"\\n{\")\n",
    "f.write(s)\n",
    "f.close()"
   ]
  },
  {
   "cell_type": "markdown",
   "metadata": {},
   "source": [
    "# Other way to train ( Merge all strings in info)"
   ]
  },
  {
   "cell_type": "code",
   "execution_count": 81,
   "metadata": {},
   "outputs": [],
   "source": [
    "data = pd.read_json(\"piscine_cat_v2.json\")"
   ]
  },
  {
   "cell_type": "code",
   "execution_count": 84,
   "metadata": {},
   "outputs": [],
   "source": [
    "#data[\"infos\"] = data[\"infos\"].apply(lambda x : ' '.join(x))\n",
    "data[\"titleInfo\"] = data[\"titleInfo\"].apply(lambda x : \" \".join(x))\n",
    "data[\"infos\"] = data.apply(lambda row : row[\"infos\"] + \" \" + row[\"titleInfo\"], axis = 1)"
   ]
  },
  {
   "cell_type": "code",
   "execution_count": 85,
   "metadata": {},
   "outputs": [],
   "source": [
    "all_infos, all_tags = data[\"infos\"].to_list(), data[\"categories\"].to_list()"
   ]
  },
  {
   "cell_type": "code",
   "execution_count": 86,
   "metadata": {},
   "outputs": [],
   "source": [
    "nb_feature = 2**14\n",
    "vectorizer = HashingVectorizer(n_features = nb_feature)\n",
    "model_svc = LinearSVC(C=1.0, class_weight=None, dual=True, fit_intercept=True,\n",
    "                          intercept_scaling=3, loss='squared_hinge', max_iter=10000,\n",
    "                          multi_class='ovr', penalty='l2', random_state=0, tol=0.0001,\n",
    "                          verbose=0)\n",
    "model = CalibratedClassifierCV(model_svc)"
   ]
  },
  {
   "cell_type": "code",
   "execution_count": 90,
   "metadata": {},
   "outputs": [],
   "source": [
    "divis = 4900\n",
    "vectors = vectorizer.fit_transform(all_infos)\n",
    "train_vects = vectors[:divis]\n",
    "test_vects = vectors[divis:]\n",
    "train_tags = all_tags[:divis]\n",
    "test_tags = all_tags[divis:]"
   ]
  },
  {
   "cell_type": "code",
   "execution_count": 91,
   "metadata": {},
   "outputs": [
    {
     "name": "stderr",
     "output_type": "stream",
     "text": [
      "/home/mhd/anaconda3/lib/python3.7/site-packages/sklearn/model_selection/_split.py:667: UserWarning: The least populated class in y has only 3 members, which is less than n_splits=5.\n",
      "  % (min_groups, self.n_splits)), UserWarning)\n"
     ]
    },
    {
     "data": {
      "text/plain": [
       "CalibratedClassifierCV(base_estimator=LinearSVC(C=1.0, class_weight=None,\n",
       "                                                dual=True, fit_intercept=True,\n",
       "                                                intercept_scaling=3,\n",
       "                                                loss='squared_hinge',\n",
       "                                                max_iter=10000,\n",
       "                                                multi_class='ovr', penalty='l2',\n",
       "                                                random_state=0, tol=0.0001,\n",
       "                                                verbose=0),\n",
       "                       cv=None, method='sigmoid')"
      ]
     },
     "execution_count": 91,
     "metadata": {},
     "output_type": "execute_result"
    }
   ],
   "source": [
    "model.fit(train_vects, train_tags)"
   ]
  },
  {
   "cell_type": "code",
   "execution_count": 92,
   "metadata": {},
   "outputs": [
    {
     "name": "stdout",
     "output_type": "stream",
     "text": [
      "success =  0.9902439024390244\n"
     ]
    }
   ],
   "source": [
    "# test test_vects\n",
    "test_data = []\n",
    "for x in range(test_vects.shape[0]):\n",
    "    pr = model.predict(test_vects[x])[0] # predict the \n",
    "    test_data.append((pr, test_tags[x]))\n",
    "\n",
    "e,d = 0, 0\n",
    "for x in test_data:\n",
    "    if x[0] != x[1]:\n",
    "        d += 1\n",
    "    else:\n",
    "        e += 1\n",
    "        \n",
    "print(\"success = \", e/(e + d))"
   ]
  },
  {
   "cell_type": "code",
   "execution_count": 104,
   "metadata": {},
   "outputs": [],
   "source": [
    "file_test = \"cleanInfo_pieces.json\"\n",
    "data_test = pd.read_json(file_test)\n",
    "lst_infos = data_test[\"infos\"].to_list()\n",
    "#lst_infos = [\" \".join(x) for x in lst_infos]\n",
    "classes = model.classes_\n",
    "def get_cat(infos):\n",
    "    #infos = [\" \".join(infos)]\n",
    "    vect = vectorizer.transform([infos])\n",
    "    probas = model.predict_proba(vect)[0]\n",
    "    prob_class = [(probas[x], classes[x]) for x in range(len(probas))]\n",
    "    prob_class.sort()\n",
    "    prob_class = prob_class[::-1]\n",
    "    return prob_class[:2]\n",
    "    \n",
    "    \n",
    "data_test[\"predict\"] = data_test[\"infos\"].apply(get_cat)\n",
    "\n",
    "def is_sure(lst):\n",
    "    if lst[0][0] >= 0.3:\n",
    "        return lst[0][1]\n",
    "    else:\n",
    "        return \"other\"\n",
    "data_test[\"sure_pr\"] = data_test[\"predict\"].apply(is_sure)"
   ]
  },
  {
   "cell_type": "code",
   "execution_count": 105,
   "metadata": {},
   "outputs": [
    {
     "data": {
      "text/html": [
       "<div>\n",
       "<style scoped>\n",
       "    .dataframe tbody tr th:only-of-type {\n",
       "        vertical-align: middle;\n",
       "    }\n",
       "\n",
       "    .dataframe tbody tr th {\n",
       "        vertical-align: top;\n",
       "    }\n",
       "\n",
       "    .dataframe thead th {\n",
       "        text-align: right;\n",
       "    }\n",
       "</style>\n",
       "<table border=\"1\" class=\"dataframe\">\n",
       "  <thead>\n",
       "    <tr style=\"text-align: right;\">\n",
       "      <th></th>\n",
       "      <th>url</th>\n",
       "      <th>images</th>\n",
       "      <th>infos</th>\n",
       "      <th>price</th>\n",
       "      <th>categories</th>\n",
       "      <th>title</th>\n",
       "      <th>titleInfo</th>\n",
       "      <th>predict</th>\n",
       "      <th>sure_pr</th>\n",
       "    </tr>\n",
       "  </thead>\n",
       "  <tbody>\n",
       "    <tr>\n",
       "      <th>0</th>\n",
       "      <td>https://www.pieces.com/fr/fr/pc/imprime-leopar...</td>\n",
       "      <td>[https://www.pieces.com/dw/image/v2/ABBT_PRD/o...</td>\n",
       "      <td>imprime leopard chaussettes polyester fibres m...</td>\n",
       "      <td>[]</td>\n",
       "      <td>[femme, chaussette, ]</td>\n",
       "      <td>IMPRIMÉ LÉOPARD CHAUSSETTES</td>\n",
       "      <td>[imprime, leopard, chaussettes]</td>\n",
       "      <td>[(0.1020380119899762, robe), (0.09650791852872...</td>\n",
       "      <td>other</td>\n",
       "    </tr>\n",
       "    <tr>\n",
       "      <th>1</th>\n",
       "      <td>https://www.pieces.com/fr/fr/pc/accessoires/bo...</td>\n",
       "      <td>[https://www.pieces.com/dw/image/v2/ABBT_PRD/o...</td>\n",
       "      <td>dimensions modele extensible fibres delicates ...</td>\n",
       "      <td>[]</td>\n",
       "      <td>[femme, bonnet, ]</td>\n",
       "      <td>OVERSIZE LAINE MÉLANGÉE CHAPEAU</td>\n",
       "      <td>[oversize, laine, melangee, chapeau]</td>\n",
       "      <td>[(0.25381237506684423, veste), (0.079816627541...</td>\n",
       "      <td>other</td>\n",
       "    </tr>\n",
       "    <tr>\n",
       "      <th>2</th>\n",
       "      <td>https://www.pieces.com/fr/fr/pc/accessoires/ec...</td>\n",
       "      <td>[https://www.pieces.com/dw/image/v2/ABBT_PRD/o...</td>\n",
       "      <td>unie foulard long dimensions longueur franges ...</td>\n",
       "      <td>[]</td>\n",
       "      <td>[femme, echarpe, ]</td>\n",
       "      <td>COULEUR UNIE FOULARD LONG</td>\n",
       "      <td>[unie, foulard, long]</td>\n",
       "      <td>[(0.4947884422084036, foulard), (0.03059390420...</td>\n",
       "      <td>foulard</td>\n",
       "    </tr>\n",
       "    <tr>\n",
       "      <th>3</th>\n",
       "      <td>https://www.pieces.com/fr/fr/pc/sacs/cabas/ron...</td>\n",
       "      <td>[https://www.pieces.com/dw/image/v2/ABBT_PRD/o...</td>\n",
       "      <td>dimensions poignees bandouliere compartiment d...</td>\n",
       "      <td>[]</td>\n",
       "      <td>[femme, sac, ]</td>\n",
       "      <td>ROND SAC EN PAILLE</td>\n",
       "      <td>[rond, sac, paille]</td>\n",
       "      <td>[(0.6518974375466573, sac), (0.063542342874188...</td>\n",
       "      <td>sac</td>\n",
       "    </tr>\n",
       "    <tr>\n",
       "      <th>4</th>\n",
       "      <td>https://www.pieces.com/fr/fr/pc/cuir-sac-banan...</td>\n",
       "      <td>[https://www.pieces.com/dw/image/v2/ABBT_PRD/o...</td>\n",
       "      <td>cuir sac banane dimensions bandouliere reglabl...</td>\n",
       "      <td>[]</td>\n",
       "      <td>[femme, sac, ]</td>\n",
       "      <td>CUIR SAC BANANE</td>\n",
       "      <td>[cuir, sac, banane]</td>\n",
       "      <td>[(0.7066190574259679, sac), (0.113627022466213...</td>\n",
       "      <td>sac</td>\n",
       "    </tr>\n",
       "    <tr>\n",
       "      <th>...</th>\n",
       "      <td>...</td>\n",
       "      <td>...</td>\n",
       "      <td>...</td>\n",
       "      <td>...</td>\n",
       "      <td>...</td>\n",
       "      <td>...</td>\n",
       "      <td>...</td>\n",
       "      <td>...</td>\n",
       "      <td>...</td>\n",
       "    </tr>\n",
       "    <tr>\n",
       "      <th>1990</th>\n",
       "      <td>https://www.pieces.com/fr/fr/pc/couleur-unie-t...</td>\n",
       "      <td>[https://www.pieces.com/dw/image/v2/ABBT_PRD/o...</td>\n",
       "      <td>col rond manches courtes tissu doux coupe slim</td>\n",
       "      <td>[]</td>\n",
       "      <td>[femme, T-shirt, ]</td>\n",
       "      <td>COULEUR UNIE T-SHIRT</td>\n",
       "      <td>[unie, t-shirt]</td>\n",
       "      <td>[(0.39441759410549565, top), (0.08306351499304...</td>\n",
       "      <td>top</td>\n",
       "    </tr>\n",
       "    <tr>\n",
       "      <th>1991</th>\n",
       "      <td>https://www.pieces.com/fr/fr/pc/pret-a-porter/...</td>\n",
       "      <td>[https://www.pieces.com/dw/image/v2/ABBT_PRD/o...</td>\n",
       "      <td>tie dye top manches courtes col rond manches c...</td>\n",
       "      <td>[]</td>\n",
       "      <td>[femme, T-shirt, ]</td>\n",
       "      <td>TIE AND DYE TOP À MANCHES COURTES</td>\n",
       "      <td>[tie, dye, top, manches, courtes]</td>\n",
       "      <td>[(0.8863145494707461, top), (0.014147775941742...</td>\n",
       "      <td>top</td>\n",
       "    </tr>\n",
       "    <tr>\n",
       "      <th>1992</th>\n",
       "      <td>https://www.pieces.com/fr/fr/pc/pret-a-porter/...</td>\n",
       "      <td>[https://www.pieces.com/dw/image/v2/ABBT_PRD/o...</td>\n",
       "      <td>matiere tencel modal polyester encolure degage...</td>\n",
       "      <td>[]</td>\n",
       "      <td>[femme, T-shirt, ]</td>\n",
       "      <td>MODAL MÉLANGÉ T-SHIRT</td>\n",
       "      <td>[modal, melange, t-shirt]</td>\n",
       "      <td>[(0.3753749810209729, t-shirt), (0.05414951878...</td>\n",
       "      <td>t-shirt</td>\n",
       "    </tr>\n",
       "    <tr>\n",
       "      <th>1993</th>\n",
       "      <td>https://www.pieces.com/fr/fr/pc/pret-a-porter/...</td>\n",
       "      <td>[https://www.pieces.com/dw/image/v2/ABBT_PRD/o...</td>\n",
       "      <td>decollete manches courtes boutons devant ourle...</td>\n",
       "      <td>[]</td>\n",
       "      <td>[femme, T-shirt, ]</td>\n",
       "      <td>IMPRIMÉ TOP À MANCHES COURTES</td>\n",
       "      <td>[imprime, top, manches, courtes]</td>\n",
       "      <td>[(0.8813310726710555, top), (0.010198610271499...</td>\n",
       "      <td>top</td>\n",
       "    </tr>\n",
       "    <tr>\n",
       "      <th>1994</th>\n",
       "      <td>https://www.pieces.com/fr/fr/pc/imprime-top-17...</td>\n",
       "      <td>[https://www.pieces.com/dw/image/v2/ABBT_PRD/o...</td>\n",
       "      <td>col rond manches courtes fermeture boutonnee c...</td>\n",
       "      <td>[]</td>\n",
       "      <td>[femme, T-shirt, ]</td>\n",
       "      <td>IMPRIMÉ TOP</td>\n",
       "      <td>[imprime, top]</td>\n",
       "      <td>[(0.2596243856861264, top), (0.174711213521082...</td>\n",
       "      <td>other</td>\n",
       "    </tr>\n",
       "  </tbody>\n",
       "</table>\n",
       "<p>1995 rows × 9 columns</p>\n",
       "</div>"
      ],
      "text/plain": [
       "                                                    url  \\\n",
       "0     https://www.pieces.com/fr/fr/pc/imprime-leopar...   \n",
       "1     https://www.pieces.com/fr/fr/pc/accessoires/bo...   \n",
       "2     https://www.pieces.com/fr/fr/pc/accessoires/ec...   \n",
       "3     https://www.pieces.com/fr/fr/pc/sacs/cabas/ron...   \n",
       "4     https://www.pieces.com/fr/fr/pc/cuir-sac-banan...   \n",
       "...                                                 ...   \n",
       "1990  https://www.pieces.com/fr/fr/pc/couleur-unie-t...   \n",
       "1991  https://www.pieces.com/fr/fr/pc/pret-a-porter/...   \n",
       "1992  https://www.pieces.com/fr/fr/pc/pret-a-porter/...   \n",
       "1993  https://www.pieces.com/fr/fr/pc/pret-a-porter/...   \n",
       "1994  https://www.pieces.com/fr/fr/pc/imprime-top-17...   \n",
       "\n",
       "                                                 images  \\\n",
       "0     [https://www.pieces.com/dw/image/v2/ABBT_PRD/o...   \n",
       "1     [https://www.pieces.com/dw/image/v2/ABBT_PRD/o...   \n",
       "2     [https://www.pieces.com/dw/image/v2/ABBT_PRD/o...   \n",
       "3     [https://www.pieces.com/dw/image/v2/ABBT_PRD/o...   \n",
       "4     [https://www.pieces.com/dw/image/v2/ABBT_PRD/o...   \n",
       "...                                                 ...   \n",
       "1990  [https://www.pieces.com/dw/image/v2/ABBT_PRD/o...   \n",
       "1991  [https://www.pieces.com/dw/image/v2/ABBT_PRD/o...   \n",
       "1992  [https://www.pieces.com/dw/image/v2/ABBT_PRD/o...   \n",
       "1993  [https://www.pieces.com/dw/image/v2/ABBT_PRD/o...   \n",
       "1994  [https://www.pieces.com/dw/image/v2/ABBT_PRD/o...   \n",
       "\n",
       "                                                  infos price  \\\n",
       "0     imprime leopard chaussettes polyester fibres m...    []   \n",
       "1     dimensions modele extensible fibres delicates ...    []   \n",
       "2     unie foulard long dimensions longueur franges ...    []   \n",
       "3     dimensions poignees bandouliere compartiment d...    []   \n",
       "4     cuir sac banane dimensions bandouliere reglabl...    []   \n",
       "...                                                 ...   ...   \n",
       "1990     col rond manches courtes tissu doux coupe slim    []   \n",
       "1991  tie dye top manches courtes col rond manches c...    []   \n",
       "1992  matiere tencel modal polyester encolure degage...    []   \n",
       "1993  decollete manches courtes boutons devant ourle...    []   \n",
       "1994  col rond manches courtes fermeture boutonnee c...    []   \n",
       "\n",
       "                 categories                              title  \\\n",
       "0     [femme, chaussette, ]        IMPRIMÉ LÉOPARD CHAUSSETTES   \n",
       "1         [femme, bonnet, ]    OVERSIZE LAINE MÉLANGÉE CHAPEAU   \n",
       "2        [femme, echarpe, ]          COULEUR UNIE FOULARD LONG   \n",
       "3            [femme, sac, ]                 ROND SAC EN PAILLE   \n",
       "4            [femme, sac, ]                    CUIR SAC BANANE   \n",
       "...                     ...                                ...   \n",
       "1990     [femme, T-shirt, ]               COULEUR UNIE T-SHIRT   \n",
       "1991     [femme, T-shirt, ]  TIE AND DYE TOP À MANCHES COURTES   \n",
       "1992     [femme, T-shirt, ]              MODAL MÉLANGÉ T-SHIRT   \n",
       "1993     [femme, T-shirt, ]      IMPRIMÉ TOP À MANCHES COURTES   \n",
       "1994     [femme, T-shirt, ]                        IMPRIMÉ TOP   \n",
       "\n",
       "                                 titleInfo  \\\n",
       "0          [imprime, leopard, chaussettes]   \n",
       "1     [oversize, laine, melangee, chapeau]   \n",
       "2                    [unie, foulard, long]   \n",
       "3                      [rond, sac, paille]   \n",
       "4                      [cuir, sac, banane]   \n",
       "...                                    ...   \n",
       "1990                       [unie, t-shirt]   \n",
       "1991     [tie, dye, top, manches, courtes]   \n",
       "1992             [modal, melange, t-shirt]   \n",
       "1993      [imprime, top, manches, courtes]   \n",
       "1994                        [imprime, top]   \n",
       "\n",
       "                                                predict  sure_pr  \n",
       "0     [(0.1020380119899762, robe), (0.09650791852872...    other  \n",
       "1     [(0.25381237506684423, veste), (0.079816627541...    other  \n",
       "2     [(0.4947884422084036, foulard), (0.03059390420...  foulard  \n",
       "3     [(0.6518974375466573, sac), (0.063542342874188...      sac  \n",
       "4     [(0.7066190574259679, sac), (0.113627022466213...      sac  \n",
       "...                                                 ...      ...  \n",
       "1990  [(0.39441759410549565, top), (0.08306351499304...      top  \n",
       "1991  [(0.8863145494707461, top), (0.014147775941742...      top  \n",
       "1992  [(0.3753749810209729, t-shirt), (0.05414951878...  t-shirt  \n",
       "1993  [(0.8813310726710555, top), (0.010198610271499...      top  \n",
       "1994  [(0.2596243856861264, top), (0.174711213521082...    other  \n",
       "\n",
       "[1995 rows x 9 columns]"
      ]
     },
     "execution_count": 105,
     "metadata": {},
     "output_type": "execute_result"
    }
   ],
   "source": [
    "data_test"
   ]
  },
  {
   "cell_type": "code",
   "execution_count": 106,
   "metadata": {},
   "outputs": [],
   "source": [
    "data_test[\"categories\"] = data_test[\"categories\"].apply(lambda x : x[1])\n",
    "\n",
    "data_test[\"title\"] = data_test.apply(lambda row : row[\"title\"] + \"__\" + row[\"categories\"] , axis = 1)\n",
    "data_test[\"categories\"] = data_test[\"sure_pr\"]\n",
    "data_test.drop(\"sure_pr\", axis = 1, inplace = True)\n",
    "data_test.drop(\"predict\", axis = 1, inplace = True)\n",
    "data_test[\"categories\"] = data_test[\"categories\"].apply(lambda x : [x])\n",
    "data_test[\"infos\"] = data_test[\"infos\"].apply(lambda x : [x])\n",
    "f = open(\"pieces_predict_5th.json\", \"w\")\n",
    "s = data_test.to_json(orient = \"records\").replace(\"{\", \"\\n{\")\n",
    "f.write(s)\n",
    "f.close()"
   ]
  },
  {
   "cell_type": "code",
   "execution_count": null,
   "metadata": {},
   "outputs": [],
   "source": []
  },
  {
   "cell_type": "markdown",
   "metadata": {},
   "source": [
    "# Save the model"
   ]
  },
  {
   "cell_type": "code",
   "execution_count": 111,
   "metadata": {},
   "outputs": [
    {
     "data": {
      "text/plain": [
       "['model_classifier.pkl']"
      ]
     },
     "execution_count": 111,
     "metadata": {},
     "output_type": "execute_result"
    }
   ],
   "source": [
    "joblib.dump(model, \"model_classifier.pkl\")"
   ]
  },
  {
   "cell_type": "markdown",
   "metadata": {},
   "source": [
    "# Load model"
   ]
  },
  {
   "cell_type": "code",
   "execution_count": 112,
   "metadata": {},
   "outputs": [],
   "source": [
    "model_loaded = joblib.load(\"model_classifier.pkl\")"
   ]
  },
  {
   "cell_type": "code",
   "execution_count": 114,
   "metadata": {},
   "outputs": [
    {
     "data": {
      "text/plain": [
       "array([[8.40976678e-04, 7.88988521e-04, 9.50928973e-03, 4.03504386e-04,\n",
       "        1.07963486e-03, 1.45360758e-03, 1.37583660e-03, 5.59723572e-04,\n",
       "        4.08835781e-04, 8.99244329e-04, 7.63796371e-04, 7.04433579e-04,\n",
       "        1.05591935e-03, 6.35218919e-04, 8.85531867e-04, 7.02831115e-04,\n",
       "        7.62301574e-04, 6.07512189e-04, 4.84266500e-04, 5.58173783e-04,\n",
       "        1.95899356e-04, 5.78208299e-04, 3.69085142e-04, 1.40512327e-04,\n",
       "        1.13902543e-03, 5.65984010e-05, 7.32085445e-04, 8.18957520e-04,\n",
       "        7.23777076e-04, 1.10597153e-03, 3.24874737e-03, 1.71942499e-03,\n",
       "        5.67676536e-04, 1.05156951e-03, 1.14951695e-03, 9.59483889e-04,\n",
       "        1.02049305e-03, 8.33616449e-03, 8.52995019e-04, 2.99721637e-04,\n",
       "        9.68979214e-04, 6.59055421e-04, 2.53143263e-04, 7.80933136e-04,\n",
       "        1.22508912e-03, 9.20429404e-04, 1.34565386e-03, 9.62501835e-04,\n",
       "        1.99740587e-04, 7.71854417e-04, 1.41286017e-03, 1.02183317e-03,\n",
       "        8.33027511e-04, 5.80857450e-04, 9.26573840e-01, 5.14726184e-04,\n",
       "        1.83266989e-03, 8.48937149e-04, 4.75657173e-04, 6.54003885e-04,\n",
       "        1.10855632e-03, 1.15292648e-03, 9.72776833e-04, 1.33460422e-03,\n",
       "        1.22756935e-03, 6.24659142e-04, 3.68567155e-04, 8.29006019e-04]])"
      ]
     },
     "execution_count": 114,
     "metadata": {},
     "output_type": "execute_result"
    }
   ],
   "source": [
    "model_loaded.predict_proba(test_vects[0])"
   ]
  },
  {
   "cell_type": "code",
   "execution_count": null,
   "metadata": {},
   "outputs": [],
   "source": []
  }
 ],
 "metadata": {
  "kernelspec": {
   "display_name": "Python 3",
   "language": "python",
   "name": "python3"
  },
  "language_info": {
   "codemirror_mode": {
    "name": "ipython",
    "version": 3
   },
   "file_extension": ".py",
   "mimetype": "text/x-python",
   "name": "python",
   "nbconvert_exporter": "python",
   "pygments_lexer": "ipython3",
   "version": "3.7.6"
  }
 },
 "nbformat": 4,
 "nbformat_minor": 4
}
